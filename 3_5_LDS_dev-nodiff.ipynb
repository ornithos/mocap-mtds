{
 "cells": [
  {
   "cell_type": "markdown",
   "metadata": {},
   "source": [
    "# Mocap Initial Modelling\n",
    "\n",
    "* Deterministic LDS\n",
    "* Not doing delta: error accumulation is bad"
   ]
  },
  {
   "cell_type": "code",
   "execution_count": 1,
   "metadata": {},
   "outputs": [],
   "source": [
    "# using Revise\n",
    "using LinearAlgebra, Random\n",
    "using StatsBase, Statistics\n",
    "using Distributions, MultivariateStats   # Categorical, P(P)CA\n",
    "using Quaternions    # For manipulating 3D Geometry\n",
    "using MeshCat        # For web visualisation / animation\n",
    "using PyPlot         # Plotting\n",
    "using AxUtil         # Cayley, skew matrices\n",
    "using Flux           # Optimisation\n",
    "using DSP            # convolution / low-pass (MA) filter\n",
    "\n",
    "# small utils libraries\n",
    "using ProgressMeter, Formatting, ArgCheck\n",
    "using DelimitedFiles, NPZ, BSON"
   ]
  },
  {
   "cell_type": "code",
   "execution_count": 2,
   "metadata": {},
   "outputs": [],
   "source": [
    "function zero_grad!(P) \n",
    "    for x in P\n",
    "        x.grad .= 0\n",
    "    end\n",
    "end"
   ]
  },
  {
   "cell_type": "code",
   "execution_count": 3,
   "metadata": {},
   "outputs": [],
   "source": [
    "DIR_MOCAP_MTDS = \".\" \n",
    "\n",
    "# Data loading and transformation utils\n",
    "include(joinpath(DIR_MOCAP_MTDS, \"io.jl\"))\n",
    "\n",
    "# MeshCat skeleton visualisation tools\n",
    "include(joinpath(DIR_MOCAP_MTDS, \"mocap_viz.jl\"))\n",
    "\n",
    "# Data scaling utils\n",
    "include(joinpath(DIR_MOCAP_MTDS, \"util.jl\"))\n",
    "import .mocaputil: MyStandardScaler, scale_transform, invert\n",
    "import .mocaputil: OutputDifferencer, difference_transform, fit_transform\n",
    "import .mocaputil: no_pos, no_poscp\n",
    "\n",
    "# Models: LDS\n",
    "include(joinpath(DIR_MOCAP_MTDS, \"models.jl\"))\n",
    "import .model: Astable"
   ]
  },
  {
   "cell_type": "markdown",
   "metadata": {},
   "source": [
    "### Load in Data\n",
    "See `2_Preprocess.ipynb`\n",
    "\n",
    "**Note that in the current harddisk state, `edin_Ys.bson` was created with `include_ftcontact=false`**\n"
   ]
  },
  {
   "cell_type": "code",
   "execution_count": 4,
   "metadata": {},
   "outputs": [],
   "source": [
    "database = \"../data/mocap/edin-style-transfer/\"\n",
    "files_edin = [joinpath(database, f) for f in readdir(database)];\n",
    "style_name_edin = [x[1] for x in match.(r\"\\.\\./[a-z\\-]+/[a-z\\-]+/[a-z\\-]+/([a-z]+)_.*\", files_edin)];\n",
    "styles = unique(style_name_edin)\n",
    "styles_lkp = [findall(s .== style_name_edin) for s in styles];"
   ]
  },
  {
   "cell_type": "code",
   "execution_count": 5,
   "metadata": {},
   "outputs": [],
   "source": [
    "Usraw = BSON.load(\"edin_Xs_30fps.bson\")[:Xs];\n",
    "Ysraw = BSON.load(\"edin_Ys_30fps.bson\")[:Ys];\n",
    "\n",
    "standardize_Y = fit(MyStandardScaler, reduce(vcat, Ysraw),  1)\n",
    "standardize_U = fit(MyStandardScaler, reduce(vcat, Usraw),  1)\n",
    "\n",
    "Ys = [scale_transform(standardize_Y, y[2:end, :] ) for y in Ysraw];  # (1-step ahead of u)\n",
    "Us = [scale_transform(standardize_U, u[1:end-1,:]) for u in Usraw];  # (1-step behind y)\n",
    "\n",
    "@assert (let c=cor(Usraw[1][1:end-1, :], Ysraw[1][2:end, :], dims=1); \n",
    "        !isapprox(maximum(abs.(c[.!isnan.(c)])), 1.0); end) \"some input features \""
   ]
  },
  {
   "cell_type": "code",
   "execution_count": 6,
   "metadata": {},
   "outputs": [],
   "source": [
    "# SENSE CHECK\n",
    "# check that no bugs in constructing U, Y (i.e. esp that t's align and can predict U --> Y)\n",
    "let c=cor(reduce(vcat, Us) |>f64, reduce(vcat, Ys) |> f64, dims=1)\n",
    "    imshow(c, aspect=\"auto\")\n",
    "    nonan_c = c[.!isnan.(c)]\n",
    "    title(format(\"max (abs) corrcoeff: {:.8f}\", maximum(abs.(nonan_c))))\n",
    "    flush(stdout)\n",
    "    display(findmax(reshape(nonan_c, size(c, 1) - 2, size(c,2))))\n",
    "    printfmtln(\"10th best result {:.5f}\", reverse(sort(nonan_c))[10]) \n",
    "end"
   ]
  },
  {
   "cell_type": "code",
   "execution_count": 7,
   "metadata": {},
   "outputs": [],
   "source": [
    "invert_output_tform(y, i) = invert(standardize_Y, y) |> yhat -> invert(dtforms[i], yhat)"
   ]
  },
  {
   "cell_type": "markdown",
   "metadata": {},
   "source": [
    "we can reconstruct the original data via the commands:\n",
    "\n",
    "    invert_output_tform(y, i)       # for (i,y) in enumerate(Ys)\n",
    "    invert(standardize_X, x)        # for x in Xs\n",
    "    \n",
    "in the relevant array comprehensions."
   ]
  },
  {
   "cell_type": "code",
   "execution_count": 7,
   "metadata": {},
   "outputs": [],
   "source": [
    "?mocapio.construct_inputs"
   ]
  },
  {
   "cell_type": "code",
   "execution_count": 8,
   "metadata": {},
   "outputs": [],
   "source": [
    "?mocapio.construct_outputs"
   ]
  },
  {
   "cell_type": "code",
   "execution_count": 102,
   "metadata": {},
   "outputs": [],
   "source": [
    "# MAT.matwrite(\"angry1_UY.mat\", Dict(\"cYs\"=>cYs, \"cUT\"=>cUT, \"version\"=>\"may23_1809\"))"
   ]
  },
  {
   "cell_type": "markdown",
   "metadata": {},
   "source": [
    "# Initialise LDS"
   ]
  },
  {
   "cell_type": "markdown",
   "metadata": {},
   "source": [
    "## Understand PC distribution"
   ]
  },
  {
   "cell_type": "markdown",
   "metadata": {},
   "source": [
    "#### Single-task Model"
   ]
  },
  {
   "cell_type": "code",
   "execution_count": 370,
   "metadata": {},
   "outputs": [],
   "source": [
    "fig, axs = subplots(4,2,figsize=(5.5,6))\n",
    "\n",
    "for (i, ixs) in enumerate(styles_lkp)\n",
    "    cYs = reduce(vcat, Ys[ixs])\n",
    "    pc_all = fit(PCA, cYs[:,4:63]', pratio=0.999)\n",
    "\n",
    "    varexpl = cumsum(principalvars(pc_all))/tvar(pc_all)\n",
    "    bd=findfirst.([varexpl .> x for x in [0.9,0.95,0.99]])\n",
    "    axs[:][i].plot(1:length(varexpl), varexpl)\n",
    "    axs[:][i].axhline(1, linestyle=\":\")\n",
    "    for b in bd\n",
    "        axs[:][i].plot([b,b], [varexpl[1], varexpl[b]], color=ColorMap(\"tab10\")(7), linestyle=\":\")\n",
    "        axs[:][i].plot([.5, b], [varexpl[b], varexpl[b]], color=ColorMap(\"tab10\")(7), linestyle=\":\")\n",
    "        axs[:][i].text(b+0.3,varexpl[1]+0.03, b)\n",
    "    end\n",
    "    axs[:][i].set_xlim(0.5,34.5); gca().set_ylim(varexpl[1],1.025);\n",
    "    axs[:][i].xaxis.set_ticklabels([])\n",
    "    axs[:][i].set_title(styles[i])\n",
    "end\n",
    "tight_layout()"
   ]
  },
  {
   "cell_type": "markdown",
   "metadata": {},
   "source": [
    "#### Pooled Model"
   ]
  },
  {
   "cell_type": "code",
   "execution_count": 371,
   "metadata": {},
   "outputs": [],
   "source": [
    "allE = reduce(vcat, Ys);\n",
    "allE = convert(Matrix{Float32}, allE);\n",
    "\n",
    "pc_all = fit(PCA, allE[:,4:63]', pratio=0.999)\n",
    "\n",
    "varexpl = cumsum(principalvars(pc_all))/tvar(pc_all)\n",
    "bd=findfirst.([varexpl .> x for x in [0.9,0.95,0.99]])\n",
    "plot(1:length(varexpl), varexpl)\n",
    "gca().axhline(1, linestyle=\":\")\n",
    "for b in bd\n",
    "    plot([b,b], [varexpl[1], varexpl[b]], color=ColorMap(\"tab10\")(7), linestyle=\":\")\n",
    "    plot([.5, b], [varexpl[b], varexpl[b]], color=ColorMap(\"tab10\")(7), linestyle=\":\")\n",
    "    text(b+0.3,varexpl[1]+0.03, b)\n",
    "end\n",
    "gca().set_xlim(0.5,37.5); gca().set_ylim(varexpl[1],1.025);\n",
    "gcf().set_size_inches(3,2)"
   ]
  },
  {
   "cell_type": "markdown",
   "metadata": {},
   "source": [
    "## LDS Initialisation\n",
    "\n",
    "\\begin{align}\n",
    "\\mathbf{x}_t &= A \\mathbf{x}_{t-1} + B \\mathbf{u}_t + \\mathbf{b}\\\\\n",
    "\\mathbf{y}_t &= C \\mathbf{x}_{t} + D \\mathbf{u}_t + \\mathbf{d}\n",
    "\\end{align}\n",
    "\n",
    "#### Initialisation\n",
    "\n",
    "Note in the below I use the SVD construction for PCA for convenience, but in general $Y$ is not centered ($\\because$ centering is done over \\emph{all} styles simultaneously; each individual will not be centered). Therefore, the below assumes this centering is done temporarily before the SVD.\n",
    "\n",
    "* $C = U_{SVD}$, where $U_{SVD}$ are the prinicipal components of $Y$.\n",
    "* $X = S_{SVD}V_{SVD}^{\\mathsf{T}}$, where $S_{SVD}$, $V_{SVD}$ are the other matrices from the SVD.\n",
    "* $X \\approx \\tilde{U}\\tilde{B} \\Rightarrow \\tilde{B} = (\\tilde{U}^{\\mathsf{T}} \\tilde{U})^{-1} \\tilde{U}^{\\mathsf{T}} X$ (Regression of $X$ on $U$). The permutation of $U$ and $B$ in the first equation follows because the obs are column-wise here, not row-wise.\n",
    "    * Here, $\\tilde{U} = \\begin{bmatrix} U & \\mathbf{1} \\end{bmatrix}$, and hence $\\tilde{B} = \\begin{bmatrix} B & \\mathbf{b} \\end{bmatrix}$"
   ]
  },
  {
   "cell_type": "markdown",
   "metadata": {},
   "source": [
    "## Single task LDS"
   ]
  },
  {
   "cell_type": "code",
   "execution_count": 8,
   "metadata": {},
   "outputs": [],
   "source": [
    "style_ix = 1\n",
    "cYs = Matrix(transpose(reduce(vcat, Ys[styles_lkp[style_ix]])))\n",
    "cUs = reduce(vcat, Us[styles_lkp[style_ix]])\n",
    "cUT = Matrix(cUs');\n",
    "cN = size(cYs, 2)"
   ]
  },
  {
   "cell_type": "code",
   "execution_count": 9,
   "metadata": {},
   "outputs": [],
   "source": [
    "rmse(Δ,scale=size(Δ, 1)) = sqrt(mean(x->x^2, Δ))*scale"
   ]
  },
  {
   "cell_type": "code",
   "execution_count": 10,
   "metadata": {},
   "outputs": [],
   "source": [
    "# Simple baselines\n",
    "baselines = Dict()\n",
    "baselines[\"copy\"] = rmse(cYs[:,2:end] - cYs[:,1:end-1])\n",
    "\n",
    "# cUs_m1 = cUs[1:end-1,:];\n",
    "CDd = cYs / [cUT; ones(1, cN)]\n",
    "baselines[\"LR\"] = rmse(cYs[:,:] - CDd * [cUT; ones(1, cN)])"
   ]
  },
  {
   "cell_type": "code",
   "execution_count": 12,
   "metadata": {},
   "outputs": [],
   "source": [
    "perf_init"
   ]
  },
  {
   "cell_type": "code",
   "execution_count": 11,
   "metadata": {},
   "outputs": [],
   "source": [
    "perf_init = [rmse(model.init_LDS_spectral(cYs, cUT, k)(cUT) - cYs) for k in 5:5:60];"
   ]
  },
  {
   "cell_type": "code",
   "execution_count": 51,
   "metadata": {},
   "outputs": [],
   "source": [
    "perf_init = [rmse(model.init_LDS_spectral(cYs, cUT, k)(cUT) - cYs) for k in 5:5:60];"
   ]
  },
  {
   "cell_type": "code",
   "execution_count": 794,
   "metadata": {},
   "outputs": [],
   "source": [
    "perf_init[4]"
   ]
  },
  {
   "cell_type": "code",
   "execution_count": 13,
   "metadata": {},
   "outputs": [],
   "source": [
    "plot(5:5:60, perf_init); gcf().set_size_inches(3,2)\n",
    "gca().axhline(baselines[\"copy\"], linestyle=\":\")\n",
    "gca().axhline(baselines[\"LR\"], linestyle=\":\", color=\"red\")"
   ]
  },
  {
   "cell_type": "code",
   "execution_count": 22,
   "metadata": {},
   "outputs": [],
   "source": [
    "clds = model.init_LDS_spectral(cYs, cUT, 10; max_iter=1)"
   ]
  },
  {
   "cell_type": "code",
   "execution_count": 14,
   "metadata": {},
   "outputs": [],
   "source": [
    "imshow(clds.C[:,1:2]'); gca().set_aspect(\"auto\")"
   ]
  },
  {
   "cell_type": "code",
   "execution_count": 26,
   "metadata": {},
   "outputs": [],
   "source": [
    "eigvals(Astable(clds))"
   ]
  },
  {
   "cell_type": "code",
   "execution_count": 27,
   "metadata": {},
   "outputs": [],
   "source": [
    "fig, axs = subplots(1,2,figsize=(8,4))\n",
    "axs[1].plot(model.state_rollout(clds, cUT[:,1:500])[2:5,:]')\n",
    "axs[2].plot(model.state_rollout(clds, cUT[:,1:500])[6:10,:]')"
   ]
  },
  {
   "cell_type": "code",
   "execution_count": 762,
   "metadata": {},
   "outputs": [],
   "source": [
    "fig, axs = subplots(1,2,figsize=(8,4))\n",
    "axs[1].plot(model.state_rollout(clds, cUT[:,1:500])[1:5,:]')\n",
    "axs[2].plot(model.state_rollout(clds, cUT[:,1:500])[6:10,:]')"
   ]
  },
  {
   "cell_type": "code",
   "execution_count": 619,
   "metadata": {},
   "outputs": [],
   "source": [
    "perf_init"
   ]
  },
  {
   "cell_type": "code",
   "execution_count": 769,
   "metadata": {},
   "outputs": [],
   "source": [
    "Uouch = reduce(vcat, [cUT[:,i:N-4+i] for i in 1:4])\n",
    "Youch = reduce(vcat, [cYs[:,i:N-4+i] for i in 1:4]"
   ]
  },
  {
   "cell_type": "code",
   "execution_count": 775,
   "metadata": {},
   "outputs": [],
   "source": [
    "pUOuch = pinv(Uouch)"
   ]
  },
  {
   "cell_type": "code",
   "execution_count": 785,
   "metadata": {},
   "outputs": [],
   "source": [
    "perp = Youch - (Youch * pUOuch) * Uouch"
   ]
  },
  {
   "cell_type": "code",
   "execution_count": 788,
   "metadata": {},
   "outputs": [],
   "source": [
    "semilogy(svd(perp).S)"
   ]
  },
  {
   "cell_type": "code",
   "execution_count": null,
   "metadata": {},
   "outputs": [],
   "source": [
    "Youch - Youch*pUOuch"
   ]
  },
  {
   "cell_type": "code",
   "execution_count": 882,
   "metadata": {},
   "outputs": [],
   "source": [
    "clds.a[1:20]"
   ]
  },
  {
   "cell_type": "code",
   "execution_count": 884,
   "metadata": {},
   "outputs": [],
   "source": [
    "alt_clds = model.init_LDS_spectral(cYs, cUT, k; max_iter=5);"
   ]
  },
  {
   "cell_type": "code",
   "execution_count": 995,
   "metadata": {},
   "outputs": [],
   "source": [
    "clds.a[1:20]"
   ]
  },
  {
   "cell_type": "code",
   "execution_count": 476,
   "metadata": {},
   "outputs": [],
   "source": [
    "clds_save = copy(clds);"
   ]
  },
  {
   "cell_type": "code",
   "execution_count": 817,
   "metadata": {},
   "outputs": [],
   "source": [
    "size(cYs, 2)/256"
   ]
  },
  {
   "cell_type": "markdown",
   "metadata": {},
   "source": [
    "### Testing structure of A in cood descent"
   ]
  },
  {
   "cell_type": "code",
   "execution_count": 84,
   "metadata": {},
   "outputs": [],
   "source": [
    "refA = diagm(1=>ones(9)*0.7, 2=>ones(8)*0.5, 3=>ones(7)*0.3)\n",
    "refA += refA'\n",
    "refA[diagind(refA)] .= 1\n",
    "\n",
    "# alt_clds = model.init_LDS_spectral(cYs, cUT, 10; max_iter=4, λ=1f-4, return_hist=false);\n",
    "_A = model.Astable(alt_clds)\n",
    "\n",
    "@time h = begin\n",
    "    n_epochs = 20000\n",
    "    history = zeros(n_epochs)\n",
    "    \n",
    "    opt = ADAM(1e-3)\n",
    "    q = Flux.param(zeros(45))\n",
    "    for ee in 1:n_epochs\n",
    "        W = AxUtil.Math.cayley_orthog(q, 10)\n",
    "        obj = sum(abs.(W * _A - refA))\n",
    "        history[ee] = obj.data\n",
    "        Tracker.back!(obj)\n",
    "        Tracker.update!(opt, q, -Tracker.grad(q))\n",
    "        ee % 2000 == 0 && println(history[ee])\n",
    "    end\n",
    "    history\n",
    "end;"
   ]
  },
  {
   "cell_type": "code",
   "execution_count": 86,
   "metadata": {},
   "outputs": [],
   "source": [
    "fig, axs = subplots(1,2,figsize=(8,4))\n",
    "tmp = axs[1].imshow(AxUtil.Math.cayley_orthog(q.data, 10) * _A)\n",
    "colorbar(tmp)\n",
    "axs[2].plot(svd(_A).S)\n",
    "axs[1].set_xlabel(\"(a)\")\n",
    "axs[2].set_xlabel(\"(b)\")\n",
    "tight_layout()\n",
    "# savefig(\"LDS_A_structure_2.pdf\")"
   ]
  },
  {
   "cell_type": "code",
   "execution_count": null,
   "metadata": {},
   "outputs": [],
   "source": []
  },
  {
   "cell_type": "code",
   "execution_count": 1087,
   "metadata": {},
   "outputs": [],
   "source": [
    "_A^100"
   ]
  },
  {
   "cell_type": "code",
   "execution_count": 1030,
   "metadata": {
    "scrolled": true
   },
   "outputs": [],
   "source": [
    "eigvals(_A)"
   ]
  },
  {
   "cell_type": "code",
   "execution_count": 1045,
   "metadata": {},
   "outputs": [],
   "source": [
    "svd(_A'*_A).S"
   ]
  },
  {
   "cell_type": "code",
   "execution_count": 1115,
   "metadata": {},
   "outputs": [],
   "source": [
    "(256*(10-1)+1):min(256*10, N)"
   ]
  },
  {
   "cell_type": "code",
   "execution_count": 1123,
   "metadata": {},
   "outputs": [],
   "source": [
    "svd(model.Astable(clds)).S"
   ]
  },
  {
   "cell_type": "code",
   "execution_count": 1146,
   "metadata": {},
   "outputs": [],
   "source": [
    "_B"
   ]
  },
  {
   "cell_type": "code",
   "execution_count": 1145,
   "metadata": {},
   "outputs": [],
   "source": [
    "α = std(clds.C, dims=1)"
   ]
  },
  {
   "cell_type": "code",
   "execution_count": 1143,
   "metadata": {},
   "outputs": [],
   "source": [
    "1 ./ std(clds.C, dims=1)"
   ]
  },
  {
   "cell_type": "code",
   "execution_count": 1144,
   "metadata": {},
   "outputs": [],
   "source": [
    "rmse(clds(cUT) - cYs)"
   ]
  },
  {
   "cell_type": "code",
   "execution_count": 1155,
   "metadata": {},
   "outputs": [],
   "source": [
    "AxUtil.Math.cayley_orthog(clds.a[11:end], 10)"
   ]
  },
  {
   "cell_type": "code",
   "execution_count": 1185,
   "metadata": {},
   "outputs": [],
   "source": [
    "eigvals(model.Astable(clds))"
   ]
  },
  {
   "cell_type": "code",
   "execution_count": 1181,
   "metadata": {},
   "outputs": [],
   "source": [
    "plot(clds.a[11:end])"
   ]
  },
  {
   "cell_type": "code",
   "execution_count": 1183,
   "metadata": {},
   "outputs": [],
   "source": [
    "AxUtil.Math.inverse_cayley_orthog((α[:] .* AxUtil.Math.cayley_orthog(clds.a[11:end], 10) ./  α[:]')) |> plot"
   ]
  },
  {
   "cell_type": "code",
   "execution_count": 62,
   "metadata": {},
   "outputs": [],
   "source": [
    "perf_init[8]"
   ]
  },
  {
   "cell_type": "code",
   "execution_count": 70,
   "metadata": {},
   "outputs": [],
   "source": [
    "rmse(model.init_LDS_spectral(cYs, cUT, 40; max_iter=4, λ=1f-4)(cUT) - cYs)"
   ]
  },
  {
   "cell_type": "code",
   "execution_count": 72,
   "metadata": {},
   "outputs": [],
   "source": [
    "alt_model = model.init_LDS_spectral(cYs, cUT, 10; max_iter=4, λ=1f-4)"
   ]
  },
  {
   "cell_type": "code",
   "execution_count": 76,
   "metadata": {},
   "outputs": [],
   "source": [
    "imshow(model.Astable(alt_model))"
   ]
  },
  {
   "cell_type": "code",
   "execution_count": 73,
   "metadata": {},
   "outputs": [],
   "source": [
    "k = 40\n",
    "clds_orig = model.init_LDS_spectral(cYs, cUT, k; max_iter=5, λ=1f-4);\n",
    "# clds_orig.a[1:k] .= atanh(0.90)\n",
    "# clds_orig.a[k+1:end] .= tanh.(clds_orig.a[k+1:end])\n",
    "# model.fit_optimal_obs_params(clds_orig, cYs, cUT);"
   ]
  },
  {
   "cell_type": "code",
   "execution_count": 74,
   "metadata": {},
   "outputs": [],
   "source": [
    "# clds_g = model.make_grad(model.init_LDS_spectral(cYs, cUT, k))\n",
    "clds_g = model.make_grad(clds_orig)\n",
    "clds   = model.make_nograd(clds_g)   # MUST DO THIS SECOND, (Flux.param takes copy)\n",
    "\n",
    "opt = ADAM(1e-4)\n",
    "opt_hidden = ADAM(0.7e-5)"
   ]
  },
  {
   "cell_type": "code",
   "execution_count": 75,
   "metadata": {},
   "outputs": [],
   "source": [
    "opt_hidden = ADAM(0.7e-5)\n",
    "ps_hidden = Flux.params(clds_g.a, clds_g.B, clds_g.b)\n",
    "ps_observ = Flux.params(clds_g.C, clds_g.D, clds_g.d)"
   ]
  },
  {
   "cell_type": "code",
   "execution_count": 81,
   "metadata": {},
   "outputs": [],
   "source": [
    "rmse(clds(cUT) - cYs)"
   ]
  },
  {
   "cell_type": "code",
   "execution_count": 80,
   "metadata": {},
   "outputs": [],
   "source": [
    "model.fit_optimal_obs_params(clds, cYs, cUT);"
   ]
  },
  {
   "cell_type": "code",
   "execution_count": 69,
   "metadata": {},
   "outputs": [],
   "source": [
    "let tmpr1 = mapslices(z->sqrt(mean(x->x^2, z)), cYs[:,1:end] - clds(cUT[:,1:end]), dims=1)[1:end]\n",
    "    plot(conv(f64(tmpr1), Windows.rect(30))[:31:end-30])\n",
    "end\n",
    "title(\"error over time\")"
   ]
  },
  {
   "cell_type": "code",
   "execution_count": 19,
   "metadata": {},
   "outputs": [],
   "source": [
    "plot(clds.a[41:end])"
   ]
  },
  {
   "cell_type": "code",
   "execution_count": 87,
   "metadata": {},
   "outputs": [],
   "source": [
    "baselines[\"LR\"]/8"
   ]
  },
  {
   "cell_type": "code",
   "execution_count": 88,
   "metadata": {},
   "outputs": [],
   "source": [
    "5e-4 / 10"
   ]
  },
  {
   "cell_type": "code",
   "execution_count": 89,
   "metadata": {},
   "outputs": [],
   "source": [
    "0.02e-4 * 10 * 0.005 * 3"
   ]
  },
  {
   "cell_type": "code",
   "execution_count": 84,
   "metadata": {},
   "outputs": [],
   "source": [
    "@time h = begin\n",
    "    n_epochs = 100\n",
    "    history = zeros(n_epochs*28)\n",
    "    N = size(cYs, 2)\n",
    "    W = [min(256*tt, N) - 256*(tt-1) for tt in 1:28]/256\n",
    "    \n",
    "    for ee in 1:n_epochs\n",
    "        if ee == 1\n",
    "            opt.eta, opt_hidden.eta = 0., 0.\n",
    "        elseif ee == 3\n",
    "            opt.eta = 5e-4 / 10\n",
    "            opt_hidden.eta = 0.02e-4 * 10 * 0.005 * 3\n",
    "        elseif ee % 100 == 0\n",
    "#             opt.eta /= 1.5\n",
    "            printfmtln(\"Changed learning rate!\")\n",
    "        end\n",
    "        batch_order = 1:28   # => now retaining state #randperm(58)\n",
    "        for tt in batch_order\n",
    "            ixs = (256*(tt-1)+1):min(256*tt, N)\n",
    "            _cY, _cU = cYs[:,ixs[1:end]], cUT[:, ixs[1:end]]\n",
    "#             Yhat = clds_g(_cU)\n",
    "            X̂ = model.state_rollout(clds_g, _cU); \n",
    "            Yhat = clds_g.C * X̂ + clds_g.D * _cU .+ clds_g.d;\n",
    "            obj = mean(x->x^2, _cY - Yhat)*64^2\n",
    "            history[(ee-1)*28 + tt] = obj.data\n",
    "            Tracker.back!(obj)\n",
    "#             display(Tracker.grad(clds_g.a))\n",
    "            for p in ps_hidden\n",
    "                Tracker.update!(opt_hidden, p, -Tracker.grad(p))\n",
    "            end\n",
    "            for p in ps_observ\n",
    "                Tracker.update!(opt, p, -Tracker.grad(p))\n",
    "            end\n",
    "#             zero_grad!(ps_observ)\n",
    "#             zero_grad!(ps_hidden)\n",
    "            clds_g.h.data .= X̂.data[:,end]\n",
    "        end\n",
    "        println(sqrt(mean(history[(1:28) .+ 28*(ee-1)])))\n",
    "        clds_g.h.data .= zeros(size(clds_g, 1))\n",
    "    end\n",
    "    history\n",
    "end;"
   ]
  },
  {
   "cell_type": "code",
   "execution_count": 83,
   "metadata": {},
   "outputs": [],
   "source": [
    "plot(sqrt.(conv(h, Windows.rect(28))[28+200:end-27]/28))"
   ]
  },
  {
   "cell_type": "markdown",
   "metadata": {},
   "source": [
    "## Initialising the Transition Matrix\n",
    "\n",
    "The transition matrix will be parameterised as:\n",
    "\n",
    "$$ A = D(\\psi_2) Q(\\psi_1) $$\n",
    "\n",
    "where $D$ is a diagonal matrix with elements in $[0,1]$ and $Q$ is a special orthogonal matrix with determinant $+1$. Our goal will be to use the initialisation calculated above, coerced into this form.\n",
    "\n",
    "Unfortunately, we are just as likely to have an initial $A_0$ with determinant $-1$ as $+1$. My previous arguments about measure zero $\\lambda = 1 - 0i$ are not true. It appears that reflections are commonly learned. Therefore, we must deal with this issue later. But first:\n",
    "\n",
    "Decompose:\n",
    "$$ A_0 = U_0 S_0 V_0^T $$\n",
    "\n",
    "Then $D(\\psi_2) = S_0$ and $Q(\\psi_1) = U_0 V_0^T$.\n",
    "\n",
    "\n",
    "### Diagonal Matrix\n",
    "If parameterising the diagonal of $D$ with a sigmoid nonlinearity, we must apply the inverse sigmoid to $\\text{diag}(S)$, i.e. $\\sigma^{-1}(y) = \\ln\\left(\\frac{y}{1-y}\\right)$. Care must be taken to avoid the endpoints $y \\in \\{0, 1\\}$ for numerical reasons, but also because it is not sensible to initialise to a position with no gradient. I have used a minimum distance from the boundaries of $10^{-3}$ (which translates to $x \\approx \\pm 6.9$). \n",
    "\n",
    "\n",
    "### Orthogonal Matrix\n",
    "In order to obtain the Cayley parameterisation of $Q = U_0 V_0^T$ we take the inverse Cayley transformation $S = (I - Q)(I + Q)^{-1}$ to obtain the skew-symmetric matrix $S$ which corresponds 1-to-1 to $Q$. We can then simply extract the lower triangular elements of $S$ as the unique $d(d-1)/2$ elements parameterising $Q$. If these parameters are $\\psi_1$, I will write this as $\\psi_1 = \\text{cayley}^{-1}(Q)$. However, as we have said above, this is insufficient for obtaining a Cayley parameterisation of the estimate $A_0$ in general, since we exclude any $A_0$ s.t. $\\det(A_0) = -1$. Ferrar (1950) tells us that a general orthogonal matrix can be parameterised as $J(I-S)(I+S)^{-1}$, where $J$ is a diagonal matrix with elements in $\\{+1, -1\\}$. Crucially we need as many negative elements ($-1$) as their are negative roots of $Q_0$ and we may choose them for convenience to precede all of the positive elements in $J$.\n",
    "\n",
    "#### Corollary\n",
    "\n",
    "1. $ A = D(\\psi_2) Q(\\psi_1) $ as before, but now with $D$ containing elements in $[-1,1]$ is sufficient to parameterise *any* orthogonal matrix. Note that we may instead use $\\tanh$ instead of $\\sigma$ to achieve this.\n",
    "2. For the problem at hand, we need a *special* orthogonal matrix in order to apply the inverse Cayley transform. Now we know that $Q$ can be represented as \n",
    "    $$Q = J\\tilde{Q}$$\n",
    "    for $\\tilde{Q} \\in SO(d)$. Then clearly $\\tilde{Q} = JQ$ and hence we have that \n",
    "    $$Q = J\\,\\text{cayley}\\left(\\text{cayley}^{-1}(JQ)\\right).$$\n",
    "\n",
    "Therefore we can parameterise $A_0 = J\\,D(\\psi_2) Q(\\psi_1)$ where $\\psi_1 =  \\text{cayley}^{-1}(JQ)$ where $J$ is a $\\{+1,-1\\}$ diagonal calculated directly from the eigenvalues of $Q=U_0 V_0^T$.\n"
   ]
  },
  {
   "cell_type": "markdown",
   "metadata": {},
   "source": [
    "## Visualise results"
   ]
  },
  {
   "cell_type": "code",
   "execution_count": 70,
   "metadata": {},
   "outputs": [],
   "source": [
    "Ys_angry = reduce(vcat, Ys[1:5]);"
   ]
  },
  {
   "cell_type": "code",
   "execution_count": 71,
   "metadata": {},
   "outputs": [],
   "source": [
    "Yhat = clds(cUT);"
   ]
  },
  {
   "cell_type": "code",
   "execution_count": 968,
   "metadata": {},
   "outputs": [],
   "source": [
    "size(cYs)"
   ]
  },
  {
   "cell_type": "code",
   "execution_count": 72,
   "metadata": {},
   "outputs": [],
   "source": [
    "# printfmtln(\"RMSE = {:.3f}\", rmse(cYs - Yhat)); flush(stdout)\n",
    "\n",
    "fig, axs = subplots(5,4,figsize=(10,10))\n",
    "offset = 0\n",
    "offset_tt = 1000\n",
    "_Δt = 100\n",
    "for i = 1:20\n",
    "    axs[:][i].plot(Ys_angry[(1:_Δt-1) .+ offset_tt, i+offset])\n",
    "    axs[:][i].plot(Yhat'[(1:_Δt-1) .+ offset_tt, i+offset])\n",
    "end"
   ]
  },
  {
   "cell_type": "markdown",
   "metadata": {},
   "source": [
    "### Animate!"
   ]
  },
  {
   "cell_type": "code",
   "execution_count": 172,
   "metadata": {},
   "outputs": [],
   "source": [
    "?mocapio.construct_outputs"
   ]
  },
  {
   "cell_type": "code",
   "execution_count": null,
   "metadata": {},
   "outputs": [],
   "source": [
    "# # stupid reload module problems\n",
    "# _standardize_Y = fit(model.mocaputil.MyStandardScaler, reduce(vcat, Ysraw),  1)\n",
    "# _standardize_U = fit(model.mocaputil.MyStandardScaler, reduce(vcat, Usraw),  1)"
   ]
  },
  {
   "cell_type": "code",
   "execution_count": 932,
   "metadata": {},
   "outputs": [],
   "source": [
    "tmp_unsup = model.unsup_predict(clds, cUT[:,1:1000], cYs[:,1:200], _standardize_Y, _standardize_U, 20);\n",
    "Yhat_r_unsup = invert(standardize_Y, Matrix(tmp_unsup'));"
   ]
  },
  {
   "cell_type": "code",
   "execution_count": 933,
   "metadata": {},
   "outputs": [],
   "source": [
    "rmse(tmp_unsup[:,1:200] - cYs[:,1:200])"
   ]
  },
  {
   "cell_type": "code",
   "execution_count": 950,
   "metadata": {},
   "outputs": [],
   "source": [
    "tmp = clds(cUT[:,1:3000]);"
   ]
  },
  {
   "cell_type": "code",
   "execution_count": 344,
   "metadata": {},
   "outputs": [],
   "source": [
    "Yhat_r = invert(standardize_Y, Matrix(tmp'));"
   ]
  },
  {
   "cell_type": "code",
   "execution_count": 948,
   "metadata": {},
   "outputs": [],
   "source": [
    "size(Ysraw[2])"
   ]
  },
  {
   "cell_type": "code",
   "execution_count": 364,
   "metadata": {},
   "outputs": [],
   "source": [
    "if !(@isdefined vis) \n",
    "    vis = Visualizer() # Create a new visualizer instance (MeshCat.jl)\n",
    "    open(vis)\n",
    "end\n",
    "vis = mocapviz.create_animation([mocapio.reconstruct_modelled(Yhat_r)[5001:6000,:,:], \n",
    "                                 mocapio.reconstruct_modelled(reduce(vcat, Ysraw[1:5]))[5001:6000,:,:]], \n",
    "    \"test\"; vis=vis, linemesh=[mocapviz.redmesh, mocapviz.yellowmesh], camera=:back)"
   ]
  },
  {
   "cell_type": "code",
   "execution_count": 935,
   "metadata": {},
   "outputs": [],
   "source": [
    "vis = mocapviz.create_animation([mocapio.reconstruct_modelled(Yhat_r_unsup)[1:500,:,:], \n",
    "                                 mocapio.reconstruct_modelled(Ysraw[1][1:500,:])], \n",
    "    \"test\"; vis=vis, linemesh=[mocapviz.redmesh, mocapviz.yellowmesh], camera=:back)"
   ]
  },
  {
   "cell_type": "code",
   "execution_count": null,
   "metadata": {},
   "outputs": [],
   "source": [
    "x̂ = rnn_state_rollout(rnn, cUT[:,1:1000]).data\n",
    "#         display(D*_cU)\n",
    "Yhat = ffnn(x̂) + C*x̂ + D*cUT[:,1:1000];"
   ]
  },
  {
   "cell_type": "code",
   "execution_count": 297,
   "metadata": {},
   "outputs": [],
   "source": [
    "Yhat_r = invert(standardize_Y, Matrix(Yhat'));"
   ]
  },
  {
   "cell_type": "markdown",
   "metadata": {},
   "source": [
    "# Are RNNs easier to train?\n",
    "\n",
    "(** Answer: No... not by a long shot!**)"
   ]
  },
  {
   "cell_type": "code",
   "execution_count": 161,
   "metadata": {},
   "outputs": [],
   "source": [
    "d_out = size(cYs, 1)\n",
    "d_in = size(cUT, 1)\n",
    "d_state = 200\n",
    "d_ff = 50\n",
    "diffdmodel = 0  #63\n",
    "\n",
    "rnn = RNN(d_in, d_state, tanh)\n",
    "ffnn = Chain(Dense(d_state, d_ff), Dense(d_ff, d_out, identity))\n",
    "\n",
    "a = param(zeros(Float32, Int(d_state*(d_state-1)/2)))\n",
    "cUs_m1 = cUs[1:end-1,:];\n",
    "CDd = cYs[:,2:end] / [cUs_m1'; ones(1, cN-1)]\n",
    "D, C = Flux.param(deepcopy(CDd[:,1:end-1])), param(Flux.glorot_uniform(d_out, d_state))\n",
    "ffnn.layers[2].b.data .= CDd[:,end];"
   ]
  },
  {
   "cell_type": "code",
   "execution_count": 167,
   "metadata": {},
   "outputs": [],
   "source": [
    "# opt = ADAM(1e-3)\n",
    "pars = Flux.params(rnn, ffnn.layers[1], ffnn.layers[2], C, D, a);"
   ]
  },
  {
   "cell_type": "code",
   "execution_count": 296,
   "metadata": {},
   "outputs": [],
   "source": [
    "zero_grad!(pars)\n",
    "Flux.reset!(rnn)\n",
    "Flux.truncate!(rnn)"
   ]
  },
  {
   "cell_type": "code",
   "execution_count": 166,
   "metadata": {},
   "outputs": [],
   "source": [
    "# opt = ADAM(1e-7)\n",
    "pars = Flux.params(rnn.cell.Wi, rnn.cell.b, ffnn, C, D, a);"
   ]
  },
  {
   "cell_type": "code",
   "execution_count": 311,
   "metadata": {},
   "outputs": [],
   "source": [
    "tmp = Tracker.collect(reduce(hcat, rnn.(cUList))).data   # weirdly mapleaves(data,...) version is 100x slower...?\n",
    "_pre_linear = [mapleaves(Tracker.data, ffnn.layers[1])(tmp); tmp; cUT; ones(1, cN)]\n",
    "CDd = model._tikhonov_mrdivide(cYs, _pre_linear, 1f-5);\n",
    "ffnn.layers[2].W.data .= CDd[:,1:d_ff];\n",
    "ffnn.layers[2].b.data .= CDd[:,end];\n",
    "C.data .= CDd[:,(d_ff+1):(d_ff+d_state)];\n",
    "D.data .= CDd[:,(d_ff+d_state+1):end-1];"
   ]
  },
  {
   "cell_type": "code",
   "execution_count": 313,
   "metadata": {},
   "outputs": [],
   "source": [
    "Yhat = ffnn(tmp).data + C.data*tmp + D.data*cUT;"
   ]
  },
  {
   "cell_type": "code",
   "execution_count": 312,
   "metadata": {},
   "outputs": [],
   "source": [
    "rmse(ffnn(tmp).data + C.data*tmp + D.data*cUT - cYs)"
   ]
  },
  {
   "cell_type": "code",
   "execution_count": 250,
   "metadata": {},
   "outputs": [],
   "source": [
    "@benchmark model.state_rollout(clds_g, cUT[:,1:100])"
   ]
  },
  {
   "cell_type": "code",
   "execution_count": 252,
   "metadata": {},
   "outputs": [],
   "source": [
    "function rnn_state_rollout(rnn::Flux.Recur, U::AbstractMatrix{T}) where T <: AbstractFloat\n",
    "    n = size(U, 2)\n",
    "    return hcat([rnn(U[:,i]) for i in 1:n]...)\n",
    "end"
   ]
  },
  {
   "cell_type": "code",
   "execution_count": 276,
   "metadata": {},
   "outputs": [],
   "source": [
    "@benchmark rnn_state_rollout(rnn, cUT[:,1:100])"
   ]
  },
  {
   "cell_type": "code",
   "execution_count": 270,
   "metadata": {},
   "outputs": [],
   "source": [
    "rnn.cell.Wi * randn(121) + rnn.cell.Wh * rnn.state"
   ]
  },
  {
   "cell_type": "code",
   "execution_count": 247,
   "metadata": {},
   "outputs": [],
   "source": [
    "typeof(rnn)"
   ]
  },
  {
   "cell_type": "code",
   "execution_count": 307,
   "metadata": {},
   "outputs": [],
   "source": [
    "n_epochs = 300\n",
    "history = zeros(Float32, n_epochs)\n",
    "N = size(cYs, 2)\n",
    "cUList = [cUT[:,i] for i in 1:N]\n",
    "\n",
    "opt.eta = 2e-3 / 30\n",
    "@time for ee in 1:n_epochs\n",
    "    batch_order = randperm(28)\n",
    "    for tt in batch_order\n",
    "        ixs = (256*(tt-1)+1):min(256*tt, N)\n",
    "        _cY, _cU, _cUL = cYs[:,ixs[1:end]], cUT[:, ixs[1:end]], cUList[ixs[1:end]]\n",
    "        rnn.cell.Wh = AxUtil.Math.cayley_orthog(a/10, d_state)\n",
    "#         x̂ = rnn.(_cUL)\n",
    "#         x̂ = Tracker.collect(reduce(hcat, x̂))\n",
    "        x̂ = rnn_state_rollout(rnn, _cU)\n",
    "#         display(D*_cU)\n",
    "        ŷ = ffnn(x̂) + C*x̂ + D*_cU\n",
    "        obj = mean(x->x^2, _cY - ŷ)*64^2\n",
    "        Tracker.back!(obj)\n",
    "        history[ee] += obj.data / length(batch_order)\n",
    "        for p in pars\n",
    "            Tracker.update!(opt, p, -Tracker.grad(p))\n",
    "        end\n",
    "        Flux.reset!(rnn)\n",
    "        Flux.truncate!(rnn)\n",
    "#         zero_grad!(pars)\n",
    "    end\n",
    "    println(sqrt(history[ee])); flush(stdout)\n",
    "end"
   ]
  },
  {
   "cell_type": "code",
   "execution_count": 310,
   "metadata": {},
   "outputs": [],
   "source": [
    "plot(sqrt.(history[1:155]))"
   ]
  },
  {
   "cell_type": "code",
   "execution_count": 519,
   "metadata": {},
   "outputs": [],
   "source": [
    "for ee in 1:1\n",
    "    h = 0\n",
    "    batch_order = randperm(58)\n",
    "    for tt in batch_order\n",
    "        ixs = (256*(tt-1)+1):min(256*tt, N)\n",
    "        _cY, _cU, _cUL = cYs[:,ixs[2:end]], cUT[:, ixs[1:end-1]], cUList[ixs[1:end-1]]\n",
    "        ŷ = D*_cU .+ ffnn.layers[2].b\n",
    "        obj = mean(x->x^2, _cY - ŷ)\n",
    "        h += obj.data\n",
    "    end\n",
    "    println(sqrt(h/length(batch_order)))\n",
    "end"
   ]
  },
  {
   "cell_type": "code",
   "execution_count": 338,
   "metadata": {},
   "outputs": [],
   "source": [
    "let tmpr1 = mapslices(z->sqrt(mean(x->x^2, z)), cYs[:,1:end] - Yhat, dims=1)[1:end]\n",
    "    plot(conv(f64(tmpr1), Windows.rect(30))[:31:end-30])\n",
    "end\n",
    "title(\"error over time\")"
   ]
  },
  {
   "cell_type": "code",
   "execution_count": 329,
   "metadata": {},
   "outputs": [],
   "source": [
    "plot(1:100, 1:100)\n",
    "plot(11:100, conv(collect(1:100), Windows.rect(10))[11:end-9])"
   ]
  },
  {
   "cell_type": "code",
   "execution_count": 336,
   "metadata": {},
   "outputs": [],
   "source": [
    "let tmpr1 = cYs - Yhat\n",
    "    tmpr2 = tmpr1[:,1:end-30]\n",
    "    for j = 1:64\n",
    "        tmpr2[j,:] = conv(f64(tmpr1[j,:]), Windows.rect(30))[:31:end-29]\n",
    "    end\n",
    "    imshow(tmpr2, aspect=\"auto\"); colorbar()\n",
    "end\n",
    "title(\"error over time\")"
   ]
  }
 ],
 "metadata": {
  "@webio": {
   "lastCommId": null,
   "lastKernelId": null
  },
  "kernelspec": {
   "display_name": "Julia 1.1.0",
   "language": "julia",
   "name": "julia-1.1"
  },
  "language_info": {
   "file_extension": ".jl",
   "mimetype": "application/julia",
   "name": "julia",
   "version": "1.1.0"
  }
 },
 "nbformat": 4,
 "nbformat_minor": 2
}
