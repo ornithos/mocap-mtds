{
 "cells": [
  {
   "cell_type": "markdown",
   "metadata": {},
   "source": [
    "# Mocap Initial Modelling\n",
    "\n",
    "* Deterministic LDS\n",
    "* Not doing delta: error accumulation is bad"
   ]
  },
  {
   "cell_type": "code",
   "execution_count": 1,
   "metadata": {},
   "outputs": [
    {
     "data": {
      "text/html": [
       "<script>\n",
       "// Immediately-invoked-function-expression to avoid global variables.\n",
       "(function() {\n",
       "    var warning_div = document.getElementById(\"webio-warning-9562964168488566578\");\n",
       "    var hide = function () {\n",
       "        var script = document.getElementById(\"webio-setup-14073764840603512276\");\n",
       "        var parent = script && script.parentElement;\n",
       "        var grandparent = parent && parent.parentElement;\n",
       "        if (grandparent) {\n",
       "            grandparent.style.display = \"none\";\n",
       "        }\n",
       "        warning_div.style.display = \"none\";\n",
       "    };\n",
       "    if (typeof Jupyter !== \"undefined\") {\n",
       "        console.log(\"WebIO detected Jupyter notebook environment.\");\n",
       "        // Jupyter notebook.\n",
       "        var extensions = (\n",
       "            Jupyter\n",
       "            && Jupyter.notebook.config.data\n",
       "            && Jupyter.notebook.config.data.load_extensions\n",
       "        );\n",
       "        if (extensions && extensions[\"webio/main\"]) {\n",
       "            // Extension already loaded.\n",
       "            console.log(\"Jupyter WebIO nbextension detected; not loading ad-hoc.\");\n",
       "            hide();\n",
       "            return;\n",
       "        }\n",
       "        console.warn(\"Loading WebIO Jupyter extension on an ad-hoc basis. Consider enabling the WebIO nbextension for a stabler experience (this should happen automatically when building WebIO).\");\n",
       "        require([\"/assetserver/5794a0bf2e6325e42dc09c7369026176a04edd3e-dist/main.js\"], function (webIOModule) {\n",
       "            webIOModule.load_ipython_extension();\n",
       "        });\n",
       "        warning_div.innerHTML = \"<strong>Loading WebIO Jupyter extension on an ad-hoc basis. Consider enabling the WebIO nbextension for a stabler experience (this should happen automatically when building WebIO).</strong>\";\n",
       "    } else if (window.location.pathname.includes(\"/lab\")) {\n",
       "        // Guessing JupyterLa\n",
       "        console.log(\"Jupyter Lab detected; make sure the @webio/jupyter-lab-provider labextension is installed.\");\n",
       "        hide();\n",
       "        return;\n",
       "    }\n",
       "})();\n",
       "\n",
       "</script>\n",
       "<div\n",
       "    id=\"webio-warning-9562964168488566578\"\n",
       "    class=\"output_text output_stderr\"\n",
       "    style=\"padding: 1em; font-weight: bold;\"\n",
       ">\n",
       "    Unable to load WebIO. Please make sure WebIO works for your Jupyter client.\n",
       "    <!-- TODO: link to installation docs. -->\n",
       "</div>\n"
      ],
      "text/plain": [
       "HTML{String}(\"<script>\\n// Immediately-invoked-function-expression to avoid global variables.\\n(function() {\\n    var warning_div = document.getElementById(\\\"webio-warning-9562964168488566578\\\");\\n    var hide = function () {\\n        var script = document.getElementById(\\\"webio-setup-14073764840603512276\\\");\\n        var parent = script && script.parentElement;\\n        var grandparent = parent && parent.parentElement;\\n        if (grandparent) {\\n            grandparent.style.display = \\\"none\\\";\\n        }\\n        warning_div.style.display = \\\"none\\\";\\n    };\\n    if (typeof Jupyter !== \\\"undefined\\\") {\\n        console.log(\\\"WebIO detected Jupyter notebook environment.\\\");\\n        // Jupyter notebook.\\n        var extensions = (\\n            Jupyter\\n            && Jupyter.notebook.config.data\\n            && Jupyter.notebook.config.data.load_extensions\\n        );\\n        if (extensions && extensions[\\\"webio/main\\\"]) {\\n            // Extension already loaded.\\n            console.log(\\\"Jupyter WebIO nbextension detected; not loading ad-hoc.\\\");\\n            hide();\\n            return;\\n        }\\n        console.warn(\\\"Loading WebIO Jupyter extension on an ad-hoc basis. Consider enabling the WebIO nbextension for a stabler experience (this should happen automatically when building WebIO).\\\");\\n        require([\\\"/assetserver/5794a0bf2e6325e42dc09c7369026176a04edd3e-dist/main.js\\\"], function (webIOModule) {\\n            webIOModule.load_ipython_extension();\\n        });\\n        warning_div.innerHTML = \\\"<strong>Loading WebIO Jupyter extension on an ad-hoc basis. Consider enabling the WebIO nbextension for a stabler experience (this should happen automatically when building WebIO).</strong>\\\";\\n    } else if (window.location.pathname.includes(\\\"/lab\\\")) {\\n        // Guessing JupyterLa\\n        console.log(\\\"Jupyter Lab detected; make sure the @webio/jupyter-lab-provider labextension is installed.\\\");\\n        hide();\\n        return;\\n    }\\n})();\\n\\n</script>\\n<div\\n    id=\\\"webio-warning-9562964168488566578\\\"\\n    class=\\\"output_text output_stderr\\\"\\n    style=\\\"padding: 1em; font-weight: bold;\\\"\\n>\\n    Unable to load WebIO. Please make sure WebIO works for your Jupyter client.\\n    <!-- TODO: link to installation docs. -->\\n</div>\\n\")"
      ]
     },
     "metadata": {},
     "output_type": "display_data"
    },
    {
     "name": "stderr",
     "output_type": "stream",
     "text": [
      "┌ Info: Recompiling stale cache file /Users/alexbird/.julia/compiled/v1.1/AxUtil/zkGYv.ji for AxUtil [739e4dca-d06b-11e8-2625-cffd46b96d05]\n",
      "└ @ Base loading.jl:1184\n",
      "┌ Warning: Package AxUtil does not have ArgCheck in its dependencies:\n",
      "│ - If you have AxUtil checked out for development and have\n",
      "│   added ArgCheck as a dependency but haven't updated your primary\n",
      "│   environment's manifest file, try `Pkg.resolve()`.\n",
      "│ - Otherwise you may need to report an issue with AxUtil\n",
      "└ Loading ArgCheck into AxUtil from project dependency, future warnings for AxUtil are suppressed.\n",
      "WARNING: Method definition softmax2(Any) in module Math at /Users/alexbird/.julia/dev/AxUtil/src/math.jl:11 overwritten at deprecated.jl:55.\n",
      "WARNING: Method definition #softmax2(Any, typeof(AxUtil.Math.softmax2), Any) in module Math overwritten.\n",
      "WARNING: Method definition _forward(typeof(LinearAlgebra.logdet), Any) in module Tracker at /Users/alexbird/.julia/dev/Flux/src/tracker/lib/array.jl:131 overwritten in module Flux at /Users/alexbird/.julia/dev/AxUtil/src/flux.jl:139.\n"
     ]
    }
   ],
   "source": [
    "# using Revise\n",
    "using LinearAlgebra, Random\n",
    "using StatsBase, Statistics\n",
    "using Distributions, MultivariateStats   # Categorical, P(P)CA\n",
    "using Quaternions    # For manipulating 3D Geometry\n",
    "using MeshCat        # For web visualisation / animation\n",
    "using PyPlot         # Plotting\n",
    "using AxUtil         # Cayley, skew matrices\n",
    "using Flux           # Optimisation\n",
    "using DSP            # convolution / low-pass (MA) filter\n",
    "\n",
    "# small utils libraries\n",
    "using ProgressMeter, Formatting, ArgCheck\n",
    "using DelimitedFiles, NPZ, BSON"
   ]
  },
  {
   "cell_type": "code",
   "execution_count": 2,
   "metadata": {},
   "outputs": [
    {
     "data": {
      "text/plain": [
       "zero_grad! (generic function with 1 method)"
      ]
     },
     "execution_count": 2,
     "metadata": {},
     "output_type": "execute_result"
    }
   ],
   "source": [
    "function zero_grad!(P) \n",
    "    for x in P\n",
    "        x.grad .= 0\n",
    "    end\n",
    "end"
   ]
  },
  {
   "cell_type": "code",
   "execution_count": 3,
   "metadata": {},
   "outputs": [
    {
     "data": {
      "text/plain": [
       "Main.model"
      ]
     },
     "execution_count": 3,
     "metadata": {},
     "output_type": "execute_result"
    }
   ],
   "source": [
    "DIR_MOCAP_MTDS = \".\" \n",
    "\n",
    "# Data loading and transformation utils\n",
    "include(joinpath(DIR_MOCAP_MTDS, \"io.jl\"))\n",
    "\n",
    "# MeshCat skeleton visualisation tools\n",
    "include(joinpath(DIR_MOCAP_MTDS, \"mocap_viz.jl\"))\n",
    "\n",
    "# Data scaling utils\n",
    "include(joinpath(DIR_MOCAP_MTDS, \"util.jl\"))\n",
    "import .mocaputil: MyStandardScaler, scale_transform, invert\n",
    "import .mocaputil: OutputDifferencer, difference_transform, fit_transform\n",
    "import .mocaputil: no_pos, no_poscp\n",
    "\n",
    "# Models: LDS\n",
    "include(joinpath(DIR_MOCAP_MTDS, \"models.jl\"))\n",
    "import .model: Astable"
   ]
  },
  {
   "cell_type": "markdown",
   "metadata": {},
   "source": [
    "### Load in Data\n",
    "See `2_Preprocess.ipynb`\n",
    "\n",
    "**Note that in the current harddisk state, `edin_Ys.bson` was created with `include_ftcontact=false`**\n",
    "\n",
    "\n",
    "### Additional changes since `2_Preprocess`:\n",
    "\n",
    "1. Performing a difference transform of joint positions in $Y$. Motivated by trivial predictions of copying previous frame working too well. I want to force the model to learn something.\n",
    "2. Remove joint positions entirely from inputs:\n",
    "    * Don't want prev positions for regression to output ($D$ matrix) as predicting a copy reduces the error close to zero, and makes it difficult to understand which model is performing best for the remaining delta.\n",
    "    * Also don't want in latent state, as positions have already been projected to the latent state (a linear comb) => hence colinear.\n"
   ]
  },
  {
   "cell_type": "code",
   "execution_count": 4,
   "metadata": {},
   "outputs": [],
   "source": [
    "database = \"../data/mocap/edin-style-transfer/\"\n",
    "files_edin = [joinpath(database, f) for f in readdir(database)];\n",
    "style_name_edin = [x[1] for x in match.(r\"\\.\\./[a-z\\-]+/[a-z\\-]+/[a-z\\-]+/([a-z]+)_.*\", files_edin)];\n",
    "styles = unique(style_name_edin)\n",
    "styles_lkp = [findall(s .== style_name_edin) for s in styles];"
   ]
  },
  {
   "cell_type": "code",
   "execution_count": 5,
   "metadata": {},
   "outputs": [],
   "source": [
    "Usraw = BSON.load(\"edin_Xs.bson\")[:Xs];\n",
    "Ysraw = BSON.load(\"edin_Ys.bson\")[:Ys];\n",
    "\n",
    "standardize_Y = fit(MyStandardScaler, reduce(vcat, Ysraw),  1)\n",
    "standardize_U = fit(MyStandardScaler, reduce(vcat, Usraw),  1)\n",
    "\n",
    "Ys = [scale_transform(standardize_Y, y[2:end, :] ) for y in Ysraw];\n",
    "Us = [scale_transform(standardize_U, u[1:end-1,:]) for u in Usraw];  # remove first frame too"
   ]
  },
  {
   "cell_type": "code",
   "execution_count": 6,
   "metadata": {},
   "outputs": [
    {
     "data": {
      "text/plain": [
       "invert_output_tform (generic function with 1 method)"
      ]
     },
     "execution_count": 6,
     "metadata": {},
     "output_type": "execute_result"
    }
   ],
   "source": [
    "invert_output_tform(y, i) = invert(standardize_Y, y) |> yhat -> invert(dtforms[i], yhat)"
   ]
  },
  {
   "cell_type": "markdown",
   "metadata": {},
   "source": [
    "we can reconstruct the original data via the commands:\n",
    "\n",
    "    invert_output_tform(y, i)       # for (i,y) in enumerate(Ys)\n",
    "    invert(standardize_X, x)        # for x in Xs\n",
    "    \n",
    "in the relevant array comprehensions."
   ]
  },
  {
   "cell_type": "code",
   "execution_count": 7,
   "metadata": {},
   "outputs": [
    {
     "data": {
      "text/latex": [
       "\\begin{verbatim}\n",
       "construct_inputs(raw [; direction=:relative, joint_pos=true])\n",
       "\\end{verbatim}\n",
       "Construct the input matrix for the mocap models. The input \\texttt{raw} is the raw output from the \\texttt{process\\_file} function. The function outputs the following matrix, which contains only the range of frames: \\href{i.e.}{start+69, end-60} excluding approx. the first and last second. This is in order to construct trajectories that extend ± 60 frames of the current position. (The additional is due to needing a bit extra to calculate velocity, plus some historical baggage.) Note also that the trajectory is centered at every frame at the current position and hence \\texttt{(trajectory\\_x(7), trajectory\\_z(7)) == (0.0, 0.0)}.\n",
       "\n",
       "The following columns are contained in the matrix:\n",
       "\n",
       "\\begin{itemize}\n",
       "\\item (12): ± 60 frame trajectory x-cood at step 10 intervals\n",
       "\n",
       "\n",
       "\\item (12): ± 60 frame trajectory z-cood at step 10 intervals\n",
       "\n",
       "\n",
       "\\item (12): ± 60 frame trajectory angle sin(θ) to forward\n",
       "\n",
       "\n",
       "\\item (12): ± 60 frame trajectory angle cos(θ) to forward\n",
       "\n",
       "\n",
       "\\item (12): ± 60 frame trajectory magnitude of velocity\n",
       "\n",
       "\n",
       "\\item (61): joint positions in Lagrangian frame (optional)\n",
       "\n",
       "\\end{itemize}\n",
       "The angle θ is expressed in both sine and cosine components to avoid a discontinuity when it wraps around 2π (which it sometimes does). This angle is Lagrangian in nature too: that is, θ = 0 when the skeleton is facing in exactly the same direction as it is walking (i.e. the direction of the velocity). One might prefer a Eulerian (absolute) representation instead, in which case, pass in the named argument \\texttt{direction=:absolute}.\n",
       "\n",
       "Note that there are only 61 dimensions of the joint positions as the root x,z are excluded, as they are always zero. They're excluded from the output too, which is more important: we don't want to waste strength on predicting zero. In most of my experiments, I have found that including the joint positions in the input tends to make it too easy for the model to obtain trivial predictions. To avoid returning any joint\\_positions in the input matrix, select:\n",
       "\n",
       "\\begin{verbatim}\n",
       "joint_pos=false\n",
       "\\end{verbatim}\n"
      ],
      "text/markdown": [
       "```\n",
       "construct_inputs(raw [; direction=:relative, joint_pos=true])\n",
       "```\n",
       "\n",
       "Construct the input matrix for the mocap models. The input `raw` is the raw output from the `process_file` function. The function outputs the following matrix, which contains only the range of frames: [start+69, end-60](i.e.) excluding approx. the first and last second. This is in order to construct trajectories that extend ± 60 frames of the current position. (The additional is due to needing a bit extra to calculate velocity, plus some historical baggage.) Note also that the trajectory is centered at every frame at the current position and hence `(trajectory_x(7), trajectory_z(7)) == (0.0, 0.0)`.\n",
       "\n",
       "The following columns are contained in the matrix:\n",
       "\n",
       "  * (12): ± 60 frame trajectory x-cood at step 10 intervals\n",
       "  * (12): ± 60 frame trajectory z-cood at step 10 intervals\n",
       "  * (12): ± 60 frame trajectory angle sin(θ) to forward\n",
       "  * (12): ± 60 frame trajectory angle cos(θ) to forward\n",
       "  * (12): ± 60 frame trajectory magnitude of velocity\n",
       "  * (61): joint positions in Lagrangian frame (optional)\n",
       "\n",
       "The angle θ is expressed in both sine and cosine components to avoid a discontinuity when it wraps around 2π (which it sometimes does). This angle is Lagrangian in nature too: that is, θ = 0 when the skeleton is facing in exactly the same direction as it is walking (i.e. the direction of the velocity). One might prefer a Eulerian (absolute) representation instead, in which case, pass in the named argument `direction=:absolute`.\n",
       "\n",
       "Note that there are only 61 dimensions of the joint positions as the root x,z are excluded, as they are always zero. They're excluded from the output too, which is more important: we don't want to waste strength on predicting zero. In most of my experiments, I have found that including the joint positions in the input tends to make it too easy for the model to obtain trivial predictions. To avoid returning any joint_positions in the input matrix, select:\n",
       "\n",
       "```\n",
       "joint_pos=false\n",
       "```\n"
      ],
      "text/plain": [
       "\u001b[36m  construct_inputs(raw [; direction=:relative, joint_pos=true])\u001b[39m\n",
       "\n",
       "  Construct the input matrix for the mocap models. The input \u001b[36mraw\u001b[39m is the raw\n",
       "  output from the \u001b[36mprocess_file\u001b[39m function. The function outputs the following\n",
       "  matrix, which contains only the range of frames: start+69, end-60 (i.e.)\n",
       "  excluding approx. the first and last second. This is in order to construct\n",
       "  trajectories that extend ± 60 frames of the current position. (The\n",
       "  additional is due to needing a bit extra to calculate velocity, plus some\n",
       "  historical baggage.) Note also that the trajectory is centered at every\n",
       "  frame at the current position and hence \u001b[36m(trajectory_x(7), trajectory_z(7))\n",
       "  == (0.0, 0.0)\u001b[39m.\n",
       "\n",
       "  The following columns are contained in the matrix:\n",
       "\n",
       "    •    (12): ± 60 frame trajectory x-cood at step 10 intervals\n",
       "\n",
       "    •    (12): ± 60 frame trajectory z-cood at step 10 intervals\n",
       "\n",
       "    •    (12): ± 60 frame trajectory angle sin(θ) to forward\n",
       "\n",
       "    •    (12): ± 60 frame trajectory angle cos(θ) to forward\n",
       "\n",
       "    •    (12): ± 60 frame trajectory magnitude of velocity\n",
       "\n",
       "    •    (61): joint positions in Lagrangian frame (optional)\n",
       "\n",
       "  The angle θ is expressed in both sine and cosine components to avoid a\n",
       "  discontinuity when it wraps around 2π (which it sometimes does). This angle\n",
       "  is Lagrangian in nature too: that is, θ = 0 when the skeleton is facing in\n",
       "  exactly the same direction as it is walking (i.e. the direction of the\n",
       "  velocity). One might prefer a Eulerian (absolute) representation instead, in\n",
       "  which case, pass in the named argument \u001b[36mdirection=:absolute\u001b[39m.\n",
       "\n",
       "  Note that there are only 61 dimensions of the joint positions as the root\n",
       "  x,z are excluded, as they are always zero. They're excluded from the output\n",
       "  too, which is more important: we don't want to waste strength on predicting\n",
       "  zero. In most of my experiments, I have found that including the joint\n",
       "  positions in the input tends to make it too easy for the model to obtain\n",
       "  trivial predictions. To avoid returning any joint_positions in the input\n",
       "  matrix, select:\n",
       "\n",
       "\u001b[36m  joint_pos=false\u001b[39m"
      ]
     },
     "execution_count": 7,
     "metadata": {},
     "output_type": "execute_result"
    }
   ],
   "source": [
    "?mocapio.construct_inputs"
   ]
  },
  {
   "cell_type": "code",
   "execution_count": 8,
   "metadata": {},
   "outputs": [
    {
     "data": {
      "text/latex": [
       "\\begin{verbatim}\n",
       "construct_outputs(raw [; include_ftcontact])\n",
       "\\end{verbatim}\n",
       "Construct the output matrix for the mocap models. The input \\texttt{raw} is the raw output from the \\texttt{process\\_file} function. The function outputs the following matrix, which contains only the range of frames: \\href{i.e.}{start+69, end-60} excluding approx. the first and last second. This is in order to match with the input matrix which needs these boundaries in order to construct trajectories consistently. This function outputs a matrix with the following columns:\n",
       "\n",
       "\\begin{itemize}\n",
       "\\item (3): rotational velocity, x-velocity, z-velocity\n",
       "\n",
       "\n",
       "\\item (61): (Lagrangian) joint positions (excl. root x/z ∵ always zero)\n",
       "\n",
       "\n",
       "\\item (4): [optional] feet contacts\n",
       "\n",
       "\\end{itemize}\n",
       "These are the minimal requirements to reconstruct an animation of human motion on the target skeleton. The feet contacts are in \\{0,1\\} and may be challenging for some linear models, therefore they are optional (see named argument     \\texttt{include\\_ftcontact} (Bool)).\n",
       "\n"
      ],
      "text/markdown": [
       "```\n",
       "construct_outputs(raw [; include_ftcontact])\n",
       "```\n",
       "\n",
       "Construct the output matrix for the mocap models. The input `raw` is the raw output from the `process_file` function. The function outputs the following matrix, which contains only the range of frames: [start+69, end-60](i.e.) excluding approx. the first and last second. This is in order to match with the input matrix which needs these boundaries in order to construct trajectories consistently. This function outputs a matrix with the following columns:\n",
       "\n",
       "  * (3): rotational velocity, x-velocity, z-velocity\n",
       "  * (61): (Lagrangian) joint positions (excl. root x/z ∵ always zero)\n",
       "  * (4): [optional] feet contacts\n",
       "\n",
       "These are the minimal requirements to reconstruct an animation of human motion on the target skeleton. The feet contacts are in {0,1} and may be challenging for some linear models, therefore they are optional (see named argument     `include_ftcontact` (Bool)).\n"
      ],
      "text/plain": [
       "\u001b[36m  construct_outputs(raw [; include_ftcontact])\u001b[39m\n",
       "\n",
       "  Construct the output matrix for the mocap models. The input \u001b[36mraw\u001b[39m is the raw\n",
       "  output from the \u001b[36mprocess_file\u001b[39m function. The function outputs the following\n",
       "  matrix, which contains only the range of frames: start+69, end-60 (i.e.)\n",
       "  excluding approx. the first and last second. This is in order to match with\n",
       "  the input matrix which needs these boundaries in order to construct\n",
       "  trajectories consistently. This function outputs a matrix with the following\n",
       "  columns:\n",
       "\n",
       "    •    (3): rotational velocity, x-velocity, z-velocity\n",
       "\n",
       "    •    (61): (Lagrangian) joint positions (excl. root x/z ∵ always zero)\n",
       "\n",
       "    •    (4): [optional] feet contacts\n",
       "\n",
       "  These are the minimal requirements to reconstruct an animation of human\n",
       "  motion on the target skeleton. The feet contacts are in {0,1} and may be\n",
       "  challenging for some linear models, therefore they are optional (see named\n",
       "  argument \u001b[36minclude_ftcontact\u001b[39m (Bool))."
      ]
     },
     "execution_count": 8,
     "metadata": {},
     "output_type": "execute_result"
    }
   ],
   "source": [
    "?mocapio.construct_outputs"
   ]
  },
  {
   "cell_type": "code",
   "execution_count": 102,
   "metadata": {},
   "outputs": [],
   "source": [
    "# MAT.matwrite(\"angry1_UY.mat\", Dict(\"cYs\"=>cYs, \"cUT\"=>cUT, \"version\"=>\"may23_1809\"))"
   ]
  },
  {
   "cell_type": "markdown",
   "metadata": {},
   "source": [
    "# Initialise LDS"
   ]
  },
  {
   "cell_type": "markdown",
   "metadata": {},
   "source": [
    "## Understand PC distribution"
   ]
  },
  {
   "cell_type": "markdown",
   "metadata": {},
   "source": [
    "#### Single-task Model"
   ]
  },
  {
   "cell_type": "code",
   "execution_count": null,
   "metadata": {},
   "outputs": [],
   "source": [
    "fig, axs = subplots(4,2,figsize=(5.5,6))\n",
    "\n",
    "for (i, ixs) in enumerate(styles_lkp)\n",
    "    cYs = reduce(vcat, Ys[ixs])\n",
    "    pc_all = fit(PCA, cYs[:,4:63]', pratio=0.999)\n",
    "\n",
    "    varexpl = cumsum(principalvars(pc_all))/tvar(pc_all)\n",
    "    bd=findfirst.([varexpl .> x for x in [0.9,0.95,0.99]])\n",
    "    axs[:][i].plot(1:length(varexpl), varexpl)\n",
    "    axs[:][i].axhline(1, linestyle=\":\")\n",
    "    for b in bd\n",
    "        axs[:][i].plot([b,b], [varexpl[1], varexpl[b]], color=ColorMap(\"tab10\")(7), linestyle=\":\")\n",
    "        axs[:][i].plot([.5, b], [varexpl[b], varexpl[b]], color=ColorMap(\"tab10\")(7), linestyle=\":\")\n",
    "        axs[:][i].text(b+0.3,varexpl[1]+0.03, b)\n",
    "    end\n",
    "    axs[:][i].set_xlim(0.5,34.5); gca().set_ylim(varexpl[1],1.025);\n",
    "    axs[:][i].xaxis.set_ticklabels([])\n",
    "    axs[:][i].set_title(styles[i])\n",
    "end\n",
    "tight_layout()"
   ]
  },
  {
   "cell_type": "markdown",
   "metadata": {},
   "source": [
    "#### Pooled Model"
   ]
  },
  {
   "cell_type": "code",
   "execution_count": null,
   "metadata": {},
   "outputs": [],
   "source": [
    "allE = reduce(vcat, Ys);\n",
    "allE = convert(Matrix{Float32}, allE);\n",
    "\n",
    "pc_all = fit(PCA, allE[:,4:63]', pratio=0.999)\n",
    "\n",
    "varexpl = cumsum(principalvars(pc_all))/tvar(pc_all)\n",
    "bd=findfirst.([varexpl .> x for x in [0.9,0.95,0.99]])\n",
    "plot(1:length(varexpl), varexpl)\n",
    "gca().axhline(1, linestyle=\":\")\n",
    "for b in bd\n",
    "    plot([b,b], [varexpl[1], varexpl[b]], color=ColorMap(\"tab10\")(7), linestyle=\":\")\n",
    "    plot([.5, b], [varexpl[b], varexpl[b]], color=ColorMap(\"tab10\")(7), linestyle=\":\")\n",
    "    text(b+0.3,varexpl[1]+0.03, b)\n",
    "end\n",
    "gca().set_xlim(0.5,37.5); gca().set_ylim(varexpl[1],1.025);\n",
    "gcf().set_size_inches(3,2)"
   ]
  },
  {
   "cell_type": "markdown",
   "metadata": {},
   "source": [
    "## LDS Initialisation\n",
    "\n",
    "\\begin{align}\n",
    "\\mathbf{x}_t &= A \\mathbf{x}_{t-1} + B \\mathbf{u}_t + \\mathbf{b}\\\\\n",
    "\\mathbf{y}_t &= C \\mathbf{x}_{t} + D \\mathbf{u}_t + \\mathbf{d}\n",
    "\\end{align}\n",
    "\n",
    "#### Initialisation\n",
    "\n",
    "Note in the below I use the SVD construction for PCA for convenience, but in general $Y$ is not centered ($\\because$ centering is done over \\emph{all} styles simultaneously; each individual will not be centered). Therefore, the below assumes this centering is done temporarily before the SVD.\n",
    "\n",
    "* $C = U_{SVD}$, where $U_{SVD}$ are the prinicipal components of $Y$.\n",
    "* $X = S_{SVD}V_{SVD}^{\\mathsf{T}}$, where $S_{SVD}$, $V_{SVD}$ are the other matrices from the SVD.\n",
    "* $X \\approx \\tilde{U}\\tilde{B} \\Rightarrow \\tilde{B} = (\\tilde{U}^{\\mathsf{T}} \\tilde{U})^{-1} \\tilde{U}^{\\mathsf{T}} X$ (Regression of $X$ on $U$). The permutation of $U$ and $B$ in the first equation follows because the obs are column-wise here, not row-wise.\n",
    "    * Here, $\\tilde{U} = \\begin{bmatrix} U & \\mathbf{1} \\end{bmatrix}$, and hence $\\tilde{B} = \\begin{bmatrix} B & \\mathbf{b} \\end{bmatrix}$"
   ]
  },
  {
   "cell_type": "markdown",
   "metadata": {},
   "source": [
    "## Single task LDS"
   ]
  },
  {
   "cell_type": "code",
   "execution_count": null,
   "metadata": {},
   "outputs": [],
   "source": [
    "include(joinpath(DIR_MOCAP_MTDS, \"models.jl\"))"
   ]
  },
  {
   "cell_type": "code",
   "execution_count": null,
   "metadata": {},
   "outputs": [],
   "source": [
    "style_ix = 1\n",
    "cYs = Matrix(transpose(reduce(vcat, Ys[styles_lkp[style_ix]])))\n",
    "cUs = reduce(vcat, Us[styles_lkp[style_ix]])\n",
    "cUT = Matrix(cUs');\n",
    "cN = size(cYs, 2)"
   ]
  },
  {
   "cell_type": "code",
   "execution_count": 137,
   "metadata": {},
   "outputs": [
    {
     "data": {
      "text/plain": [
       "rmse (generic function with 2 methods)"
      ]
     },
     "execution_count": 137,
     "metadata": {},
     "output_type": "execute_result"
    }
   ],
   "source": [
    "rmse(Δ,scale=size(Δ, 1)) = sqrt(mean(x->x^2, Δ))*scale"
   ]
  },
  {
   "cell_type": "code",
   "execution_count": null,
   "metadata": {},
   "outputs": [],
   "source": [
    "let tmp = mapslices(z->sqrt(mean(x->x^2, z)), cYs - CDd * [cUT; ones(1, cN)], dims=1)[1:1000]\n",
    "    tmpr1 = mapslices(z->sqrt(mean(x->x^2, z)), cYs[:,1:1000] - clds(cUT[:,1:1000]), dims=1)[1:1000]\n",
    "    plot(conv(tmp, Windows.rect(30))[:31:end-30])\n",
    "    plot(conv(f64(tmpr1), Windows.rect(30))[:31:end-30])\n",
    "end\n",
    "title(\"error over time\")"
   ]
  },
  {
   "cell_type": "code",
   "execution_count": 527,
   "metadata": {},
   "outputs": [
    {
     "data": {
      "text/plain": [
       "6.854500332774838"
      ]
     },
     "execution_count": 527,
     "metadata": {},
     "output_type": "execute_result"
    }
   ],
   "source": [
    "# Simple baselines\n",
    "baselines = Dict()\n",
    "baselines[\"copy\"] = rmse(cYs[:,2:end] - cYs[:,1:end-1])\n",
    "\n",
    "# cUs_m1 = cUs[1:end-1,:];\n",
    "CDd = cYs / [cUT; ones(1, cN)]\n",
    "baselines[\"LR\"] = rmse(cYs[:,:] - CDd * [cUT; ones(1, cN)])"
   ]
  },
  {
   "cell_type": "code",
   "execution_count": 525,
   "metadata": {
    "scrolled": true
   },
   "outputs": [
    {
     "data": {
      "image/png": "[encoded data removed]",
      "text/plain": [
       "Figure(PyObject <Figure size 300x200 with 1 Axes>)"
      ]
     },
     "metadata": {},
     "output_type": "display_data"
    },
    {
     "data": {
      "text/plain": [
       "PyObject <matplotlib.lines.Line2D object at 0xb6ba27d30>"
      ]
     },
     "execution_count": 525,
     "metadata": {},
     "output_type": "execute_result"
    }
   ],
   "source": [
    "plot(5:5:60, perf_init); gcf().set_size_inches(3,2)\n",
    "gca().axhline(baselines[\"copy\"], linestyle=\":\")\n",
    "gca().axhline(baselines[\"LR\"], linestyle=\":\", color=\"red\")"
   ]
  },
  {
   "cell_type": "code",
   "execution_count": 534,
   "metadata": {},
   "outputs": [
    {
     "data": {
      "text/plain": [
       "Main.model.MyLDS_ng{Float32}(Float32[3.8002, 0.389062, 0.0452926, 0.0341374, 0.00374353, 0.00250781, 0.00154656, 0.001, 0.001, 0.001  …  -4.71617, 1.05452, 0.251247, 0.000427542, 0.454889, -2.4878, -0.000424572, 1.46011, 0.000688339, 0.000637486], Float32[-0.0191449 0.0198947 … -0.00396444 0.119779; -0.00138662 0.00332535 … -0.0198716 -0.0144564; … ; -0.00270047 -0.000608933 … 0.0362085 -0.0163498; -1.4232e-6 2.65874e-7 … 1.24714e-5 -6.25957e-6], Float32[-0.00854589, -0.0564871, 0.0256376, -0.00869265, -0.153117, -0.127148, -0.053295, -0.00392294, 0.0533211, 1.11908e-5], Float32[-1.02193 -3.71257 … 92547.3 -3.91284e8; 3.04563 36.8813 … -55033.9 2.22828e8; … ; 3.19207 -2.71468 … -39539.1 1.6707e8; 3.62294 -7.54603 … -44795.9 2.07351e8], Float32[-320.836 168.557 … 1478.55 -919.128; 134.887 -53.0324 … -1050.97 652.484; … ; 134.712 -70.5142 … -629.485 395.485; 190.945 -102.905 … -987.356 585.452], Float32[-212.719, 109.264, -192.882, 210.752, 210.389, 230.412, -433.025, -2.69199, -306.827, -264.179  …  243.1, 85.4539, 297.16, -73.545, 103.62, 196.78, 34.8575, 107.965, 187.681, 57.5328], Float32[0.0, 0.0, 0.0, 0.0, 0.0, 0.0, 0.0, 0.0, 0.0, 0.0])"
      ]
     },
     "execution_count": 534,
     "metadata": {},
     "output_type": "execute_result"
    }
   ],
   "source": [
    "clds = model.init_LDS_spectral(cYs, cUT, 10; max_iter=4)"
   ]
  },
  {
   "cell_type": "code",
   "execution_count": null,
   "metadata": {},
   "outputs": [],
   "source": [
    "imshow(clds.C[:,1:2]'); gca().set_aspect(\"auto\")"
   ]
  },
  {
   "cell_type": "code",
   "execution_count": null,
   "metadata": {},
   "outputs": [],
   "source": [
    "imshow(clds.B[2:2,1:50]); gca().set_aspect(\"auto\")"
   ]
  },
  {
   "cell_type": "code",
   "execution_count": null,
   "metadata": {},
   "outputs": [],
   "source": [
    "imshow(CDd[4:end,1:50])"
   ]
  },
  {
   "cell_type": "code",
   "execution_count": 523,
   "metadata": {},
   "outputs": [],
   "source": [
    "perf_init = [rmse(model.init_LDS_spectral(cYs, cUT, k)(cUT) - cYs) for k in 5:5:60];"
   ]
  },
  {
   "cell_type": "code",
   "execution_count": 619,
   "metadata": {},
   "outputs": [
    {
     "data": {
      "text/plain": [
       "12-element Array{Float32,1}:\n",
       " 6.0907803\n",
       " 5.7354817\n",
       " 5.355541 \n",
       " 4.9713855\n",
       " 4.8953323\n",
       " 4.827998 \n",
       " 4.8135757\n",
       " 4.643134 \n",
       " 4.6147943\n",
       " 4.610619 \n",
       " 4.5461884\n",
       " 4.5584083"
      ]
     },
     "execution_count": 619,
     "metadata": {},
     "output_type": "execute_result"
    }
   ],
   "source": [
    "perf_init"
   ]
  },
  {
   "cell_type": "code",
   "execution_count": 610,
   "metadata": {},
   "outputs": [],
   "source": [
    "clds_orig = model.init_LDS_spectral(cYs, cUT, 10; max_iter=1);"
   ]
  },
  {
   "cell_type": "code",
   "execution_count": 613,
   "metadata": {},
   "outputs": [
    {
     "data": {
      "text/plain": [
       "ADAM(7.0e-6, (0.9, 0.999), IdDict{Any,Any}())"
      ]
     },
     "execution_count": 613,
     "metadata": {},
     "output_type": "execute_result"
    }
   ],
   "source": [
    "k = 10\n",
    "    \n",
    "# clds_g = model.make_grad(model.init_LDS_spectral(cYs, cUT, k))\n",
    "clds_g = model.make_grad(clds_orig)\n",
    "clds   = model.make_nograd(clds_g)   # MUST DO THIS SECOND, (Flux.param takes copy)\n",
    "\n",
    "opt = ADAM(1e-4)\n",
    "opt_hidden = ADAM(0.7e-5)"
   ]
  },
  {
   "cell_type": "code",
   "execution_count": 614,
   "metadata": {},
   "outputs": [
    {
     "data": {
      "text/plain": [
       "Params([Float32[-0.00207143 0.0845 … -330.777 -526.703; 0.000288 -0.38952 … 11209.5 -3803.68; … ; 2.6701e-6 -0.0518064 … 228.45 -313.403; -4.63683e-5 0.0656844 … 2807.39 5218.72] (tracked), Float32[1.95866 -6.62981 … 25.5651 -4.49161; -50.0777 46.4598 … -183.984 109.881; … ; -4.80827 4.59732 … 13.4358 -4.26586; 2.84887 13.0085 … -261.895 109.34] (tracked), Float32[190.303, -229.677, 238.162, 58.2152, 136.342, 69.6699, -264.451, 101.951, -241.31, -165.964  …  9.54691, 182.935, 31.1078, -103.743, 153.228, 42.8481, -199.348, 134.233, 44.0946, -212.379] (tracked)])"
      ]
     },
     "execution_count": 614,
     "metadata": {},
     "output_type": "execute_result"
    }
   ],
   "source": [
    "opt_hidden = ADAM(0.7e-5)\n",
    "ps_hidden = Flux.params(clds_g.a, clds_g.B, clds_g.b)\n",
    "ps_observ = Flux.params(clds_g.C, clds_g.D, clds_g.d)"
   ]
  },
  {
   "cell_type": "code",
   "execution_count": 618,
   "metadata": {},
   "outputs": [
    {
     "data": {
      "text/plain": [
       "5.7977905f0"
      ]
     },
     "execution_count": 618,
     "metadata": {},
     "output_type": "execute_result"
    }
   ],
   "source": [
    "rmse(clds(cUT) - cYs)"
   ]
  },
  {
   "cell_type": "code",
   "execution_count": 617,
   "metadata": {
    "scrolled": false
   },
   "outputs": [
    {
     "name": "stdout",
     "output_type": "stream",
     "text": [
      "6.855530880977127\n",
      "6.853211339148795\n",
      "6.862029326361927\n",
      "6.855554560851206\n",
      "6.852307296970971\n",
      "6.850922569310701\n",
      "6.854478492649859\n",
      "6.848959191869403\n",
      "6.849734090756253\n",
      "6.854527435601163\n",
      "6.857299360001839\n",
      "6.855002524849589\n",
      "6.8537992822692955\n",
      "6.853060061508811\n",
      "6.852459770596796\n",
      "6.856376425813431\n",
      "6.85274947133698\n",
      "6.858551643569844\n",
      "6.853460588115287\n",
      "6.851671429117182\n",
      " 23.238264 seconds (45.78 M allocations: 5.840 GiB, 11.74% gc time)\n"
     ]
    }
   ],
   "source": [
    "@time h = begin\n",
    "    n_epochs = 20\n",
    "    history = zeros(n_epochs*58)\n",
    "    N = size(cYs, 2)\n",
    "\n",
    "#     opt = ADAM(1e-4)\n",
    "    opt.eta = 5.5e-8 / 5   #/2\n",
    "    opt_hidden.eta = 0.01e-6\n",
    "#     opt.eta *= 2\n",
    "    for ee in 1:n_epochs\n",
    "        if ee % 100 == 0\n",
    "            opt.eta /= 1.5\n",
    "            printfmtln(\"Changed learning rate!\")\n",
    "        end\n",
    "        batch_order = randperm(58)\n",
    "        for tt in batch_order\n",
    "            ixs = (256*(tt-1)+1):min(256*tt, N)\n",
    "            _cY, _cU = cYs[:,ixs[1:end]], cUT[:, ixs[1:end]]\n",
    "            Yhat = clds_g(_cU)\n",
    "            obj = mean(x->x^2, _cY - Yhat)*64^2\n",
    "            history[(ee-1)*58 + tt] = obj.data\n",
    "            Tracker.back!(obj)\n",
    "            for p in ps_hidden\n",
    "                Tracker.update!(opt_hidden, p, -Tracker.grad(p))\n",
    "            end\n",
    "            for p in ps_observ\n",
    "                Tracker.update!(opt, p, -Tracker.grad(p))\n",
    "            end\n",
    "#             zero_grad!(ps_hidden)\n",
    "        end\n",
    "        println(sqrt(mean(history[(1:58) .+ 58*(ee-1)])))\n",
    "    end\n",
    "    history\n",
    "end;"
   ]
  },
  {
   "cell_type": "code",
   "execution_count": null,
   "metadata": {},
   "outputs": [],
   "source": [
    "plot(sqrt.(conv(h, Windows.rect(58))[1000:end-57]/58))"
   ]
  },
  {
   "cell_type": "markdown",
   "metadata": {},
   "source": [
    "## Initialising the Transition Matrix\n",
    "\n",
    "The transition matrix will be parameterised as:\n",
    "\n",
    "$$ A = D(\\psi_2) Q(\\psi_1) $$\n",
    "\n",
    "where $D$ is a diagonal matrix with elements in $[0,1]$ and $Q$ is a special orthogonal matrix with determinant $+1$. Our goal will be to use the initialisation calculated above, coerced into this form.\n",
    "\n",
    "Unfortunately, we are just as likely to have an initial $A_0$ with determinant $-1$ as $+1$. My previous arguments about measure zero $\\lambda = 1 - 0i$ are not true. It appears that reflections are commonly learned. Therefore, we must deal with this issue later. But first:\n",
    "\n",
    "Decompose:\n",
    "$$ A_0 = U_0 S_0 V_0^T $$\n",
    "\n",
    "Then $D(\\psi_2) = S_0$ and $Q(\\psi_1) = U_0 V_0^T$.\n",
    "\n",
    "\n",
    "### Diagonal Matrix\n",
    "If parameterising the diagonal of $D$ with a sigmoid nonlinearity, we must apply the inverse sigmoid to $\\text{diag}(S)$, i.e. $\\sigma^{-1}(y) = \\ln\\left(\\frac{y}{1-y}\\right)$. Care must be taken to avoid the endpoints $y \\in \\{0, 1\\}$ for numerical reasons, but also because it is not sensible to initialise to a position with no gradient. I have used a minimum distance from the boundaries of $10^{-3}$ (which translates to $x \\approx \\pm 6.9$). \n",
    "\n",
    "\n",
    "### Orthogonal Matrix\n",
    "In order to obtain the Cayley parameterisation of $Q = U_0 V_0^T$ we take the inverse Cayley transformation $S = (I - Q)(I + Q)^{-1}$ to obtain the skew-symmetric matrix $S$ which corresponds 1-to-1 to $Q$. We can then simply extract the lower triangular elements of $S$ as the unique $d(d-1)/2$ elements parameterising $Q$. If these parameters are $\\psi_1$, I will write this as $\\psi_1 = \\text{cayley}^{-1}(Q)$. However, as we have said above, this is insufficient for obtaining a Cayley parameterisation of the estimate $A_0$ in general, since we exclude any $A_0$ s.t. $\\det(A_0) = -1$. Ferrar (1950) tells us that a general orthogonal matrix can be parameterised as $J(I-S)(I+S)^{-1}$, where $J$ is a diagonal matrix with elements in $\\{+1, -1\\}$. Crucially we need as many negative elements ($-1$) as their are negative roots of $Q_0$ and we may choose them for convenience to precede all of the positive elements in $J$.\n",
    "\n",
    "#### Corollary\n",
    "\n",
    "1. $ A = D(\\psi_2) Q(\\psi_1) $ as before, but now with $D$ containing elements in $[-1,1]$ is sufficient to parameterise *any* orthogonal matrix. Note that we may instead use $\\tanh$ instead of $\\sigma$ to achieve this.\n",
    "2. For the problem at hand, we need a *special* orthogonal matrix in order to apply the inverse Cayley transform. Now we know that $Q$ can be represented as \n",
    "    $$Q = J\\tilde{Q}$$\n",
    "    for $\\tilde{Q} \\in SO(d)$. Then clearly $\\tilde{Q} = JQ$ and hence we have that \n",
    "    $$Q = J\\,\\text{cayley}\\left(\\text{cayley}^{-1}(JQ)\\right).$$\n",
    "\n",
    "Therefore we can parameterise $A_0 = J\\,D(\\psi_2) Q(\\psi_1)$ where $\\psi_1 =  \\text{cayley}^{-1}(JQ)$ where $J$ is a $\\{+1,-1\\}$ diagonal calculated directly from the eigenvalues of $Q=U_0 V_0^T$.\n"
   ]
  },
  {
   "cell_type": "markdown",
   "metadata": {},
   "source": [
    "## Visualise results"
   ]
  },
  {
   "cell_type": "code",
   "execution_count": 53,
   "metadata": {},
   "outputs": [],
   "source": [
    "Yhat = clds(cUT);"
   ]
  },
  {
   "cell_type": "code",
   "execution_count": null,
   "metadata": {},
   "outputs": [],
   "source": [
    "printfmtln(\"RMSE = {:.3f}\", rmse(cYs - Yhat)); flush(stdout)\n",
    "\n",
    "fig, axs = subplots(5,4,figsize=(10,10))\n",
    "offset = 20\n",
    "offset_tt = 800\n",
    "for i = 1:20\n",
    "    axs[:][i].plot(Ys[1][(1:50) .+ offset_tt, i+offset])\n",
    "    axs[:][i].plot(Yhat'[(1:50) .+ offset_tt, i+offset])\n",
    "end"
   ]
  },
  {
   "cell_type": "code",
   "execution_count": null,
   "metadata": {},
   "outputs": [],
   "source": [
    "fig, axs = subplots(5,4,figsize=(10,10))\n",
    "offset = 0\n",
    "offset_tt = 800\n",
    "Yhat = CDd * [cUs_m1'; ones(1, cN-1)]\n",
    "for i = 1:20\n",
    "    axs[:][i].plot(Ys[1][(1:100) .+ offset_tt, i+offset])\n",
    "    axs[:][i].plot(Yhat'[(1:100) .+ offset_tt, i+offset])\n",
    "end"
   ]
  },
  {
   "cell_type": "markdown",
   "metadata": {},
   "source": [
    "### Animate!"
   ]
  },
  {
   "cell_type": "code",
   "execution_count": 172,
   "metadata": {},
   "outputs": [
    {
     "data": {
      "text/latex": [
       "\\begin{verbatim}\n",
       "construct_outputs(raw [; include_ftcontact])\n",
       "\\end{verbatim}\n",
       "Construct the output matrix for the mocap models. The input \\texttt{raw} is the raw output from the \\texttt{process\\_file} function. The function outputs the following matrix, which contains only the range of frames: \\href{i.e.}{start+69, end-60} excluding approx. the first and last second. This is in order to match with the input matrix which needs these boundaries in order to construct trajectories consistently. This function outputs a matrix with the following columns:\n",
       "\n",
       "\\begin{itemize}\n",
       "\\item (3): rotational velocity, x-velocity, z-velocity\n",
       "\n",
       "\n",
       "\\item (61): (Lagrangian) joint positions (excl. root x/z ∵ always zero)\n",
       "\n",
       "\n",
       "\\item (4): [optional] feet contacts\n",
       "\n",
       "\\end{itemize}\n",
       "These are the minimal requirements to reconstruct an animation of human motion on the target skeleton. The feet contacts are in \\{0,1\\} and may be challenging for some linear models, therefore they are optional (see named argument     \\texttt{include\\_ftcontact} (Bool)).\n",
       "\n"
      ],
      "text/markdown": [
       "```\n",
       "construct_outputs(raw [; include_ftcontact])\n",
       "```\n",
       "\n",
       "Construct the output matrix for the mocap models. The input `raw` is the raw output from the `process_file` function. The function outputs the following matrix, which contains only the range of frames: [start+69, end-60](i.e.) excluding approx. the first and last second. This is in order to match with the input matrix which needs these boundaries in order to construct trajectories consistently. This function outputs a matrix with the following columns:\n",
       "\n",
       "  * (3): rotational velocity, x-velocity, z-velocity\n",
       "  * (61): (Lagrangian) joint positions (excl. root x/z ∵ always zero)\n",
       "  * (4): [optional] feet contacts\n",
       "\n",
       "These are the minimal requirements to reconstruct an animation of human motion on the target skeleton. The feet contacts are in {0,1} and may be challenging for some linear models, therefore they are optional (see named argument     `include_ftcontact` (Bool)).\n"
      ],
      "text/plain": [
       "\u001b[36m  construct_outputs(raw [; include_ftcontact])\u001b[39m\n",
       "\n",
       "  Construct the output matrix for the mocap models. The input \u001b[36mraw\u001b[39m is the raw\n",
       "  output from the \u001b[36mprocess_file\u001b[39m function. The function outputs the following\n",
       "  matrix, which contains only the range of frames: start+69, end-60 (i.e.)\n",
       "  excluding approx. the first and last second. This is in order to match with\n",
       "  the input matrix which needs these boundaries in order to construct\n",
       "  trajectories consistently. This function outputs a matrix with the following\n",
       "  columns:\n",
       "\n",
       "    •    (3): rotational velocity, x-velocity, z-velocity\n",
       "\n",
       "    •    (61): (Lagrangian) joint positions (excl. root x/z ∵ always zero)\n",
       "\n",
       "    •    (4): [optional] feet contacts\n",
       "\n",
       "  These are the minimal requirements to reconstruct an animation of human\n",
       "  motion on the target skeleton. The feet contacts are in {0,1} and may be\n",
       "  challenging for some linear models, therefore they are optional (see named\n",
       "  argument \u001b[36minclude_ftcontact\u001b[39m (Bool))."
      ]
     },
     "execution_count": 172,
     "metadata": {},
     "output_type": "execute_result"
    }
   ],
   "source": [
    "?mocapio.construct_outputs"
   ]
  },
  {
   "cell_type": "code",
   "execution_count": 93,
   "metadata": {},
   "outputs": [
    {
     "data": {
      "text/plain": [
       "unsup_predict (generic function with 2 methods)"
      ]
     },
     "execution_count": 93,
     "metadata": {},
     "output_type": "execute_result"
    }
   ],
   "source": [
    "function unsup_predict(lds::model.MyLDS_ng{T}, U::AbstractMatrix{T}, \n",
    "        standardize_Y::MyStandardScaler, YsTrue::AbstractMatrix{T},\n",
    "        standardize_U::MyStandardScaler) where T <: AbstractFloat\n",
    "    \n",
    "    n = size(U, 2)\n",
    "    A = model.Astable(lds)\n",
    "\n",
    "    X = Matrix{T}(undef, size(lds, 1), n);\n",
    "    Y = Matrix{T}(undef, size(lds, 2), n)\n",
    "    u = Vector{T}(undef, size(lds, 3))\n",
    "    \n",
    "    # transform Y -> U\n",
    "    μ, σ = standardize_U.μ[61:121], standardize_U.σ[61:121]\n",
    "    \n",
    "    X[:,1] = A*lds.h + lds.B*U[:, 1] + lds.b\n",
    "    Y[:,1] = lds.C * X[:,1] + lds.D * U[:,1] .+ lds.d\n",
    "    for i in 2:n\n",
    "        u = U[:,i]   # I found some unexpected behaviour when using views here.\n",
    "        y = (i <= 10) ? YsTrue[:,i-1] : Y[:,i-1]   # initial state is wrong (0) => need to wash out.\n",
    "        y_unnorm = invert(standardize_Y, reshape(y, 1, 64)) |> vec\n",
    "        u[61:121] = (y_unnorm[4:64] - μ) ./ σ            # transform to u space\n",
    "        @views X[:,i] = A*X[:,i-1] + lds.B*u + lds.b\n",
    "        @views Y[:,i] = lds.C * X[:,i] + lds.D * u .+ lds.d\n",
    "    end\n",
    "    return Y\n",
    "end\n"
   ]
  },
  {
   "cell_type": "code",
   "execution_count": 94,
   "metadata": {},
   "outputs": [
    {
     "data": {
      "text/plain": [
       "64×500 Array{Float32,2}:\n",
       " -1.26318   -0.655223   -0.703502  -0.63206   …   1.34792      1.34251   \n",
       " -1.45514   -0.516998   -0.885376  -0.471466      1.36404      1.23932   \n",
       "  2.24117    1.47636     1.68129    1.64714       1.20546      1.14024   \n",
       " -0.733307  -1.21049    -1.25089   -1.3567       -0.52906     -0.66777   \n",
       " -0.831322  -0.925148   -1.07931   -1.05588       1.23063      1.28037   \n",
       " -0.993889  -1.41996    -1.48914   -1.59075   …  -0.249664    -0.37841   \n",
       " -2.77103   -1.6451     -1.54189   -1.46657       1.027        1.02504   \n",
       " -0.618204  -0.669241   -0.634161  -0.590132      1.29187      1.29934   \n",
       " -1.5689    -1.46736    -1.59318   -1.76902       0.274662     0.154011  \n",
       " -3.48906   -2.55831    -2.50386   -2.3971        0.847881     0.822105  \n",
       " -1.16961   -0.847974   -0.728745  -0.631188  …   1.68812      1.66501   \n",
       " -0.346481  -0.0821991   0.060154   0.272869     -0.255474    -0.288097  \n",
       " -2.58217   -2.01978    -2.04572   -2.13998       0.851013     0.812611  \n",
       "  ⋮                                           ⋱                          \n",
       "  0.421349   0.162804    0.364388   0.169563     -1.65402     -1.66622   \n",
       " -0.68898   -0.920433   -0.888275  -1.0378       -0.983643    -1.09312   \n",
       "  0.552841   0.655109    0.638847   0.594894      0.287083     0.246679  \n",
       "  0.603157   0.35606     0.422771   0.42178   …  -0.0500717    0.00386047\n",
       "  0.12748   -0.17984    -0.115738  -0.278267     -0.825523    -0.924873  \n",
       " -1.64433   -1.2152     -1.25219   -1.24568      -0.377876    -0.385971  \n",
       " -0.422798  -0.366423   -0.295635  -0.278473      0.00828552   0.0413723 \n",
       " -0.646091  -0.586277   -0.559235  -0.700933     -0.759914    -0.835648  \n",
       " -2.86143   -2.00229    -1.94548   -1.9094    …  -0.458889    -0.487354  \n",
       " -0.445942  -0.368551   -0.294203  -0.275099      0.0543118    0.0853214 \n",
       " -0.76565   -0.655634   -0.630224  -0.766562     -0.745373    -0.817909  \n",
       " -2.9661    -2.05321    -1.98027   -1.93519      -0.437984    -0.468636  "
      ]
     },
     "execution_count": 94,
     "metadata": {},
     "output_type": "execute_result"
    }
   ],
   "source": [
    "tmp = unsup_predict(clds, cUT[:,1:500], standardize_Y, cYs[:,1:10], standardize_U)"
   ]
  },
  {
   "cell_type": "code",
   "execution_count": 241,
   "metadata": {},
   "outputs": [
    {
     "data": {
      "text/plain": [
       "0.63974136f0"
      ]
     },
     "execution_count": 241,
     "metadata": {},
     "output_type": "execute_result"
    }
   ],
   "source": [
    "rmse(unsup_predict(clds, cUT[:,1:100], Ysraw[1][5,:], cYs[:,1:100], standardize_Y, standardize_U) - cYs[:,1:100])"
   ]
  },
  {
   "cell_type": "code",
   "execution_count": 242,
   "metadata": {},
   "outputs": [
    {
     "data": {
      "text/plain": [
       "0.48815757f0"
      ]
     },
     "execution_count": 242,
     "metadata": {},
     "output_type": "execute_result"
    }
   ],
   "source": [
    "rmse(clds(cUT[:,1:100]) - cYs[:,1:100])"
   ]
  },
  {
   "cell_type": "code",
   "execution_count": 95,
   "metadata": {},
   "outputs": [],
   "source": [
    "Yhat_r_unsup = invert(standardize_Y, Matrix(tmp'));"
   ]
  },
  {
   "cell_type": "code",
   "execution_count": 97,
   "metadata": {},
   "outputs": [
    {
     "data": {
      "text/plain": [
       "MeshCat Visualizer with path /meshcat"
      ]
     },
     "execution_count": 97,
     "metadata": {},
     "output_type": "execute_result"
    }
   ],
   "source": [
    "if !(@isdefined vis) \n",
    "    # Create a new visualizer instance (MeshCat.jl)\n",
    "    vis = Visualizer()\n",
    "    open(vis)\n",
    "end\n",
    "vis = mocapviz.create_animation([mocapio.reconstruct_modelled(Yhat_r_unsup)[1:500,:,:], \n",
    "                                 mocapio.reconstruct_modelled(Ysraw[1][1:500,:])], \n",
    "    \"test\"; vis=vis, linemesh=[mocapviz.redmesh, mocapviz.yellowmesh], camera=:back)"
   ]
  },
  {
   "cell_type": "code",
   "execution_count": 360,
   "metadata": {},
   "outputs": [
    {
     "data": {
      "text/plain": [
       "MeshCat Visualizer with path /meshcat"
      ]
     },
     "execution_count": 360,
     "metadata": {},
     "output_type": "execute_result"
    }
   ],
   "source": [
    "vis = mocapviz.create_animation([mocapio.reconstruct_modelled(Yhat_r)[1:500,:,:], \n",
    "                                 mocapio.reconstruct_modelled(Ysraw[1][1:500,:])], \n",
    "    \"test\"; vis=vis, linemesh=[mocapviz.redmesh, mocapviz.yellowmesh], camera=:back)"
   ]
  },
  {
   "cell_type": "markdown",
   "metadata": {},
   "source": [
    "# Are RNNs easier to train?\n",
    "\n",
    "(** Answer: No... not by a long shot!**)"
   ]
  },
  {
   "cell_type": "code",
   "execution_count": 545,
   "metadata": {},
   "outputs": [],
   "source": [
    "d_out = size(cYs, 1)\n",
    "d_in = size(cUT, 1)\n",
    "d_state = 30\n",
    "d_ff = 50\n",
    "diffdmodel = 0  #63\n",
    "\n",
    "rnn = RNN(d_in, d_state, elu)\n",
    "ffnn = Chain(Dense(d_state, d_ff), Dense(d_ff, d_out, identity))\n",
    "\n",
    "a = param(zeros(Float32, Int(d_state*(d_state-1)/2)))\n",
    "cUs_m1 = cUs[1:end-1,:];\n",
    "CDd = cYs[:,2:end] / [cUs_m1'; ones(1, cN-1)]\n",
    "D, C = Flux.param(deepcopy(CDd[:,1:end-1])), param(Flux.glorot_uniform(d_out, d_state))\n",
    "ffnn.layers[2].b.data .= CDd[:,end];"
   ]
  },
  {
   "cell_type": "code",
   "execution_count": 536,
   "metadata": {},
   "outputs": [],
   "source": [
    "# opt = ADAM(1e-3)\n",
    "pars = Flux.params(rnn, ffnn.layers[1], ffnn.layers[2], C, D, a);"
   ]
  },
  {
   "cell_type": "code",
   "execution_count": 610,
   "metadata": {},
   "outputs": [],
   "source": [
    "zero_grad!(pars)\n",
    "Flux.reset!(rnn)\n",
    "Flux.truncate!(rnn)"
   ]
  },
  {
   "cell_type": "code",
   "execution_count": 606,
   "metadata": {},
   "outputs": [],
   "source": [
    "# opt = ADAM(1e-7)\n",
    "pars = Flux.params(rnn.cell.Wi, rnn.cell.b, ffnn, C, D, a);"
   ]
  },
  {
   "cell_type": "code",
   "execution_count": 615,
   "metadata": {},
   "outputs": [
    {
     "data": {
      "text/latex": [
       "\\begin{verbatim}\n",
       "construct_inputs(raw [; direction=:relative, joint_pos=true])\n",
       "\\end{verbatim}\n",
       "Construct the input matrix for the mocap models. The input \\texttt{raw} is the raw output from the \\texttt{process\\_file} function. The function outputs the following matrix, which contains only the range of frames: \\href{i.e.}{start+69, end-60} excluding approx. the first and last second. This is in order to construct trajectories that extend ± 60 frames of the current position. (The additional is due to needing a bit extra to calculate velocity, plus some historical baggage.) Note also that the trajectory is centered at every frame at the current position and hence \\texttt{(trajectory\\_x(7), trajectory\\_z(7)) == (0.0, 0.0)}.\n",
       "\n",
       "The following columns are contained in the matrix:\n",
       "\n",
       "\\begin{itemize}\n",
       "\\item (12): ± 60 frame trajectory x-cood at step 10 intervals\n",
       "\n",
       "\n",
       "\\item (12): ± 60 frame trajectory z-cood at step 10 intervals\n",
       "\n",
       "\n",
       "\\item (12): ± 60 frame trajectory angle sin(θ) to forward\n",
       "\n",
       "\n",
       "\\item (12): ± 60 frame trajectory angle cos(θ) to forward\n",
       "\n",
       "\n",
       "\\item (12): ± 60 frame trajectory magnitude of velocity\n",
       "\n",
       "\n",
       "\\item (61): joint positions in Lagrangian frame (optional)\n",
       "\n",
       "\\end{itemize}\n",
       "The angle θ is expressed in both sine and cosine components to avoid a discontinuity when it wraps around 2π (which it sometimes does). This angle is Lagrangian in nature too: that is, θ = 0 when the skeleton is facing in exactly the same direction as it is walking (i.e. the direction of the velocity). One might prefer a Eulerian (absolute) representation instead, in which case, pass in the named argument \\texttt{direction=:absolute}.\n",
       "\n",
       "Note that there are only 61 dimensions of the joint positions as the root x,z are excluded, as they are always zero. They're excluded from the output too, which is more important: we don't want to waste strength on predicting zero. In most of my experiments, I have found that including the joint positions in the input tends to make it too easy for the model to obtain trivial predictions. To avoid returning any joint\\_positions in the input matrix, select:\n",
       "\n",
       "\\begin{verbatim}\n",
       "joint_pos=false\n",
       "\\end{verbatim}\n"
      ],
      "text/markdown": [
       "```\n",
       "construct_inputs(raw [; direction=:relative, joint_pos=true])\n",
       "```\n",
       "\n",
       "Construct the input matrix for the mocap models. The input `raw` is the raw output from the `process_file` function. The function outputs the following matrix, which contains only the range of frames: [start+69, end-60](i.e.) excluding approx. the first and last second. This is in order to construct trajectories that extend ± 60 frames of the current position. (The additional is due to needing a bit extra to calculate velocity, plus some historical baggage.) Note also that the trajectory is centered at every frame at the current position and hence `(trajectory_x(7), trajectory_z(7)) == (0.0, 0.0)`.\n",
       "\n",
       "The following columns are contained in the matrix:\n",
       "\n",
       "  * (12): ± 60 frame trajectory x-cood at step 10 intervals\n",
       "  * (12): ± 60 frame trajectory z-cood at step 10 intervals\n",
       "  * (12): ± 60 frame trajectory angle sin(θ) to forward\n",
       "  * (12): ± 60 frame trajectory angle cos(θ) to forward\n",
       "  * (12): ± 60 frame trajectory magnitude of velocity\n",
       "  * (61): joint positions in Lagrangian frame (optional)\n",
       "\n",
       "The angle θ is expressed in both sine and cosine components to avoid a discontinuity when it wraps around 2π (which it sometimes does). This angle is Lagrangian in nature too: that is, θ = 0 when the skeleton is facing in exactly the same direction as it is walking (i.e. the direction of the velocity). One might prefer a Eulerian (absolute) representation instead, in which case, pass in the named argument `direction=:absolute`.\n",
       "\n",
       "Note that there are only 61 dimensions of the joint positions as the root x,z are excluded, as they are always zero. They're excluded from the output too, which is more important: we don't want to waste strength on predicting zero. In most of my experiments, I have found that including the joint positions in the input tends to make it too easy for the model to obtain trivial predictions. To avoid returning any joint_positions in the input matrix, select:\n",
       "\n",
       "```\n",
       "joint_pos=false\n",
       "```\n"
      ],
      "text/plain": [
       "\u001b[36m  construct_inputs(raw [; direction=:relative, joint_pos=true])\u001b[39m\n",
       "\n",
       "  Construct the input matrix for the mocap models. The input \u001b[36mraw\u001b[39m is the raw\n",
       "  output from the \u001b[36mprocess_file\u001b[39m function. The function outputs the following\n",
       "  matrix, which contains only the range of frames: start+69, end-60 (i.e.)\n",
       "  excluding approx. the first and last second. This is in order to construct\n",
       "  trajectories that extend ± 60 frames of the current position. (The\n",
       "  additional is due to needing a bit extra to calculate velocity, plus some\n",
       "  historical baggage.) Note also that the trajectory is centered at every\n",
       "  frame at the current position and hence \u001b[36m(trajectory_x(7), trajectory_z(7))\n",
       "  == (0.0, 0.0)\u001b[39m.\n",
       "\n",
       "  The following columns are contained in the matrix:\n",
       "\n",
       "    •    (12): ± 60 frame trajectory x-cood at step 10 intervals\n",
       "\n",
       "    •    (12): ± 60 frame trajectory z-cood at step 10 intervals\n",
       "\n",
       "    •    (12): ± 60 frame trajectory angle sin(θ) to forward\n",
       "\n",
       "    •    (12): ± 60 frame trajectory angle cos(θ) to forward\n",
       "\n",
       "    •    (12): ± 60 frame trajectory magnitude of velocity\n",
       "\n",
       "    •    (61): joint positions in Lagrangian frame (optional)\n",
       "\n",
       "  The angle θ is expressed in both sine and cosine components to avoid a\n",
       "  discontinuity when it wraps around 2π (which it sometimes does). This angle\n",
       "  is Lagrangian in nature too: that is, θ = 0 when the skeleton is facing in\n",
       "  exactly the same direction as it is walking (i.e. the direction of the\n",
       "  velocity). One might prefer a Eulerian (absolute) representation instead, in\n",
       "  which case, pass in the named argument \u001b[36mdirection=:absolute\u001b[39m.\n",
       "\n",
       "  Note that there are only 61 dimensions of the joint positions as the root\n",
       "  x,z are excluded, as they are always zero. They're excluded from the output\n",
       "  too, which is more important: we don't want to waste strength on predicting\n",
       "  zero. In most of my experiments, I have found that including the joint\n",
       "  positions in the input tends to make it too easy for the model to obtain\n",
       "  trivial predictions. To avoid returning any joint_positions in the input\n",
       "  matrix, select:\n",
       "\n",
       "\u001b[36m  joint_pos=false\u001b[39m"
      ]
     },
     "execution_count": 615,
     "metadata": {},
     "output_type": "execute_result"
    }
   ],
   "source": [
    "?mocapio.construct_inputs"
   ]
  },
  {
   "cell_type": "code",
   "execution_count": 618,
   "metadata": {},
   "outputs": [
    {
     "data": {
      "text/plain": [
       "20×121 Array{Float64,2}:\n",
       "  0.0091018     0.00526892  -0.000738991  …   0.0877053   -0.0639669 \n",
       "  0.001589     -0.00710288   0.00384976       0.03866      0.010755  \n",
       "  0.0197388    -0.0225183    0.00117426       0.0750128   -0.0934738 \n",
       "  0.00344443   -0.00962738  -0.000293335      0.100147     0.0784679 \n",
       "  0.00407532   -0.00228747  -0.00741517       0.11127     -0.112988  \n",
       " -0.013493      0.013874     0.00135557   …  -0.016224     0.004141  \n",
       "  0.00712415   -0.00196624  -0.00640712       0.0519251    0.220479  \n",
       " -0.00933333    0.0170587   -0.00874523       0.00268369   0.0662976 \n",
       "  0.00049088   -0.00236132   0.0023328       -0.0403279   -0.0401453 \n",
       "  0.00775955   -7.62471e-5  -0.00939423       0.0522273    0.0393217 \n",
       " -0.0108215     0.00931957   0.00204548   …  -0.039765     0.120739  \n",
       " -0.00208563    0.00571996  -0.00412302      -0.0272252    0.0111089 \n",
       "  0.00454573   -0.0040273    0.000536602      0.00410504   0.0720615 \n",
       "  0.000898379  -0.00144497  -0.000505731     -0.019586    -0.0550225 \n",
       " -0.00541335    0.00804997  -0.000571108      0.0566887   -0.013603  \n",
       "  0.0170591    -0.0170156    0.00302479   …   0.116218    -0.104016  \n",
       " -0.0123063     0.022526    -0.00220873       0.060456    -0.00878678\n",
       " -0.00634978    0.0274059   -0.014637        -0.102184     0.0317654 \n",
       " -0.00644425    0.0220881   -0.00948521      -0.0420292    0.00177841\n",
       "  0.00965741   -0.0153868    0.00141817       0.0580294   -0.0610739 "
      ]
     },
     "execution_count": 618,
     "metadata": {},
     "output_type": "execute_result"
    }
   ],
   "source": [
    "lds_cell.B.data"
   ]
  },
  {
   "cell_type": "code",
   "execution_count": null,
   "metadata": {},
   "outputs": [],
   "source": [
    "n_epochs = 100\n",
    "history = zeros(Float32, n_epochs)\n",
    "N = size(cYs, 2)\n",
    "cUList = [cUT[:,i] for i in 1:N]\n",
    "\n",
    "opt.eta = 2e-3 / 40\n",
    "for ee in 1:n_epochs\n",
    "    batch_order = randperm(58)\n",
    "    for tt in batch_order\n",
    "        ixs = (256*(tt-1)+1):min(256*tt, N)\n",
    "        _cY, _cU, _cUL = cYs[:,ixs[2:end]], cUT[:, ixs[1:end-1]], cUList[ixs[1:end-1]]\n",
    "        rnn.cell.Wh = AxUtil.Math.cayley_orthog(a/10, d_state)\n",
    "        x̂ = rnn.(_cUL)\n",
    "        x̂ = Tracker.collect(reduce(hcat, x̂))\n",
    "        ŷ = ffnn(x̂) + C*x̂ + D*_cU\n",
    "        obj = mean(x->x^2, _cY - ŷ)\n",
    "        Tracker.back!(obj)\n",
    "        history[ee] += obj.data / length(batch_order)\n",
    "        for p in pars\n",
    "            Tracker.update!(opt, p, -Tracker.grad(p))\n",
    "        end\n",
    "        Flux.reset!(rnn)\n",
    "        Flux.truncate!(rnn)\n",
    "    end\n",
    "    println(sqrt(history[ee]))\n",
    "end"
   ]
  },
  {
   "cell_type": "code",
   "execution_count": null,
   "metadata": {},
   "outputs": [],
   "source": [
    "plot(history)"
   ]
  },
  {
   "cell_type": "code",
   "execution_count": 519,
   "metadata": {},
   "outputs": [
    {
     "name": "stdout",
     "output_type": "stream",
     "text": [
      "0.8287880229776167\n"
     ]
    }
   ],
   "source": [
    "for ee in 1:1\n",
    "    h = 0\n",
    "    batch_order = randperm(58)\n",
    "    for tt in batch_order\n",
    "        ixs = (256*(tt-1)+1):min(256*tt, N)\n",
    "        _cY, _cU, _cUL = cYs[:,ixs[2:end]], cUT[:, ixs[1:end-1]], cUList[ixs[1:end-1]]\n",
    "        ŷ = D*_cU .+ ffnn.layers[2].b\n",
    "        obj = mean(x->x^2, _cY - ŷ)\n",
    "        h += obj.data\n",
    "    end\n",
    "    println(sqrt(h/length(batch_order)))\n",
    "end"
   ]
  }
 ],
 "metadata": {
  "@webio": {
   "lastCommId": null,
   "lastKernelId": null
  },
  "kernelspec": {
   "display_name": "Julia 1.1.0",
   "language": "julia",
   "name": "julia-1.1"
  },
  "language_info": {
   "file_extension": ".jl",
   "mimetype": "application/julia",
   "name": "julia",
   "version": "1.1.0"
  }
 },
 "nbformat": 4,
 "nbformat_minor": 2
}
