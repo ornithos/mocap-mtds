{
 "cells": [
  {
   "cell_type": "markdown",
   "metadata": {},
   "source": [
    "# Mocap Data Pre-processing"
   ]
  },
  {
   "cell_type": "code",
   "execution_count": 1411,
   "metadata": {},
   "outputs": [],
   "source": [
    "using LinearAlgebra, Random\n",
    "using StatsBase, Statistics\n",
    "using Distributions, MultivariateStats   # Categorical, PCA\n",
    "using Quaternions    # For manipulating 3D Geometry\n",
    "using MeshCat        # For web visualisation / animation\n",
    "using PyPlot         # Plotting\n",
    "using AxUtil, Flux   # Optimisation\n",
    "\n",
    "# small utils libraries\n",
    "using ProgressMeter, Formatting, ArgCheck\n",
    "using DelimitedFiles, NPZ, BSON"
   ]
  },
  {
   "cell_type": "code",
   "execution_count": 2,
   "metadata": {},
   "outputs": [],
   "source": [
    "DIR_MOCAP_MTDS = \".\" #\"\"\"../../../mocap-mtds/\";   # different cos I'm in dev folder\n",
    "\n",
    "# Data loading and transformation utils\n",
    "include(joinpath(DIR_MOCAP_MTDS, \"io.jl\"))\n",
    "\n",
    "# MeshCat skeleton visualisation tools\n",
    "include(joinpath(DIR_MOCAP_MTDS, \"mocap_viz.jl\"))"
   ]
  },
  {
   "cell_type": "code",
   "execution_count": 3,
   "metadata": {},
   "outputs": [],
   "source": [
    "cmu_loco = readdlm(\"../data/mocap/cmu/cmu_locomotion_lkp.txt\", '\\t')[:,1];\n",
    "database = \"../data/mocap/holden/cmu\"\n",
    "files_cmu = [joinpath(database, f * \".bvh\") for f in cmu_loco]\n",
    "files_cmu = collect(filter(x-> isfile(x) && x !== \"rest.bvh\", files_cmu));\n",
    "\n",
    "database = \"../data/mocap/edin-style-transfer/\"\n",
    "files_edin = [joinpath(database, f) for f in readdir(database)];"
   ]
  },
  {
   "cell_type": "markdown",
   "metadata": {},
   "source": [
    "### Read in example data"
   ]
  },
  {
   "cell_type": "code",
   "execution_count": 191,
   "metadata": {},
   "outputs": [],
   "source": [
    "proc = mocapio.process_file(files_cmu[40]);   \n",
    "# 54 = PACING/STOP, 40 = BACKWARD, 115=TRIUMPHANT, 190=TWISTY, not 198 (JUMP)!"
   ]
  },
  {
   "cell_type": "code",
   "execution_count": 347,
   "metadata": {},
   "outputs": [],
   "source": [
    "include(joinpath(DIR_MOCAP_MTDS, \"io.jl\"))"
   ]
  },
  {
   "cell_type": "code",
   "execution_count": 571,
   "metadata": {},
   "outputs": [],
   "source": [
    "fps = 60"
   ]
  },
  {
   "cell_type": "code",
   "execution_count": 1413,
   "metadata": {},
   "outputs": [],
   "source": [
    "proc = mocapio.process_file(files_edin[2], fps=fps);   "
   ]
  },
  {
   "cell_type": "code",
   "execution_count": 1414,
   "metadata": {},
   "outputs": [],
   "source": [
    "yy = mocapio.construct_outputs(proc, fps=fps);"
   ]
  },
  {
   "cell_type": "code",
   "execution_count": 1415,
   "metadata": {},
   "outputs": [],
   "source": [
    "u = mocapio.construct_inputs(proc; joint_pos=true, fps=fps, direction=:relative)"
   ]
  },
  {
   "cell_type": "code",
   "execution_count": 1416,
   "metadata": {},
   "outputs": [],
   "source": [
    "ii = 1"
   ]
  },
  {
   "cell_type": "code",
   "execution_count": 1431,
   "metadata": {},
   "outputs": [],
   "source": [
    "@showprogress for (_i, ii) in enumerate(range(1,stop=size(u,1), step=2))\n",
    "    PyPlot.cla()\n",
    "    tmp_new = hcat(u[ii,1:12], u[ii,13:24])\n",
    "    plot(tmp_new[:,1], tmp_new[:,2])\n",
    "    scatter(0,0)\n",
    "    # arrow(0,0, diff(tmp_new[7:8,1])[1], diff(tmp_new[7:8,2])[1], width=.2)\n",
    "    for j in 1:11\n",
    "        dirΔ = [tmp_new[j+1,1] - tmp_new[j,1], tmp_new[j+1,2] - tmp_new[j,2]]\n",
    "        dirΔ /= sqrt(sum(z->z^2, dirΔ))\n",
    "        std_cθ, std_sθ = add_angle(u[ii,24+j], u[ii,36+j], 0, -1)\n",
    "        cθ, sθ = add_angle(dirΔ[1], dirΔ[2], std_cθ, -std_sθ)\n",
    "        @assert isapprox(reim(complex(0, 1) * complex(u[ii,24+j], -u[ii,36+j]) * complex(dirΔ[1], dirΔ[2])) |> collect, \n",
    "            [cθ, sθ])\n",
    "        arrow(tmp_new[j,1],tmp_new[j,2], cθ, sθ, width=.05)\n",
    "    end\n",
    "\n",
    "#     _tmp_dir = reim(-complex(1, 0) *complex(u[ii,24+8], -u[ii,36+8]) )  # u[34+ii,8], u[34+ii,12+8]\n",
    "#     @assert isapprox(collect(_tmp_dir), [-u[ii,24+8], u[ii,36+8]])\n",
    "#     arrow(0, 0, _tmp_dir[1],_tmp_dir[2], width=0.2/sqrt(sum(diff([gca().get_xlim()...]))), \n",
    "#     color=ColorMap(\"tab10\")(1))\n",
    "#     plot(zeros(2), [-u[ii,36+8], u[ii,36+8]]*1.5, color=\"k\", linewidth=0.4)\n",
    "\n",
    "    gca().set_xlim(-20, 20)\n",
    "    # gca().set_ylim(-15, 15)\n",
    "    gca().set_aspect(\"equal\")\n",
    "    savefig(format(\"img/traj_{:03d}.png\", _i))\n",
    "end"
   ]
  },
  {
   "cell_type": "code",
   "execution_count": null,
   "metadata": {},
   "outputs": [],
   "source": [
    "extract_reim(x)"
   ]
  },
  {
   "cell_type": "code",
   "execution_count": 1213,
   "metadata": {},
   "outputs": [],
   "source": [
    "complex(0,1.0)"
   ]
  },
  {
   "cell_type": "code",
   "execution_count": 1151,
   "metadata": {},
   "outputs": [],
   "source": [
    "plot(atan.(u[ii-50:ii+50, 24+7], u[ii-50:ii+50, 36+7]))\n",
    "gcf().set_size_inches(3,2)"
   ]
  },
  {
   "cell_type": "markdown",
   "metadata": {},
   "source": [
    "## Getting ready for training"
   ]
  },
  {
   "cell_type": "code",
   "execution_count": 1410,
   "metadata": {},
   "outputs": [],
   "source": [
    "# Load data from raw BVH files (1-2 mins), or load a saved version\n",
    "DATA_FROM_SAVED = false\n",
    "fps = 30\n",
    "\n",
    "if DATA_FROM_SAVED\n",
    "    Xs = BSON.load(\"edin_Xs.bson\")[:Xs];\n",
    "    Ys = BSON.load(\"edin_Ys.bson\")[:Ys];\n",
    "else\n",
    "    proc_files = map(files_edin) do f\n",
    "        mocapio.process_file(f, fps=fps);\n",
    "    end;\n",
    "    println(\"loaded files...\"); flush(stdout)\n",
    "    Xs = map(proc_files) do proc\n",
    "        convert(Matrix{Float32}, mocapio.construct_inputs(proc; joint_pos=true, fps=fps))\n",
    "    end;\n",
    "    println(\"Xs finished processing...\"); flush(stdout)\n",
    "    Ys = map(proc_files) do proc\n",
    "        convert(Matrix{Float32}, \n",
    "            mocapio.construct_outputs(proc; include_ftcontact=false, fps=fps))\n",
    "    end;\n",
    "    println(\"Ys finished processing...\"); \n",
    "    \n",
    "    println(\"Do you want to save? (y/n)\")\n",
    "    \n",
    "    for i = 1:10\n",
    "        userinput = uppercase(chomp(readline()))[1]\n",
    "        if userinput == 'Y'\n",
    "            println(\"SAVING...\"); flush(stdout)\n",
    "            BSON.bson(\"edin_Xs_30fps.bson\", Xs=Xs)\n",
    "            BSON.bson(\"edin_Ys_30fps.bson\", Ys=Ys)\n",
    "            break\n",
    "        elseif userinput == 'N'\n",
    "            break\n",
    "        end\n",
    "    end\n",
    "end;\n",
    "\n",
    "Ysraw = Ys\n",
    "Xsraw = Xs;"
   ]
  },
  {
   "cell_type": "code",
   "execution_count": 127,
   "metadata": {},
   "outputs": [],
   "source": [
    "if !(@isdefined vis) \n",
    "    # Create a new visualizer instance (MeshCat.jl)\n",
    "    vis = Visualizer()\n",
    "    open(vis)\n",
    "end\n",
    "vis = mocapviz.create_animation([mocapio.reconstruct_modelled(Ysraw[1])[1:200,:,:]], \n",
    "    \"test\"; vis=vis, linemesh=mocapviz.yellowmesh, camera=:back)"
   ]
  },
  {
   "cell_type": "markdown",
   "metadata": {},
   "source": [
    "### Need to standardize inputs and outputs\n",
    "\n",
    "`MLPreprocessing.jl` contains something like a port of `StandardScaler` from `sklearn`. However, as of 18/05/2019 it appears to be essentially broken, and given its broad generality to lots of array types, I don't want to get into this whole thing. So I'm just going to do define something myself."
   ]
  },
  {
   "cell_type": "code",
   "execution_count": 9,
   "metadata": {},
   "outputs": [],
   "source": [
    "?MyStandardScaler"
   ]
  },
  {
   "cell_type": "code",
   "execution_count": 5,
   "metadata": {},
   "outputs": [],
   "source": [
    "include(joinpath(DIR_MOCAP_MTDS, \"util.jl\"))\n",
    "import .mocaputil: MyStandardScaler, scale_transform\n",
    "# const scale_transform = mocaputil.transform"
   ]
  },
  {
   "cell_type": "code",
   "execution_count": 6,
   "metadata": {},
   "outputs": [],
   "source": [
    "standardize_Y = fit(MyStandardScaler, reduce(vcat, Ysraw),  1)\n",
    "standardize_X = fit(MyStandardScaler, reduce(vcat, Xsraw),  1)\n",
    "\n",
    "Ys = [scale_transform(standardize_Y, y) for y in Ysraw];\n",
    "Xs = [scale_transform(standardize_X, x) for x in Xsraw];"
   ]
  },
  {
   "cell_type": "markdown",
   "metadata": {},
   "source": [
    "note that we can reconstruct the original data via the command:\n",
    "\n",
    "    invert(standardize_Y, y)\n",
    "    invert(standardize_X, x)\n",
    "    \n",
    "in the relevant array comprehensions."
   ]
  },
  {
   "cell_type": "markdown",
   "metadata": {},
   "source": [
    "### It is worth checking to see if it makes sense to scale everything\n",
    "As shown in the input/output columns below, there is nothing that appears problematic in doing this"
   ]
  },
  {
   "cell_type": "code",
   "execution_count": 12,
   "metadata": {},
   "outputs": [],
   "source": [
    "?mocapio.construct_inputs"
   ]
  },
  {
   "cell_type": "code",
   "execution_count": 10,
   "metadata": {},
   "outputs": [],
   "source": [
    "?mocapio.construct_outputs"
   ]
  },
  {
   "cell_type": "code",
   "execution_count": 140,
   "metadata": {},
   "outputs": [],
   "source": [
    "Ys[1][:,65:end]"
   ]
  },
  {
   "cell_type": "code",
   "execution_count": 167,
   "metadata": {},
   "outputs": [],
   "source": [
    "?mocaputil.MyStandardScalar"
   ]
  },
  {
   "cell_type": "code",
   "execution_count": 159,
   "metadata": {},
   "outputs": [],
   "source": [
    "mutable struct OutputDifferencer{T}\n",
    "    first_frame::Array{T, 1}\n",
    "    operate_on::AbstractArray{L where L <: Int,1}\n",
    "end\n",
    "\n",
    "Base.length(s::OutputDifferencer) = length(s.first_frame, 1)\n",
    "Base.copy(s::OutputDifferencer) = OutputDifferencer(copy(s.first_frame), copy(s.operate_on))\n",
    "\n",
    "function StatsBase.fit(::Type{OutputDifferencer}, Y)\n",
    "    @argcheck size(Y, 2) in [64, 68]\n",
    "    return OutputDifferencer(Y[1,:], 4:64)\n",
    "end\n",
    "\n",
    "function difference_transform(s::OutputDifferencer, Y)\n",
    "    @assert Y[1,:] == s.first_frame\n",
    "    return hcat(Y[2:end,1:(s.operate_on[1] - 1)], \n",
    "        diff(Y[:,s.operate_on], dims=1),\n",
    "        Y[2:end,(s.operate_on[end] + 1):end])\n",
    "end\n",
    "\n",
    "function fit_transform(::Type{OutputDifferencer}, Y)\n",
    "    s = fit(OutputDifferencer, Y)\n",
    "    return s, difference_transform(s, Y)\n",
    "end\n",
    "\n",
    "function invert(s::OutputDifferencer, Y)\n",
    "    tr_first = reshape(s.first_frame, 1, :)\n",
    "    inv = cumsum(vcat(tr_first[:,s.operate_on], Y[:,s.operate_on]), dims=1)\n",
    "    return vcat(tr_first,\n",
    "                hcat(Y[:,1:(s.operate_on[1] - 1)], \n",
    "                    inv[2:end,:],\n",
    "                    Y[:,(s.operate_on[end] + 1):end])\n",
    "                )\n",
    "end"
   ]
  },
  {
   "cell_type": "code",
   "execution_count": 144,
   "metadata": {},
   "outputs": [],
   "source": [
    "s, Ydiff = fit_transform(OutputDifferencer, Ys[1])"
   ]
  },
  {
   "cell_type": "code",
   "execution_count": 149,
   "metadata": {},
   "outputs": [],
   "source": [
    "imshow(Ys[1][1:200,:]); gca().set_aspect(\"auto\")"
   ]
  },
  {
   "cell_type": "code",
   "execution_count": 166,
   "metadata": {},
   "outputs": [],
   "source": [
    "all(isapprox.(invert(s, Ydiff), Ys[1], atol=1e-5))"
   ]
  },
  {
   "cell_type": "markdown",
   "metadata": {},
   "source": [
    "## Last checks with visualisation\n",
    "\n",
    "In order to visualise the *direction* of ±60 frames, we have to essentially perform FK since these directions are all relative to the forward direction at the current location. I've done this using fairly vanilla trigonometric functions below as my knowledge of quaternions and manipulating 3D graphics is not as good as it could be."
   ]
  },
  {
   "cell_type": "code",
   "execution_count": 161,
   "metadata": {},
   "outputs": [],
   "source": [
    "function angle_to_z_axis(v)\n",
    "    cθ, sθ = mocapio._trigvecs(reshape(v, 1, 2), reshape([0f0 1f0], 1, 2))\n",
    "    atan(-sθ[1], cθ[1])\n",
    "end\n",
    "rotationm(θ) = [cos(θ) sin(θ); -sin(θ) cos(θ)]\n",
    "\n",
    "function add_angle(c1, s1, c2, s2)\n",
    "    θ₁, θ₂ = atan(s1,c1), atan(s2, c2)\n",
    "    return cos(θ₁ + θ₂), sin(θ₁ + θ₂)\n",
    "end"
   ]
  },
  {
   "cell_type": "code",
   "execution_count": 1203,
   "metadata": {},
   "outputs": [],
   "source": [
    "Complex(-1/sqrt(2), -1/sqrt(2)) * Complex(+1/sqrt(2), -1/sqrt(2)+0.05)"
   ]
  },
  {
   "cell_type": "code",
   "execution_count": null,
   "metadata": {},
   "outputs": [],
   "source": [
    "atan()"
   ]
  },
  {
   "cell_type": "code",
   "execution_count": 1190,
   "metadata": {},
   "outputs": [],
   "source": [
    "methods(angle)"
   ]
  },
  {
   "cell_type": "code",
   "execution_count": null,
   "metadata": {},
   "outputs": [],
   "source": [
    "mutable struct MyAngle\n",
    "    "
   ]
  },
  {
   "cell_type": "code",
   "execution_count": 114,
   "metadata": {},
   "outputs": [],
   "source": [
    "ii = 436"
   ]
  },
  {
   "cell_type": "code",
   "execution_count": 112,
   "metadata": {},
   "outputs": [],
   "source": [
    "plot(atan.(Xsraw[4][ii-50:ii+50, 24+7], Xsraw[4][ii-50:ii+50, 36+7]))\n",
    "gcf().set_size_inches(3,2)"
   ]
  },
  {
   "cell_type": "code",
   "execution_count": 1205,
   "metadata": {},
   "outputs": [],
   "source": [
    "angle(Complex(0, -1))"
   ]
  },
  {
   "cell_type": "code",
   "execution_count": 116,
   "metadata": {},
   "outputs": [],
   "source": [
    "tmp_new = hcat(Xsraw[4][ii,1:12], Xsraw[4][ii,13:24])\n",
    "plot(tmp_new[:,1], tmp_new[:,2])\n",
    "scatter(0,0)\n",
    "arrow(0,0, diff(tmp_new[7:8,1])[1], diff(tmp_new[7:8,2])[1], width=.2)\n",
    "for j in 1:11\n",
    "    dirΔ = [tmp_new[j+1,1] - tmp_new[j,1], tmp_new[j+1,2] - tmp_new[j,2]]\n",
    "    dirΔ /= sqrt(sum(z->z^2, dirΔ))\n",
    "    cθ, sθ = Complex(0, -1) * Complex(Xsraw[4][ii,24+j], Xsraw[4][ii,36+j]) * Complex(dirΔ[1], dirΔ[2])\n",
    "    \n",
    "#     std_cθ, std_sθ = add_angle(Xsraw[4][ii,24+j], Xsraw[4][ii,36+j], 0, -1)\n",
    "#     cθ, sθ = add_angle(dirΔ[1], dirΔ[2], std_cθ, -std_sθ)\n",
    "    arrow(tmp_new[j,1],tmp_new[j,2], cθ, sθ, width=.05)\n",
    "end\n",
    "gca().set_aspect(\"equal\")\n",
    "# ii += 5"
   ]
  },
  {
   "cell_type": "code",
   "execution_count": 108,
   "metadata": {},
   "outputs": [],
   "source": [
    "if !(@isdefined vis) \n",
    "    # Create a new visualizer instance (MeshCat.jl)\n",
    "    vis = Visualizer()\n",
    "    open(vis)\n",
    "end\n",
    "vis = mocapviz.create_animation([mocapio.reconstruct_modelled(Ysraw[4])[300:550,:,:]], \n",
    "    \"test\"; vis=vis, linemesh=mocapviz.yellowmesh, camera=:back)"
   ]
  },
  {
   "cell_type": "markdown",
   "metadata": {},
   "source": [
    "## Everything looks good\n",
    "\n",
    "**Note** the input traces look slightly odd during sharp/stopping \"about\" turns as frequently the trajectory turns in the opposite direction to the body. Since the turning circle is so tight, it is probably not well defined which way the trajectory turns, and anchoring to the *actual position* of the root joint is a good a way as any. The point is that while it may look a little odd, the processing is doing the right thing, and the information will be available to the model."
   ]
  },
  {
   "cell_type": "markdown",
   "metadata": {},
   "source": [
    "## Look at principal components"
   ]
  },
  {
   "cell_type": "code",
   "execution_count": 218,
   "metadata": {},
   "outputs": [],
   "source": [
    "?mocapio.construct_inputs"
   ]
  },
  {
   "cell_type": "code",
   "execution_count": 121,
   "metadata": {},
   "outputs": [],
   "source": [
    "allE = reduce(vcat, Ys);\n",
    "allE = convert(Matrix{Float32}, allE);"
   ]
  },
  {
   "cell_type": "code",
   "execution_count": 124,
   "metadata": {},
   "outputs": [],
   "source": [
    "zsc(x, dims) = (x .- mean(x, dims=dims)) ./ std(x, dims=dims)\n",
    "\n",
    "pc_all = fit(PCA, zsc(allE[:,4:63], 1)', pratio=0.999)\n",
    "\n",
    "varexpl = cumsum(principalvars(pc_all))/tvar(pc_all)\n",
    "bd=findfirst.([varexpl .> x for x in [0.9,0.95,0.99]])\n",
    "plot(1:length(varexpl), varexpl)\n",
    "gca().axhline(1, linestyle=\":\")\n",
    "for b in bd\n",
    "    plot([b,b], [varexpl[1], varexpl[b]], color=ColorMap(\"tab10\")(7), linestyle=\":\")\n",
    "    plot([.5, b], [varexpl[b], varexpl[b]], color=ColorMap(\"tab10\")(7), linestyle=\":\")\n",
    "end\n",
    "gca().set_xlim(0.5,25.5); gca().set_ylim(varexpl[1],1.025);\n",
    "gcf().set_size_inches(3,2)"
   ]
  },
  {
   "cell_type": "markdown",
   "metadata": {},
   "source": [
    "#### Note\n",
    "This is different (worse, i.e. need more PCs) than the graph I showed to Chris. This is because I was in the Eulerian frame, where direction(s) of movement probably captured most of PCs. Removing these high variance directions, common to all joints makes it much harder."
   ]
  }
 ],
 "metadata": {
  "@webio": {
   "lastCommId": null,
   "lastKernelId": null
  },
  "kernelspec": {
   "display_name": "Julia 1.1.0",
   "language": "julia",
   "name": "julia-1.1"
  },
  "language_info": {
   "file_extension": ".jl",
   "mimetype": "application/julia",
   "name": "julia",
   "version": "1.1.0"
  }
 },
 "nbformat": 4,
 "nbformat_minor": 2
}
