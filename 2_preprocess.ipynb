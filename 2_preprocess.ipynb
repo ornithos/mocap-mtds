{
 "cells": [
  {
   "cell_type": "markdown",
   "metadata": {},
   "source": [
    "# Mocap Data Pre-processing"
   ]
  },
  {
   "cell_type": "code",
   "execution_count": 1,
   "metadata": {},
   "outputs": [
    {
     "data": {
      "text/html": [
       "<script>\n",
       "// Immediately-invoked-function-expression to avoid global variables.\n",
       "(function() {\n",
       "    var warning_div = document.getElementById(\"webio-warning-7978294144881602655\");\n",
       "    var hide = function () {\n",
       "        var script = document.getElementById(\"webio-setup-1680823702006992374\");\n",
       "        var parent = script && script.parentElement;\n",
       "        var grandparent = parent && parent.parentElement;\n",
       "        if (grandparent) {\n",
       "            grandparent.style.display = \"none\";\n",
       "        }\n",
       "        warning_div.style.display = \"none\";\n",
       "    };\n",
       "    if (typeof Jupyter !== \"undefined\") {\n",
       "        console.log(\"WebIO detected Jupyter notebook environment.\");\n",
       "        // Jupyter notebook.\n",
       "        var extensions = (\n",
       "            Jupyter\n",
       "            && Jupyter.notebook.config.data\n",
       "            && Jupyter.notebook.config.data.load_extensions\n",
       "        );\n",
       "        if (extensions && extensions[\"webio/main\"]) {\n",
       "            // Extension already loaded.\n",
       "            console.log(\"Jupyter WebIO nbextension detected; not loading ad-hoc.\");\n",
       "            hide();\n",
       "            return;\n",
       "        }\n",
       "        console.warn(\"Loading WebIO Jupyter extension on an ad-hoc basis. Consider enabling the WebIO nbextension for a stabler experience (this should happen automatically when building WebIO).\");\n",
       "        require([\"/assetserver/5794a0bf2e6325e42dc09c7369026176a04edd3e-dist/main.js\"], function (webIOModule) {\n",
       "            webIOModule.load_ipython_extension();\n",
       "        });\n",
       "        warning_div.innerHTML = \"<strong>Loading WebIO Jupyter extension on an ad-hoc basis. Consider enabling the WebIO nbextension for a stabler experience (this should happen automatically when building WebIO).</strong>\";\n",
       "    } else if (window.location.pathname.includes(\"/lab\")) {\n",
       "        // Guessing JupyterLa\n",
       "        console.log(\"Jupyter Lab detected; make sure the @webio/jupyter-lab-provider labextension is installed.\");\n",
       "        hide();\n",
       "        return;\n",
       "    }\n",
       "})();\n",
       "\n",
       "</script>\n",
       "<div\n",
       "    id=\"webio-warning-7978294144881602655\"\n",
       "    class=\"output_text output_stderr\"\n",
       "    style=\"padding: 1em; font-weight: bold;\"\n",
       ">\n",
       "    Unable to load WebIO. Please make sure WebIO works for your Jupyter client.\n",
       "    <!-- TODO: link to installation docs. -->\n",
       "</div>\n"
      ],
      "text/plain": [
       "HTML{String}(\"<script>\\n// Immediately-invoked-function-expression to avoid global variables.\\n(function() {\\n    var warning_div = document.getElementById(\\\"webio-warning-7978294144881602655\\\");\\n    var hide = function () {\\n        var script = document.getElementById(\\\"webio-setup-1680823702006992374\\\");\\n        var parent = script && script.parentElement;\\n        var grandparent = parent && parent.parentElement;\\n        if (grandparent) {\\n            grandparent.style.display = \\\"none\\\";\\n        }\\n        warning_div.style.display = \\\"none\\\";\\n    };\\n    if (typeof Jupyter !== \\\"undefined\\\") {\\n        console.log(\\\"WebIO detected Jupyter notebook environment.\\\");\\n        // Jupyter notebook.\\n        var extensions = (\\n            Jupyter\\n            && Jupyter.notebook.config.data\\n            && Jupyter.notebook.config.data.load_extensions\\n        );\\n        if (extensions && extensions[\\\"webio/main\\\"]) {\\n            // Extension already loaded.\\n            console.log(\\\"Jupyter WebIO nbextension detected; not loading ad-hoc.\\\");\\n            hide();\\n            return;\\n        }\\n        console.warn(\\\"Loading WebIO Jupyter extension on an ad-hoc basis. Consider enabling the WebIO nbextension for a stabler experience (this should happen automatically when building WebIO).\\\");\\n        require([\\\"/assetserver/5794a0bf2e6325e42dc09c7369026176a04edd3e-dist/main.js\\\"], function (webIOModule) {\\n            webIOModule.load_ipython_extension();\\n        });\\n        warning_div.innerHTML = \\\"<strong>Loading WebIO Jupyter extension on an ad-hoc basis. Consider enabling the WebIO nbextension for a stabler experience (this should happen automatically when building WebIO).</strong>\\\";\\n    } else if (window.location.pathname.includes(\\\"/lab\\\")) {\\n        // Guessing JupyterLa\\n        console.log(\\\"Jupyter Lab detected; make sure the @webio/jupyter-lab-provider labextension is installed.\\\");\\n        hide();\\n        return;\\n    }\\n})();\\n\\n</script>\\n<div\\n    id=\\\"webio-warning-7978294144881602655\\\"\\n    class=\\\"output_text output_stderr\\\"\\n    style=\\\"padding: 1em; font-weight: bold;\\\"\\n>\\n    Unable to load WebIO. Please make sure WebIO works for your Jupyter client.\\n    <!-- TODO: link to installation docs. -->\\n</div>\\n\")"
      ]
     },
     "metadata": {},
     "output_type": "display_data"
    }
   ],
   "source": [
    "using LinearAlgebra, Random\n",
    "using StatsBase, Statistics\n",
    "using Distributions, MultivariateStats   # Categorical, PCA\n",
    "using Quaternions    # For manipulating 3D Geometry\n",
    "using MeshCat        # For web visualisation / animation\n",
    "using PyPlot         # Plotting\n",
    "using AxUtil, Flux   # Optimisation\n",
    "\n",
    "# small utils libraries\n",
    "using ProgressMeter, Formatting, ArgCheck\n",
    "using DelimitedFiles, NPZ, BSON"
   ]
  },
  {
   "cell_type": "code",
   "execution_count": 2,
   "metadata": {},
   "outputs": [
    {
     "data": {
      "text/plain": [
       "Main.mocapviz"
      ]
     },
     "execution_count": 2,
     "metadata": {},
     "output_type": "execute_result"
    }
   ],
   "source": [
    "DIR_MOCAP_MTDS = \".\" #\"\"\"../../../mocap-mtds/\";   # different cos I'm in dev folder\n",
    "\n",
    "# Data loading and transformation utils\n",
    "include(joinpath(DIR_MOCAP_MTDS, \"io.jl\"))\n",
    "\n",
    "# MeshCat skeleton visualisation tools\n",
    "include(joinpath(DIR_MOCAP_MTDS, \"mocap_viz.jl\"))"
   ]
  },
  {
   "cell_type": "code",
   "execution_count": 3,
   "metadata": {},
   "outputs": [],
   "source": [
    "cmu_loco = readdlm(\"../data/mocap/cmu/cmu_locomotion_lkp.txt\", '\\t')[:,1];\n",
    "database = \"../data/mocap/holden/cmu\"\n",
    "files_cmu = [joinpath(database, f * \".bvh\") for f in cmu_loco]\n",
    "files_cmu = collect(filter(x-> isfile(x) && x !== \"rest.bvh\", files_cmu));\n",
    "\n",
    "database = \"../data/mocap/edin-style-transfer/\"\n",
    "files_edin = [joinpath(database, f) for f in readdir(database)];"
   ]
  },
  {
   "cell_type": "markdown",
   "metadata": {},
   "source": [
    "### Read in example data"
   ]
  },
  {
   "cell_type": "code",
   "execution_count": 191,
   "metadata": {},
   "outputs": [],
   "source": [
    "proc = mocapio.process_file(files_cmu[40]);   \n",
    "# 54 = PACING/STOP, 40 = BACKWARD, 115=TRIUMPHANT, 190=TWISTY, not 198 (JUMP)!"
   ]
  },
  {
   "cell_type": "markdown",
   "metadata": {},
   "source": [
    "## Getting ready for training"
   ]
  },
  {
   "cell_type": "code",
   "execution_count": 4,
   "metadata": {},
   "outputs": [],
   "source": [
    "# Load data from raw BVH files (1-2 mins), or load a saved version\n",
    "DATA_FROM_SAVED = true\n",
    "\n",
    "if DATA_FROM_SAVED\n",
    "    Xs = BSON.load(\"edin_Xs.bson\")[:Xs];\n",
    "    Ys = BSON.load(\"edin_Ys.bson\")[:Ys];\n",
    "else\n",
    "    Xs = map(files_edin) do f\n",
    "        proc = mocapio.process_file(f);\n",
    "        convert(Matrix{Float32}, mocapio.construct_inputs(proc))\n",
    "    end;\n",
    "    println(\"Xs finished processing...\")\n",
    "    Ys = map(files_edin) do f\n",
    "        proc = mocapio.process_file(f);\n",
    "        convert(Matrix{Float32}, \n",
    "            mocapio.construct_outputs(proc; include_ftcontact=false))\n",
    "    end;\n",
    "    println(\"Ys finished processing...\")\n",
    "    \n",
    "    println(\"Do you want to save? (y/n)\")\n",
    "    \n",
    "    for i = 1:10\n",
    "        userinput = uppercase(chomp(readline()))[1]\n",
    "        if userinput == 'Y'\n",
    "            println(\"SAVING...\")\n",
    "            BSON.bson(\"edin_Xs.bson\", Xs=Xs)\n",
    "            BSON.bson(\"edin_Ys.bson\", Ys=Ys)\n",
    "            break\n",
    "        elseif userinput == 'N'\n",
    "            break\n",
    "        end\n",
    "    end\n",
    "end;\n",
    "\n",
    "Ysraw = Ys\n",
    "Xsraw = Xs;"
   ]
  },
  {
   "cell_type": "code",
   "execution_count": 228,
   "metadata": {},
   "outputs": [
    {
     "data": {
      "text/plain": [
       "MeshCat Visualizer with path /meshcat"
      ]
     },
     "execution_count": 228,
     "metadata": {},
     "output_type": "execute_result"
    }
   ],
   "source": [
    "if !(@isdefined vis) \n",
    "    # Create a new visualizer instance (MeshCat.jl)\n",
    "    vis = Visualizer()\n",
    "    open(vis)\n",
    "end\n",
    "vis = mocapviz.create_animation([mocapio.reconstruct_modelled(Ysraw[7])[1:2000,:,:]], \n",
    "    \"test\"; vis=vis, linemesh=mocapviz.yellowmesh, camera=:back)"
   ]
  },
  {
   "cell_type": "markdown",
   "metadata": {},
   "source": [
    "### Need to standardize inputs and outputs\n",
    "\n",
    "`MLPreprocessing.jl` contains something like a port of `StandardScaler` from `sklearn`. However, as of 18/05/2019 it appears to be essentially broken, and given its broad generality to lots of array types, I don't want to get into this whole thing. So I'm just going to do define something myself."
   ]
  },
  {
   "cell_type": "code",
   "execution_count": 9,
   "metadata": {},
   "outputs": [
    {
     "name": "stdout",
     "output_type": "stream",
     "text": [
      "search: \u001b[0m\u001b[1mM\u001b[22m\u001b[0m\u001b[1my\u001b[22m\u001b[0m\u001b[1mS\u001b[22m\u001b[0m\u001b[1mt\u001b[22m\u001b[0m\u001b[1ma\u001b[22m\u001b[0m\u001b[1mn\u001b[22m\u001b[0m\u001b[1md\u001b[22m\u001b[0m\u001b[1ma\u001b[22m\u001b[0m\u001b[1mr\u001b[22m\u001b[0m\u001b[1md\u001b[22m\u001b[0m\u001b[1mS\u001b[22m\u001b[0m\u001b[1mc\u001b[22m\u001b[0m\u001b[1ma\u001b[22m\u001b[0m\u001b[1ml\u001b[22m\u001b[0m\u001b[1me\u001b[22m\u001b[0m\u001b[1mr\u001b[22m\n",
      "\n"
     ]
    },
    {
     "data": {
      "text/latex": [
       "\\begin{verbatim}\n",
       "fit(MyStandardScaler, X, dims)\n",
       "\\end{verbatim}\n",
       "Fit a standardisation to a matrix \\texttt{X} s.t. that the rows/columns have mean zero and standard deviation 1. This operation calculates the mean and standard deviation and outputs a MyStandardScalar object \\texttt{s} which allows this same standardisation to be fit to any matrix using \\texttt{transform(s, Y)} for some matrix \\texttt{Y}. Note that the input matrix \\texttt{X} is \\emph{not} transformed by this operation. Instead use the above \\texttt{transform} syntax on \\texttt{X}.\n",
       "\n",
       "Note a couple of addendums:\n",
       "\n",
       "\\begin{itemize}\n",
       "\\item[1. ] Any columns/rows with constant values will result in a standard deviation of 1.0, not 0. This is to avoid NaN errors from the transformation (and it is a natural choice).\n",
       "\n",
       "\n",
       "\\item[2. ] If only a subset of the rows/columns should be standardised, an additional argument of the indices may be given as:\n",
       "\n",
       "\\texttt{fit(MyStandardScaler, X, operate\\_on, dims)}\n",
       "\n",
       "The subset to operate upon will be maintained through all \\texttt{transform} and \\texttt{invert} operations.\n",
       "\n",
       "\\end{itemize}\n"
      ],
      "text/markdown": [
       "```\n",
       "fit(MyStandardScaler, X, dims)\n",
       "```\n",
       "\n",
       "Fit a standardisation to a matrix `X` s.t. that the rows/columns have mean zero and standard deviation 1. This operation calculates the mean and standard deviation and outputs a MyStandardScalar object `s` which allows this same standardisation to be fit to any matrix using `transform(s, Y)` for some matrix `Y`. Note that the input matrix `X` is *not* transformed by this operation. Instead use the above `transform` syntax on `X`.\n",
       "\n",
       "Note a couple of addendums:\n",
       "\n",
       "1. Any columns/rows with constant values will result in a standard deviation of 1.0, not 0. This is to avoid NaN errors from the transformation (and it is a natural choice).\n",
       "2. If only a subset of the rows/columns should be standardised, an additional argument of the indices may be given as:\n",
       "\n",
       "    `fit(MyStandardScaler, X, operate_on, dims)`\n",
       "\n",
       "    The subset to operate upon will be maintained through all `transform` and `invert` operations.\n"
      ],
      "text/plain": [
       "\u001b[36m  fit(MyStandardScaler, X, dims)\u001b[39m\n",
       "\n",
       "  Fit a standardisation to a matrix \u001b[36mX\u001b[39m s.t. that the rows/columns have mean\n",
       "  zero and standard deviation 1. This operation calculates the mean and\n",
       "  standard deviation and outputs a MyStandardScalar object \u001b[36ms\u001b[39m which allows this\n",
       "  same standardisation to be fit to any matrix using \u001b[36mtransform(s, Y)\u001b[39m for some\n",
       "  matrix \u001b[36mY\u001b[39m. Note that the input matrix \u001b[36mX\u001b[39m is \u001b[4mnot\u001b[24m transformed by this operation.\n",
       "  Instead use the above \u001b[36mtransform\u001b[39m syntax on \u001b[36mX\u001b[39m.\n",
       "\n",
       "  Note a couple of addendums:\n",
       "\n",
       "    1.   Any columns/rows with constant values will result in a standard\n",
       "        deviation of 1.0, not 0. This is to avoid NaN errors from the\n",
       "        transformation (and it is a natural choice).\n",
       "\n",
       "    2.   If only a subset of the rows/columns should be standardised, an\n",
       "        additional argument of the indices may be given as:\n",
       "      \n",
       "        \u001b[36mfit(MyStandardScaler, X, operate_on, dims)\u001b[39m\n",
       "      \n",
       "        The subset to operate upon will be maintained through all\n",
       "        \u001b[36mtransform\u001b[39m and \u001b[36minvert\u001b[39m operations."
      ]
     },
     "execution_count": 9,
     "metadata": {},
     "output_type": "execute_result"
    }
   ],
   "source": [
    "?MyStandardScaler"
   ]
  },
  {
   "cell_type": "code",
   "execution_count": 5,
   "metadata": {},
   "outputs": [],
   "source": [
    "include(joinpath(DIR_MOCAP_MTDS, \"util.jl\"))\n",
    "import .mocaputil: MyStandardScaler, scale_transform\n",
    "# const scale_transform = mocaputil.transform"
   ]
  },
  {
   "cell_type": "code",
   "execution_count": 6,
   "metadata": {},
   "outputs": [
    {
     "data": {
      "text/plain": [
       "MyStandardScaler{Float32}(Float32[0.0244091, 0.0203261, 0.0165927, 0.013029, 0.00898527, 0.00460524, 0.0, -0.00476729, -0.00954481, -0.0142216  …  0.44532, -4.23134, 16.7331, 0.324697, -4.19771, 14.7953, 2.14156, -4.12908, 14.538, 2.46243], Float32[9.02737, 7.75785, 6.37511, 4.89175, 3.32386, 1.69097, 1.0, 1.6913, 3.32574, 4.89559  …  1.22956, 0.747951, 1.30283, 1.77589, 1.52968, 2.48085, 2.50114, 1.69468, 2.74355, 2.65342], [1, 2, 3, 4, 5, 6, 7, 8, 9, 10  …  112, 113, 114, 115, 116, 117, 118, 119, 120, 121], 1)"
      ]
     },
     "execution_count": 6,
     "metadata": {},
     "output_type": "execute_result"
    }
   ],
   "source": [
    "standardize_Y = fit(MyStandardScaler, reduce(vcat, Ysraw),  1)\n",
    "standardize_X = fit(MyStandardScaler, reduce(vcat, Xsraw),  1)\n",
    "\n",
    "Ys = [scale_transform(standardize_Y, y) for y in Ysraw];\n",
    "Xs = [scale_transform(standardize_X, x) for x in Xsraw];"
   ]
  },
  {
   "cell_type": "markdown",
   "metadata": {},
   "source": [
    "note that we can reconstruct the original data via the command:\n",
    "\n",
    "    invert(standardize_Y, y)\n",
    "    invert(standardize_X, x)\n",
    "    \n",
    "in the relevant array comprehensions."
   ]
  },
  {
   "cell_type": "markdown",
   "metadata": {},
   "source": [
    "### It is worth checking to see if it makes sense to scale everything\n",
    "As shown in the input/output columns below, there is nothing that appears problematic in doing this"
   ]
  },
  {
   "cell_type": "code",
   "execution_count": 12,
   "metadata": {},
   "outputs": [
    {
     "data": {
      "text/latex": [
       "\\begin{verbatim}\n",
       "construct_inputs(raw [; direction])\n",
       "\\end{verbatim}\n",
       "Construct the input matrix for the mocap models. The input \\texttt{raw} is the raw output from the \\texttt{process\\_file} function. The function outputs the following matrix, which contains only the range of frames: \\href{i.e.}{start+69, end-60} excluding approx. the first and last second. This is in order to construct trajectories that extend ± 60 frames of the current position. (The additional is due to needing a bit extra to calculate velocity, plus some historical baggage.) Note also that the trajectory is centered at every frame at the current position and hence \\texttt{(trajectory\\_x(7), trajectory\\_z(7)) == (0.0, 0.0)}.\n",
       "\n",
       "The following columns are contained in the matrix:\n",
       "\n",
       "\\begin{itemize}\n",
       "\\item (12): ± 60 frame trajectory x-cood at step 10 intervals\n",
       "\n",
       "\n",
       "\\item (12): ± 60 frame trajectory z-cood at step 10 intervals\n",
       "\n",
       "\n",
       "\\item (12): ± 60 frame trajectory angle sin(θ) to forward\n",
       "\n",
       "\n",
       "\\item (12): ± 60 frame trajectory angle cos(θ) to forward\n",
       "\n",
       "\n",
       "\\item (12): ± 60 frame trajectory magnitude of velocity\n",
       "\n",
       "\n",
       "\\item (61): joint positions in Lagrangian frame\n",
       "\n",
       "\\end{itemize}\n",
       "The angle θ is expressed in both sine and cosine components to avoid a discontinuity when it wraps around 2π (which it sometimes does). This angle is Lagrangian in nature too: that is, θ = 0 when the skeleton is facing in exactly the same direction as it is walking (i.e. the direction of the velocity). One might prefer a Eulerian (absolute) representation instead, in which case, pass in the named argument \\texttt{direction=:absolute}.\n",
       "\n",
       "Note that there are only 61 dimensions of the joint positions as the root x,z are excluded, as they are always zero. They're excluded from the output too, which is more important: we don't want to waste strength on predicting zero.\n",
       "\n"
      ],
      "text/markdown": [
       "```\n",
       "construct_inputs(raw [; direction])\n",
       "```\n",
       "\n",
       "Construct the input matrix for the mocap models. The input `raw` is the raw output from the `process_file` function. The function outputs the following matrix, which contains only the range of frames: [start+69, end-60](i.e.) excluding approx. the first and last second. This is in order to construct trajectories that extend ± 60 frames of the current position. (The additional is due to needing a bit extra to calculate velocity, plus some historical baggage.) Note also that the trajectory is centered at every frame at the current position and hence `(trajectory_x(7), trajectory_z(7)) == (0.0, 0.0)`.\n",
       "\n",
       "The following columns are contained in the matrix:\n",
       "\n",
       "  * (12): ± 60 frame trajectory x-cood at step 10 intervals\n",
       "  * (12): ± 60 frame trajectory z-cood at step 10 intervals\n",
       "  * (12): ± 60 frame trajectory angle sin(θ) to forward\n",
       "  * (12): ± 60 frame trajectory angle cos(θ) to forward\n",
       "  * (12): ± 60 frame trajectory magnitude of velocity\n",
       "  * (61): joint positions in Lagrangian frame\n",
       "\n",
       "The angle θ is expressed in both sine and cosine components to avoid a discontinuity when it wraps around 2π (which it sometimes does). This angle is Lagrangian in nature too: that is, θ = 0 when the skeleton is facing in exactly the same direction as it is walking (i.e. the direction of the velocity). One might prefer a Eulerian (absolute) representation instead, in which case, pass in the named argument `direction=:absolute`.\n",
       "\n",
       "Note that there are only 61 dimensions of the joint positions as the root x,z are excluded, as they are always zero. They're excluded from the output too, which is more important: we don't want to waste strength on predicting zero.\n"
      ],
      "text/plain": [
       "\u001b[36m  construct_inputs(raw [; direction])\u001b[39m\n",
       "\n",
       "  Construct the input matrix for the mocap models. The input \u001b[36mraw\u001b[39m is the raw\n",
       "  output from the \u001b[36mprocess_file\u001b[39m function. The function outputs the following\n",
       "  matrix, which contains only the range of frames: start+69, end-60 (i.e.)\n",
       "  excluding approx. the first and last second. This is in order to construct\n",
       "  trajectories that extend ± 60 frames of the current position. (The\n",
       "  additional is due to needing a bit extra to calculate velocity, plus some\n",
       "  historical baggage.) Note also that the trajectory is centered at every\n",
       "  frame at the current position and hence \u001b[36m(trajectory_x(7), trajectory_z(7))\n",
       "  == (0.0, 0.0)\u001b[39m.\n",
       "\n",
       "  The following columns are contained in the matrix:\n",
       "\n",
       "    •    (12): ± 60 frame trajectory x-cood at step 10 intervals\n",
       "\n",
       "    •    (12): ± 60 frame trajectory z-cood at step 10 intervals\n",
       "\n",
       "    •    (12): ± 60 frame trajectory angle sin(θ) to forward\n",
       "\n",
       "    •    (12): ± 60 frame trajectory angle cos(θ) to forward\n",
       "\n",
       "    •    (12): ± 60 frame trajectory magnitude of velocity\n",
       "\n",
       "    •    (61): joint positions in Lagrangian frame\n",
       "\n",
       "  The angle θ is expressed in both sine and cosine components to avoid a\n",
       "  discontinuity when it wraps around 2π (which it sometimes does). This angle\n",
       "  is Lagrangian in nature too: that is, θ = 0 when the skeleton is facing in\n",
       "  exactly the same direction as it is walking (i.e. the direction of the\n",
       "  velocity). One might prefer a Eulerian (absolute) representation instead, in\n",
       "  which case, pass in the named argument \u001b[36mdirection=:absolute\u001b[39m.\n",
       "\n",
       "  Note that there are only 61 dimensions of the joint positions as the root\n",
       "  x,z are excluded, as they are always zero. They're excluded from the output\n",
       "  too, which is more important: we don't want to waste strength on predicting\n",
       "  zero."
      ]
     },
     "execution_count": 12,
     "metadata": {},
     "output_type": "execute_result"
    }
   ],
   "source": [
    "?mocapio.construct_inputs"
   ]
  },
  {
   "cell_type": "code",
   "execution_count": 10,
   "metadata": {},
   "outputs": [
    {
     "data": {
      "text/latex": [
       "\\begin{verbatim}\n",
       "construct_outputs(raw [; include_ftcontact])\n",
       "\\end{verbatim}\n",
       "Construct the output matrix for the mocap models. The input \\texttt{raw} is the raw output from the \\texttt{process\\_file} function. The function outputs the following matrix, which contains only the range of frames: \\href{i.e.}{start+69, end-60} excluding approx. the first and last second. This is in order to match with the input matrix which needs these boundaries in order to construct trajectories consistently. This function outputs a matrix with the following columns:\n",
       "\n",
       "\\begin{itemize}\n",
       "\\item (3): rotational velocity, x-velocity, z-velocity\n",
       "\n",
       "\n",
       "\\item (61): (Lagrangian) joint positions (excl. root x/z ∵ always zero)\n",
       "\n",
       "\n",
       "\\item (4): [optional] feet contacts\n",
       "\n",
       "\\end{itemize}\n",
       "These are the minimal requirements to reconstruct an animation of human motion on the target skeleton. The feet contacts are in \\{0,1\\} and may be challenging for some linear models, therefore they are optional (see named argument     \\texttt{include\\_ftcontact} (Bool)).\n",
       "\n"
      ],
      "text/markdown": [
       "```\n",
       "construct_outputs(raw [; include_ftcontact])\n",
       "```\n",
       "\n",
       "Construct the output matrix for the mocap models. The input `raw` is the raw output from the `process_file` function. The function outputs the following matrix, which contains only the range of frames: [start+69, end-60](i.e.) excluding approx. the first and last second. This is in order to match with the input matrix which needs these boundaries in order to construct trajectories consistently. This function outputs a matrix with the following columns:\n",
       "\n",
       "  * (3): rotational velocity, x-velocity, z-velocity\n",
       "  * (61): (Lagrangian) joint positions (excl. root x/z ∵ always zero)\n",
       "  * (4): [optional] feet contacts\n",
       "\n",
       "These are the minimal requirements to reconstruct an animation of human motion on the target skeleton. The feet contacts are in {0,1} and may be challenging for some linear models, therefore they are optional (see named argument     `include_ftcontact` (Bool)).\n"
      ],
      "text/plain": [
       "\u001b[36m  construct_outputs(raw [; include_ftcontact])\u001b[39m\n",
       "\n",
       "  Construct the output matrix for the mocap models. The input \u001b[36mraw\u001b[39m is the raw\n",
       "  output from the \u001b[36mprocess_file\u001b[39m function. The function outputs the following\n",
       "  matrix, which contains only the range of frames: start+69, end-60 (i.e.)\n",
       "  excluding approx. the first and last second. This is in order to match with\n",
       "  the input matrix which needs these boundaries in order to construct\n",
       "  trajectories consistently. This function outputs a matrix with the following\n",
       "  columns:\n",
       "\n",
       "    •    (3): rotational velocity, x-velocity, z-velocity\n",
       "\n",
       "    •    (61): (Lagrangian) joint positions (excl. root x/z ∵ always zero)\n",
       "\n",
       "    •    (4): [optional] feet contacts\n",
       "\n",
       "  These are the minimal requirements to reconstruct an animation of human\n",
       "  motion on the target skeleton. The feet contacts are in {0,1} and may be\n",
       "  challenging for some linear models, therefore they are optional (see named\n",
       "  argument \u001b[36minclude_ftcontact\u001b[39m (Bool))."
      ]
     },
     "execution_count": 10,
     "metadata": {},
     "output_type": "execute_result"
    }
   ],
   "source": [
    "?mocapio.construct_outputs"
   ]
  },
  {
   "cell_type": "markdown",
   "metadata": {},
   "source": [
    "## Last checks with visualisation\n",
    "\n",
    "In order to visualise the *direction* of ±60 frames, we have to essentially perform FK since these directions are all relative to the forward direction at the current location. I've done this using fairly vanilla trigonometric functions below as my knowledge of quaternions and manipulating 3D graphics is not as good as it could be."
   ]
  },
  {
   "cell_type": "code",
   "execution_count": 15,
   "metadata": {},
   "outputs": [
    {
     "data": {
      "text/plain": [
       "add_angle (generic function with 1 method)"
      ]
     },
     "execution_count": 15,
     "metadata": {},
     "output_type": "execute_result"
    }
   ],
   "source": [
    "function angle_to_z_axis(v)\n",
    "    cθ, sθ = mocapio._trigvecs(reshape(v, 1, 2), reshape([0f0 1f0], 1, 2))\n",
    "    atan(-sθ[1], cθ[1])\n",
    "end\n",
    "rotationm(θ) = [cos(θ) sin(θ); -sin(θ) cos(θ)]\n",
    "\n",
    "function add_angle(c1, s1, c2, s2)\n",
    "    θ₁, θ₂ = atan(s1,c1), atan(s2, c2)\n",
    "    return cos(θ₁ + θ₂), sin(θ₁ + θ₂)\n",
    "end"
   ]
  },
  {
   "cell_type": "code",
   "execution_count": 114,
   "metadata": {},
   "outputs": [
    {
     "data": {
      "text/plain": [
       "436"
      ]
     },
     "execution_count": 114,
     "metadata": {},
     "output_type": "execute_result"
    }
   ],
   "source": [
    "ii = 436"
   ]
  },
  {
   "cell_type": "code",
   "execution_count": 112,
   "metadata": {},
   "outputs": [
    {
     "data": {
      "image/png": "[encoded data removed]",
      "text/plain": [
       "Figure(PyObject <Figure size 300x200 with 1 Axes>)"
      ]
     },
     "metadata": {},
     "output_type": "display_data"
    }
   ],
   "source": [
    "plot(atan.(Xsraw[4][ii-50:ii+50, 24+7], Xsraw[4][ii-50:ii+50, 36+7]))\n",
    "gcf().set_size_inches(3,2)"
   ]
  },
  {
   "cell_type": "code",
   "execution_count": 116,
   "metadata": {},
   "outputs": [
    {
     "data": {
      "image/png": "[encoded data removed]",
      "text/plain": [
       "Figure(PyObject <Figure size 640x480 with 1 Axes>)"
      ]
     },
     "metadata": {},
     "output_type": "display_data"
    }
   ],
   "source": [
    "tmp_new = hcat(Xsraw[4][ii,1:12], Xsraw[4][ii,13:24])\n",
    "plot(tmp_new[:,1], tmp_new[:,2])\n",
    "scatter(0,0)\n",
    "arrow(0,0, diff(tmp_new[7:8,1])[1], diff(tmp_new[7:8,2])[1], width=.2)\n",
    "for j in 1:11\n",
    "    dirΔ = [tmp_new[j+1,1] - tmp_new[j,1], tmp_new[j+1,2] - tmp_new[j,2]]\n",
    "    dirΔ /= sqrt(sum(z->z^2, dirΔ))\n",
    "    std_cθ, std_sθ = add_angle(Xsraw[4][ii,24+j], Xsraw[4][ii,36+j], 0, -1)\n",
    "    cθ, sθ = add_angle(dirΔ[1], dirΔ[2], std_cθ, -std_sθ)\n",
    "    arrow(tmp_new[j,1],tmp_new[j,2], cθ, sθ, width=.05)\n",
    "end\n",
    "gca().set_aspect(\"equal\")\n",
    "# ii += 5"
   ]
  },
  {
   "cell_type": "code",
   "execution_count": 108,
   "metadata": {},
   "outputs": [
    {
     "data": {
      "text/plain": [
       "MeshCat Visualizer with path /meshcat"
      ]
     },
     "execution_count": 108,
     "metadata": {},
     "output_type": "execute_result"
    }
   ],
   "source": [
    "if !(@isdefined vis) \n",
    "    # Create a new visualizer instance (MeshCat.jl)\n",
    "    vis = Visualizer()\n",
    "    open(vis)\n",
    "end\n",
    "vis = mocapviz.create_animation([mocapio.reconstruct_modelled(Ysraw[4])[300:550,:,:]], \n",
    "    \"test\"; vis=vis, linemesh=mocapviz.yellowmesh, camera=:back)"
   ]
  },
  {
   "cell_type": "markdown",
   "metadata": {},
   "source": [
    "## Everything looks good\n",
    "\n",
    "**Note** the input traces look slightly odd during sharp/stopping \"about\" turns as frequently the trajectory turns in the opposite direction to the body. Since the turning circle is so tight, it is probably not well defined which way the trajectory turns, and anchoring to the *actual position* of the root joint is a good a way as any. The point is that while it may look a little odd, the processing is doing the right thing, and the information will be available to the model."
   ]
  },
  {
   "cell_type": "markdown",
   "metadata": {},
   "source": [
    "## Look at principal components"
   ]
  },
  {
   "cell_type": "code",
   "execution_count": 218,
   "metadata": {},
   "outputs": [
    {
     "data": {
      "text/latex": [
       "\\begin{verbatim}\n",
       "construct_inputs(raw [; direction])\n",
       "\\end{verbatim}\n",
       "Construct the input matrix for the mocap models. The input \\texttt{raw} is the raw output from the \\texttt{process\\_file} function. The function outputs the following matrix, which contains only the range of frames: \\href{i.e.}{start+69, end-60} excluding approx. the first and last second. This is in order to construct trajectories that extend ± 60 frames of the current position. (The additional is due to needing a bit extra to calculate velocity, plus some historical baggage.) Note also that the trajectory is centered at every frame at the current position and hence \\texttt{(trajectory\\_x(7), trajectory\\_z(7)) == (0.0, 0.0)}.\n",
       "\n",
       "The following columns are contained in the matrix:\n",
       "\n",
       "\\begin{itemize}\n",
       "\\item (12): ± 60 frame trajectory x-cood at step 10 intervals\n",
       "\n",
       "\n",
       "\\item (12): ± 60 frame trajectory z-cood at step 10 intervals\n",
       "\n",
       "\n",
       "\\item (12): ± 60 frame trajectory angle sin(θ) to forward\n",
       "\n",
       "\n",
       "\\item (12): ± 60 frame trajectory angle cos(θ) to forward\n",
       "\n",
       "\n",
       "\\item (12): ± 60 frame trajectory magnitude of velocity\n",
       "\n",
       "\n",
       "\\item (61): joint positions in Lagrangian frame\n",
       "\n",
       "\\end{itemize}\n",
       "The angle θ is expressed in both sine and cosine components to avoid a discontinuity when it wraps around 2π (which it sometimes does). This angle is Lagrangian in nature too: that is, θ = 0 when the skeleton is facing in exactly the same direction as it is walking (i.e. the direction of the velocity). One might prefer a Eulerian (absolute) representation instead, in which case, pass in the named argument \\texttt{direction=:absolute}.\n",
       "\n",
       "Note that there are only 61 dimensions of the joint positions as the root x,z are excluded, as they are always zero. They're excluded from the output too, which is more important: we don't want to waste strength on predicting zero.\n",
       "\n"
      ],
      "text/markdown": [
       "```\n",
       "construct_inputs(raw [; direction])\n",
       "```\n",
       "\n",
       "Construct the input matrix for the mocap models. The input `raw` is the raw output from the `process_file` function. The function outputs the following matrix, which contains only the range of frames: [start+69, end-60](i.e.) excluding approx. the first and last second. This is in order to construct trajectories that extend ± 60 frames of the current position. (The additional is due to needing a bit extra to calculate velocity, plus some historical baggage.) Note also that the trajectory is centered at every frame at the current position and hence `(trajectory_x(7), trajectory_z(7)) == (0.0, 0.0)`.\n",
       "\n",
       "The following columns are contained in the matrix:\n",
       "\n",
       "  * (12): ± 60 frame trajectory x-cood at step 10 intervals\n",
       "  * (12): ± 60 frame trajectory z-cood at step 10 intervals\n",
       "  * (12): ± 60 frame trajectory angle sin(θ) to forward\n",
       "  * (12): ± 60 frame trajectory angle cos(θ) to forward\n",
       "  * (12): ± 60 frame trajectory magnitude of velocity\n",
       "  * (61): joint positions in Lagrangian frame\n",
       "\n",
       "The angle θ is expressed in both sine and cosine components to avoid a discontinuity when it wraps around 2π (which it sometimes does). This angle is Lagrangian in nature too: that is, θ = 0 when the skeleton is facing in exactly the same direction as it is walking (i.e. the direction of the velocity). One might prefer a Eulerian (absolute) representation instead, in which case, pass in the named argument `direction=:absolute`.\n",
       "\n",
       "Note that there are only 61 dimensions of the joint positions as the root x,z are excluded, as they are always zero. They're excluded from the output too, which is more important: we don't want to waste strength on predicting zero.\n"
      ],
      "text/plain": [
       "\u001b[36m  construct_inputs(raw [; direction])\u001b[39m\n",
       "\n",
       "  Construct the input matrix for the mocap models. The input \u001b[36mraw\u001b[39m is the raw\n",
       "  output from the \u001b[36mprocess_file\u001b[39m function. The function outputs the following\n",
       "  matrix, which contains only the range of frames: start+69, end-60 (i.e.)\n",
       "  excluding approx. the first and last second. This is in order to construct\n",
       "  trajectories that extend ± 60 frames of the current position. (The\n",
       "  additional is due to needing a bit extra to calculate velocity, plus some\n",
       "  historical baggage.) Note also that the trajectory is centered at every\n",
       "  frame at the current position and hence \u001b[36m(trajectory_x(7), trajectory_z(7))\n",
       "  == (0.0, 0.0)\u001b[39m.\n",
       "\n",
       "  The following columns are contained in the matrix:\n",
       "\n",
       "    •    (12): ± 60 frame trajectory x-cood at step 10 intervals\n",
       "\n",
       "    •    (12): ± 60 frame trajectory z-cood at step 10 intervals\n",
       "\n",
       "    •    (12): ± 60 frame trajectory angle sin(θ) to forward\n",
       "\n",
       "    •    (12): ± 60 frame trajectory angle cos(θ) to forward\n",
       "\n",
       "    •    (12): ± 60 frame trajectory magnitude of velocity\n",
       "\n",
       "    •    (61): joint positions in Lagrangian frame\n",
       "\n",
       "  The angle θ is expressed in both sine and cosine components to avoid a\n",
       "  discontinuity when it wraps around 2π (which it sometimes does). This angle\n",
       "  is Lagrangian in nature too: that is, θ = 0 when the skeleton is facing in\n",
       "  exactly the same direction as it is walking (i.e. the direction of the\n",
       "  velocity). One might prefer a Eulerian (absolute) representation instead, in\n",
       "  which case, pass in the named argument \u001b[36mdirection=:absolute\u001b[39m.\n",
       "\n",
       "  Note that there are only 61 dimensions of the joint positions as the root\n",
       "  x,z are excluded, as they are always zero. They're excluded from the output\n",
       "  too, which is more important: we don't want to waste strength on predicting\n",
       "  zero."
      ]
     },
     "execution_count": 218,
     "metadata": {},
     "output_type": "execute_result"
    }
   ],
   "source": [
    "?mocapio.construct_inputs"
   ]
  },
  {
   "cell_type": "code",
   "execution_count": 11,
   "metadata": {},
   "outputs": [],
   "source": [
    "allE = reduce(vcat, Ys);\n",
    "allE = convert(Matrix{Float32}, allE);"
   ]
  },
  {
   "cell_type": "code",
   "execution_count": 20,
   "metadata": {},
   "outputs": [
    {
     "data": {
      "image/png": "[encoded data removed]",
      "text/plain": [
       "Figure(PyObject <Figure size 300x200 with 1 Axes>)"
      ]
     },
     "metadata": {},
     "output_type": "display_data"
    }
   ],
   "source": [
    "zsc(x, dims) = (x .- mean(x, dims=dims)) ./ std(x, dims=dims)\n",
    "\n",
    "pc_all = fit(PCA, zsc(allE[:,4:63]', 1), pratio=0.999)\n",
    "\n",
    "varexpl = cumsum(principalvars(pc_all))/tvar(pc_all)\n",
    "bd=findfirst.([varexpl .> x for x in [0.9,0.95,0.99]])\n",
    "plot(1:length(varexpl), varexpl)\n",
    "gca().axhline(1, linestyle=\":\")\n",
    "for b in bd\n",
    "    plot([b,b], [varexpl[1], varexpl[b]], color=ColorMap(\"tab10\")(7), linestyle=\":\")\n",
    "    plot([.5, b], [varexpl[b], varexpl[b]], color=ColorMap(\"tab10\")(7), linestyle=\":\")\n",
    "end\n",
    "gca().set_xlim(0.5,25.5); gca().set_ylim(varexpl[1],1.025);\n",
    "gcf().set_size_inches(3,2)"
   ]
  },
  {
   "cell_type": "markdown",
   "metadata": {},
   "source": [
    "#### Note\n",
    "This is different (worse, i.e. need more PCs) than the graph I showed to Chris. This is because I was in the Eulerian frame, where direction(s) of movement probably captured most of PCs. Removing these high variance directions, common to all joints makes it much harder."
   ]
  }
 ],
 "metadata": {
  "@webio": {
   "lastCommId": null,
   "lastKernelId": null
  },
  "kernelspec": {
   "display_name": "Julia 1.1.0",
   "language": "julia",
   "name": "julia-1.1"
  },
  "language_info": {
   "file_extension": ".jl",
   "mimetype": "application/julia",
   "name": "julia",
   "version": "1.1.0"
  }
 },
 "nbformat": 4,
 "nbformat_minor": 2
}
