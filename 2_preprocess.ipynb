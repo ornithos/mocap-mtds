{
 "cells": [
  {
   "cell_type": "markdown",
   "metadata": {},
   "source": [
    "# Mocap Data Pre-processing"
   ]
  },
  {
   "cell_type": "code",
   "execution_count": 1,
   "metadata": {},
   "outputs": [],
   "source": [
    "using LinearAlgebra, Random\n",
    "using StatsBase, Statistics\n",
    "using Distributions, MultivariateStats   # Categorical, PCA\n",
    "using Quaternions    # For manipulating 3D Geometry\n",
    "using MeshCat        # For web visualisation / animation\n",
    "using PyPlot         # Plotting\n",
    "using AxUtil, Flux   # Optimisation\n",
    "\n",
    "# small utils libraries\n",
    "using ProgressMeter, Formatting, ArgCheck\n",
    "using DelimitedFiles, NPZ, BSON"
   ]
  },
  {
   "cell_type": "code",
   "execution_count": 2,
   "metadata": {},
   "outputs": [],
   "source": [
    "DIR_MOCAP_MTDS = \".\" #\"\"\"../../../mocap-mtds/\";   # different cos I'm in dev folder\n",
    "\n",
    "# Data loading and transformation utils\n",
    "include(joinpath(DIR_MOCAP_MTDS, \"io.jl\"))\n",
    "\n",
    "# MeshCat skeleton visualisation tools\n",
    "include(joinpath(DIR_MOCAP_MTDS, \"mocap_viz.jl\"))"
   ]
  },
  {
   "cell_type": "code",
   "execution_count": 3,
   "metadata": {},
   "outputs": [],
   "source": [
    "cmu_loco = readdlm(\"../data/mocap/cmu/cmu_locomotion_lkp.txt\", '\\t')[:,1];\n",
    "database = \"../data/mocap/holden/cmu\"\n",
    "files_cmu = [joinpath(database, f * \".bvh\") for f in cmu_loco]\n",
    "files_cmu = collect(filter(x-> isfile(x) && x !== \"rest.bvh\", files_cmu));\n",
    "\n",
    "database = \"../data/mocap/edin-style-transfer/\"\n",
    "files_edin = [joinpath(database, f) for f in readdir(database)];"
   ]
  },
  {
   "cell_type": "markdown",
   "metadata": {},
   "source": [
    "### Read in example data"
   ]
  },
  {
   "cell_type": "code",
   "execution_count": 4,
   "metadata": {},
   "outputs": [],
   "source": [
    "proc = mocapio.process_file(files_cmu[40]);   \n",
    "# 54 = PACING/STOP, 40 = BACKWARD, 115=TRIUMPHANT, 190=TWISTY, not 198 (JUMP)!"
   ]
  },
  {
   "cell_type": "code",
   "execution_count": 11,
   "metadata": {},
   "outputs": [],
   "source": [
    "include(joinpath(DIR_MOCAP_MTDS, \"io.jl\"))"
   ]
  },
  {
   "cell_type": "code",
   "execution_count": 6,
   "metadata": {},
   "outputs": [],
   "source": [
    "fps = 60"
   ]
  },
  {
   "cell_type": "code",
   "execution_count": 12,
   "metadata": {},
   "outputs": [],
   "source": [
    "?mocapio.construct_inputs"
   ]
  },
  {
   "cell_type": "code",
   "execution_count": 8,
   "metadata": {},
   "outputs": [],
   "source": [
    "yy = mocapio.construct_outputs(proc, fps=fps);"
   ]
  },
  {
   "cell_type": "code",
   "execution_count": 10,
   "metadata": {},
   "outputs": [],
   "source": [
    "false && @showprogress for (_i, ii) in enumerate(range(1,stop=size(u,1), step=2))\n",
    "    PyPlot.cla()\n",
    "    tmp_new = hcat(u[ii,1:12], u[ii,13:24])\n",
    "    plot(tmp_new[:,1], tmp_new[:,2])\n",
    "    scatter(0,0)\n",
    "    # arrow(0,0, diff(tmp_new[7:8,1])[1], diff(tmp_new[7:8,2])[1], width=.2)\n",
    "    for j in 1:11\n",
    "        dirΔ = [tmp_new[j+1,1] - tmp_new[j,1], tmp_new[j+1,2] - tmp_new[j,2]]\n",
    "        dirΔ /= sqrt(sum(z->z^2, dirΔ))\n",
    "        std_cθ, std_sθ = add_angle(u[ii,24+j], u[ii,36+j], 0, -1)\n",
    "        cθ, sθ = add_angle(dirΔ[1], dirΔ[2], std_cθ, -std_sθ)\n",
    "        @assert isapprox(reim(complex(0, 1) * complex(u[ii,24+j], -u[ii,36+j]) * complex(dirΔ[1], dirΔ[2])) |> collect, \n",
    "            [cθ, sθ])\n",
    "        arrow(tmp_new[j,1],tmp_new[j,2], cθ, sθ, width=.05)\n",
    "    end\n",
    "\n",
    "#     _tmp_dir = reim(-complex(1, 0) *complex(u[ii,24+8], -u[ii,36+8]) )  # u[34+ii,8], u[34+ii,12+8]\n",
    "#     @assert isapprox(collect(_tmp_dir), [-u[ii,24+8], u[ii,36+8]])\n",
    "#     arrow(0, 0, _tmp_dir[1],_tmp_dir[2], width=0.2/sqrt(sum(diff([gca().get_xlim()...]))), \n",
    "#     color=ColorMap(\"tab10\")(1))\n",
    "#     plot(zeros(2), [-u[ii,36+8], u[ii,36+8]]*1.5, color=\"k\", linewidth=0.4)\n",
    "\n",
    "    gca().set_xlim(-20, 20)\n",
    "    # gca().set_ylim(-15, 15)\n",
    "    gca().set_aspect(\"equal\")\n",
    "    savefig(format(\"img/traj_{:03d}.png\", _i))\n",
    "end"
   ]
  },
  {
   "cell_type": "code",
   "execution_count": 11,
   "metadata": {},
   "outputs": [],
   "source": [
    "plot(atan.(u[ii-50:ii+50, 24+7], u[ii-50:ii+50, 36+7]))\n",
    "gcf().set_size_inches(3,2)"
   ]
  },
  {
   "cell_type": "code",
   "execution_count": 12,
   "metadata": {},
   "outputs": [],
   "source": [
    "tmp = mocapio.process_file(files_edin[1], fps=fps);"
   ]
  },
  {
   "cell_type": "markdown",
   "metadata": {},
   "source": [
    "## Getting ready for training"
   ]
  },
  {
   "cell_type": "code",
   "execution_count": 13,
   "metadata": {},
   "outputs": [],
   "source": [
    "# Load data from raw BVH files (1-2 mins), or load a saved version\n",
    "DATA_FROM_SAVED = false\n",
    "fps = 30\n",
    "\n",
    "if DATA_FROM_SAVED\n",
    "    Xs = BSON.load(\"edin_Xs.bson\")[:Xs];\n",
    "    Ys = BSON.load(\"edin_Ys.bson\")[:Ys];\n",
    "else\n",
    "    proc_files = map(files_edin) do f\n",
    "        mocapio.process_file(f, fps=fps);\n",
    "    end;\n",
    "    println(\"loaded files...\"); flush(stdout)\n",
    "    Xs = map(proc_files) do proc\n",
    "        convert(Matrix{Float32}, mocapio.construct_inputs(proc; include_ftcontact=true, \n",
    "                include_ftmid=true, joint_pos=false, fps=fps, speed=true))\n",
    "    end;\n",
    "    println(\"Xs finished processing...\"); flush(stdout)\n",
    "    Ys = map(proc_files) do proc\n",
    "        convert(Matrix{Float32}, \n",
    "            mocapio.construct_outputs(proc; include_ftcontact=false, fps=fps))\n",
    "    end;\n",
    "    println(\"Ys finished processing...\"); \n",
    "    \n",
    "    println(\"Do you want to save? (y/n)\")\n",
    "    \n",
    "    for i = 1:10\n",
    "        userinput = uppercase(chomp(readline()))[1]\n",
    "        if userinput == 'Y'\n",
    "            println(\"SAVING...\"); flush(stdout)\n",
    "            BSON.bson(\"edin_Xs_30fps_new.bson\", Xs=Xs)\n",
    "            BSON.bson(\"edin_Ys_30fps_new.bson\", Ys=Ys)\n",
    "            break\n",
    "        elseif userinput == 'N'\n",
    "            break\n",
    "        end\n",
    "    end\n",
    "end;\n",
    "\n",
    "Ysraw = Ys\n",
    "Xsraw = Xs;"
   ]
  },
  {
   "cell_type": "code",
   "execution_count": 7,
   "metadata": {},
   "outputs": [],
   "source": [
    "if !(@isdefined vis) \n",
    "    # Create a new visualizer instance (MeshCat.jl)\n",
    "    vis = Visualizer()\n",
    "    open(vis)\n",
    "end\n",
    "vis = mocapviz.create_animation([mocapio.reconstruct_modelled(Ysraw[1])[1:200,:,:]], \n",
    "    \"test\"; vis=vis, linemesh=mocapviz.yellowmesh, camera=:back)"
   ]
  },
  {
   "cell_type": "markdown",
   "metadata": {},
   "source": [
    "### CMU #91"
   ]
  },
  {
   "cell_type": "code",
   "execution_count": 32,
   "metadata": {},
   "outputs": [],
   "source": [
    "database91 = \"../data/mocap/cmu/misc_retarget_simple/\"\n",
    "files_cmu91 = [joinpath(database91, f) for f in readdir(database91) if f[end-2:end] == \"bvh\"];\n",
    "rm_ixs = [6,15,16]  # 6 too short, 15-16 unusual and very difficult\n",
    "files_cmu91 = [f for (i, f) in enumerate(files_cmu91[1:36]) if !(i in rm_ixs)];"
   ]
  },
  {
   "cell_type": "code",
   "execution_count": 84,
   "metadata": {},
   "outputs": [],
   "source": [
    "# Load data from raw BVH files (1-2 mins), or load a saved version\n",
    "fps = 30\n",
    "\n",
    "proc_files = map(files_cmu91) do f\n",
    "    mocapio.process_file(f, fps=fps);\n",
    "end;\n",
    "println(\"loaded files...\"); flush(stdout)\n",
    "Xs = map(proc_files) do proc\n",
    "    convert(Matrix{Float32}, mocapio.construct_inputs(proc; include_ftcontact=true, \n",
    "            include_ftmid=true, joint_pos=false, fps=fps, speed=true))\n",
    "end;\n",
    "Xs = [x[46:end,:] for x in Xs];   # start: first couple of seconds standing, so rm\n",
    "println(\"Xs finished processing...\"); flush(stdout)\n",
    "Ys = map(proc_files) do proc\n",
    "    convert(Matrix{Float32}, \n",
    "        mocapio.construct_outputs(proc; include_ftcontact=false, fps=fps))\n",
    "end;\n",
    "Ys = [x[46:end,:] for x in Ys];   # start: first couple of seconds standing, so rm\n",
    "println(\"Ys finished processing...\"); \n",
    "\n",
    "println(\"Do you want to save? (y/n)\")\n",
    "\n",
    "for i = 1:10\n",
    "    userinput = uppercase(chomp(readline()))[1]\n",
    "    if userinput == 'Y'\n",
    "        println(\"SAVING...\"); flush(stdout)\n",
    "        BSON.bson(\"cmu91_Xs_30fps.bson\", Xs=Xs)\n",
    "        BSON.bson(\"cmu91_Ys_30fps.bson\", Ys=Ys)\n",
    "        break\n",
    "    elseif userinput == 'N'\n",
    "        break\n",
    "    end\n",
    "end\n",
    "\n",
    "Ysraw = Ys\n",
    "Xsraw = Xs;"
   ]
  },
  {
   "cell_type": "code",
   "execution_count": 86,
   "metadata": {},
   "outputs": [],
   "source": [
    "# Load CMU91 data\n",
    "DA_Usraw = BSON.load(\"cmu91_Xs_30fps.bson\")[:Xs]\n",
    "DA_Ysraw = BSON.load(\"cmu91_Ys_30fps.bson\")[:Ys];"
   ]
  },
  {
   "cell_type": "code",
   "execution_count": 87,
   "metadata": {},
   "outputs": [],
   "source": [
    "# Load Mason data\n",
    "mason_Usraw = BSON.load(\"edin_Xs_30fps.bson\")[:Xs];\n",
    "mason_Ysraw = BSON.load(\"edin_Ys_30fps.bson\")[:Ys];"
   ]
  },
  {
   "cell_type": "code",
   "execution_count": 90,
   "metadata": {},
   "outputs": [],
   "source": [
    "# Save concatenation\n",
    "BSON.bson(\"edin_Xs_30fps_DA.bson\", Xs=vcat(mason_Usraw, DA_Usraw))\n",
    "BSON.bson(\"edin_Ys_30fps_DA.bson\", Ys=vcat(mason_Ysraw, DA_Ysraw));"
   ]
  },
  {
   "cell_type": "markdown",
   "metadata": {},
   "source": [
    "#### Create new dataset for pytorch"
   ]
  },
  {
   "cell_type": "code",
   "execution_count": 91,
   "metadata": {},
   "outputs": [],
   "source": [
    "mason_Ysraw = [y[2:end,:] for y in mason_Ysraw]\n",
    "mason_Usraw = [hcat(u[2:end,1:end-8], u[1:end-1,end-7:end]) for u in mason_Usraw];"
   ]
  },
  {
   "cell_type": "code",
   "execution_count": 9,
   "metadata": {},
   "outputs": [],
   "source": [
    "Ysraw = [y[2:end,:] for y in Ysraw]\n",
    "Usraw = [hcat(u[2:end,1:end-8], u[1:end-1,end-7:end]) for u in Xsraw];"
   ]
  },
  {
   "cell_type": "code",
   "execution_count": 22,
   "metadata": {},
   "outputs": [],
   "source": [
    "Ysraw = vcat(mason_Ysraw, Ysraw);\n",
    "Usraw = vcat(mason_Usraw, Usraw);"
   ]
  },
  {
   "cell_type": "code",
   "execution_count": 10,
   "metadata": {},
   "outputs": [],
   "source": [
    "include(\"util.jl\")"
   ]
  },
  {
   "cell_type": "code",
   "execution_count": 11,
   "metadata": {},
   "outputs": [],
   "source": [
    "# Standardise inputs and outputs\n",
    "standardize_Y = fit(mocaputil.MyStandardScaler, reduce(vcat, Ysraw),  1)\n",
    "standardize_U = fit(mocaputil.MyStandardScaler, reduce(vcat, Usraw),  1)\n",
    "\n",
    "Ys = [mocaputil.scale_transform(standardize_Y, y[2:end, :] ) for y in Ysraw];  # (1-step ahead of u)\n",
    "Us = [mocaputil.scale_transform(standardize_U, u[1:end-1,:]) for u in Usraw];  # (1-step behind y)\n",
    "\n",
    "@assert (let c=cor(Usraw[1][1:end-1, :], Ysraw[1][2:end, :], dims=1); \n",
    "        !isapprox(maximum(abs.(c[.!isnan.(c)])), 1.0); end) \"some input features perfectly correlated\"\n",
    "\n",
    "# to invert: `mocaputil.invert(standardize_Y, y)`"
   ]
  },
  {
   "cell_type": "code",
   "execution_count": 99,
   "metadata": {},
   "outputs": [],
   "source": [
    "npzwrite(\"./data/edin_Ys_30fps_DA.npz\", Dict(string(i)=>Ys[i] for i in 1:length(Ys)))"
   ]
  },
  {
   "cell_type": "code",
   "execution_count": 98,
   "metadata": {},
   "outputs": [],
   "source": [
    "npzwrite(\"./data/edin_Us_30fps_DA.npz\", Dict(string(i)=>Us[i] for i in 1:length(Us)))"
   ]
  },
  {
   "cell_type": "markdown",
   "metadata": {},
   "source": [
    "# Ramer-Douglas-Peucker\n",
    "from Rosetta Code"
   ]
  },
  {
   "cell_type": "code",
   "execution_count": 12,
   "metadata": {},
   "outputs": [],
   "source": [
    "# source https://rosettacode.org/wiki/Ramer-Douglas-Peucker_line_simplification\n",
    "const Point = Vector{Float64}\n",
    " \n",
    "function perpdist(pt::Point, lnstart::Point, lnend::Point)\n",
    "    d = normalize!(lnend .- lnstart)\n",
    " \n",
    "    pv = pt .- lnstart\n",
    "    # Get dot product (project pv onto normalized direction)\n",
    "    pvdot = dot(d, pv)\n",
    "    # Scale line direction vector\n",
    "    ds = pvdot .* d\n",
    "    # Subtract this from pv\n",
    "    return norm(pv .- ds)\n",
    "end\n",
    " \n",
    "function rdp(plist::Vector{Point}, ϵ::Float64 = 1.0)\n",
    "    if length(plist) < 2\n",
    "        throw(ArgumentError(\"not enough points to simplify\"))\n",
    "    end\n",
    " \n",
    "    # Find the point with the maximum distance from line between start and end\n",
    "    distances  = collect(perpdist(pt, plist[1], plist[end]) for pt in plist)\n",
    "    dmax, imax = findmax(distances)\n",
    " \n",
    "    # If max distance is greater than epsilon, recursively simplify\n",
    "    if dmax > ϵ\n",
    "        fstline = plist[1:imax]\n",
    "        lstline = plist[imax:end]\n",
    " \n",
    "        recrst1 = rdp(fstline, ϵ)\n",
    "        recrst2 = rdp(lstline, ϵ)\n",
    " \n",
    "        out = vcat(recrst1, recrst2)\n",
    "    else\n",
    "        out = [plist[1], plist[end]]\n",
    "    end\n",
    "    \n",
    "    return unique(out)\n",
    "end\n",
    "\n",
    "rdp(X::AbstractMatrix, ϵ = 1.0) = reduce(hcat, rdp([X[i,:] for i in 1:size(X,1)], ϵ))'"
   ]
  },
  {
   "cell_type": "markdown",
   "metadata": {},
   "source": [
    "## Smooth trajectory"
   ]
  },
  {
   "cell_type": "code",
   "execution_count": 13,
   "metadata": {},
   "outputs": [],
   "source": [
    "function merge_knots!(u; take_first=true, merge_triplets=true)\n",
    "    i = 1\n",
    "    while i < length(u)-2\n",
    "        if u[i] == 1\n",
    "            if merge_triplets && u[i+2] > 0\n",
    "                u[i], u[i+1], u[i+2] = 0, 1, 0\n",
    "                i += 3\n",
    "                continue\n",
    "            elseif u[i+1] > 0\n",
    "                if take_first\n",
    "                    u[i+1] = 0\n",
    "                else\n",
    "                    u[i] = 0\n",
    "                end\n",
    "                i += 2\n",
    "                continue\n",
    "            end\n",
    "        end\n",
    "        i += 1\n",
    "    end\n",
    "    return u\n",
    "end\n",
    "merge_knots(u; take_first=true, merge_triplets=true) = merge_knots!(copy(u); \n",
    "    take_first=take_first, merge_triplets=merge_triplets)\n",
    "\n",
    "function reinforce_knots(u)\n",
    "    n = length(u)\n",
    "    out = copy(u)\n",
    "    for i in 1:n\n",
    "        if u[i] == 1\n",
    "            i > 3 && (out[i-3] = 1)\n",
    "            i < n - 2 && (out[i+3] = 1)\n",
    "        end\n",
    "    end\n",
    "    return out\n",
    "end"
   ]
  },
  {
   "cell_type": "code",
   "execution_count": 14,
   "metadata": {},
   "outputs": [],
   "source": [
    "# defaults (see get below: 0.7, 0.3 respectively)\n",
    "epsilons = Dict(10=>0.6, 14=>0.5, 15=>0.9, 16=>0.9, 17=>0.5, 18=>1.2, 19=>1.2, 20=>1.2, 21=>1.2, 25=>1.2, \n",
    "    26=>2.5, 27=>2.5, 28=>3.5, 31=>1.5)\n",
    "θ2d_thrsh = Dict(10=>0.28, 18=>0.25, 19=>0.25, 26=>Inf, 27=>0.4);\n",
    "addl_pts = Dict(10 => [462], 18 => [1570], 19=>[880,920, 1022], 22=>[510], 26=>[946, 2890])\n",
    "rm_pts = Dict(10=>81:88, 18=>vcat(670:700, 1250:1290), 19=>887:895, 20=>1293:1314, 21=>vcat(659:661, 1724:1732),\n",
    "        22=>509:512, 23=>991:998, 24=>1040:1058, 25=>vcat(41:47, 146:170, 590:600, 800:820,1440:1460, 1720:1740),\n",
    "        27=>vcat(69:74, 284:290, 2060:2070), 28=>vcat(2543:2560, 3448:3460), \n",
    "        28=>vcat(3829:3835, 3940:3960, 4065:4080),29=>vcat(2427:2440), 30=>vcat(257:270, 1120:1130),\n",
    "        31=>vcat(962:980, 1060:1080, 1200:1210, 1322:1330, 1532:1540, 1600:1630, 2096:2107))\n",
    "addl_sgl = Dict(3 => [60], 20=>[1293, 1314, 1330], 21=>[650,660,670,1710,1728], 23=>[980,1010], \n",
    "    24=>[650,1040,1060,1210,1220,1230,1240], 25=>[30, 50, 1440, 1460, 1490], 26=>[1945, 1970, 2860, 2920],\n",
    "    27=>[70, 100, 1530], 28=>[3455], 30=>[264], 31=>vcat([60,276], [1060, 1070, 1090, 1100])) \n",
    "addl_discont = Dict(28=>[3455], 30=>[264])"
   ]
  },
  {
   "cell_type": "code",
   "execution_count": 822,
   "metadata": {},
   "outputs": [],
   "source": [
    "ff = 4\n",
    "trj = mocapio._traj_fk(zeros(Float64, 3), proc_files[ff][:, 2], proc_files[ff][:, 3], proc_files[ff][:, 1]);"
   ]
  },
  {
   "cell_type": "code",
   "execution_count": 823,
   "metadata": {},
   "outputs": [],
   "source": [
    "ϵ = get(epsilons, ff, 0.7)  # for early ones, 0.7 looks good; but up to 2.5 for sexy style\n",
    "ix_rng = 1:length(proc_files[ff][:,1])    # neccesary ∵ bug atm in mocapio which triples length of output\n",
    "_traj_mat = hcat(trj[1][ix_rng], trj[2][ix_rng])\n",
    "\n",
    "# Do RDP transform and extract knots\n",
    "ts = let x = rdp(_traj_mat, ϵ)\n",
    "    map(1:size(x,1)) do i\n",
    "        findfirst((x[i,1] .≈ _traj_mat[:,1]) .& (x[i,2] .≈ _traj_mat[:,2]))\n",
    "    end\n",
    "end;"
   ]
  },
  {
   "cell_type": "code",
   "execution_count": 824,
   "metadata": {},
   "outputs": [],
   "source": [
    "# Find additional turning points by looking at large large second \"derivatives\" (differences)\n",
    "_x, _z = proc_files[ff][:, 2], proc_files[ff][:, 3]\n",
    "θ = atan.(_x, _z);\n",
    "knots = abs.(diff(vcat(0, θ))) .> get(θ2d_thrsh, ff, 0.3);\n",
    "\n",
    "# add/remove custom points specified above\n",
    "rm_knots = vcat(1, get(rm_pts, ff, []))   # always rm initial knot\n",
    "knots[rm_knots] .= 0\n",
    "addl_knots = get(addl_pts, ff, [])\n",
    "length(addl_knots) > 0 && (knots[addl_knots] .= 1)\n",
    "\n",
    "# reinforce these addl knots and merge with RDP knots\n",
    "knots = reinforce_knots(knots)\n",
    "extreme_turns = vcat(findall(merge_knots(knots; take_first=false, merge_triplets=false)), get(addl_sgl, ff, []))\n",
    "knots[ts] .= 1\n",
    "addl_knots = get(addl_sgl, ff, [])\n",
    "length(addl_knots) > 0 && (knots[addl_knots] .= 1)\n",
    "ts = findall(merge_knots(knots; take_first=false, merge_triplets=false));\n",
    "ts = sort(vcat(ts, get(addl_discont, ff, [])));"
   ]
  },
  {
   "cell_type": "code",
   "execution_count": 825,
   "metadata": {
    "scrolled": true
   },
   "outputs": [],
   "source": [
    "# filter(i->i in 1:200, findall(knots))"
   ]
  },
  {
   "cell_type": "code",
   "execution_count": 826,
   "metadata": {},
   "outputs": [],
   "source": [
    "# Calculate spline coefficients via OLS\n",
    "# spl = AxUtil.Math.BSpline(3, (ts .-1) ./ (ix_rng[end] -1))\n",
    "# splBasis = AxUtil.Math.basis_eval(spl, (ix_rng .- 1)./(ix_rng[end] -1))\n",
    "knots = (ts .-1) ./ (ix_rng[end] -1)\n",
    "eval_ts = (ix_rng .- 1)./(ix_rng[end] -1)\n",
    "\n",
    "knots = ts .- 1\n",
    "eval_ts = ix_rng .- 1\n",
    "splBasis = AxUtil.Math.bsplineM(eval_ts, knots, 3+1)\n",
    "derivBasis = AxUtil.Math.bsplineM(eval_ts, knots, 3+1, 1)\n",
    "deriv2Basis = AxUtil.Math.bsplineM(eval_ts, knots, 3+1, 2)\n",
    "A = _traj_mat' / splBasis';\n",
    "_smth_trj = splBasis * A';\n",
    "_smth_deriv = derivBasis * A';\n",
    "_smth_deriv2 = deriv2Basis * A';"
   ]
  },
  {
   "cell_type": "code",
   "execution_count": 827,
   "metadata": {},
   "outputs": [],
   "source": [
    "function fix_atan_jumps(x) \n",
    "    offset = 0\n",
    "    out = similar(x); out[1] = x[1]\n",
    "    for i in 2:length(x)\n",
    "        if x[i] - x[i-1] > π\n",
    "            offset -= 2π\n",
    "        elseif x[i] - x[i-1] < -π\n",
    "            offset += 2π\n",
    "        end\n",
    "        out[i] = x[i] + offset\n",
    "    end\n",
    "    return out\n",
    "end\n",
    "\n",
    "atan_dt(y, x, ẏ, ẋ) = (ẏ * x - ẋ * y) / (x^2  + y^2)\n",
    "atan_d2t(y, x, ẏ, ẋ, ÿ, ẍ) = let num=(ẏ * x - ẋ * y); denom=(x^2  + y^2); num_dt=(ÿ * x - ẍ * y)\n",
    "    denom_dt= 2*(x*ẋ  + y*ẏ); (num_dt*denom - num*denom_dt) / denom^2; end"
   ]
  },
  {
   "cell_type": "code",
   "execution_count": 62,
   "metadata": {},
   "outputs": [],
   "source": [
    "include(joinpath(DIR_MOCAP_MTDS, \"io.jl\"))"
   ]
  },
  {
   "cell_type": "code",
   "execution_count": 68,
   "metadata": {},
   "outputs": [],
   "source": [
    "?mocapio.construct_outputs"
   ]
  },
  {
   "cell_type": "code",
   "execution_count": 67,
   "metadata": {},
   "outputs": [],
   "source": [
    "proc_files[1]"
   ]
  },
  {
   "cell_type": "code",
   "execution_count": 64,
   "metadata": {},
   "outputs": [],
   "source": [
    "plot(tmp[1:500,end])\n",
    "plot(tmp[1:500,end-1])"
   ]
  },
  {
   "cell_type": "code",
   "execution_count": 63,
   "metadata": {},
   "outputs": [],
   "source": [
    "tmp = mocapio.construct_inputs(proc_files[2]; joint_pos=false, fps=fps, speed=false, root_angle=false, \n",
    "    direction=:none, lead_ft=true, turn360mask=true)"
   ]
  },
  {
   "cell_type": "code",
   "execution_count": 833,
   "metadata": {},
   "outputs": [],
   "source": [
    "body_angle = mocapio.construct_inputs(proc_files[ff]; joint_pos=false, fps=fps, speed=false)[:,[13,19]]\n",
    "\n",
    "x = fix_atan_jumps(atan.(body_angle[:, 1], body_angle[:, 2]))\n",
    "pwise = rdp(hcat(1:length(body_angle[:,1]), x), 3.0)\n",
    "ixs = pwise[:,1]\n",
    "pi_mult = round.(Int, x[Int.(ixs)] / 2π)\n",
    "ix_change = findall(diff(pi_mult) .!= 0) .+ 1\n",
    "ix_change = ixs[hcat(ix_change .- 1, ix_change)'[:]]\n",
    "\n",
    "plot(x)\n",
    "[gca().axvline(i, linestyle=\":\", color=\"grey\") for i in ix_change]\n",
    "title(format(\"{:d} changepoints\", Int(length(ix_change) / 2)))\n",
    "display(ix_change)"
   ]
  },
  {
   "cell_type": "code",
   "execution_count": 829,
   "metadata": {},
   "outputs": [],
   "source": [
    "_ix_rng = (31:430) .+ 0\n",
    "fig, axs = subplots(1,3,figsize=(10,3))\n",
    "axs[1].plot(fix_atan_jumps(atan.(diff(_smth_trj[_ix_rng,2]), diff(_smth_trj[_ix_rng,1]))))\n",
    "[axs[1].axhline(θ, color=\"grey\", linestyle=\":\") for θ in [π/2, π, 3π/2]]\n",
    "d = atan_dt.(diff(_smth_trj[_ix_rng,2]), diff(_smth_trj[_ix_rng,1]), \n",
    "        diff(_smth_deriv[_ix_rng,2]), diff(_smth_deriv[_ix_rng,1]))\n",
    "axs[2].plot(d)\n",
    "axs[2].plot(diff(fix_atan_jumps(atan.(diff(_smth_trj[_ix_rng,2]), diff(_smth_trj[_ix_rng,1])))))\n",
    "[axs[2].axhline(thrsh, color=\"grey\", linestyle=\":\") for thrsh in [-0.15, 0.15]]\n",
    "\n",
    "breaches = abs.(d) .> 0.15\n",
    "if length(breaches) > 1\n",
    "    d2 = atan_d2t.(diff(_smth_trj[_ix_rng,2]), diff(_smth_trj[_ix_rng,1]), \n",
    "            diff(_smth_deriv[_ix_rng,2]), diff(_smth_deriv[_ix_rng,1]),\n",
    "            diff(_smth_deriv2[_ix_rng,2]), diff(_smth_deriv2[_ix_rng,1]))\n",
    "    breach_tp = findall(sign.(d2[breaches][2:end]) .!= sign.(d2[breaches][1:end-1]))\n",
    "    breach_tp = findall(breaches)[breach_tp]\n",
    "    [axs[2].axvline(p, color=\"grey\", linestyle=\":\") for p in breach_tp]\n",
    "#     axs[3].plot(d2)\n",
    "end\n",
    "\n",
    "turn_window = 10\n",
    "for ix in findall(breaches)   # smoosh...\n",
    "    breaches[max(0, ix-turn_window):min(end, ix+turn_window)] .= true\n",
    "end\n",
    "\n",
    "body_angle = mocapio.construct_inputs(proc_files[ff]; joint_pos=false, fps=fps, speed=false)[:,[13,19]]\n",
    "axs[3].plot(fix_atan_jumps(atan.(body_angle[_ix_rng .- 30,1], body_angle[_ix_rng .- 30,2])))\n",
    "highlight = atan.(body_angle[_ix_rng .- 30,1], body_angle[_ix_rng .- 30,2])\n",
    "highlight[.!vcat(false, breaches)] .= NaN\n",
    "axs[3].plot(fix_atan_jumps(highlight))\n"
   ]
  },
  {
   "cell_type": "code",
   "execution_count": 830,
   "metadata": {},
   "outputs": [],
   "source": [
    "# plot(trj[1][1:400], trj[2][1:400]); gca().set_aspect(\"equal\")\n",
    "plot(_smth_trj[_ix_rng, 1], _smth_trj[_ix_rng, 2]); gca().set_aspect(\"equal\")\n",
    "scatter(_smth_trj[_ix_rng[100:100:400], 1], _smth_trj[_ix_rng[100:100:400], 2], marker=\"x\");\n",
    "scatter(_smth_trj[_ix_rng[vcat(false,breaches)], 1], _smth_trj[_ix_rng[vcat(false,breaches)], 2], \n",
    "    marker=\"o\", alpha=0.4); \n",
    "# scatter(_smth_trj[_ix_rng[breach_tp], 1], _smth_trj[_ix_rng[breach_tp], 2], marker=\"o\", alpha=0.4); \n",
    "gca().set_aspect(\"equal\")"
   ]
  },
  {
   "cell_type": "code",
   "execution_count": 565,
   "metadata": {
    "scrolled": false
   },
   "outputs": [],
   "source": [
    "num_plots = ceil(Int, ix_rng[end] / 400)\n",
    "fig, axs = subplots(num_plots, 1, figsize=(7, 5*num_plots))\n",
    "for i in 1:num_plots\n",
    "    ix_plot = ((i-1)*400 +1):min(400*i-1, ix_rng[end])\n",
    "    axs[i].plot(trj[1][ix_plot], trj[2][ix_plot])\n",
    "    axs[i].plot(_smth_trj[ix_plot,1], _smth_trj[ix_plot,2])\n",
    "    extr = filter(t->t in ix_plot, extreme_turns)\n",
    "    for j in extr; axs[i].scatter(trj[1][j], trj[2][j], marker=\"x\", c=\"k\"); end\n",
    "end"
   ]
  },
  {
   "cell_type": "code",
   "execution_count": 112,
   "metadata": {},
   "outputs": [],
   "source": [
    "ix_plot = 1:200\n",
    "plot(trj[1][ix_plot], trj[2][ix_plot])\n",
    "let x = rdp(_traj_mat, ϵ); ixs=[t for (i,t) in enumerate(ts) if t in ix_plot]; plot(trj[1][ixs], trj[2][ixs]); end"
   ]
  },
  {
   "cell_type": "code",
   "execution_count": 1698,
   "metadata": {},
   "outputs": [],
   "source": [
    "ff = 27\n",
    "u = mocapio.construct_inputs(proc_files[ff], joint_pos=false, fps=30)"
   ]
  },
  {
   "cell_type": "code",
   "execution_count": 1699,
   "metadata": {},
   "outputs": [],
   "source": [
    "plot(atan.(u[:,13], u[:,19]))"
   ]
  },
  {
   "cell_type": "markdown",
   "metadata": {},
   "source": [
    "## Possibly re-do foot contacts as only initial touchdown"
   ]
  },
  {
   "cell_type": "code",
   "execution_count": 838,
   "metadata": {},
   "outputs": [],
   "source": [
    "using HMMBase"
   ]
  },
  {
   "cell_type": "code",
   "execution_count": 839,
   "metadata": {
    "scrolled": true
   },
   "outputs": [],
   "source": [
    "hmm = HMM([0.9 0.1; 0.1 0.9], [DiscreteNonParametric([0,1], [0.9,0.1]), DiscreteNonParametric([0,1], [0.2,0.8])])"
   ]
  },
  {
   "cell_type": "code",
   "execution_count": 901,
   "metadata": {},
   "outputs": [],
   "source": [
    "_ii = 25\n",
    "_u = viterbi(hmm, Usraw[_ii][:,end-6]) .- 1;"
   ]
  },
  {
   "cell_type": "code",
   "execution_count": 844,
   "metadata": {},
   "outputs": [],
   "source": [
    "using AxPlot"
   ]
  },
  {
   "cell_type": "code",
   "execution_count": 842,
   "metadata": {},
   "outputs": [],
   "source": [
    "cumsum(vcat(0, [size(Ys[i], 1) ÷ 64 for i in 32:64]...))"
   ]
  },
  {
   "cell_type": "code",
   "execution_count": 902,
   "metadata": {},
   "outputs": [],
   "source": [
    "offset = 0\n",
    "# plot(Usraw[2][(1:256) .+ offset,end-5])\n",
    "fig, axs = subplots(2,1)\n",
    "axs[1].plot(_u[(1:512) .+ offset] .+ 0.02)\n",
    "axs[2].plot(Usraw[_ii][(1:512) .+ offset,end-6] .+ 0.04)\n",
    "AxPlot.rmaxislabel_x(axs[1]); tight_layout()"
   ]
  },
  {
   "cell_type": "markdown",
   "metadata": {},
   "source": [
    "### Need to standardize inputs and outputs\n",
    "\n",
    "`MLPreprocessing.jl` contains something like a port of `StandardScaler` from `sklearn`. However, as of 18/05/2019 it appears to be essentially broken, and given its broad generality to lots of array types, I don't want to get into this whole thing. So I'm just going to do define something myself."
   ]
  },
  {
   "cell_type": "code",
   "execution_count": 9,
   "metadata": {},
   "outputs": [],
   "source": [
    "?MyStandardScaler"
   ]
  },
  {
   "cell_type": "code",
   "execution_count": 5,
   "metadata": {},
   "outputs": [],
   "source": [
    "include(joinpath(DIR_MOCAP_MTDS, \"util.jl\"))\n",
    "import .mocaputil: MyStandardScaler, scale_transform\n",
    "# const scale_transform = mocaputil.transform"
   ]
  },
  {
   "cell_type": "code",
   "execution_count": 6,
   "metadata": {},
   "outputs": [],
   "source": [
    "standardize_Y = fit(MyStandardScaler, reduce(vcat, Ysraw),  1)\n",
    "standardize_X = fit(MyStandardScaler, reduce(vcat, Xsraw),  1)\n",
    "\n",
    "Ys = [scale_transform(standardize_Y, y) for y in Ysraw];\n",
    "Xs = [scale_transform(standardize_X, x) for x in Xsraw];"
   ]
  },
  {
   "cell_type": "markdown",
   "metadata": {},
   "source": [
    "note that we can reconstruct the original data via the command:\n",
    "\n",
    "    invert(standardize_Y, y)\n",
    "    invert(standardize_X, x)\n",
    "    \n",
    "in the relevant array comprehensions."
   ]
  },
  {
   "cell_type": "markdown",
   "metadata": {},
   "source": [
    "### It is worth checking to see if it makes sense to scale everything\n",
    "As shown in the input/output columns below, there is nothing that appears problematic in doing this"
   ]
  },
  {
   "cell_type": "code",
   "execution_count": 2,
   "metadata": {},
   "outputs": [],
   "source": [
    "?mocapio.process_file"
   ]
  },
  {
   "cell_type": "code",
   "execution_count": 12,
   "metadata": {},
   "outputs": [],
   "source": [
    "?mocapio.construct_inputs"
   ]
  },
  {
   "cell_type": "code",
   "execution_count": 10,
   "metadata": {},
   "outputs": [],
   "source": [
    "?mocapio.construct_outputs"
   ]
  },
  {
   "cell_type": "code",
   "execution_count": 140,
   "metadata": {},
   "outputs": [],
   "source": [
    "Ys[1][:,65:end]"
   ]
  },
  {
   "cell_type": "code",
   "execution_count": 167,
   "metadata": {},
   "outputs": [],
   "source": [
    "?mocaputil.MyStandardScalar"
   ]
  },
  {
   "cell_type": "code",
   "execution_count": 159,
   "metadata": {},
   "outputs": [],
   "source": [
    "mutable struct OutputDifferencer{T}\n",
    "    first_frame::Array{T, 1}\n",
    "    operate_on::AbstractArray{L where L <: Int,1}\n",
    "end\n",
    "\n",
    "Base.length(s::OutputDifferencer) = length(s.first_frame, 1)\n",
    "Base.copy(s::OutputDifferencer) = OutputDifferencer(copy(s.first_frame), copy(s.operate_on))\n",
    "\n",
    "function StatsBase.fit(::Type{OutputDifferencer}, Y)\n",
    "    @argcheck size(Y, 2) in [64, 68]\n",
    "    return OutputDifferencer(Y[1,:], 4:64)\n",
    "end\n",
    "\n",
    "function difference_transform(s::OutputDifferencer, Y)\n",
    "    @assert Y[1,:] == s.first_frame\n",
    "    return hcat(Y[2:end,1:(s.operate_on[1] - 1)], \n",
    "        diff(Y[:,s.operate_on], dims=1),\n",
    "        Y[2:end,(s.operate_on[end] + 1):end])\n",
    "end\n",
    "\n",
    "function fit_transform(::Type{OutputDifferencer}, Y)\n",
    "    s = fit(OutputDifferencer, Y)\n",
    "    return s, difference_transform(s, Y)\n",
    "end\n",
    "\n",
    "function invert(s::OutputDifferencer, Y)\n",
    "    tr_first = reshape(s.first_frame, 1, :)\n",
    "    inv = cumsum(vcat(tr_first[:,s.operate_on], Y[:,s.operate_on]), dims=1)\n",
    "    return vcat(tr_first,\n",
    "                hcat(Y[:,1:(s.operate_on[1] - 1)], \n",
    "                    inv[2:end,:],\n",
    "                    Y[:,(s.operate_on[end] + 1):end])\n",
    "                )\n",
    "end"
   ]
  },
  {
   "cell_type": "code",
   "execution_count": 144,
   "metadata": {},
   "outputs": [],
   "source": [
    "s, Ydiff = fit_transform(OutputDifferencer, Ys[1])"
   ]
  },
  {
   "cell_type": "code",
   "execution_count": 149,
   "metadata": {},
   "outputs": [],
   "source": [
    "imshow(Ys[1][1:200,:]); gca().set_aspect(\"auto\")"
   ]
  },
  {
   "cell_type": "code",
   "execution_count": 166,
   "metadata": {},
   "outputs": [],
   "source": [
    "all(isapprox.(invert(s, Ydiff), Ys[1], atol=1e-5))"
   ]
  },
  {
   "cell_type": "markdown",
   "metadata": {},
   "source": [
    "## Last checks with visualisation\n",
    "\n",
    "In order to visualise the *direction* of ±60 frames, we have to essentially perform FK since these directions are all relative to the forward direction at the current location. I've done this using fairly vanilla trigonometric functions below as my knowledge of quaternions and manipulating 3D graphics is not as good as it could be."
   ]
  },
  {
   "cell_type": "code",
   "execution_count": 161,
   "metadata": {},
   "outputs": [],
   "source": [
    "function angle_to_z_axis(v)\n",
    "    cθ, sθ = mocapio._trigvecs(reshape(v, 1, 2), reshape([0f0 1f0], 1, 2))\n",
    "    atan(-sθ[1], cθ[1])\n",
    "end\n",
    "rotationm(θ) = [cos(θ) sin(θ); -sin(θ) cos(θ)]\n",
    "\n",
    "function add_angle(c1, s1, c2, s2)\n",
    "    θ₁, θ₂ = atan(s1,c1), atan(s2, c2)\n",
    "    return cos(θ₁ + θ₂), sin(θ₁ + θ₂)\n",
    "end"
   ]
  },
  {
   "cell_type": "code",
   "execution_count": 1203,
   "metadata": {},
   "outputs": [],
   "source": [
    "Complex(-1/sqrt(2), -1/sqrt(2)) * Complex(+1/sqrt(2), -1/sqrt(2)+0.05)"
   ]
  },
  {
   "cell_type": "code",
   "execution_count": null,
   "metadata": {},
   "outputs": [],
   "source": [
    "atan()"
   ]
  },
  {
   "cell_type": "code",
   "execution_count": 1190,
   "metadata": {},
   "outputs": [],
   "source": [
    "methods(angle)"
   ]
  },
  {
   "cell_type": "code",
   "execution_count": null,
   "metadata": {},
   "outputs": [],
   "source": [
    "mutable struct MyAngle\n",
    "    "
   ]
  },
  {
   "cell_type": "code",
   "execution_count": 114,
   "metadata": {},
   "outputs": [],
   "source": [
    "ii = 436"
   ]
  },
  {
   "cell_type": "code",
   "execution_count": 112,
   "metadata": {},
   "outputs": [],
   "source": [
    "plot(atan.(Xsraw[4][ii-50:ii+50, 24+7], Xsraw[4][ii-50:ii+50, 36+7]))\n",
    "gcf().set_size_inches(3,2)"
   ]
  },
  {
   "cell_type": "code",
   "execution_count": 1205,
   "metadata": {},
   "outputs": [],
   "source": [
    "angle(Complex(0, -1))"
   ]
  },
  {
   "cell_type": "code",
   "execution_count": 116,
   "metadata": {},
   "outputs": [],
   "source": [
    "tmp_new = hcat(Xsraw[4][ii,1:12], Xsraw[4][ii,13:24])\n",
    "plot(tmp_new[:,1], tmp_new[:,2])\n",
    "scatter(0,0)\n",
    "arrow(0,0, diff(tmp_new[7:8,1])[1], diff(tmp_new[7:8,2])[1], width=.2)\n",
    "for j in 1:11\n",
    "    dirΔ = [tmp_new[j+1,1] - tmp_new[j,1], tmp_new[j+1,2] - tmp_new[j,2]]\n",
    "    dirΔ /= sqrt(sum(z->z^2, dirΔ))\n",
    "    cθ, sθ = Complex(0, -1) * Complex(Xsraw[4][ii,24+j], Xsraw[4][ii,36+j]) * Complex(dirΔ[1], dirΔ[2])\n",
    "    \n",
    "#     std_cθ, std_sθ = add_angle(Xsraw[4][ii,24+j], Xsraw[4][ii,36+j], 0, -1)\n",
    "#     cθ, sθ = add_angle(dirΔ[1], dirΔ[2], std_cθ, -std_sθ)\n",
    "    arrow(tmp_new[j,1],tmp_new[j,2], cθ, sθ, width=.05)\n",
    "end\n",
    "gca().set_aspect(\"equal\")\n",
    "# ii += 5"
   ]
  },
  {
   "cell_type": "code",
   "execution_count": 108,
   "metadata": {},
   "outputs": [],
   "source": [
    "if !(@isdefined vis) \n",
    "    # Create a new visualizer instance (MeshCat.jl)\n",
    "    vis = Visualizer()\n",
    "    open(vis)\n",
    "end\n",
    "vis = mocapviz.create_animation([mocapio.reconstruct_modelled(Ysraw[4])[300:550,:,:]], \n",
    "    \"test\"; vis=vis, linemesh=mocapviz.yellowmesh, camera=:back)"
   ]
  },
  {
   "cell_type": "markdown",
   "metadata": {},
   "source": [
    "## Everything looks good\n",
    "\n",
    "**Note** the input traces look slightly odd during sharp/stopping \"about\" turns as frequently the trajectory turns in the opposite direction to the body. Since the turning circle is so tight, it is probably not well defined which way the trajectory turns, and anchoring to the *actual position* of the root joint is a good a way as any. The point is that while it may look a little odd, the processing is doing the right thing, and the information will be available to the model."
   ]
  },
  {
   "cell_type": "markdown",
   "metadata": {},
   "source": [
    "## Look at principal components"
   ]
  },
  {
   "cell_type": "code",
   "execution_count": 218,
   "metadata": {},
   "outputs": [],
   "source": [
    "?mocapio.construct_inputs"
   ]
  },
  {
   "cell_type": "code",
   "execution_count": 44,
   "metadata": {},
   "outputs": [],
   "source": []
  },
  {
   "cell_type": "code",
   "execution_count": null,
   "metadata": {},
   "outputs": [],
   "source": [
    "parent = data[parents,:]\n",
    "data = data[2:end, :]  # remove root (has no line)"
   ]
  },
  {
   "cell_type": "code",
   "execution_count": 70,
   "metadata": {},
   "outputs": [],
   "source": [
    "function plot_2d_skeleton(joints::AbstractMatrix)\n",
    "    @argcheck size(joints) == (21, 3)\n",
    "    parents=[1,2,3,4,1,6,7,8,1,10,11,12,12,14,15,16,12,18,19,20]\n",
    "    scatter(joints[:,1], joints[:,2]);\n",
    "    [plot([[joints[p,j], joints[e+1,j]] for j in 1:2]..., c=\"k\") for (e,p) in enumerate(parents)]\n",
    "    [text(joints[i,1]+0.2, joints[i,2]-0.7, i) for i in 1:21]\n",
    "    gca().set_aspect(\"equal\")\n",
    "    gca().axis(\"off\");\n",
    "end\n",
    "\n",
    "function plot_2d_skeleton(root_y::AbstractFloat, joints::AbstractMatrix)\n",
    "    @argcheck size(joints) == (20, 3)\n",
    "    joints = vcat([0 root_y 0], joints); \n",
    "    plot_2d_skeleton(joints)\n",
    "end"
   ]
  },
  {
   "cell_type": "code",
   "execution_count": 112,
   "metadata": {},
   "outputs": [],
   "source": [
    "plot_2d_skeleton(Ys[1][4,4], reshape(Ys[1][4,5:end], 3, 20)')\n",
    "savefig(\"joints.pdf\")"
   ]
  },
  {
   "cell_type": "code",
   "execution_count": 80,
   "metadata": {},
   "outputs": [],
   "source": [
    "using TexTables"
   ]
  },
  {
   "cell_type": "code",
   "execution_count": 78,
   "metadata": {},
   "outputs": [],
   "source": [
    "summarize(randn(30,4))"
   ]
  },
  {
   "cell_type": "code",
   "execution_count": 89,
   "metadata": {},
   "outputs": [],
   "source": [
    "[TableCol(\"test\", collect(1:10), randn(10)) TableCol(\"test2\", collect(1:10), randn(10))]"
   ]
  },
  {
   "cell_type": "code",
   "execution_count": 102,
   "metadata": {},
   "outputs": [],
   "source": [
    "function latex_table(x::AbstractMatrix, headers::AbstractVector{T}) where T <: Union{String, Real}\n",
    "    n,d = size(x)\n",
    "    reduce(hcat, [TableCol(string(headers[i]), collect(1:n), x[:,i]) for i in 1:d])\n",
    "end\n",
    "latex_table(x::AbstractMatrix) = latex_table(x, collect(1:size(x,2)))"
   ]
  },
  {
   "cell_type": "code",
   "execution_count": 103,
   "metadata": {},
   "outputs": [],
   "source": [
    "latex_table(randn(3,4))"
   ]
  },
  {
   "cell_type": "code",
   "execution_count": 111,
   "metadata": {},
   "outputs": [],
   "source": [
    "@fmt Real = \"{:.2f}\"\n",
    "let joints = reshape(Ys[1][4,5:end], 3, 20)'; \n",
    "    joints = vcat([0 Ys[1][4,4] 0], joints); \n",
    "end |> x->round.(x, digits=2) |> x->latex_table(x, [\"x\",\"y\",\"z\"]) |> to_tex |> print\n",
    "@fmt Real = \"{:.3f}\""
   ]
  },
  {
   "cell_type": "code",
   "execution_count": 121,
   "metadata": {},
   "outputs": [],
   "source": [
    "allE = reduce(vcat, Ys);\n",
    "allE = convert(Matrix{Float32}, allE);"
   ]
  },
  {
   "cell_type": "code",
   "execution_count": 124,
   "metadata": {},
   "outputs": [],
   "source": [
    "zsc(x, dims) = (x .- mean(x, dims=dims)) ./ std(x, dims=dims)\n",
    "\n",
    "pc_all = fit(PCA, zsc(allE[:,4:63], 1)', pratio=0.999)\n",
    "\n",
    "varexpl = cumsum(principalvars(pc_all))/tvar(pc_all)\n",
    "bd=findfirst.([varexpl .> x for x in [0.9,0.95,0.99]])\n",
    "plot(1:length(varexpl), varexpl)\n",
    "gca().axhline(1, linestyle=\":\")\n",
    "for b in bd\n",
    "    plot([b,b], [varexpl[1], varexpl[b]], color=ColorMap(\"tab10\")(7), linestyle=\":\")\n",
    "    plot([.5, b], [varexpl[b], varexpl[b]], color=ColorMap(\"tab10\")(7), linestyle=\":\")\n",
    "end\n",
    "gca().set_xlim(0.5,25.5); gca().set_ylim(varexpl[1],1.025);\n",
    "gcf().set_size_inches(3,2)"
   ]
  },
  {
   "cell_type": "markdown",
   "metadata": {},
   "source": [
    "#### Note\n",
    "This is different (worse, i.e. need more PCs) than the graph I showed to Chris. This is because I was in the Eulerian frame, where direction(s) of movement probably captured most of PCs. Removing these high variance directions, common to all joints makes it much harder."
   ]
  }
 ],
 "metadata": {
  "@webio": {
   "lastCommId": null,
   "lastKernelId": null
  },
  "kernelspec": {
   "display_name": "Julia 1.1.0",
   "language": "julia",
   "name": "julia-1.1"
  },
  "language_info": {
   "file_extension": ".jl",
   "mimetype": "application/julia",
   "name": "julia",
   "version": "1.1.0"
  }
 },
 "nbformat": 4,
 "nbformat_minor": 2
}
