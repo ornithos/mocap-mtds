{
 "cells": [
  {
   "cell_type": "markdown",
   "metadata": {},
   "source": [
    "# Mocap Data Pre-processing"
   ]
  },
  {
   "cell_type": "code",
   "execution_count": null,
   "metadata": {},
   "outputs": [],
   "source": [
    "using LinearAlgebra, Statistics, Random\n",
    "using Distributions, MultivariateStats   # Categorical, PCA\n",
    "using Quaternions    # For manipulating 3D Geometry\n",
    "using MeshCat        # For web visualisation / animation\n",
    "using PyPlot         # Plotting\n",
    "using AxUtil, Flux   # Optimisation\n",
    "\n",
    "# small utils libraries\n",
    "using ProgressMeter, Formatting, ArgCheck\n",
    "using DelimitedFiles, NPZ, BSON"
   ]
  },
  {
   "cell_type": "code",
   "execution_count": 2,
   "metadata": {},
   "outputs": [
    {
     "data": {
      "text/html": [
       "<script>\n",
       "// Immediately-invoked-function-expression to avoid global variables.\n",
       "(function() {\n",
       "    var warning_div = document.getElementById(\"webio-warning-4380146875587178885\");\n",
       "    var hide = function () {\n",
       "        var script = document.getElementById(\"webio-setup-14412905055608324179\");\n",
       "        var parent = script && script.parentElement;\n",
       "        var grandparent = parent && parent.parentElement;\n",
       "        if (grandparent) {\n",
       "            grandparent.style.display = \"none\";\n",
       "        }\n",
       "        warning_div.style.display = \"none\";\n",
       "    };\n",
       "    if (typeof Jupyter !== \"undefined\") {\n",
       "        console.log(\"WebIO detected Jupyter notebook environment.\");\n",
       "        // Jupyter notebook.\n",
       "        var extensions = (\n",
       "            Jupyter\n",
       "            && Jupyter.notebook.config.data\n",
       "            && Jupyter.notebook.config.data.load_extensions\n",
       "        );\n",
       "        if (extensions && extensions[\"webio/main\"]) {\n",
       "            // Extension already loaded.\n",
       "            console.log(\"Jupyter WebIO nbextension detected; not loading ad-hoc.\");\n",
       "            hide();\n",
       "            return;\n",
       "        }\n",
       "        console.warn(\"Loading WebIO Jupyter extension on an ad-hoc basis. Consider enabling the WebIO nbextension for a stabler experience (this should happen automatically when building WebIO).\");\n",
       "        require([\"/assetserver/5794a0bf2e6325e42dc09c7369026176a04edd3e-dist/main.js\"], function (webIOModule) {\n",
       "            webIOModule.load_ipython_extension();\n",
       "        });\n",
       "        warning_div.innerHTML = \"<strong>Loading WebIO Jupyter extension on an ad-hoc basis. Consider enabling the WebIO nbextension for a stabler experience (this should happen automatically when building WebIO).</strong>\";\n",
       "    } else if (window.location.pathname.includes(\"/lab\")) {\n",
       "        // Guessing JupyterLa\n",
       "        console.log(\"Jupyter Lab detected; make sure the @webio/jupyter-lab-provider labextension is installed.\");\n",
       "        hide();\n",
       "        return;\n",
       "    }\n",
       "})();\n",
       "\n",
       "</script>\n",
       "<div\n",
       "    id=\"webio-warning-4380146875587178885\"\n",
       "    class=\"output_text output_stderr\"\n",
       "    style=\"padding: 1em; font-weight: bold;\"\n",
       ">\n",
       "    Unable to load WebIO. Please make sure WebIO works for your Jupyter client.\n",
       "    <!-- TODO: link to installation docs. -->\n",
       "</div>\n"
      ],
      "text/plain": [
       "HTML{String}(\"<script>\\n// Immediately-invoked-function-expression to avoid global variables.\\n(function() {\\n    var warning_div = document.getElementById(\\\"webio-warning-4380146875587178885\\\");\\n    var hide = function () {\\n        var script = document.getElementById(\\\"webio-setup-14412905055608324179\\\");\\n        var parent = script && script.parentElement;\\n        var grandparent = parent && parent.parentElement;\\n        if (grandparent) {\\n            grandparent.style.display = \\\"none\\\";\\n        }\\n        warning_div.style.display = \\\"none\\\";\\n    };\\n    if (typeof Jupyter !== \\\"undefined\\\") {\\n        console.log(\\\"WebIO detected Jupyter notebook environment.\\\");\\n        // Jupyter notebook.\\n        var extensions = (\\n            Jupyter\\n            && Jupyter.notebook.config.data\\n            && Jupyter.notebook.config.data.load_extensions\\n        );\\n        if (extensions && extensions[\\\"webio/main\\\"]) {\\n            // Extension already loaded.\\n            console.log(\\\"Jupyter WebIO nbextension detected; not loading ad-hoc.\\\");\\n            hide();\\n            return;\\n        }\\n        console.warn(\\\"Loading WebIO Jupyter extension on an ad-hoc basis. Consider enabling the WebIO nbextension for a stabler experience (this should happen automatically when building WebIO).\\\");\\n        require([\\\"/assetserver/5794a0bf2e6325e42dc09c7369026176a04edd3e-dist/main.js\\\"], function (webIOModule) {\\n            webIOModule.load_ipython_extension();\\n        });\\n        warning_div.innerHTML = \\\"<strong>Loading WebIO Jupyter extension on an ad-hoc basis. Consider enabling the WebIO nbextension for a stabler experience (this should happen automatically when building WebIO).</strong>\\\";\\n    } else if (window.location.pathname.includes(\\\"/lab\\\")) {\\n        // Guessing JupyterLa\\n        console.log(\\\"Jupyter Lab detected; make sure the @webio/jupyter-lab-provider labextension is installed.\\\");\\n        hide();\\n        return;\\n    }\\n})();\\n\\n</script>\\n<div\\n    id=\\\"webio-warning-4380146875587178885\\\"\\n    class=\\\"output_text output_stderr\\\"\\n    style=\\\"padding: 1em; font-weight: bold;\\\"\\n>\\n    Unable to load WebIO. Please make sure WebIO works for your Jupyter client.\\n    <!-- TODO: link to installation docs. -->\\n</div>\\n\")"
      ]
     },
     "metadata": {},
     "output_type": "display_data"
    },
    {
     "data": {
      "text/plain": [
       "Main.mocapviz"
      ]
     },
     "execution_count": 2,
     "metadata": {},
     "output_type": "execute_result"
    }
   ],
   "source": [
    "DIR_MOCAP_MTDS = \"../../../mocap-mtds/\";   # different cos I'm in dev folder\n",
    "\n",
    "# Data loading and transformation utils\n",
    "include(joinpath(DIR_MOCAP_MTDS, \"io.jl\"))\n",
    "\n",
    "# MeshCat skeleton visualisation tools\n",
    "include(joinpath(DIR_MOCAP_MTDS, \"mocap_viz.jl\"))"
   ]
  },
  {
   "cell_type": "code",
   "execution_count": null,
   "metadata": {},
   "outputs": [],
   "source": [
    "cmu_loco = readdlm(\"../cmu/cmu_locomotion_lkp.txt\", '\\t')[:,1];\n",
    "database = \"cmu\"\n",
    "files_cmu = [joinpath(database, f * \".bvh\") for f in cmu_loco]\n",
    "files_cmu = collect(filter(x-> isfile(x) && x !== \"rest.bvh\", files_cmu));\n",
    "\n",
    "database = \"../edin-style-transfer/\"\n",
    "files_edin = [joinpath(database, f) for f in readdir(database)];"
   ]
  },
  {
   "cell_type": "markdown",
   "metadata": {},
   "source": [
    "### Read in example data"
   ]
  },
  {
   "cell_type": "code",
   "execution_count": 9,
   "metadata": {},
   "outputs": [
    {
     "data": {
      "text/plain": [
       "8-element Array{Pair{SubString{String},Int64},1}:\n",
       "     \"angry\" => 2223\n",
       " \"childlike\" => 4143\n",
       " \"depressed\" => 3820\n",
       "      \"sexy\" => 5713\n",
       "       \"old\" => 3949\n",
       "     \"proud\" => 4436\n",
       "   \"neutral\" => 3377\n",
       " \"strutting\" => 4669"
      ]
     },
     "metadata": {},
     "output_type": "display_data"
    }
   ],
   "source": [
    "# Extract exemplars for each Edinburgh style\n",
    "style_name_edin = [x[1] for x in match.(r\"\\.\\./[a-z\\-]+/([a-z]+)_.*\", files_edin)];\n",
    "styles = unique(style_name_edin)\n",
    "\n",
    "Random.seed!(12929)\n",
    "_is = [x[rand(Categorical(x/sum(x)))] for x in [findall(style_name_edin .== k) for k in styles]]\n",
    "styles_edin = Dict(style_name_edin[i] => \n",
    "    mocapio.reconstruct_raw(mocapio.process_file(files_edin[i])) for i in _is);\n",
    "display([k=>size(x,1) for (k,x) in styles_edin])"
   ]
  },
  {
   "cell_type": "code",
   "execution_count": null,
   "metadata": {},
   "outputs": [],
   "source": [
    "proc = process_file(files[40]);   # 54 = PACING/STOP, 40 = BACKWARD, 115=TRIUMPHANT, 190=TWISTY, not 198 (JUMP)!"
   ]
  },
  {
   "cell_type": "code",
   "execution_count": null,
   "metadata": {},
   "outputs": [],
   "source": []
  },
  {
   "cell_type": "markdown",
   "metadata": {},
   "source": [
    "## Look at principal components"
   ]
  },
  {
   "cell_type": "code",
   "execution_count": 12,
   "metadata": {},
   "outputs": [
    {
     "data": {
      "text/latex": [
       "\\begin{verbatim}\n",
       "construct_outputs(raw [; include_ftcontact])\n",
       "\\end{verbatim}\n",
       "Construct the output matrix for the mocap models. The input \\texttt{raw} is the raw output from the \\texttt{process\\_file} function. The function outputs the following matrix, which contains only the range of frames: \\href{i.e.}{start+69, end-60} excluding approx. the first and last second. This is in order to match with the input matrix which needs these boundaries in order to construct trajectories consistently. This function outputs a matrix with the following columns:\n",
       "\n",
       "\\begin{itemize}\n",
       "\\item (3): rotational velocity, x-velocity, z-velocity\n",
       "\n",
       "\n",
       "\\item (61): (Lagrangian) joint positions (excl. root x/z ∵ always zero)\n",
       "\n",
       "\n",
       "\\item (4): [optional] feet contacts\n",
       "\n",
       "\\end{itemize}\n",
       "These are the minimal requirements to reconstruct an animation of human motion on the target skeleton. The feet contacts are in \\{0,1\\} and may be challenging for some linear models, therefore they are optional (see named argument     \\texttt{include\\_ftcontact} (Bool)).\n",
       "\n"
      ],
      "text/markdown": [
       "```\n",
       "construct_outputs(raw [; include_ftcontact])\n",
       "```\n",
       "\n",
       "Construct the output matrix for the mocap models. The input `raw` is the raw output from the `process_file` function. The function outputs the following matrix, which contains only the range of frames: [start+69, end-60](i.e.) excluding approx. the first and last second. This is in order to match with the input matrix which needs these boundaries in order to construct trajectories consistently. This function outputs a matrix with the following columns:\n",
       "\n",
       "  * (3): rotational velocity, x-velocity, z-velocity\n",
       "  * (61): (Lagrangian) joint positions (excl. root x/z ∵ always zero)\n",
       "  * (4): [optional] feet contacts\n",
       "\n",
       "These are the minimal requirements to reconstruct an animation of human motion on the target skeleton. The feet contacts are in {0,1} and may be challenging for some linear models, therefore they are optional (see named argument     `include_ftcontact` (Bool)).\n"
      ],
      "text/plain": [
       "\u001b[36m  construct_outputs(raw [; include_ftcontact])\u001b[39m\n",
       "\n",
       "  Construct the output matrix for the mocap models. The input \u001b[36mraw\u001b[39m is the raw\n",
       "  output from the \u001b[36mprocess_file\u001b[39m function. The function outputs the following\n",
       "  matrix, which contains only the range of frames: start+69, end-60 (i.e.)\n",
       "  excluding approx. the first and last second. This is in order to match with\n",
       "  the input matrix which needs these boundaries in order to construct\n",
       "  trajectories consistently. This function outputs a matrix with the following\n",
       "  columns:\n",
       "\n",
       "    •    (3): rotational velocity, x-velocity, z-velocity\n",
       "\n",
       "    •    (61): (Lagrangian) joint positions (excl. root x/z ∵ always zero)\n",
       "\n",
       "    •    (4): [optional] feet contacts\n",
       "\n",
       "  These are the minimal requirements to reconstruct an animation of human\n",
       "  motion on the target skeleton. The feet contacts are in {0,1} and may be\n",
       "  challenging for some linear models, therefore they are optional (see named\n",
       "  argument \u001b[36minclude_ftcontact\u001b[39m (Bool))."
      ]
     },
     "execution_count": 12,
     "metadata": {},
     "output_type": "execute_result"
    }
   ],
   "source": [
    "?mocapio.construct_outputs"
   ]
  },
  {
   "cell_type": "code",
   "execution_count": 11,
   "metadata": {},
   "outputs": [],
   "source": [
    "allE = reduce(vcat, Ys);\n",
    "allE = convert(Matrix{Float32}, allE);"
   ]
  },
  {
   "cell_type": "code",
   "execution_count": 20,
   "metadata": {},
   "outputs": [
    {
     "data": {
      "image/png": "[encoded data removed]",
      "text/plain": [
       "Figure(PyObject <Figure size 300x200 with 1 Axes>)"
      ]
     },
     "metadata": {},
     "output_type": "display_data"
    }
   ],
   "source": [
    "zsc(x, dims) = (x .- mean(x, dims=dims)) ./ std(x, dims=dims)\n",
    "\n",
    "pc_all = fit(PCA, zsc(allE[:,4:63]', 1), pratio=0.999)\n",
    "\n",
    "varexpl = cumsum(principalvars(pc_all))/tvar(pc_all)\n",
    "bd=findfirst.([varexpl .> x for x in [0.9,0.95,0.99]])\n",
    "plot(1:length(varexpl), varexpl)\n",
    "gca().axhline(1, linestyle=\":\")\n",
    "for b in bd\n",
    "    plot([b,b], [varexpl[1], varexpl[b]], color=ColorMap(\"tab10\")(7), linestyle=\":\")\n",
    "    plot([.5, b], [varexpl[b], varexpl[b]], color=ColorMap(\"tab10\")(7), linestyle=\":\")\n",
    "end\n",
    "gca().set_xlim(0.5,25.5); gca().set_ylim(varexpl[1],1.025);\n",
    "gcf().set_size_inches(3,2)"
   ]
  },
  {
   "cell_type": "markdown",
   "metadata": {},
   "source": [
    "#### Note\n",
    "This is different (worse, i.e. need more PCs) than the graph I showed to Chris. This is because I was in the Eulerian frame, where direction(s) of movement probably captured most of PCs. Removing these high variance directions, common to all joints makes it much harder."
   ]
  },
  {
   "cell_type": "markdown",
   "metadata": {},
   "source": [
    "## Getting ready for training"
   ]
  },
  {
   "cell_type": "code",
   "execution_count": null,
   "metadata": {},
   "outputs": [],
   "source": [
    "# Load data from raw BVH files (1-2 mins), or load a saved version\n",
    "DATA_FROM_SAVED = true\n",
    "\n",
    "if DATA_FROM_SAVED\n",
    "    Xs = BSON.load(\"edin_Xs.bson\")[:Xs];\n",
    "    Ys = BSON.load(\"edin_Ys.bson\")[:Ys];\n",
    "else\n",
    "    Xs = map(files_edin) do f\n",
    "        proc = mocapio.process_file(f);\n",
    "        convert(Matrix{Float32}, mocapio.construct_inputs(proc))\n",
    "    end;\n",
    "    println(\"Xs finished processing...\")\n",
    "    Ys = map(files_edin) do f\n",
    "        proc = mocapio.process_file(f);\n",
    "        convert(Matrix{Float32}, \n",
    "            mocapio.construct_outputs(proc; include_ftcontact=false))\n",
    "    end;\n",
    "    println(\"Ys finished processing...\")\n",
    "    \n",
    "    println(\"Do you want to save? (y/n)\")\n",
    "    \n",
    "    for i = 1:10\n",
    "        userinput = uppercase(chomp(readline()))[1]\n",
    "        if userinput == 'Y'\n",
    "            println(\"SAVING...\")\n",
    "            BSON.bson(\"edin_Xs.bson\", Xs=Xs)\n",
    "            BSON.bson(\"edin_Ys.bson\", Ys=Ys)\n",
    "            break\n",
    "        elseif userinput == 'N'\n",
    "            break\n",
    "        end\n",
    "    end\n",
    "end"
   ]
  },
  {
   "cell_type": "markdown",
   "metadata": {},
   "source": [
    "### Need to standardize inputs and outputs"
   ]
  },
  {
   "cell_type": "code",
   "execution_count": null,
   "metadata": {},
   "outputs": [],
   "source": []
  }
 ],
 "metadata": {
  "@webio": {
   "lastCommId": null,
   "lastKernelId": null
  },
  "kernelspec": {
   "display_name": "Julia 1.1.0",
   "language": "julia",
   "name": "julia-1.1"
  },
  "language_info": {
   "file_extension": ".jl",
   "mimetype": "application/julia",
   "name": "julia",
   "version": "1.1.0"
  }
 },
 "nbformat": 4,
 "nbformat_minor": 2
}
