{
 "cells": [
  {
   "cell_type": "markdown",
   "metadata": {},
   "source": [
    "# Mocap Initial Modelling\n",
    "\n",
    "* Deterministic LDS"
   ]
  },
  {
   "cell_type": "code",
   "execution_count": 1,
   "metadata": {},
   "outputs": [
    {
     "data": {
      "text/html": [
       "<script>\n",
       "// Immediately-invoked-function-expression to avoid global variables.\n",
       "(function() {\n",
       "    var warning_div = document.getElementById(\"webio-warning-14131862993664259659\");\n",
       "    var hide = function () {\n",
       "        var script = document.getElementById(\"webio-setup-17078361031749251872\");\n",
       "        var parent = script && script.parentElement;\n",
       "        var grandparent = parent && parent.parentElement;\n",
       "        if (grandparent) {\n",
       "            grandparent.style.display = \"none\";\n",
       "        }\n",
       "        warning_div.style.display = \"none\";\n",
       "    };\n",
       "    if (typeof Jupyter !== \"undefined\") {\n",
       "        console.log(\"WebIO detected Jupyter notebook environment.\");\n",
       "        // Jupyter notebook.\n",
       "        var extensions = (\n",
       "            Jupyter\n",
       "            && Jupyter.notebook.config.data\n",
       "            && Jupyter.notebook.config.data.load_extensions\n",
       "        );\n",
       "        if (extensions && extensions[\"webio/main\"]) {\n",
       "            // Extension already loaded.\n",
       "            console.log(\"Jupyter WebIO nbextension detected; not loading ad-hoc.\");\n",
       "            hide();\n",
       "            return;\n",
       "        }\n",
       "        console.warn(\"Loading WebIO Jupyter extension on an ad-hoc basis. Consider enabling the WebIO nbextension for a stabler experience (this should happen automatically when building WebIO).\");\n",
       "        require([\"/assetserver/5794a0bf2e6325e42dc09c7369026176a04edd3e-dist/main.js\"], function (webIOModule) {\n",
       "            webIOModule.load_ipython_extension();\n",
       "        });\n",
       "        warning_div.innerHTML = \"<strong>Loading WebIO Jupyter extension on an ad-hoc basis. Consider enabling the WebIO nbextension for a stabler experience (this should happen automatically when building WebIO).</strong>\";\n",
       "    } else if (window.location.pathname.includes(\"/lab\")) {\n",
       "        // Guessing JupyterLa\n",
       "        console.log(\"Jupyter Lab detected; make sure the @webio/jupyter-lab-provider labextension is installed.\");\n",
       "        hide();\n",
       "        return;\n",
       "    }\n",
       "})();\n",
       "\n",
       "</script>\n",
       "<div\n",
       "    id=\"webio-warning-14131862993664259659\"\n",
       "    class=\"output_text output_stderr\"\n",
       "    style=\"padding: 1em; font-weight: bold;\"\n",
       ">\n",
       "    Unable to load WebIO. Please make sure WebIO works for your Jupyter client.\n",
       "    <!-- TODO: link to installation docs. -->\n",
       "</div>\n"
      ],
      "text/plain": [
       "HTML{String}(\"<script>\\n// Immediately-invoked-function-expression to avoid global variables.\\n(function() {\\n    var warning_div = document.getElementById(\\\"webio-warning-14131862993664259659\\\");\\n    var hide = function () {\\n        var script = document.getElementById(\\\"webio-setup-17078361031749251872\\\");\\n        var parent = script && script.parentElement;\\n        var grandparent = parent && parent.parentElement;\\n        if (grandparent) {\\n            grandparent.style.display = \\\"none\\\";\\n        }\\n        warning_div.style.display = \\\"none\\\";\\n    };\\n    if (typeof Jupyter !== \\\"undefined\\\") {\\n        console.log(\\\"WebIO detected Jupyter notebook environment.\\\");\\n        // Jupyter notebook.\\n        var extensions = (\\n            Jupyter\\n            && Jupyter.notebook.config.data\\n            && Jupyter.notebook.config.data.load_extensions\\n        );\\n        if (extensions && extensions[\\\"webio/main\\\"]) {\\n            // Extension already loaded.\\n            console.log(\\\"Jupyter WebIO nbextension detected; not loading ad-hoc.\\\");\\n            hide();\\n            return;\\n        }\\n        console.warn(\\\"Loading WebIO Jupyter extension on an ad-hoc basis. Consider enabling the WebIO nbextension for a stabler experience (this should happen automatically when building WebIO).\\\");\\n        require([\\\"/assetserver/5794a0bf2e6325e42dc09c7369026176a04edd3e-dist/main.js\\\"], function (webIOModule) {\\n            webIOModule.load_ipython_extension();\\n        });\\n        warning_div.innerHTML = \\\"<strong>Loading WebIO Jupyter extension on an ad-hoc basis. Consider enabling the WebIO nbextension for a stabler experience (this should happen automatically when building WebIO).</strong>\\\";\\n    } else if (window.location.pathname.includes(\\\"/lab\\\")) {\\n        // Guessing JupyterLa\\n        console.log(\\\"Jupyter Lab detected; make sure the @webio/jupyter-lab-provider labextension is installed.\\\");\\n        hide();\\n        return;\\n    }\\n})();\\n\\n</script>\\n<div\\n    id=\\\"webio-warning-14131862993664259659\\\"\\n    class=\\\"output_text output_stderr\\\"\\n    style=\\\"padding: 1em; font-weight: bold;\\\"\\n>\\n    Unable to load WebIO. Please make sure WebIO works for your Jupyter client.\\n    <!-- TODO: link to installation docs. -->\\n</div>\\n\")"
      ]
     },
     "metadata": {},
     "output_type": "display_data"
    },
    {
     "name": "stderr",
     "output_type": "stream",
     "text": [
      "┌ Info: Recompiling stale cache file /Users/alexbird/.julia/compiled/v1.1/AxUtil/zkGYv.ji for AxUtil [739e4dca-d06b-11e8-2625-cffd46b96d05]\n",
      "└ @ Base loading.jl:1184\n",
      "┌ Warning: Package AxUtil does not have ArgCheck in its dependencies:\n",
      "│ - If you have AxUtil checked out for development and have\n",
      "│   added ArgCheck as a dependency but haven't updated your primary\n",
      "│   environment's manifest file, try `Pkg.resolve()`.\n",
      "│ - Otherwise you may need to report an issue with AxUtil\n",
      "└ Loading ArgCheck into AxUtil from project dependency, future warnings for AxUtil are suppressed.\n",
      "WARNING: Method definition softmax2(Any) in module Math at /Users/alexbird/.julia/dev/AxUtil/src/math.jl:11 overwritten at deprecated.jl:55.\n",
      "WARNING: Method definition #softmax2(Any, typeof(AxUtil.Math.softmax2), Any) in module Math overwritten.\n",
      "WARNING: Method definition _forward(typeof(LinearAlgebra.logdet), Any) in module Tracker at /Users/alexbird/.julia/dev/Flux/src/tracker/lib/array.jl:131 overwritten in module Flux at /Users/alexbird/.julia/dev/AxUtil/src/flux.jl:139.\n"
     ]
    }
   ],
   "source": [
    "# using Revise\n",
    "using LinearAlgebra, Random\n",
    "using StatsBase, Statistics\n",
    "using Distributions, MultivariateStats   # Categorical, P(P)CA\n",
    "using Quaternions    # For manipulating 3D Geometry\n",
    "using MeshCat        # For web visualisation / animation\n",
    "using PyPlot         # Plotting\n",
    "using AxUtil         # Cayley, skew matrices\n",
    "using Flux           # Optimisation\n",
    "using DSP            # convolution / low-pass (MA) filter\n",
    "\n",
    "# small utils libraries\n",
    "using ProgressMeter, Formatting, ArgCheck\n",
    "using DelimitedFiles, NPZ, BSON"
   ]
  },
  {
   "cell_type": "code",
   "execution_count": 2,
   "metadata": {},
   "outputs": [
    {
     "data": {
      "text/plain": [
       "zero_grad! (generic function with 1 method)"
      ]
     },
     "execution_count": 2,
     "metadata": {},
     "output_type": "execute_result"
    }
   ],
   "source": [
    "function zero_grad!(P) \n",
    "    for x in P\n",
    "        x.grad .= 0\n",
    "    end\n",
    "end"
   ]
  },
  {
   "cell_type": "code",
   "execution_count": 3,
   "metadata": {},
   "outputs": [],
   "source": [
    "DIR_MOCAP_MTDS = \".\" \n",
    "\n",
    "# Data loading and transformation utils\n",
    "include(joinpath(DIR_MOCAP_MTDS, \"io.jl\"))\n",
    "\n",
    "# MeshCat skeleton visualisation tools\n",
    "include(joinpath(DIR_MOCAP_MTDS, \"mocap_viz.jl\"))\n",
    "\n",
    "# Data scaling utils\n",
    "include(joinpath(DIR_MOCAP_MTDS, \"util.jl\"))\n",
    "import .mocaputil: MyStandardScaler, scale_transform, invert\n",
    "import .mocaputil: OutputDifferencer, difference_transform, fit_transform\n",
    "import .mocaputil: no_pos, no_poscp"
   ]
  },
  {
   "cell_type": "markdown",
   "metadata": {},
   "source": [
    "### Load in Data\n",
    "See `2_Preprocess.ipynb`\n",
    "\n",
    "**Note that in the current harddisk state, `edin_Ys.bson` was created with `include_ftcontact=false`**\n",
    "\n",
    "\n",
    "### Additional changes since `2_Preprocess`:\n",
    "\n",
    "1. Performing a difference transform of joint positions in $Y$. Motivated by trivial predictions of copying previous frame working too well. I want to force the model to learn something.\n",
    "2. Remove joint positions entirely from inputs:\n",
    "    * Don't want prev positions for regression to output ($D$ matrix) as predicting a copy reduces the error close to zero, and makes it difficult to understand which model is performing best for the remaining delta.\n",
    "    * Also don't want in latent state, as positions have already been projected to the latent state (a linear comb) => hence colinear.\n"
   ]
  },
  {
   "cell_type": "code",
   "execution_count": 4,
   "metadata": {},
   "outputs": [],
   "source": [
    "database = \"../data/mocap/edin-style-transfer/\"\n",
    "files_edin = [joinpath(database, f) for f in readdir(database)];\n",
    "style_name_edin = [x[1] for x in match.(r\"\\.\\./[a-z\\-]+/[a-z\\-]+/[a-z\\-]+/([a-z]+)_.*\", files_edin)];\n",
    "styles = unique(style_name_edin)\n",
    "styles_lkp = [findall(s .== style_name_edin) for s in styles];"
   ]
  },
  {
   "cell_type": "code",
   "execution_count": 5,
   "metadata": {},
   "outputs": [],
   "source": [
    "Usraw = BSON.load(\"edin_Xs.bson\")[:Xs];\n",
    "Ysraw = BSON.load(\"edin_Ys.bson\")[:Ys];\n",
    "\n",
    "Ys_dtform = [fit_transform(OutputDifferencer, y) for y in Ysraw];\n",
    "Ys, dtforms = [y[2] for y in Ys_dtform], [y[1] for y in Ys_dtform];\n",
    "\n",
    "standardize_Y = fit(MyStandardScaler, reduce(vcat, Ys),  1)\n",
    "standardize_U = fit(MyStandardScaler, reduce(vcat, Usraw),  1)\n",
    "\n",
    "Ys = [scale_transform(standardize_Y, y) for y in Ys];\n",
    "Us = [scale_transform(standardize_U, u[2:end,:]) for u in Usraw];  # remove first frame too"
   ]
  },
  {
   "cell_type": "code",
   "execution_count": 6,
   "metadata": {},
   "outputs": [
    {
     "data": {
      "text/plain": [
       "invert_output_tform (generic function with 1 method)"
      ]
     },
     "execution_count": 6,
     "metadata": {},
     "output_type": "execute_result"
    }
   ],
   "source": [
    "invert_output_tform(y, i) = invert(standardize_Y, y) |> yhat -> invert(dtforms[i], yhat)"
   ]
  },
  {
   "cell_type": "markdown",
   "metadata": {},
   "source": [
    "we can reconstruct the original data via the commands:\n",
    "\n",
    "    invert_output_tform(y, i)       # for (i,y) in enumerate(Ys)\n",
    "    invert(standardize_X, x)        # for x in Xs\n",
    "    \n",
    "in the relevant array comprehensions."
   ]
  },
  {
   "cell_type": "code",
   "execution_count": 7,
   "metadata": {},
   "outputs": [
    {
     "data": {
      "text/latex": [
       "\\begin{verbatim}\n",
       "construct_inputs(raw [; direction=:relative, joint_pos=true])\n",
       "\\end{verbatim}\n",
       "Construct the input matrix for the mocap models. The input \\texttt{raw} is the raw output from the \\texttt{process\\_file} function. The function outputs the following matrix, which contains only the range of frames: \\href{i.e.}{start+69, end-60} excluding approx. the first and last second. This is in order to construct trajectories that extend ± 60 frames of the current position. (The additional is due to needing a bit extra to calculate velocity, plus some historical baggage.) Note also that the trajectory is centered at every frame at the current position and hence \\texttt{(trajectory\\_x(7), trajectory\\_z(7)) == (0.0, 0.0)}.\n",
       "\n",
       "The following columns are contained in the matrix:\n",
       "\n",
       "\\begin{itemize}\n",
       "\\item (12): ± 60 frame trajectory x-cood at step 10 intervals\n",
       "\n",
       "\n",
       "\\item (12): ± 60 frame trajectory z-cood at step 10 intervals\n",
       "\n",
       "\n",
       "\\item (12): ± 60 frame trajectory angle sin(θ) to forward\n",
       "\n",
       "\n",
       "\\item (12): ± 60 frame trajectory angle cos(θ) to forward\n",
       "\n",
       "\n",
       "\\item (12): ± 60 frame trajectory magnitude of velocity\n",
       "\n",
       "\n",
       "\\item (61): joint positions in Lagrangian frame (optional)\n",
       "\n",
       "\\end{itemize}\n",
       "The angle θ is expressed in both sine and cosine components to avoid a discontinuity when it wraps around 2π (which it sometimes does). This angle is Lagrangian in nature too: that is, θ = 0 when the skeleton is facing in exactly the same direction as it is walking (i.e. the direction of the velocity). One might prefer a Eulerian (absolute) representation instead, in which case, pass in the named argument \\texttt{direction=:absolute}.\n",
       "\n",
       "Note that there are only 61 dimensions of the joint positions as the root x,z are excluded, as they are always zero. They're excluded from the output too, which is more important: we don't want to waste strength on predicting zero. In most of my experiments, I have found that including the joint positions in the input tends to make it too easy for the model to obtain trivial predictions. To avoid returning any joint\\_positions in the input matrix, select:\n",
       "\n",
       "\\begin{verbatim}\n",
       "joint_pos=false\n",
       "\\end{verbatim}\n"
      ],
      "text/markdown": [
       "```\n",
       "construct_inputs(raw [; direction=:relative, joint_pos=true])\n",
       "```\n",
       "\n",
       "Construct the input matrix for the mocap models. The input `raw` is the raw output from the `process_file` function. The function outputs the following matrix, which contains only the range of frames: [start+69, end-60](i.e.) excluding approx. the first and last second. This is in order to construct trajectories that extend ± 60 frames of the current position. (The additional is due to needing a bit extra to calculate velocity, plus some historical baggage.) Note also that the trajectory is centered at every frame at the current position and hence `(trajectory_x(7), trajectory_z(7)) == (0.0, 0.0)`.\n",
       "\n",
       "The following columns are contained in the matrix:\n",
       "\n",
       "  * (12): ± 60 frame trajectory x-cood at step 10 intervals\n",
       "  * (12): ± 60 frame trajectory z-cood at step 10 intervals\n",
       "  * (12): ± 60 frame trajectory angle sin(θ) to forward\n",
       "  * (12): ± 60 frame trajectory angle cos(θ) to forward\n",
       "  * (12): ± 60 frame trajectory magnitude of velocity\n",
       "  * (61): joint positions in Lagrangian frame (optional)\n",
       "\n",
       "The angle θ is expressed in both sine and cosine components to avoid a discontinuity when it wraps around 2π (which it sometimes does). This angle is Lagrangian in nature too: that is, θ = 0 when the skeleton is facing in exactly the same direction as it is walking (i.e. the direction of the velocity). One might prefer a Eulerian (absolute) representation instead, in which case, pass in the named argument `direction=:absolute`.\n",
       "\n",
       "Note that there are only 61 dimensions of the joint positions as the root x,z are excluded, as they are always zero. They're excluded from the output too, which is more important: we don't want to waste strength on predicting zero. In most of my experiments, I have found that including the joint positions in the input tends to make it too easy for the model to obtain trivial predictions. To avoid returning any joint_positions in the input matrix, select:\n",
       "\n",
       "```\n",
       "joint_pos=false\n",
       "```\n"
      ],
      "text/plain": [
       "\u001b[36m  construct_inputs(raw [; direction=:relative, joint_pos=true])\u001b[39m\n",
       "\n",
       "  Construct the input matrix for the mocap models. The input \u001b[36mraw\u001b[39m is the raw\n",
       "  output from the \u001b[36mprocess_file\u001b[39m function. The function outputs the following\n",
       "  matrix, which contains only the range of frames: start+69, end-60 (i.e.)\n",
       "  excluding approx. the first and last second. This is in order to construct\n",
       "  trajectories that extend ± 60 frames of the current position. (The\n",
       "  additional is due to needing a bit extra to calculate velocity, plus some\n",
       "  historical baggage.) Note also that the trajectory is centered at every\n",
       "  frame at the current position and hence \u001b[36m(trajectory_x(7), trajectory_z(7))\n",
       "  == (0.0, 0.0)\u001b[39m.\n",
       "\n",
       "  The following columns are contained in the matrix:\n",
       "\n",
       "    •    (12): ± 60 frame trajectory x-cood at step 10 intervals\n",
       "\n",
       "    •    (12): ± 60 frame trajectory z-cood at step 10 intervals\n",
       "\n",
       "    •    (12): ± 60 frame trajectory angle sin(θ) to forward\n",
       "\n",
       "    •    (12): ± 60 frame trajectory angle cos(θ) to forward\n",
       "\n",
       "    •    (12): ± 60 frame trajectory magnitude of velocity\n",
       "\n",
       "    •    (61): joint positions in Lagrangian frame (optional)\n",
       "\n",
       "  The angle θ is expressed in both sine and cosine components to avoid a\n",
       "  discontinuity when it wraps around 2π (which it sometimes does). This angle\n",
       "  is Lagrangian in nature too: that is, θ = 0 when the skeleton is facing in\n",
       "  exactly the same direction as it is walking (i.e. the direction of the\n",
       "  velocity). One might prefer a Eulerian (absolute) representation instead, in\n",
       "  which case, pass in the named argument \u001b[36mdirection=:absolute\u001b[39m.\n",
       "\n",
       "  Note that there are only 61 dimensions of the joint positions as the root\n",
       "  x,z are excluded, as they are always zero. They're excluded from the output\n",
       "  too, which is more important: we don't want to waste strength on predicting\n",
       "  zero. In most of my experiments, I have found that including the joint\n",
       "  positions in the input tends to make it too easy for the model to obtain\n",
       "  trivial predictions. To avoid returning any joint_positions in the input\n",
       "  matrix, select:\n",
       "\n",
       "\u001b[36m  joint_pos=false\u001b[39m"
      ]
     },
     "execution_count": 7,
     "metadata": {},
     "output_type": "execute_result"
    }
   ],
   "source": [
    "?mocapio.construct_inputs"
   ]
  },
  {
   "cell_type": "code",
   "execution_count": 8,
   "metadata": {},
   "outputs": [
    {
     "data": {
      "text/latex": [
       "\\begin{verbatim}\n",
       "construct_outputs(raw [; include_ftcontact])\n",
       "\\end{verbatim}\n",
       "Construct the output matrix for the mocap models. The input \\texttt{raw} is the raw output from the \\texttt{process\\_file} function. The function outputs the following matrix, which contains only the range of frames: \\href{i.e.}{start+69, end-60} excluding approx. the first and last second. This is in order to match with the input matrix which needs these boundaries in order to construct trajectories consistently. This function outputs a matrix with the following columns:\n",
       "\n",
       "\\begin{itemize}\n",
       "\\item (3): rotational velocity, x-velocity, z-velocity\n",
       "\n",
       "\n",
       "\\item (61): (Lagrangian) joint positions (excl. root x/z ∵ always zero)\n",
       "\n",
       "\n",
       "\\item (4): [optional] feet contacts\n",
       "\n",
       "\\end{itemize}\n",
       "These are the minimal requirements to reconstruct an animation of human motion on the target skeleton. The feet contacts are in \\{0,1\\} and may be challenging for some linear models, therefore they are optional (see named argument     \\texttt{include\\_ftcontact} (Bool)).\n",
       "\n"
      ],
      "text/markdown": [
       "```\n",
       "construct_outputs(raw [; include_ftcontact])\n",
       "```\n",
       "\n",
       "Construct the output matrix for the mocap models. The input `raw` is the raw output from the `process_file` function. The function outputs the following matrix, which contains only the range of frames: [start+69, end-60](i.e.) excluding approx. the first and last second. This is in order to match with the input matrix which needs these boundaries in order to construct trajectories consistently. This function outputs a matrix with the following columns:\n",
       "\n",
       "  * (3): rotational velocity, x-velocity, z-velocity\n",
       "  * (61): (Lagrangian) joint positions (excl. root x/z ∵ always zero)\n",
       "  * (4): [optional] feet contacts\n",
       "\n",
       "These are the minimal requirements to reconstruct an animation of human motion on the target skeleton. The feet contacts are in {0,1} and may be challenging for some linear models, therefore they are optional (see named argument     `include_ftcontact` (Bool)).\n"
      ],
      "text/plain": [
       "\u001b[36m  construct_outputs(raw [; include_ftcontact])\u001b[39m\n",
       "\n",
       "  Construct the output matrix for the mocap models. The input \u001b[36mraw\u001b[39m is the raw\n",
       "  output from the \u001b[36mprocess_file\u001b[39m function. The function outputs the following\n",
       "  matrix, which contains only the range of frames: start+69, end-60 (i.e.)\n",
       "  excluding approx. the first and last second. This is in order to match with\n",
       "  the input matrix which needs these boundaries in order to construct\n",
       "  trajectories consistently. This function outputs a matrix with the following\n",
       "  columns:\n",
       "\n",
       "    •    (3): rotational velocity, x-velocity, z-velocity\n",
       "\n",
       "    •    (61): (Lagrangian) joint positions (excl. root x/z ∵ always zero)\n",
       "\n",
       "    •    (4): [optional] feet contacts\n",
       "\n",
       "  These are the minimal requirements to reconstruct an animation of human\n",
       "  motion on the target skeleton. The feet contacts are in {0,1} and may be\n",
       "  challenging for some linear models, therefore they are optional (see named\n",
       "  argument \u001b[36minclude_ftcontact\u001b[39m (Bool))."
      ]
     },
     "execution_count": 8,
     "metadata": {},
     "output_type": "execute_result"
    }
   ],
   "source": [
    "?mocapio.construct_outputs"
   ]
  },
  {
   "cell_type": "markdown",
   "metadata": {},
   "source": [
    "# Initialise LDS"
   ]
  },
  {
   "cell_type": "markdown",
   "metadata": {},
   "source": [
    "## Understand PC distribution"
   ]
  },
  {
   "cell_type": "markdown",
   "metadata": {},
   "source": [
    "#### Single-task Model"
   ]
  },
  {
   "cell_type": "code",
   "execution_count": null,
   "metadata": {},
   "outputs": [],
   "source": [
    "fig, axs = subplots(4,2,figsize=(5.5,6))\n",
    "\n",
    "for (i, ixs) in enumerate(styles_lkp)\n",
    "    cYs = reduce(vcat, Ys[ixs])\n",
    "    pc_all = fit(PCA, cYs[:,4:63]', pratio=0.999)\n",
    "\n",
    "    varexpl = cumsum(principalvars(pc_all))/tvar(pc_all)\n",
    "    bd=findfirst.([varexpl .> x for x in [0.9,0.95,0.99]])\n",
    "    axs[:][i].plot(1:length(varexpl), varexpl)\n",
    "    axs[:][i].axhline(1, linestyle=\":\")\n",
    "    for b in bd\n",
    "        axs[:][i].plot([b,b], [varexpl[1], varexpl[b]], color=ColorMap(\"tab10\")(7), linestyle=\":\")\n",
    "        axs[:][i].plot([.5, b], [varexpl[b], varexpl[b]], color=ColorMap(\"tab10\")(7), linestyle=\":\")\n",
    "        axs[:][i].text(b+0.3,varexpl[1]+0.03, b)\n",
    "    end\n",
    "    axs[:][i].set_xlim(0.5,34.5); gca().set_ylim(varexpl[1],1.025);\n",
    "    axs[:][i].xaxis.set_ticklabels([])\n",
    "    axs[:][i].set_title(styles[i])\n",
    "end\n",
    "tight_layout()"
   ]
  },
  {
   "cell_type": "markdown",
   "metadata": {},
   "source": [
    "#### Pooled Model"
   ]
  },
  {
   "cell_type": "code",
   "execution_count": null,
   "metadata": {},
   "outputs": [],
   "source": [
    "allE = reduce(vcat, Ys);\n",
    "allE = convert(Matrix{Float32}, allE);\n",
    "\n",
    "pc_all = fit(PCA, allE[:,4:63]', pratio=0.999)\n",
    "\n",
    "varexpl = cumsum(principalvars(pc_all))/tvar(pc_all)\n",
    "bd=findfirst.([varexpl .> x for x in [0.9,0.95,0.99]])\n",
    "plot(1:length(varexpl), varexpl)\n",
    "gca().axhline(1, linestyle=\":\")\n",
    "for b in bd\n",
    "    plot([b,b], [varexpl[1], varexpl[b]], color=ColorMap(\"tab10\")(7), linestyle=\":\")\n",
    "    plot([.5, b], [varexpl[b], varexpl[b]], color=ColorMap(\"tab10\")(7), linestyle=\":\")\n",
    "    text(b+0.3,varexpl[1]+0.03, b)\n",
    "end\n",
    "gca().set_xlim(0.5,37.5); gca().set_ylim(varexpl[1],1.025);\n",
    "gcf().set_size_inches(3,2)"
   ]
  },
  {
   "cell_type": "markdown",
   "metadata": {},
   "source": [
    "## LDS Initialisation\n",
    "\n",
    "\\begin{align}\n",
    "\\mathbf{x}_t &= A \\mathbf{x}_{t-1} + B \\mathbf{u}_t + \\mathbf{b}\\\\\n",
    "\\mathbf{y}_t &= C \\mathbf{x}_{t} + D \\mathbf{u}_t + \\mathbf{d}\n",
    "\\end{align}\n",
    "\n",
    "#### Initialisation\n",
    "\n",
    "Note in the below I use the SVD construction for PCA for convenience, but in general $Y$ is not centered ($\\because$ centering is done over \\emph{all} styles simultaneously; each individual will not be centered). Therefore, the below assumes this centering is done temporarily before the SVD.\n",
    "\n",
    "* $C = U_{SVD}$, where $U_{SVD}$ are the prinicipal components of $Y$.\n",
    "* $X = S_{SVD}V_{SVD}^{\\mathsf{T}}$, where $S_{SVD}$, $V_{SVD}$ are the other matrices from the SVD.\n",
    "* $X \\approx \\tilde{U}\\tilde{B} \\Rightarrow \\tilde{B} = (\\tilde{U}^{\\mathsf{T}} \\tilde{U})^{-1} \\tilde{U}^{\\mathsf{T}} X$ (Regression of $X$ on $U$). The permutation of $U$ and $B$ in the first equation follows because the obs are column-wise here, not row-wise.\n",
    "    * Here, $\\tilde{U} = \\begin{bmatrix} U & \\mathbf{1} \\end{bmatrix}$, and hence $\\tilde{B} = \\begin{bmatrix} B & \\mathbf{b} \\end{bmatrix}$"
   ]
  },
  {
   "cell_type": "markdown",
   "metadata": {},
   "source": [
    "## Single task LDS"
   ]
  },
  {
   "cell_type": "code",
   "execution_count": 11,
   "metadata": {},
   "outputs": [
    {
     "data": {
      "text/plain": [
       "lds (generic function with 1 method)"
      ]
     },
     "execution_count": 11,
     "metadata": {},
     "output_type": "execute_result"
    }
   ],
   "source": [
    "mutable struct _LDS2{T}\n",
    "    A::Matrix{T}\n",
    "    B::Matrix{T}\n",
    "    b::Vector{T}\n",
    "    C::Matrix{T}\n",
    "    D::Matrix{T}\n",
    "    d::Vector{T}\n",
    "end\n",
    "lds(::Type{Float32}) = _LDS2{Float32}(zeros(1,1), zeros(1,1), zeros(1), zeros(1,1), zeros(1,1), zeros(1))"
   ]
  },
  {
   "cell_type": "code",
   "execution_count": 12,
   "metadata": {},
   "outputs": [
    {
     "data": {
      "text/plain": [
       "rmse (generic function with 1 method)"
      ]
     },
     "execution_count": 12,
     "metadata": {},
     "output_type": "execute_result"
    }
   ],
   "source": [
    "function state_rollout(lds::_LDS2{T}, U::Matrix{T}) where T <: Real\n",
    "    d = size(lds.A,1)\n",
    "    n = size(U, 1)\n",
    "    X = Matrix{T}(undef, d, n);\n",
    "    X[:,1] = zeros(T, d)\n",
    "    for i in 2:n\n",
    "        @views X[:,i] = lds.A*X[:,i-1] + lds.B*U[i-1,:] + lds.b\n",
    "    end\n",
    "    return X\n",
    "end\n",
    "\n",
    "function lds_predict(lds::_LDS2{T}, U::Matrix{T}) where T <: Real\n",
    "    Xhat = state_rollout(lds, U);\n",
    "    lds_predict(lds, Xhat, U)\n",
    "end\n",
    "\n",
    "function lds_predict(lds::_LDS2{T}, Xhat::Matrix{T}, U::Matrix{T}) where T <: Real\n",
    "    return lds.C * Xhat[:,2:end] + lds.D * U'[:,1:end-1] .+ lds.d\n",
    "end\n",
    "\n",
    "function lds_rmse(lds::_LDS2{T}, Ys::AbstractMatrix{T}, Xhat::Matrix{T}, U::Matrix{T}) where T <: Real\n",
    "    return lds_rmse(Ys, lds_predict(lds, Xhat, U))\n",
    "end\n",
    "\n",
    "function lds_rmse(lds::_LDS2{T}, Ys::AbstractMatrix{T}, U::Matrix{T}) where T <: Real\n",
    "    return lds_rmse(Ys, lds_predict(lds, U))\n",
    "end\n",
    "\n",
    "lds_rmse(Y::AbstractMatrix, Yhat::AbstractMatrix) = rmse(Y[:,2:end] - Yhat)\n",
    "rmse(Δ::AbstractMatrix) = sqrt(mean(x->x^2, Δ))"
   ]
  },
  {
   "cell_type": "code",
   "execution_count": 13,
   "metadata": {},
   "outputs": [
    {
     "data": {
      "text/plain": [
       "14842"
      ]
     },
     "execution_count": 13,
     "metadata": {},
     "output_type": "execute_result"
    }
   ],
   "source": [
    "style_ix = 1\n",
    "cYs = Matrix(transpose(reduce(vcat, Ys[styles_lkp[style_ix]])))\n",
    "cUs = reduce(vcat, Us[styles_lkp[style_ix]])\n",
    "cUT = Matrix(cUs');\n",
    "cN = size(cYs, 2)"
   ]
  },
  {
   "cell_type": "code",
   "execution_count": 14,
   "metadata": {},
   "outputs": [
    {
     "data": {
      "text/plain": [
       "0.8295719684026693"
      ]
     },
     "execution_count": 14,
     "metadata": {},
     "output_type": "execute_result"
    }
   ],
   "source": [
    "# Simple baselines\n",
    "baselines = Dict()\n",
    "baselines[\"copy\"] = lds_rmse(cYs, cYs[:,1:end-1])\n",
    "\n",
    "cUs_m1 = cUs[1:end-1,:];\n",
    "CDd = cYs[:,2:end] / [cUs_m1'; ones(1, cN-1)]\n",
    "baselines[\"LR\"] = lds_rmse(cYs, CDd * [cUs_m1'; ones(1, cN-1)])"
   ]
  },
  {
   "cell_type": "code",
   "execution_count": 15,
   "metadata": {},
   "outputs": [
    {
     "name": "stderr",
     "output_type": "stream",
     "text": [
      "\u001b[32mProgress: 100%|█████████████████████████████████████████| Time: 0:00:18\u001b[39m\n"
     ]
    }
   ],
   "source": [
    "perf = zeros(Float32, 20, 8);\n",
    "@showprogress for n_PCs = 1:20\n",
    "    pc_all = fit(PPCA, cYs)\n",
    "    Xhat = transform(pc_all, cYs)[1:n_PCs,:];\n",
    "\n",
    "    # Process inputs\n",
    "    cUs_m1 = cUs[1:end-1,:];\n",
    "\n",
    "    # Initialise\n",
    "    cLDS = lds(Float32)\n",
    "    cLDS.C = projection(pc_all)[:,1:n_PCs] \n",
    "    cLDS.D = zeros(eltype(cYs), size(cYs, 1), size(cUs, 2))\n",
    "    cLDS.d = mean(pc_all);\n",
    "\n",
    "    ABb = Xhat[:,2:cN] / vcat(Xhat[:,1:cN-1], cUs_m1[1:cN-1,:]', ones(cN-1,1)')\n",
    "    A = svd(ABb[:,1:n_PCs]) # poor man's projection\n",
    "    cLDS.A = A.U * diagm(0=>min.(A.S, 1.0)) * A.V'\n",
    "    cLDS.B = ABb[:,n_PCs+1:end-1]\n",
    "    cLDS.b = ABb[:,end]\n",
    "    Xhat = state_rollout(cLDS, cUs);\n",
    "\n",
    "    CDd = cYs[:,2:end,] / [Xhat[:,2:end]; cUs_m1'; ones(1, cN-1)]\n",
    "    cLDS.C = CDd[:,1:n_PCs]\n",
    "    cLDS.D = CDd[:,n_PCs+1:end-1]\n",
    "    cLDS.d = CDd[:,end];\n",
    "    perf[n_PCs, 1] = lds_rmse(cLDS, Matrix(cYs), cUs)\n",
    "end "
   ]
  },
  {
   "cell_type": "code",
   "execution_count": 16,
   "metadata": {},
   "outputs": [
    {
     "data": {
      "image/png": "[encoded data removed]",
      "text/plain": [
       "Figure(PyObject <Figure size 300x200 with 1 Axes>)"
      ]
     },
     "metadata": {},
     "output_type": "display_data"
    },
    {
     "data": {
      "text/plain": [
       "PyObject <matplotlib.lines.Line2D object at 0xb5674c080>"
      ]
     },
     "execution_count": 16,
     "metadata": {},
     "output_type": "execute_result"
    }
   ],
   "source": [
    "plot(perf[:,1]); gcf().set_size_inches(3,2)\n",
    "gca().axhline(baselines[\"copy\"], linestyle=\":\")\n",
    "gca().axhline(baselines[\"LR\"], linestyle=\":\", color=\"red\")"
   ]
  },
  {
   "cell_type": "code",
   "execution_count": 394,
   "metadata": {},
   "outputs": [
    {
     "data": {
      "text/plain": [
       "0.7351767f0"
      ]
     },
     "execution_count": 394,
     "metadata": {},
     "output_type": "execute_result"
    }
   ],
   "source": [
    "n_PCs = 20\n",
    "pc_all = fit(PPCA, cYs)\n",
    "Xhat = transform(pc_all, cYs)[1:n_PCs,:];\n",
    "\n",
    "# Process inputs\n",
    "cUs_m1 = cUs[1:end-1,:];\n",
    "\n",
    "# Initialise\n",
    "cLDS = lds(Float32)\n",
    "cLDS.C = projection(pc_all)[:,1:n_PCs] \n",
    "cLDS.D = zeros(eltype(cYs), size(cYs, 1), size(cUs, 2))\n",
    "cLDS.d = mean(pc_all);\n",
    "\n",
    "# 1-step cood descent initialised from \"cheat\": proj. of *current* y_ts\n",
    "ABb = Xhat[:,2:cN] / vcat(Xhat[:,1:cN-1], cUs_m1[1:cN-1,:]', ones(cN-1,1)')\n",
    "A = svd(ABb[:,1:n_PCs]) # poor man's projection\n",
    "cLDS.A = A.U * diagm(0=>min.(A.S, 1.0)) * A.V'\n",
    "cLDS.B = ABb[:,n_PCs+1:end-1]\n",
    "cLDS.b = ABb[:,end]\n",
    "Xhat = state_rollout(cLDS, cUs);\n",
    "tmpA2 = cLDS.A;\n",
    "\n",
    "CDd = cYs[:,2:end,] / [Xhat[:,2:end]; cUs_m1'; ones(1, cN-1)]\n",
    "cLDS.C = CDd[:,1:n_PCs]\n",
    "cLDS.D = CDd[:,n_PCs+1:end-1]\n",
    "cLDS.d = CDd[:,end];\n",
    "\n",
    "# fix rotational degeneracy\n",
    "Asvd = svd(cLDS.A)\n",
    "\n",
    "cLDS.A = diagm(0=>Asvd.S) * Asvd.V' * Asvd.U\n",
    "cLDS.B = Asvd.U' * cLDS.B\n",
    "cLDS.b = Asvd.U' * cLDS.b\n",
    "cLDS.C = cLDS.C * Asvd.U\n",
    "\n",
    "lds_rmse(cLDS, Matrix(cYs), cUs)"
   ]
  },
  {
   "cell_type": "code",
   "execution_count": 125,
   "metadata": {},
   "outputs": [
    {
     "data": {
      "text/plain": [
       "make_nograd (generic function with 1 method)"
      ]
     },
     "execution_count": 125,
     "metadata": {},
     "output_type": "execute_result"
    }
   ],
   "source": [
    "abstract type myLDS end\n",
    "\n",
    "mutable struct myLDS_ng{T} <: myLDS\n",
    "    a::AbstractVector{T}\n",
    "    B::AbstractMatrix{T}\n",
    "    b::AbstractVector{T}\n",
    "    C::AbstractMatrix{T}\n",
    "    D::AbstractMatrix{T}\n",
    "    d::AbstractVector{T}\n",
    "    h::AbstractVector{T}\n",
    "end\n",
    "\n",
    "mutable struct myLDS_g{T} <: myLDS\n",
    "    a::TrackedVector{T}\n",
    "    B::TrackedMatrix{T}\n",
    "    b::TrackedVector{T}\n",
    "    C::TrackedMatrix{T}\n",
    "    D::TrackedMatrix{T}\n",
    "    d::TrackedVector{T}\n",
    "    h::TrackedVector{T}\n",
    "end\n",
    "\n",
    "Base.eltype(s::myLDS_g{T}) where T <: Real = T\n",
    "Base.eltype(s::myLDS_ng{T}) where T <: Real = T\n",
    "Base.size(s::myLDS) = (size(s.B, 1), size(s.C, 1), size(s.D, 2))\n",
    "Base.size(s::myLDS, d)::Int = (size(s.B, 1), size(s.C, 1), size(s.D, 2))[d]\n",
    "\n",
    "Flux.mapleaves(s::myLDS, f::Function) = typeof(s)(f(s.a), f(s.B), f(s.b), f(s.C), f(s.D), f(s.d), f(s.h))\n",
    "Base.copy(s::myLDS) = Flux.mapleaves(s, deepcopy)\n",
    "\n",
    "has_grad(s::myLDS_g) = true\n",
    "has_grad(s::myLDS_ng) = false\n",
    " \n",
    "function make_grad(s::myLDS_ng) \n",
    "    f = Flux.param\n",
    "    myLDS_g{eltype(s)}(f(s.a), f(s.B), f(s.b), f(s.C), f(s.D), f(s.d), f(s.h))\n",
    "end\n",
    "\n",
    "function make_nograd(s::myLDS_g)\n",
    "    f = Tracker.data\n",
    "    myLDS_ng{eltype(s)}(f(s.a), f(s.B), f(s.b), f(s.C), f(s.D), f(s.d), f(s.h))\n",
    "end"
   ]
  },
  {
   "cell_type": "code",
   "execution_count": 459,
   "metadata": {},
   "outputs": [
    {
     "data": {
      "text/plain": [
       "init_LDS_spectral (generic function with 1 method)"
      ]
     },
     "execution_count": 459,
     "metadata": {},
     "output_type": "execute_result"
    }
   ],
   "source": [
    "function init_LDS(dest_T::DataType, Asvd::SVD, B::AbstractMatrix{T}, b::AbstractVector{T}, \n",
    "        C::AbstractMatrix{T}, D::AbstractMatrix{T}, d::AbstractVector{T}) where T <: AbstractFloat\n",
    "    \"\"\"\n",
    "    Note because of the clamping of singular values, the init A will generally be a little different.\n",
    "    \"\"\"\n",
    "    d_state = size(B, 1)\n",
    "    Q       = Asvd.V'*Asvd.U\n",
    "    num_neg = sum(isapprox.(real.(eigvals(Q)), -1))\n",
    "    J_neg   = vcat(-ones(dest_T, num_neg), ones(dest_T, d_state-num_neg))\n",
    "    svals   = J_neg .* atanh.(clamp.(Asvd.S, 1e-3, 1-1e-3))\n",
    "    cayley_init = AxUtil.Math.inverse_cayley_orthog(f64(J_neg .* Q))*10 # *10 ∵ rescales later\n",
    "    a       = vcat(svals, cayley_init)\n",
    "    return myLDS_ng{dest_T}(a, B, b, C, D, d, zeros(dest_T, d_state))\n",
    "end\n",
    "\n",
    "\n",
    "function init_LDS(dest_T::DataType, A::AbstractMatrix{T}, B::AbstractMatrix{T}, b::AbstractVector{T}, \n",
    "        C::AbstractMatrix{T}, D::AbstractMatrix{T}, d::AbstractVector{T}) where T <: AbstractFloat\n",
    "    \"\"\"\n",
    "    Note that this routine *WILL NOT* return an LDS with the *SAME* parameters as given;\n",
    "    rather it will return an *EQUIVALENT* parameterisation in the format the training\n",
    "    expects, exploiting the rotational degeneracy. If the predictions are significantly\n",
    "    different, there is something wrong with the functions, but A, B, b, C will essentially\n",
    "    always be different.\n",
    "    \"\"\"\n",
    "    Asvd = svd(A)\n",
    "    lds  = init_LDS(T, Asvd, B, b, C, D, d)\n",
    "    lds.B = Asvd.U' * lds.B\n",
    "    lds.b = Asvd.U' * lds.b\n",
    "    lds.C = lds.C * Asvd.U\n",
    "    return lds\n",
    "end\n",
    "\n",
    "function init_LDS(A::AbstractMatrix{T}, B::AbstractMatrix{T}, b::AbstractVector{T}, \n",
    "        C::AbstractMatrix{T}, D::AbstractMatrix{T}, d::AbstractVector{T}) where T <: AbstractFloat\n",
    "    init_LDS(T, A, B, b, C, D, d)\n",
    "end\n",
    "\n",
    "function init_LDS_spectral(Y::AbstractMatrix{T}, U::AbstractMatrix{T}, k::Int) where T <: AbstractFloat\n",
    "    @argcheck size(Y,2) == size(U,2)\n",
    "    cT(x) = convert(Array{T}, x)\n",
    "    \n",
    "    pc_all = fit(PPCA, Y)\n",
    "    Xhat = transform(pc_all, Y)[1:k,:];\n",
    "    \n",
    "    N = size(Y, 2)\n",
    "    d_in = size(U, 1)\n",
    "    \n",
    "    # Process inputs\n",
    "    cUs_m1 = U[:, 1:N-1];\n",
    "\n",
    "    # Initialise emission\n",
    "    C = projection(pc_all)[:,1:k] \n",
    "    D = zeros(T, N, d_in)\n",
    "    d = mean(pc_all);\n",
    "    \n",
    "    # 1-step cood descent initialised from \"cheat\": proj. of *current* y_ts\n",
    "    ABb = Xhat[:, 2:N] / vcat(Xhat[:, 1:N-1], cUs_m1[:,1:N-1], ones(T, N-1,1)')\n",
    "    \n",
    "    # poor man's stable projection\n",
    "    Asvd = svd(ABb[:, 1:k])\n",
    "    A = Asvd.U * diagm(0=>min.(Asvd.S, 1)) * Asvd.V' |> cT\n",
    "    \n",
    "    # rest of dynamics\n",
    "    B = ABb[:,k+1:end-1] |> cT\n",
    "    b = ABb[:,end] |> cT\n",
    "    \n",
    "    # state rollout\n",
    "    Xhat = Matrix{T}(undef, k, N);\n",
    "    Xhat[:,1] = zeros(T, k)\n",
    "    for i in 2:N\n",
    "        @views Xhat[:,i] = A*Xhat[:,i-1] + B*U[:,i-1] + b\n",
    "    end\n",
    "    \n",
    "    # regression of emission pars to current latent Xs\n",
    "    CDd = Y[:, 2:end] / [Xhat[:, 2:end]; cUs_m1; ones(1, N-1)]\n",
    "    C = CDd[:, 1:k]\n",
    "    D = CDd[:, k+1:end-1]\n",
    "    d = CDd[:, end];\n",
    "    \n",
    "    # fix rotational degeneracy\n",
    "    Asvd = svd(A)\n",
    "    A = diagm(0=>Asvd.S) * Asvd.V' * Asvd.U\n",
    "    B = Asvd.U' * B\n",
    "    b = Asvd.U' * b\n",
    "    C = C * Asvd.U\n",
    "    B, b, C, D, d = B |>cT, b |>cT, C |>cT, D |>cT, d |>cT\n",
    "    init_LDS(T, Asvd, B, b, C, D, d)\n",
    "end"
   ]
  },
  {
   "cell_type": "code",
   "execution_count": 77,
   "metadata": {},
   "outputs": [],
   "source": [
    "mutable struct LDSCell{T}\n",
    "    A::TrackedArray{T}\n",
    "    B::TrackedArray{T}\n",
    "    b::TrackedArray{T}\n",
    "end\n",
    "\n",
    "# Operation\n",
    "function (m::LDSCell)(h, u)\n",
    "    A, B, b = m.A, m.B, m.b\n",
    "    h = A * h + B * u + b\n",
    "    return h, h\n",
    "end"
   ]
  },
  {
   "cell_type": "code",
   "execution_count": 110,
   "metadata": {},
   "outputs": [],
   "source": [
    "function Astable(ψ, d)\n",
    "    n_skew = Int(d*(d-1)/2)\n",
    "    x_S, x_V = ψ[1:d], ψ[d+1:d+n_skew]\n",
    "    V = AxUtil.Math.cayley_orthog(x_V/10, d)\n",
    "    S = AxUtil.Flux.diag0(tanh.(x_S))\n",
    "    return S * V\n",
    "end\n",
    "\n",
    "Astable(s::myLDS) = Astable(s.a, size(s, 1))\n",
    "\n",
    "\n",
    "function state_rollout(lds::myLDS_g{T}, U::AbstractMatrix{T}) where T <: AbstractFloat    \n",
    "    d = size(lds, 1)\n",
    "    n = size(U, 2)\n",
    "    A = Astable(lds)\n",
    "    ldscell = LDSCell(A, lds.B, lds.b)\n",
    "    ldscell = Flux.Recur(ldscell, lds.h, lds.h)\n",
    "    return hcat([ldscell(U[:,i]) for i in 1:n]...)\n",
    "end\n",
    "\n",
    "\n",
    "function state_rollout(lds::myLDS_ng{T}, U::AbstractMatrix{T}) where T <: AbstractFloat\n",
    "    d = size(lds, 1)\n",
    "    n = size(U, 2)\n",
    "    A = Astable(lds)\n",
    "    \n",
    "    X = Matrix{T}(undef, d, n);\n",
    "    X[:,1] = A*lds.h + lds.B*U[:, 1] + lds.b\n",
    "    \n",
    "    for i in 2:n\n",
    "        @views X[:,i] = A*X[:,i-1] + lds.B*U[:, i] + lds.b\n",
    "    end\n",
    "    return X\n",
    "end\n",
    "\n",
    "(lds::myLDS_ng)(U) = let X = state_rollout(lds, U); lds.C * X + lds.D * U .+ lds.d; end\n",
    "(lds::myLDS_g)(U)  = let X = state_rollout(lds, U); lds.C * X + lds.D * U .+ lds.d; end"
   ]
  },
  {
   "cell_type": "code",
   "execution_count": 193,
   "metadata": {},
   "outputs": [],
   "source": [
    "clds = init_LDS_spectral(cYs, cUT, 20);"
   ]
  },
  {
   "cell_type": "code",
   "execution_count": 463,
   "metadata": {
    "scrolled": true
   },
   "outputs": [
    {
     "data": {
      "text/plain": [
       "4-element Array{Float32,1}:\n",
       " 0.83572495\n",
       " 0.80990446\n",
       " 0.7853549 \n",
       " 0.7682907 "
      ]
     },
     "execution_count": 463,
     "metadata": {},
     "output_type": "execute_result"
    }
   ],
   "source": [
    "[rmse(init_LDS_spectral(cYs, cUT, k)(cUT) - cYs) for k in 5:5:20]"
   ]
  },
  {
   "cell_type": "code",
   "execution_count": 87,
   "metadata": {},
   "outputs": [
    {
     "data": {
      "text/plain": [
       "5×300 Array{Float32,2}:\n",
       " 0.0   0.0514609    0.108566      0.162918    …  0.318279  0.337269  0.352819\n",
       " 0.0  -0.00493759  -0.00558627   -0.00198886     0.189111  0.181016  0.177238\n",
       " 0.0   0.00460963   0.000154983  -0.0108197      0.365965  0.36712   0.356941\n",
       " 0.0  -0.0498599   -0.099408     -0.140222       0.18941   0.148758  0.105772\n",
       " 0.0  -0.00814128   0.0194679     0.0454803      0.285359  0.307605  0.330039"
      ]
     },
     "execution_count": 87,
     "metadata": {},
     "output_type": "execute_result"
    }
   ],
   "source": [
    "state_rollout(cLDS, cUs[1:300,:])"
   ]
  },
  {
   "cell_type": "code",
   "execution_count": 621,
   "metadata": {},
   "outputs": [],
   "source": [
    "mutable struct LDSCellState{T}\n",
    "    A::Union{AbstractArray{T}, TrackedArray{T}}\n",
    "    B::Union{AbstractArray{T}, TrackedArray{T}}\n",
    "    b::Union{AbstractArray{T}, TrackedArray{T}}\n",
    "    h::Array{T,1}  \n",
    "end\n",
    "\n",
    "# Operation\n",
    "function (m::LDSCellState)(h, u)\n",
    "    A, B, b = m.A, m.B, m.b\n",
    "    h = A * h + B * u + b\n",
    "    return h, h\n",
    "end\n",
    "par(s::LDSCellState) = Flux.params(s.B, s.b)\n",
    "Flux.hidden(m::LDSCellState) = m.h\n",
    "\n",
    "function Astable(ψ, d)\n",
    "    n_skew = Int(d*(d-1)/2)\n",
    "    x_S, x_V = ψ[1:d], ψ[d+1:d+n_skew]\n",
    "    V = AxUtil.Math.cayley_orthog(x_V/10, d)\n",
    "    S = AxUtil.Flux.diag0(σ.(x_S))\n",
    "    return S * V\n",
    "end\n",
    "\n",
    "function LDSFlux(ldscell, emission, D, U, a, D_neg, h0)\n",
    "    n = size(U, 2)\n",
    "    d = size(ldscell.A, 1)\n",
    "    ldscell.A = D_neg * Astable(a, d)\n",
    "    lds = Flux.Recur(ldscell, h0, h0)\n",
    "    latents = hcat([lds(U[:,i]) for i in 1:n]...)\n",
    "    return emission(latents) + D*U\n",
    "end\n",
    "\n",
    "function LDSFlux_ng(ldscell, emission, D, U, a, D_neg, h0; return_latents=false)\n",
    "    n = size(U, 2)\n",
    "    d = size(ldscell.A, 1)\n",
    "    ldscell.A = D_neg * Astable(a, d)\n",
    "    latents = Matrix{eltype(U)}(undef, d, n)\n",
    "    h = h0\n",
    "    for i in 1:n\n",
    "        h = ldscell.A * h + ldscell.B * view(U,:,i) + ldscell.b\n",
    "        latents[:,i] = h\n",
    "    end\n",
    "    out = emission(latents) + D*U\n",
    "    return return_latents ? (out, latents) : out\n",
    "end\n",
    "\n",
    "Flux.mapleaves(m::LDSCellState, f) = LDSCellState(f(m.A), f(m.B), f(m.b), f(m.h))"
   ]
  },
  {
   "cell_type": "markdown",
   "metadata": {},
   "source": [
    "## Initialising the Transition Matrix\n",
    "\n",
    "The transition matrix will be parameterised as:\n",
    "\n",
    "$$ A = D(\\psi_2) Q(\\psi_1) $$\n",
    "\n",
    "where $D$ is a diagonal matrix with elements in $[0,1]$ and $Q$ is a special orthogonal matrix with determinant $+1$. Our goal will be to use the initialisation calculated above, coerced into this form.\n",
    "\n",
    "Unfortunately, we are just as likely to have an initial $A_0$ with determinant $-1$ as $+1$. My previous arguments about measure zero $\\lambda = 1 - 0i$ are not true. It appears that reflections are commonly learned. Therefore, we must deal with this issue later. But first:\n",
    "\n",
    "Decompose:\n",
    "$$ A_0 = U_0 S_0 V_0^T $$\n",
    "\n",
    "Then $D(\\psi_2) = S_0$ and $Q(\\psi_1) = U_0 V_0^T$.\n",
    "\n",
    "\n",
    "### Diagonal Matrix\n",
    "If parameterising the diagonal of $D$ with a sigmoid nonlinearity, we must apply the inverse sigmoid to $\\text{diag}(S)$, i.e. $\\sigma^{-1}(y) = \\ln\\left(\\frac{y}{1-y}\\right)$. Care must be taken to avoid the endpoints $y \\in \\{0, 1\\}$ for numerical reasons, but also because it is not sensible to initialise to a position with no gradient. I have used a minimum distance from the boundaries of $10^{-3}$ (which translates to $x \\approx \\pm 6.9$). \n",
    "\n",
    "\n",
    "### Orthogonal Matrix\n",
    "In order to obtain the Cayley parameterisation of $Q = U_0 V_0^T$ we take the inverse Cayley transformation $S = (I - Q)(I + Q)^{-1}$ to obtain the skew-symmetric matrix $S$ which corresponds 1-to-1 to $Q$. We can then simply extract the lower triangular elements of $S$ as the unique $d(d-1)/2$ elements parameterising $Q$. If these parameters are $\\psi_1$, I will write this as $\\psi_1 = \\text{cayley}^{-1}(Q)$. However, as we have said above, this is insufficient for obtaining a Cayley parameterisation of the estimate $A_0$ in general, since we exclude any $A_0$ s.t. $\\det(A_0) = -1$. Ferrar (1950) tells us that a general orthogonal matrix can be parameterised as $J(I-S)(I+S)^{-1}$, where $J$ is a diagonal matrix with elements in $\\{+1, -1\\}$. Crucially we need as many negative elements ($-1$) as their are negative roots of $Q_0$ and we may choose them for convenience to precede all of the positive elements in $J$.\n",
    "\n",
    "#### Corollary\n",
    "\n",
    "1. $ A = D(\\psi_2) Q(\\psi_1) $ as before, but now with $D$ containing elements in $[-1,1]$ is sufficient to parameterise *any* orthogonal matrix. Note that we may instead use $\\tanh$ instead of $\\sigma$ to achieve this.\n",
    "2. For the problem at hand, we need a *special* orthogonal matrix in order to apply the inverse Cayley transform. Now we know that $Q$ can be represented as \n",
    "    $$Q = J\\tilde{Q}$$\n",
    "    for $\\tilde{Q} \\in SO(d)$. Then clearly $\\tilde{Q} = JQ$ and hence we have that \n",
    "    $$Q = J\\,\\text{cayley}\\left(\\text{cayley}^{-1}(JQ)\\right).$$\n",
    "\n",
    "Therefore we can parameterise $A_0 = J\\,D(\\psi_2) Q(\\psi_1)$ where $\\psi_1 =  \\text{cayley}^{-1}(JQ)$ where $J$ is a $\\{+1,-1\\}$ diagonal calculated directly from the eigenvalues of $Q=U_0 V_0^T$.\n"
   ]
  },
  {
   "cell_type": "code",
   "execution_count": 669,
   "metadata": {},
   "outputs": [
    {
     "ename": "ErrorException",
     "evalue": "invalid redefinition of constant myLDS",
     "output_type": "error",
     "traceback": [
      "invalid redefinition of constant myLDS",
      "",
      "Stacktrace:",
      " [1] top-level scope at none:0"
     ]
    }
   ],
   "source": [
    "mutable struct myLDS{T}\n",
    "    a::AbstractVector{T}\n",
    "    B::AbstractMatrix{T}\n",
    "    b::AbstractVector{T}\n",
    "    C::AbstractMatrix{T}\n",
    "    D::AbstractMatrix{T}\n",
    "    d::AbstractVector{T}\n",
    "    J_neg::Vector{T}\n",
    "end\n",
    "\n",
    "function init_LDS(dest_T::DataType, A::AbstractMatrix{T}, B::AbstractMatrix{T}, b::AbstractVector{T}, \n",
    "        C::AbstractMatrix{T}, D::AbstractMatrix{T}, d::AbstractVector{T}) where T <: AbstractFloat\n",
    "    σ⁻(y)   = log(y/(1-y))   # inverse (can't superscript {-1}!)\n",
    "    d_state = size(A, 1)\n",
    "    Asvd    = svd(A)\n",
    "    Q       = Asvd.V'*Asvd.U\n",
    "    num_neg = sum(isapprox.(real.(eigvals(Q)), -1))\n",
    "    J_neg   = vcat(-ones(dest_T, num_neg), ones(dest_T, d_state-num_neg))\n",
    "    cayley_init = AxUtil.Math.inverse_cayley_orthog(J_neg .* Q)*10 # *10 ∵ rescales later\n",
    "    a       = vcat(svals, cayley_init)\n",
    "    return myLDS{dest_T}(a, B, b, C, D, d, J_neg)\n",
    "end\n",
    "\n",
    "function init_LDS(A::AbstractMatrix{T}, B::AbstractMatrix{T}, b::AbstractVector{T}, \n",
    "        C::AbstractMatrix{T}, D::AbstractMatrix{T}, d::AbstractVector{T}) where T <: AbstractFloat\n",
    "    init_LDS(T, A, B, b, C, D, d)\n",
    "end\n",
    "\n",
    "\n",
    "isf=Tracker.istracked    #isflux-ed\n",
    "Flux.mapleaves(s::myLDS, f::Function) = myLDS{eltype(s)}(f(s.a), f(s.B), f(s.b), f(s.C), f(s.D), f(s.d), s.J_neg)\n",
    "eachistracked(s::myLDS) = (isf(s.a), isf(s.B), isf(s.b), isf(s.C), isf(s.D), isf(s.d))\n",
    "Tracker.istracked(s::myLDS) = let t=eachistracked(s); \n",
    "    @assert len(unique(t))==1 \"mixed flux/not-flux\"; unique(t)[1]; end"
   ]
  },
  {
   "cell_type": "code",
   "execution_count": 668,
   "metadata": {},
   "outputs": [
    {
     "data": {
      "text/plain": [
       "1-element Array{Bool,1}:\n",
       " true"
      ]
     },
     "execution_count": 668,
     "metadata": {},
     "output_type": "execute_result"
    }
   ],
   "source": [
    "unique((true, true, true, true))"
   ]
  },
  {
   "cell_type": "code",
   "execution_count": 665,
   "metadata": {},
   "outputs": [
    {
     "data": {
      "text/plain": [
       "false"
      ]
     },
     "execution_count": 665,
     "metadata": {},
     "output_type": "execute_result"
    }
   ],
   "source": [
    "Tracker.istracked(randn(3,3))"
   ]
  },
  {
   "cell_type": "code",
   "execution_count": 653,
   "metadata": {},
   "outputs": [
    {
     "data": {
      "text/plain": [
       "20"
      ]
     },
     "execution_count": 653,
     "metadata": {},
     "output_type": "execute_result"
    }
   ],
   "source": [
    "init_LDS(cLDS.A, cLDS.B, cLDS.b, cLDS.C, cLDS.D, cLDS.d)"
   ]
  },
  {
   "cell_type": "code",
   "execution_count": null,
   "metadata": {},
   "outputs": [],
   "source": [
    "function Astable(ψ, d)\n",
    "    n_skew = Int(d*(d-1)/2)\n",
    "    x_S, x_V = ψ[1:d], ψ[d+1:d+n_skew]\n",
    "    V = AxUtil.Math.cayley_orthog(x_V/10, d)\n",
    "    S = AxUtil.Flux.diag0(σ.(x_S))\n",
    "    return S * V\n",
    "end\n",
    "\n",
    "function LDSFlux(ldscell, emission, D, U, a, D_neg, h0)\n",
    "    n = size(U, 2)\n",
    "    d = size(ldscell.A, 1)\n",
    "    ldscell.A = D_neg * Astable(a, d)\n",
    "    lds = Flux.Recur(ldscell, h0, h0)\n",
    "    latents = hcat([lds(U[:,i]) for i in 1:n]...)\n",
    "    return emission(latents) + D*U\n",
    "end\n",
    "\n",
    "function LDSFlux_ng(ldscell, emission, D, U, a, D_neg, h0; return_latents=false)\n",
    "    n = size(U, 2)\n",
    "    d = size(ldscell.A, 1)\n",
    "    ldscell.A = D_neg * Astable(a, d)\n",
    "    latents = Matrix{eltype(U)}(undef, d, n)\n",
    "    h = h0\n",
    "    for i in 1:n\n",
    "        h = ldscell.A * h + ldscell.B * view(U,:,i) + ldscell.b\n",
    "        latents[:,i] = h\n",
    "    end\n",
    "    out = emission(latents) + D*U\n",
    "    return return_latents ? (out, latents) : out\n",
    "end"
   ]
  },
  {
   "cell_type": "code",
   "execution_count": null,
   "metadata": {},
   "outputs": [],
   "source": [
    "@time h = begin\n",
    "    n_epochs = 150\n",
    "    history = zeros(n_epochs*58)\n",
    "    T = Float64\n",
    "    N = size(cYs, 2)\n",
    "    d = n_PCs\n",
    "    \n",
    "    # Get orthogonal initialisation\n",
    "#     σ⁻(y) = log(y/(1-y))\n",
    "#     _Q = Asvd.V'*Asvd.U\n",
    "#     num_neg = sum(isapprox.(real.(eigvals(_Q)), -1))\n",
    "#     D_neg = diagm(0=>vcat(-ones(num_neg), ones(d-num_neg)))\n",
    "#     svals = σ⁻.(clamp.(Asvd.S, 1e-3, 1-1e-3))\n",
    "#     cayley_init = AxUtil.Math.inverse_cayley_orthog(D_neg * _Q)*10\n",
    "#     a = Flux.param(vcat(svals, cayley_init))\n",
    "    \n",
    "#     lds_cell = LDSCellState{T}(Flux.param(cLDS.A) |> f64, Flux.param(cLDS.B)  |> f64, \n",
    "#         Flux.param(cLDS.b) |> f64, zeros(T, d))\n",
    "#     emission = Dense(d, size(cYs,1), identity) |> f64\n",
    "#     emission.W.data .= cLDS.C |> f64\n",
    "#     emission.b.data .= cLDS.d |> f64\n",
    "#     D = Flux.param(cLDS.D |> f64)\n",
    "#     ps = Flux.params(D, emission, lds_cell.B, lds_cell.b, a) \n",
    "\n",
    "#     opt = ADAM(1e-4)\n",
    "    opt.eta = 3e-5 /3\n",
    "#     opt.eta *= 2\n",
    "    for ee in 1:n_epochs\n",
    "        if ee % 100 == 0\n",
    "            opt.eta /= 1.5\n",
    "            printfmtln(\"Changed learning rate!\")\n",
    "        end\n",
    "        batch_order = randperm(58)\n",
    "        for tt in batch_order\n",
    "            ixs = (256*(tt-1)+1):min(256*tt, N)\n",
    "            _cY, _cU = cYs[:,ixs[2:end]], cUT[:, ixs[1:end-1]]\n",
    "            Yhat = LDSFlux(lds_cell, emission, D, _cU, a, D_neg, zeros(d))\n",
    "            obj = mean(x->x^2, _cY - Yhat)\n",
    "            history[(ee-1)*58 + tt] = obj.data\n",
    "            Tracker.back!(obj)\n",
    "            for p in ps\n",
    "#                 display(Tracker.grad(p))\n",
    "                Tracker.update!(opt, p, -Tracker.grad(p))\n",
    "            end\n",
    "        end\n",
    "        println(sqrt(mean(history[(1:58) .+ 58*(ee-1)])))\n",
    "    end\n",
    "    history\n",
    "end;"
   ]
  },
  {
   "cell_type": "code",
   "execution_count": 254,
   "metadata": {},
   "outputs": [
    {
     "name": "stdout",
     "output_type": "stream",
     "text": [
      "Max element change in D: 0.12327\n",
      "Max element change in C: 0.31207\n",
      "Max element change in d: 0.02356\n",
      "Max element change in B: 1.51097e-02\n",
      "Max element change in b: 1.17307e-02\n",
      "Max element change in a: 3.25842e-01\n"
     ]
    }
   ],
   "source": [
    "printfmtln(\"Max element change in D: {:.5f}\", maximum(abs.(D.data - cLDS.D)))\n",
    "printfmtln(\"Max element change in C: {:.5f}\", maximum(abs.(emission.W.data - cLDS.C)))\n",
    "printfmtln(\"Max element change in d: {:.5f}\", maximum(abs.(emission.b.data - cLDS.d)))\n",
    "printfmtln(\"Max element change in B: {:.5e}\", maximum(abs.(lds_cell.B.data - cLDS.B)))\n",
    "printfmtln(\"Max element change in b: {:.5e}\", maximum(abs.(lds_cell.b.data - cLDS.b)))\n",
    "printfmtln(\"Max element change in a: {:.5e}\", maximum(abs.(a.data - vcat(svals, cayley_init))))"
   ]
  },
  {
   "cell_type": "code",
   "execution_count": 628,
   "metadata": {},
   "outputs": [
    {
     "data": {
      "text/plain": [
       "0.706677424464299"
      ]
     },
     "execution_count": 628,
     "metadata": {},
     "output_type": "execute_result"
    }
   ],
   "source": [
    "# cY, _cU = cYs[:,ixs[2:end]], cUT[:, ixs[1:end-1]]\n",
    "Yhat, Xhat = LDSFlux_ng(mapleaves(lds_cell, Tracker.data), \n",
    "                mapleaves(Tracker.data, emission), \n",
    "                D.data, cUT, a.data, D_neg, zeros(d); return_latents=true);\n",
    "\n",
    "lds_rmse(cYs, Yhat[:,1:end-1])"
   ]
  },
  {
   "cell_type": "code",
   "execution_count": null,
   "metadata": {},
   "outputs": [],
   "source": []
  },
  {
   "cell_type": "code",
   "execution_count": 626,
   "metadata": {},
   "outputs": [
    {
     "data": {
      "text/plain": [
       "0.706677424464299"
      ]
     },
     "execution_count": 626,
     "metadata": {},
     "output_type": "execute_result"
    }
   ],
   "source": [
    "Yhat = LDSFlux_ng(mapleaves(lds_cell, Tracker.data), \n",
    "                mapleaves(Tracker.data, emission), \n",
    "                D.data, cUT, a.data, D_neg, zeros(d));\n",
    "\n",
    "# perf[n_PCs,1] = lds_rmse(cYs, Yhat[:,1:end-1])"
   ]
  },
  {
   "cell_type": "code",
   "execution_count": 328,
   "metadata": {},
   "outputs": [],
   "source": [
    "Yhat_r = invert_output_tform(Matrix(Yhat'), 1);       # for (i,y) in enumerate(Ys)"
   ]
  },
  {
   "cell_type": "code",
   "execution_count": 414,
   "metadata": {},
   "outputs": [
    {
     "data": {
      "text/plain": [
       "4×8 Array{Float32,2}:\n",
       " 0.736878  0.0  0.0  0.0  0.0  0.0  0.0  0.0\n",
       " 0.698506  0.0  0.0  0.0  0.0  0.0  0.0  0.0\n",
       " 0.678926  0.0  0.0  0.0  0.0  0.0  0.0  0.0\n",
       " 0.665842  0.0  0.0  0.0  0.0  0.0  0.0  0.0"
      ]
     },
     "execution_count": 414,
     "metadata": {},
     "output_type": "execute_result"
    }
   ],
   "source": [
    "perf[5:5:20,:]"
   ]
  },
  {
   "cell_type": "code",
   "execution_count": 419,
   "metadata": {},
   "outputs": [
    {
     "data": {
      "image/png": "[encoded data removed]",
      "text/plain": [
       "Figure(PyObject <Figure size 300x200 with 1 Axes>)"
      ]
     },
     "metadata": {},
     "output_type": "display_data"
    },
    {
     "data": {
      "text/plain": [
       "PyObject <matplotlib.lines.Line2D object at 0xb6307e8d0>"
      ]
     },
     "execution_count": 419,
     "metadata": {},
     "output_type": "execute_result"
    }
   ],
   "source": [
    "plot(0:5:20, vcat(baselines[\"LR\"], perf[5:5:20,1])); \n",
    "gcf().set_size_inches(3,2)\n",
    "gca().axhline(baselines[\"copy\"], linestyle=\":\")\n",
    "gca().axhline(baselines[\"LR\"], linestyle=\":\", color=\"red\")"
   ]
  },
  {
   "cell_type": "code",
   "execution_count": 276,
   "metadata": {},
   "outputs": [
    {
     "data": {
      "text/plain": [
       "(64, 2816)"
      ]
     },
     "execution_count": 276,
     "metadata": {},
     "output_type": "execute_result"
    }
   ],
   "source": [
    "size(Ys[1]')"
   ]
  },
  {
   "cell_type": "code",
   "execution_count": null,
   "metadata": {},
   "outputs": [],
   "source": [
    "fig, axs = subplots(5,4,figsize=(10,10))\n",
    "offset = 0\n",
    "offset_tt = 1000\n",
    "for i = 1:20\n",
    "    axs[:][i].plot(Ys[1][(1:300) .+ offset_tt, i+offset])\n",
    "    axs[:][i].plot(Yhat'[(1:300) .+ offset_tt, i+offset])\n",
    "end"
   ]
  },
  {
   "cell_type": "code",
   "execution_count": 330,
   "metadata": {},
   "outputs": [
    {
     "data": {
      "text/plain": [
       "MeshCat Visualizer with path /meshcat"
      ]
     },
     "execution_count": 330,
     "metadata": {},
     "output_type": "execute_result"
    }
   ],
   "source": [
    "if !(@isdefined vis) \n",
    "    # Create a new visualizer instance (MeshCat.jl)\n",
    "    vis = Visualizer()\n",
    "    open(vis)\n",
    "end\n",
    "vis = mocapviz.create_animation([mocapio.reconstruct_modelled(Yhat_r)[1:500,:,:]], \n",
    "    \"test\"; vis=vis, linemesh=mocapviz.yellowmesh, camera=:back)"
   ]
  },
  {
   "cell_type": "code",
   "execution_count": 229,
   "metadata": {},
   "outputs": [
    {
     "data": {
      "text/plain": [
       "8700-element Array{Float64,1}:\n",
       " 1.6585286347277515 \n",
       " 0.6347204451478335 \n",
       " 2.2584234653348507 \n",
       " 0.6135691364238295 \n",
       " 0.9723220629672427 \n",
       " 0.5563562590371193 \n",
       " 0.45369051659259363\n",
       " 0.49403890709087045\n",
       " 0.7220690772798031 \n",
       " 0.4411264051571552 \n",
       " 0.4928173504374299 \n",
       " 1.4512270331011763 \n",
       " 0.9156294467589547 \n",
       " ⋮                  \n",
       " 0.42634700621634497\n",
       " 0.3166283439717716 \n",
       " 0.3172759194092666 \n",
       " 0.3750769809197269 \n",
       " 0.43088582129435987\n",
       " 0.4512671112235553 \n",
       " 0.8692922580757275 \n",
       " 0.8333190982024078 \n",
       " 1.22653445684388   \n",
       " 1.0372210611009856 \n",
       " 1.2087390290080493 \n",
       " 1.0091375551995938 "
      ]
     },
     "execution_count": 229,
     "metadata": {},
     "output_type": "execute_result"
    }
   ],
   "source": [
    "h1e4 = h"
   ]
  },
  {
   "cell_type": "code",
   "execution_count": null,
   "metadata": {},
   "outputs": [],
   "source": [
    "# plot(conv(h1e4, Windows.rect(58))[1000:end-57]/58)\n",
    "# plot(conv(h3e5, Windows.rect(58))[1000:end-57]/58)\n",
    "plot(conv(h, Windows.rect(58))[1000:end-57]/58)"
   ]
  },
  {
   "cell_type": "markdown",
   "metadata": {},
   "source": [
    "# Are RNNs easier to train?\n",
    "\n",
    "(** Answer: No... not by a long shot!**)"
   ]
  },
  {
   "cell_type": "code",
   "execution_count": 545,
   "metadata": {},
   "outputs": [],
   "source": [
    "d_out = size(cYs, 1)\n",
    "d_in = size(cUT, 1)\n",
    "d_state = 30\n",
    "d_ff = 50\n",
    "diffdmodel = 0  #63\n",
    "\n",
    "rnn = RNN(d_in, d_state, elu)\n",
    "ffnn = Chain(Dense(d_state, d_ff), Dense(d_ff, d_out, identity))\n",
    "\n",
    "a = param(zeros(Float32, Int(d_state*(d_state-1)/2)))\n",
    "cUs_m1 = cUs[1:end-1,:];\n",
    "CDd = cYs[:,2:end] / [cUs_m1'; ones(1, cN-1)]\n",
    "D, C = Flux.param(deepcopy(CDd[:,1:end-1])), param(Flux.glorot_uniform(d_out, d_state))\n",
    "ffnn.layers[2].b.data .= CDd[:,end];"
   ]
  },
  {
   "cell_type": "code",
   "execution_count": 536,
   "metadata": {},
   "outputs": [],
   "source": [
    "# opt = ADAM(1e-3)\n",
    "pars = Flux.params(rnn, ffnn.layers[1], ffnn.layers[2], C, D, a);"
   ]
  },
  {
   "cell_type": "code",
   "execution_count": 610,
   "metadata": {},
   "outputs": [],
   "source": [
    "zero_grad!(pars)\n",
    "Flux.reset!(rnn)\n",
    "Flux.truncate!(rnn)"
   ]
  },
  {
   "cell_type": "code",
   "execution_count": 606,
   "metadata": {},
   "outputs": [],
   "source": [
    "# opt = ADAM(1e-7)\n",
    "pars = Flux.params(rnn.cell.Wi, rnn.cell.b, ffnn, C, D, a);"
   ]
  },
  {
   "cell_type": "code",
   "execution_count": 615,
   "metadata": {},
   "outputs": [
    {
     "data": {
      "text/latex": [
       "\\begin{verbatim}\n",
       "construct_inputs(raw [; direction=:relative, joint_pos=true])\n",
       "\\end{verbatim}\n",
       "Construct the input matrix for the mocap models. The input \\texttt{raw} is the raw output from the \\texttt{process\\_file} function. The function outputs the following matrix, which contains only the range of frames: \\href{i.e.}{start+69, end-60} excluding approx. the first and last second. This is in order to construct trajectories that extend ± 60 frames of the current position. (The additional is due to needing a bit extra to calculate velocity, plus some historical baggage.) Note also that the trajectory is centered at every frame at the current position and hence \\texttt{(trajectory\\_x(7), trajectory\\_z(7)) == (0.0, 0.0)}.\n",
       "\n",
       "The following columns are contained in the matrix:\n",
       "\n",
       "\\begin{itemize}\n",
       "\\item (12): ± 60 frame trajectory x-cood at step 10 intervals\n",
       "\n",
       "\n",
       "\\item (12): ± 60 frame trajectory z-cood at step 10 intervals\n",
       "\n",
       "\n",
       "\\item (12): ± 60 frame trajectory angle sin(θ) to forward\n",
       "\n",
       "\n",
       "\\item (12): ± 60 frame trajectory angle cos(θ) to forward\n",
       "\n",
       "\n",
       "\\item (12): ± 60 frame trajectory magnitude of velocity\n",
       "\n",
       "\n",
       "\\item (61): joint positions in Lagrangian frame (optional)\n",
       "\n",
       "\\end{itemize}\n",
       "The angle θ is expressed in both sine and cosine components to avoid a discontinuity when it wraps around 2π (which it sometimes does). This angle is Lagrangian in nature too: that is, θ = 0 when the skeleton is facing in exactly the same direction as it is walking (i.e. the direction of the velocity). One might prefer a Eulerian (absolute) representation instead, in which case, pass in the named argument \\texttt{direction=:absolute}.\n",
       "\n",
       "Note that there are only 61 dimensions of the joint positions as the root x,z are excluded, as they are always zero. They're excluded from the output too, which is more important: we don't want to waste strength on predicting zero. In most of my experiments, I have found that including the joint positions in the input tends to make it too easy for the model to obtain trivial predictions. To avoid returning any joint\\_positions in the input matrix, select:\n",
       "\n",
       "\\begin{verbatim}\n",
       "joint_pos=false\n",
       "\\end{verbatim}\n"
      ],
      "text/markdown": [
       "```\n",
       "construct_inputs(raw [; direction=:relative, joint_pos=true])\n",
       "```\n",
       "\n",
       "Construct the input matrix for the mocap models. The input `raw` is the raw output from the `process_file` function. The function outputs the following matrix, which contains only the range of frames: [start+69, end-60](i.e.) excluding approx. the first and last second. This is in order to construct trajectories that extend ± 60 frames of the current position. (The additional is due to needing a bit extra to calculate velocity, plus some historical baggage.) Note also that the trajectory is centered at every frame at the current position and hence `(trajectory_x(7), trajectory_z(7)) == (0.0, 0.0)`.\n",
       "\n",
       "The following columns are contained in the matrix:\n",
       "\n",
       "  * (12): ± 60 frame trajectory x-cood at step 10 intervals\n",
       "  * (12): ± 60 frame trajectory z-cood at step 10 intervals\n",
       "  * (12): ± 60 frame trajectory angle sin(θ) to forward\n",
       "  * (12): ± 60 frame trajectory angle cos(θ) to forward\n",
       "  * (12): ± 60 frame trajectory magnitude of velocity\n",
       "  * (61): joint positions in Lagrangian frame (optional)\n",
       "\n",
       "The angle θ is expressed in both sine and cosine components to avoid a discontinuity when it wraps around 2π (which it sometimes does). This angle is Lagrangian in nature too: that is, θ = 0 when the skeleton is facing in exactly the same direction as it is walking (i.e. the direction of the velocity). One might prefer a Eulerian (absolute) representation instead, in which case, pass in the named argument `direction=:absolute`.\n",
       "\n",
       "Note that there are only 61 dimensions of the joint positions as the root x,z are excluded, as they are always zero. They're excluded from the output too, which is more important: we don't want to waste strength on predicting zero. In most of my experiments, I have found that including the joint positions in the input tends to make it too easy for the model to obtain trivial predictions. To avoid returning any joint_positions in the input matrix, select:\n",
       "\n",
       "```\n",
       "joint_pos=false\n",
       "```\n"
      ],
      "text/plain": [
       "\u001b[36m  construct_inputs(raw [; direction=:relative, joint_pos=true])\u001b[39m\n",
       "\n",
       "  Construct the input matrix for the mocap models. The input \u001b[36mraw\u001b[39m is the raw\n",
       "  output from the \u001b[36mprocess_file\u001b[39m function. The function outputs the following\n",
       "  matrix, which contains only the range of frames: start+69, end-60 (i.e.)\n",
       "  excluding approx. the first and last second. This is in order to construct\n",
       "  trajectories that extend ± 60 frames of the current position. (The\n",
       "  additional is due to needing a bit extra to calculate velocity, plus some\n",
       "  historical baggage.) Note also that the trajectory is centered at every\n",
       "  frame at the current position and hence \u001b[36m(trajectory_x(7), trajectory_z(7))\n",
       "  == (0.0, 0.0)\u001b[39m.\n",
       "\n",
       "  The following columns are contained in the matrix:\n",
       "\n",
       "    •    (12): ± 60 frame trajectory x-cood at step 10 intervals\n",
       "\n",
       "    •    (12): ± 60 frame trajectory z-cood at step 10 intervals\n",
       "\n",
       "    •    (12): ± 60 frame trajectory angle sin(θ) to forward\n",
       "\n",
       "    •    (12): ± 60 frame trajectory angle cos(θ) to forward\n",
       "\n",
       "    •    (12): ± 60 frame trajectory magnitude of velocity\n",
       "\n",
       "    •    (61): joint positions in Lagrangian frame (optional)\n",
       "\n",
       "  The angle θ is expressed in both sine and cosine components to avoid a\n",
       "  discontinuity when it wraps around 2π (which it sometimes does). This angle\n",
       "  is Lagrangian in nature too: that is, θ = 0 when the skeleton is facing in\n",
       "  exactly the same direction as it is walking (i.e. the direction of the\n",
       "  velocity). One might prefer a Eulerian (absolute) representation instead, in\n",
       "  which case, pass in the named argument \u001b[36mdirection=:absolute\u001b[39m.\n",
       "\n",
       "  Note that there are only 61 dimensions of the joint positions as the root\n",
       "  x,z are excluded, as they are always zero. They're excluded from the output\n",
       "  too, which is more important: we don't want to waste strength on predicting\n",
       "  zero. In most of my experiments, I have found that including the joint\n",
       "  positions in the input tends to make it too easy for the model to obtain\n",
       "  trivial predictions. To avoid returning any joint_positions in the input\n",
       "  matrix, select:\n",
       "\n",
       "\u001b[36m  joint_pos=false\u001b[39m"
      ]
     },
     "execution_count": 615,
     "metadata": {},
     "output_type": "execute_result"
    }
   ],
   "source": [
    "?mocapio.construct_inputs"
   ]
  },
  {
   "cell_type": "code",
   "execution_count": 618,
   "metadata": {},
   "outputs": [
    {
     "data": {
      "text/plain": [
       "20×121 Array{Float64,2}:\n",
       "  0.0091018     0.00526892  -0.000738991  …   0.0877053   -0.0639669 \n",
       "  0.001589     -0.00710288   0.00384976       0.03866      0.010755  \n",
       "  0.0197388    -0.0225183    0.00117426       0.0750128   -0.0934738 \n",
       "  0.00344443   -0.00962738  -0.000293335      0.100147     0.0784679 \n",
       "  0.00407532   -0.00228747  -0.00741517       0.11127     -0.112988  \n",
       " -0.013493      0.013874     0.00135557   …  -0.016224     0.004141  \n",
       "  0.00712415   -0.00196624  -0.00640712       0.0519251    0.220479  \n",
       " -0.00933333    0.0170587   -0.00874523       0.00268369   0.0662976 \n",
       "  0.00049088   -0.00236132   0.0023328       -0.0403279   -0.0401453 \n",
       "  0.00775955   -7.62471e-5  -0.00939423       0.0522273    0.0393217 \n",
       " -0.0108215     0.00931957   0.00204548   …  -0.039765     0.120739  \n",
       " -0.00208563    0.00571996  -0.00412302      -0.0272252    0.0111089 \n",
       "  0.00454573   -0.0040273    0.000536602      0.00410504   0.0720615 \n",
       "  0.000898379  -0.00144497  -0.000505731     -0.019586    -0.0550225 \n",
       " -0.00541335    0.00804997  -0.000571108      0.0566887   -0.013603  \n",
       "  0.0170591    -0.0170156    0.00302479   …   0.116218    -0.104016  \n",
       " -0.0123063     0.022526    -0.00220873       0.060456    -0.00878678\n",
       " -0.00634978    0.0274059   -0.014637        -0.102184     0.0317654 \n",
       " -0.00644425    0.0220881   -0.00948521      -0.0420292    0.00177841\n",
       "  0.00965741   -0.0153868    0.00141817       0.0580294   -0.0610739 "
      ]
     },
     "execution_count": 618,
     "metadata": {},
     "output_type": "execute_result"
    }
   ],
   "source": [
    "lds_cell.B.data"
   ]
  },
  {
   "cell_type": "code",
   "execution_count": null,
   "metadata": {},
   "outputs": [],
   "source": [
    "n_epochs = 100\n",
    "history = zeros(Float32, n_epochs)\n",
    "N = size(cYs, 2)\n",
    "cUList = [cUT[:,i] for i in 1:N]\n",
    "\n",
    "opt.eta = 2e-3 / 40\n",
    "for ee in 1:n_epochs\n",
    "    batch_order = randperm(58)\n",
    "    for tt in batch_order\n",
    "        ixs = (256*(tt-1)+1):min(256*tt, N)\n",
    "        _cY, _cU, _cUL = cYs[:,ixs[2:end]], cUT[:, ixs[1:end-1]], cUList[ixs[1:end-1]]\n",
    "        rnn.cell.Wh = AxUtil.Math.cayley_orthog(a/10, d_state)\n",
    "        x̂ = rnn.(_cUL)\n",
    "        x̂ = Tracker.collect(reduce(hcat, x̂))\n",
    "        ŷ = ffnn(x̂) + C*x̂ + D*_cU\n",
    "        obj = mean(x->x^2, _cY - ŷ)\n",
    "        Tracker.back!(obj)\n",
    "        history[ee] += obj.data / length(batch_order)\n",
    "        for p in pars\n",
    "            Tracker.update!(opt, p, -Tracker.grad(p))\n",
    "        end\n",
    "        Flux.reset!(rnn)\n",
    "        Flux.truncate!(rnn)\n",
    "    end\n",
    "    println(sqrt(history[ee]))\n",
    "end"
   ]
  },
  {
   "cell_type": "code",
   "execution_count": null,
   "metadata": {},
   "outputs": [],
   "source": [
    "plot(history)"
   ]
  },
  {
   "cell_type": "code",
   "execution_count": 519,
   "metadata": {},
   "outputs": [
    {
     "name": "stdout",
     "output_type": "stream",
     "text": [
      "0.8287880229776167\n"
     ]
    }
   ],
   "source": [
    "for ee in 1:1\n",
    "    h = 0\n",
    "    batch_order = randperm(58)\n",
    "    for tt in batch_order\n",
    "        ixs = (256*(tt-1)+1):min(256*tt, N)\n",
    "        _cY, _cU, _cUL = cYs[:,ixs[2:end]], cUT[:, ixs[1:end-1]], cUList[ixs[1:end-1]]\n",
    "        ŷ = D*_cU .+ ffnn.layers[2].b\n",
    "        obj = mean(x->x^2, _cY - ŷ)\n",
    "        h += obj.data\n",
    "    end\n",
    "    println(sqrt(h/length(batch_order)))\n",
    "end"
   ]
  }
 ],
 "metadata": {
  "@webio": {
   "lastCommId": null,
   "lastKernelId": null
  },
  "kernelspec": {
   "display_name": "Julia 1.1.0",
   "language": "julia",
   "name": "julia-1.1"
  },
  "language_info": {
   "file_extension": ".jl",
   "mimetype": "application/julia",
   "name": "julia",
   "version": "1.1.0"
  }
 },
 "nbformat": 4,
 "nbformat_minor": 2
}
