{
 "cells": [
  {
   "cell_type": "markdown",
   "metadata": {},
   "source": [
    "# Mocap Initial Modelling\n",
    "\n",
    "* Deterministic LDS"
   ]
  },
  {
   "cell_type": "code",
   "execution_count": 1,
   "metadata": {},
   "outputs": [
    {
     "data": {
      "text/html": [
       "<script>\n",
       "// Immediately-invoked-function-expression to avoid global variables.\n",
       "(function() {\n",
       "    var warning_div = document.getElementById(\"webio-warning-8070642200383126791\");\n",
       "    var hide = function () {\n",
       "        var script = document.getElementById(\"webio-setup-3950370805716211829\");\n",
       "        var parent = script && script.parentElement;\n",
       "        var grandparent = parent && parent.parentElement;\n",
       "        if (grandparent) {\n",
       "            grandparent.style.display = \"none\";\n",
       "        }\n",
       "        warning_div.style.display = \"none\";\n",
       "    };\n",
       "    if (typeof Jupyter !== \"undefined\") {\n",
       "        console.log(\"WebIO detected Jupyter notebook environment.\");\n",
       "        // Jupyter notebook.\n",
       "        var extensions = (\n",
       "            Jupyter\n",
       "            && Jupyter.notebook.config.data\n",
       "            && Jupyter.notebook.config.data.load_extensions\n",
       "        );\n",
       "        if (extensions && extensions[\"webio/main\"]) {\n",
       "            // Extension already loaded.\n",
       "            console.log(\"Jupyter WebIO nbextension detected; not loading ad-hoc.\");\n",
       "            hide();\n",
       "            return;\n",
       "        }\n",
       "        console.warn(\"Loading WebIO Jupyter extension on an ad-hoc basis. Consider enabling the WebIO nbextension for a stabler experience (this should happen automatically when building WebIO).\");\n",
       "        require([\"/assetserver/5794a0bf2e6325e42dc09c7369026176a04edd3e-dist/main.js\"], function (webIOModule) {\n",
       "            webIOModule.load_ipython_extension();\n",
       "        });\n",
       "        warning_div.innerHTML = \"<strong>Loading WebIO Jupyter extension on an ad-hoc basis. Consider enabling the WebIO nbextension for a stabler experience (this should happen automatically when building WebIO).</strong>\";\n",
       "    } else if (window.location.pathname.includes(\"/lab\")) {\n",
       "        // Guessing JupyterLa\n",
       "        console.log(\"Jupyter Lab detected; make sure the @webio/jupyter-lab-provider labextension is installed.\");\n",
       "        hide();\n",
       "        return;\n",
       "    }\n",
       "})();\n",
       "\n",
       "</script>\n",
       "<div\n",
       "    id=\"webio-warning-8070642200383126791\"\n",
       "    class=\"output_text output_stderr\"\n",
       "    style=\"padding: 1em; font-weight: bold;\"\n",
       ">\n",
       "    Unable to load WebIO. Please make sure WebIO works for your Jupyter client.\n",
       "    <!-- TODO: link to installation docs. -->\n",
       "</div>\n"
      ],
      "text/plain": [
       "HTML{String}(\"<script>\\n// Immediately-invoked-function-expression to avoid global variables.\\n(function() {\\n    var warning_div = document.getElementById(\\\"webio-warning-8070642200383126791\\\");\\n    var hide = function () {\\n        var script = document.getElementById(\\\"webio-setup-3950370805716211829\\\");\\n        var parent = script && script.parentElement;\\n        var grandparent = parent && parent.parentElement;\\n        if (grandparent) {\\n            grandparent.style.display = \\\"none\\\";\\n        }\\n        warning_div.style.display = \\\"none\\\";\\n    };\\n    if (typeof Jupyter !== \\\"undefined\\\") {\\n        console.log(\\\"WebIO detected Jupyter notebook environment.\\\");\\n        // Jupyter notebook.\\n        var extensions = (\\n            Jupyter\\n            && Jupyter.notebook.config.data\\n            && Jupyter.notebook.config.data.load_extensions\\n        );\\n        if (extensions && extensions[\\\"webio/main\\\"]) {\\n            // Extension already loaded.\\n            console.log(\\\"Jupyter WebIO nbextension detected; not loading ad-hoc.\\\");\\n            hide();\\n            return;\\n        }\\n        console.warn(\\\"Loading WebIO Jupyter extension on an ad-hoc basis. Consider enabling the WebIO nbextension for a stabler experience (this should happen automatically when building WebIO).\\\");\\n        require([\\\"/assetserver/5794a0bf2e6325e42dc09c7369026176a04edd3e-dist/main.js\\\"], function (webIOModule) {\\n            webIOModule.load_ipython_extension();\\n        });\\n        warning_div.innerHTML = \\\"<strong>Loading WebIO Jupyter extension on an ad-hoc basis. Consider enabling the WebIO nbextension for a stabler experience (this should happen automatically when building WebIO).</strong>\\\";\\n    } else if (window.location.pathname.includes(\\\"/lab\\\")) {\\n        // Guessing JupyterLa\\n        console.log(\\\"Jupyter Lab detected; make sure the @webio/jupyter-lab-provider labextension is installed.\\\");\\n        hide();\\n        return;\\n    }\\n})();\\n\\n</script>\\n<div\\n    id=\\\"webio-warning-8070642200383126791\\\"\\n    class=\\\"output_text output_stderr\\\"\\n    style=\\\"padding: 1em; font-weight: bold;\\\"\\n>\\n    Unable to load WebIO. Please make sure WebIO works for your Jupyter client.\\n    <!-- TODO: link to installation docs. -->\\n</div>\\n\")"
      ]
     },
     "metadata": {},
     "output_type": "display_data"
    },
    {
     "name": "stderr",
     "output_type": "stream",
     "text": [
      "┌ Info: Recompiling stale cache file /Users/alexbird/.julia/compiled/v1.1/AxUtil/zkGYv.ji for AxUtil [739e4dca-d06b-11e8-2625-cffd46b96d05]\n",
      "└ @ Base loading.jl:1184\n",
      "┌ Warning: Package AxUtil does not have ArgCheck in its dependencies:\n",
      "│ - If you have AxUtil checked out for development and have\n",
      "│   added ArgCheck as a dependency but haven't updated your primary\n",
      "│   environment's manifest file, try `Pkg.resolve()`.\n",
      "│ - Otherwise you may need to report an issue with AxUtil\n",
      "└ Loading ArgCheck into AxUtil from project dependency, future warnings for AxUtil are suppressed.\n",
      "WARNING: Method definition softmax2(Any) in module Math at /Users/alexbird/.julia/dev/AxUtil/src/math.jl:11 overwritten at deprecated.jl:55.\n",
      "WARNING: Method definition #softmax2(Any, typeof(AxUtil.Math.softmax2), Any) in module Math overwritten.\n",
      "WARNING: Method definition _forward(typeof(LinearAlgebra.logdet), Any) in module Tracker at /Users/alexbird/.julia/dev/Flux/src/tracker/lib/array.jl:131 overwritten in module Flux at /Users/alexbird/.julia/dev/AxUtil/src/flux.jl:139.\n"
     ]
    }
   ],
   "source": [
    "# using Revise\n",
    "using LinearAlgebra, Random\n",
    "using StatsBase, Statistics\n",
    "using Distributions, MultivariateStats   # Categorical, P(P)CA\n",
    "using Quaternions    # For manipulating 3D Geometry\n",
    "using MeshCat        # For web visualisation / animation\n",
    "using PyPlot         # Plotting\n",
    "using AxUtil         # Cayley, skew matrices\n",
    "using Flux           # Optimisation\n",
    "using DSP            # convolution / low-pass (MA) filter\n",
    "\n",
    "# small utils libraries\n",
    "using ProgressMeter, Formatting, ArgCheck\n",
    "using DelimitedFiles, NPZ, BSON"
   ]
  },
  {
   "cell_type": "code",
   "execution_count": 2,
   "metadata": {},
   "outputs": [
    {
     "data": {
      "text/plain": [
       "zero_grad! (generic function with 1 method)"
      ]
     },
     "execution_count": 2,
     "metadata": {},
     "output_type": "execute_result"
    }
   ],
   "source": [
    "function zero_grad!(P) \n",
    "    for x in P\n",
    "        x.grad .= 0\n",
    "    end\n",
    "end"
   ]
  },
  {
   "cell_type": "code",
   "execution_count": 3,
   "metadata": {},
   "outputs": [],
   "source": [
    "DIR_MOCAP_MTDS = \".\" \n",
    "\n",
    "# Data loading and transformation utils\n",
    "include(joinpath(DIR_MOCAP_MTDS, \"io.jl\"))\n",
    "\n",
    "# MeshCat skeleton visualisation tools\n",
    "include(joinpath(DIR_MOCAP_MTDS, \"mocap_viz.jl\"))\n",
    "\n",
    "# Data scaling utils\n",
    "include(joinpath(DIR_MOCAP_MTDS, \"util.jl\"))\n",
    "import .mocaputil: MyStandardScaler, scale_transform, invert\n",
    "import .mocaputil: OutputDifferencer, difference_transform, fit_transform\n",
    "import .mocaputil: no_pos, no_poscp\n",
    "\n",
    "# Models: LDS\n",
    "include(joinpath(DIR_MOCAP_MTDS, \"models.jl\"))"
   ]
  },
  {
   "cell_type": "markdown",
   "metadata": {},
   "source": [
    "### Load in Data\n",
    "See `2_Preprocess.ipynb`\n",
    "\n",
    "**Note that in the current harddisk state, `edin_Ys.bson` was created with `include_ftcontact=false`**\n",
    "\n",
    "\n",
    "### Additional changes since `2_Preprocess`:\n",
    "\n",
    "1. Performing a difference transform of joint positions in $Y$. Motivated by trivial predictions of copying previous frame working too well. I want to force the model to learn something.\n",
    "2. Remove joint positions entirely from inputs:\n",
    "    * Don't want prev positions for regression to output ($D$ matrix) as predicting a copy reduces the error close to zero, and makes it difficult to understand which model is performing best for the remaining delta.\n",
    "    * Also don't want in latent state, as positions have already been projected to the latent state (a linear comb) => hence colinear.\n"
   ]
  },
  {
   "cell_type": "code",
   "execution_count": 4,
   "metadata": {},
   "outputs": [],
   "source": [
    "database = \"../data/mocap/edin-style-transfer/\"\n",
    "files_edin = [joinpath(database, f) for f in readdir(database)];\n",
    "style_name_edin = [x[1] for x in match.(r\"\\.\\./[a-z\\-]+/[a-z\\-]+/[a-z\\-]+/([a-z]+)_.*\", files_edin)];\n",
    "styles = unique(style_name_edin)\n",
    "styles_lkp = [findall(s .== style_name_edin) for s in styles];"
   ]
  },
  {
   "cell_type": "code",
   "execution_count": 5,
   "metadata": {},
   "outputs": [],
   "source": [
    "Usraw = BSON.load(\"edin_Xs.bson\")[:Xs];\n",
    "Ysraw = BSON.load(\"edin_Ys.bson\")[:Ys];\n",
    "\n",
    "Ys_dtform = [fit_transform(OutputDifferencer, y) for y in Ysraw];\n",
    "Ys, dtforms = [y[2] for y in Ys_dtform], [y[1] for y in Ys_dtform];\n",
    "\n",
    "standardize_Y = fit(MyStandardScaler, reduce(vcat, Ys),  1)\n",
    "standardize_U = fit(MyStandardScaler, reduce(vcat, Usraw),  1)\n",
    "\n",
    "Ys = [scale_transform(standardize_Y, y) for y in Ys];\n",
    "Us = [scale_transform(standardize_U, u[2:end,:]) for u in Usraw];  # remove first frame too"
   ]
  },
  {
   "cell_type": "code",
   "execution_count": 6,
   "metadata": {},
   "outputs": [
    {
     "data": {
      "text/plain": [
       "invert_output_tform (generic function with 1 method)"
      ]
     },
     "execution_count": 6,
     "metadata": {},
     "output_type": "execute_result"
    }
   ],
   "source": [
    "invert_output_tform(y, i) = invert(standardize_Y, y) |> yhat -> invert(dtforms[i], yhat)"
   ]
  },
  {
   "cell_type": "markdown",
   "metadata": {},
   "source": [
    "we can reconstruct the original data via the commands:\n",
    "\n",
    "    invert_output_tform(y, i)       # for (i,y) in enumerate(Ys)\n",
    "    invert(standardize_X, x)        # for x in Xs\n",
    "    \n",
    "in the relevant array comprehensions."
   ]
  },
  {
   "cell_type": "code",
   "execution_count": 7,
   "metadata": {},
   "outputs": [
    {
     "data": {
      "text/latex": [
       "\\begin{verbatim}\n",
       "construct_inputs(raw [; direction=:relative, joint_pos=true])\n",
       "\\end{verbatim}\n",
       "Construct the input matrix for the mocap models. The input \\texttt{raw} is the raw output from the \\texttt{process\\_file} function. The function outputs the following matrix, which contains only the range of frames: \\href{i.e.}{start+69, end-60} excluding approx. the first and last second. This is in order to construct trajectories that extend ± 60 frames of the current position. (The additional is due to needing a bit extra to calculate velocity, plus some historical baggage.) Note also that the trajectory is centered at every frame at the current position and hence \\texttt{(trajectory\\_x(7), trajectory\\_z(7)) == (0.0, 0.0)}.\n",
       "\n",
       "The following columns are contained in the matrix:\n",
       "\n",
       "\\begin{itemize}\n",
       "\\item (12): ± 60 frame trajectory x-cood at step 10 intervals\n",
       "\n",
       "\n",
       "\\item (12): ± 60 frame trajectory z-cood at step 10 intervals\n",
       "\n",
       "\n",
       "\\item (12): ± 60 frame trajectory angle sin(θ) to forward\n",
       "\n",
       "\n",
       "\\item (12): ± 60 frame trajectory angle cos(θ) to forward\n",
       "\n",
       "\n",
       "\\item (12): ± 60 frame trajectory magnitude of velocity\n",
       "\n",
       "\n",
       "\\item (61): joint positions in Lagrangian frame (optional)\n",
       "\n",
       "\\end{itemize}\n",
       "The angle θ is expressed in both sine and cosine components to avoid a discontinuity when it wraps around 2π (which it sometimes does). This angle is Lagrangian in nature too: that is, θ = 0 when the skeleton is facing in exactly the same direction as it is walking (i.e. the direction of the velocity). One might prefer a Eulerian (absolute) representation instead, in which case, pass in the named argument \\texttt{direction=:absolute}.\n",
       "\n",
       "Note that there are only 61 dimensions of the joint positions as the root x,z are excluded, as they are always zero. They're excluded from the output too, which is more important: we don't want to waste strength on predicting zero. In most of my experiments, I have found that including the joint positions in the input tends to make it too easy for the model to obtain trivial predictions. To avoid returning any joint\\_positions in the input matrix, select:\n",
       "\n",
       "\\begin{verbatim}\n",
       "joint_pos=false\n",
       "\\end{verbatim}\n"
      ],
      "text/markdown": [
       "```\n",
       "construct_inputs(raw [; direction=:relative, joint_pos=true])\n",
       "```\n",
       "\n",
       "Construct the input matrix for the mocap models. The input `raw` is the raw output from the `process_file` function. The function outputs the following matrix, which contains only the range of frames: [start+69, end-60](i.e.) excluding approx. the first and last second. This is in order to construct trajectories that extend ± 60 frames of the current position. (The additional is due to needing a bit extra to calculate velocity, plus some historical baggage.) Note also that the trajectory is centered at every frame at the current position and hence `(trajectory_x(7), trajectory_z(7)) == (0.0, 0.0)`.\n",
       "\n",
       "The following columns are contained in the matrix:\n",
       "\n",
       "  * (12): ± 60 frame trajectory x-cood at step 10 intervals\n",
       "  * (12): ± 60 frame trajectory z-cood at step 10 intervals\n",
       "  * (12): ± 60 frame trajectory angle sin(θ) to forward\n",
       "  * (12): ± 60 frame trajectory angle cos(θ) to forward\n",
       "  * (12): ± 60 frame trajectory magnitude of velocity\n",
       "  * (61): joint positions in Lagrangian frame (optional)\n",
       "\n",
       "The angle θ is expressed in both sine and cosine components to avoid a discontinuity when it wraps around 2π (which it sometimes does). This angle is Lagrangian in nature too: that is, θ = 0 when the skeleton is facing in exactly the same direction as it is walking (i.e. the direction of the velocity). One might prefer a Eulerian (absolute) representation instead, in which case, pass in the named argument `direction=:absolute`.\n",
       "\n",
       "Note that there are only 61 dimensions of the joint positions as the root x,z are excluded, as they are always zero. They're excluded from the output too, which is more important: we don't want to waste strength on predicting zero. In most of my experiments, I have found that including the joint positions in the input tends to make it too easy for the model to obtain trivial predictions. To avoid returning any joint_positions in the input matrix, select:\n",
       "\n",
       "```\n",
       "joint_pos=false\n",
       "```\n"
      ],
      "text/plain": [
       "\u001b[36m  construct_inputs(raw [; direction=:relative, joint_pos=true])\u001b[39m\n",
       "\n",
       "  Construct the input matrix for the mocap models. The input \u001b[36mraw\u001b[39m is the raw\n",
       "  output from the \u001b[36mprocess_file\u001b[39m function. The function outputs the following\n",
       "  matrix, which contains only the range of frames: start+69, end-60 (i.e.)\n",
       "  excluding approx. the first and last second. This is in order to construct\n",
       "  trajectories that extend ± 60 frames of the current position. (The\n",
       "  additional is due to needing a bit extra to calculate velocity, plus some\n",
       "  historical baggage.) Note also that the trajectory is centered at every\n",
       "  frame at the current position and hence \u001b[36m(trajectory_x(7), trajectory_z(7))\n",
       "  == (0.0, 0.0)\u001b[39m.\n",
       "\n",
       "  The following columns are contained in the matrix:\n",
       "\n",
       "    •    (12): ± 60 frame trajectory x-cood at step 10 intervals\n",
       "\n",
       "    •    (12): ± 60 frame trajectory z-cood at step 10 intervals\n",
       "\n",
       "    •    (12): ± 60 frame trajectory angle sin(θ) to forward\n",
       "\n",
       "    •    (12): ± 60 frame trajectory angle cos(θ) to forward\n",
       "\n",
       "    •    (12): ± 60 frame trajectory magnitude of velocity\n",
       "\n",
       "    •    (61): joint positions in Lagrangian frame (optional)\n",
       "\n",
       "  The angle θ is expressed in both sine and cosine components to avoid a\n",
       "  discontinuity when it wraps around 2π (which it sometimes does). This angle\n",
       "  is Lagrangian in nature too: that is, θ = 0 when the skeleton is facing in\n",
       "  exactly the same direction as it is walking (i.e. the direction of the\n",
       "  velocity). One might prefer a Eulerian (absolute) representation instead, in\n",
       "  which case, pass in the named argument \u001b[36mdirection=:absolute\u001b[39m.\n",
       "\n",
       "  Note that there are only 61 dimensions of the joint positions as the root\n",
       "  x,z are excluded, as they are always zero. They're excluded from the output\n",
       "  too, which is more important: we don't want to waste strength on predicting\n",
       "  zero. In most of my experiments, I have found that including the joint\n",
       "  positions in the input tends to make it too easy for the model to obtain\n",
       "  trivial predictions. To avoid returning any joint_positions in the input\n",
       "  matrix, select:\n",
       "\n",
       "\u001b[36m  joint_pos=false\u001b[39m"
      ]
     },
     "execution_count": 7,
     "metadata": {},
     "output_type": "execute_result"
    }
   ],
   "source": [
    "?mocapio.construct_inputs"
   ]
  },
  {
   "cell_type": "code",
   "execution_count": 8,
   "metadata": {},
   "outputs": [
    {
     "data": {
      "text/latex": [
       "\\begin{verbatim}\n",
       "construct_outputs(raw [; include_ftcontact])\n",
       "\\end{verbatim}\n",
       "Construct the output matrix for the mocap models. The input \\texttt{raw} is the raw output from the \\texttt{process\\_file} function. The function outputs the following matrix, which contains only the range of frames: \\href{i.e.}{start+69, end-60} excluding approx. the first and last second. This is in order to match with the input matrix which needs these boundaries in order to construct trajectories consistently. This function outputs a matrix with the following columns:\n",
       "\n",
       "\\begin{itemize}\n",
       "\\item (3): rotational velocity, x-velocity, z-velocity\n",
       "\n",
       "\n",
       "\\item (61): (Lagrangian) joint positions (excl. root x/z ∵ always zero)\n",
       "\n",
       "\n",
       "\\item (4): [optional] feet contacts\n",
       "\n",
       "\\end{itemize}\n",
       "These are the minimal requirements to reconstruct an animation of human motion on the target skeleton. The feet contacts are in \\{0,1\\} and may be challenging for some linear models, therefore they are optional (see named argument     \\texttt{include\\_ftcontact} (Bool)).\n",
       "\n"
      ],
      "text/markdown": [
       "```\n",
       "construct_outputs(raw [; include_ftcontact])\n",
       "```\n",
       "\n",
       "Construct the output matrix for the mocap models. The input `raw` is the raw output from the `process_file` function. The function outputs the following matrix, which contains only the range of frames: [start+69, end-60](i.e.) excluding approx. the first and last second. This is in order to match with the input matrix which needs these boundaries in order to construct trajectories consistently. This function outputs a matrix with the following columns:\n",
       "\n",
       "  * (3): rotational velocity, x-velocity, z-velocity\n",
       "  * (61): (Lagrangian) joint positions (excl. root x/z ∵ always zero)\n",
       "  * (4): [optional] feet contacts\n",
       "\n",
       "These are the minimal requirements to reconstruct an animation of human motion on the target skeleton. The feet contacts are in {0,1} and may be challenging for some linear models, therefore they are optional (see named argument     `include_ftcontact` (Bool)).\n"
      ],
      "text/plain": [
       "\u001b[36m  construct_outputs(raw [; include_ftcontact])\u001b[39m\n",
       "\n",
       "  Construct the output matrix for the mocap models. The input \u001b[36mraw\u001b[39m is the raw\n",
       "  output from the \u001b[36mprocess_file\u001b[39m function. The function outputs the following\n",
       "  matrix, which contains only the range of frames: start+69, end-60 (i.e.)\n",
       "  excluding approx. the first and last second. This is in order to match with\n",
       "  the input matrix which needs these boundaries in order to construct\n",
       "  trajectories consistently. This function outputs a matrix with the following\n",
       "  columns:\n",
       "\n",
       "    •    (3): rotational velocity, x-velocity, z-velocity\n",
       "\n",
       "    •    (61): (Lagrangian) joint positions (excl. root x/z ∵ always zero)\n",
       "\n",
       "    •    (4): [optional] feet contacts\n",
       "\n",
       "  These are the minimal requirements to reconstruct an animation of human\n",
       "  motion on the target skeleton. The feet contacts are in {0,1} and may be\n",
       "  challenging for some linear models, therefore they are optional (see named\n",
       "  argument \u001b[36minclude_ftcontact\u001b[39m (Bool))."
      ]
     },
     "execution_count": 8,
     "metadata": {},
     "output_type": "execute_result"
    }
   ],
   "source": [
    "?mocapio.construct_outputs"
   ]
  },
  {
   "cell_type": "markdown",
   "metadata": {},
   "source": [
    "# Initialise LDS"
   ]
  },
  {
   "cell_type": "markdown",
   "metadata": {},
   "source": [
    "## Understand PC distribution"
   ]
  },
  {
   "cell_type": "markdown",
   "metadata": {},
   "source": [
    "#### Single-task Model"
   ]
  },
  {
   "cell_type": "code",
   "execution_count": null,
   "metadata": {},
   "outputs": [],
   "source": [
    "fig, axs = subplots(4,2,figsize=(5.5,6))\n",
    "\n",
    "for (i, ixs) in enumerate(styles_lkp)\n",
    "    cYs = reduce(vcat, Ys[ixs])\n",
    "    pc_all = fit(PCA, cYs[:,4:63]', pratio=0.999)\n",
    "\n",
    "    varexpl = cumsum(principalvars(pc_all))/tvar(pc_all)\n",
    "    bd=findfirst.([varexpl .> x for x in [0.9,0.95,0.99]])\n",
    "    axs[:][i].plot(1:length(varexpl), varexpl)\n",
    "    axs[:][i].axhline(1, linestyle=\":\")\n",
    "    for b in bd\n",
    "        axs[:][i].plot([b,b], [varexpl[1], varexpl[b]], color=ColorMap(\"tab10\")(7), linestyle=\":\")\n",
    "        axs[:][i].plot([.5, b], [varexpl[b], varexpl[b]], color=ColorMap(\"tab10\")(7), linestyle=\":\")\n",
    "        axs[:][i].text(b+0.3,varexpl[1]+0.03, b)\n",
    "    end\n",
    "    axs[:][i].set_xlim(0.5,34.5); gca().set_ylim(varexpl[1],1.025);\n",
    "    axs[:][i].xaxis.set_ticklabels([])\n",
    "    axs[:][i].set_title(styles[i])\n",
    "end\n",
    "tight_layout()"
   ]
  },
  {
   "cell_type": "markdown",
   "metadata": {},
   "source": [
    "#### Pooled Model"
   ]
  },
  {
   "cell_type": "code",
   "execution_count": null,
   "metadata": {},
   "outputs": [],
   "source": [
    "allE = reduce(vcat, Ys);\n",
    "allE = convert(Matrix{Float32}, allE);\n",
    "\n",
    "pc_all = fit(PCA, allE[:,4:63]', pratio=0.999)\n",
    "\n",
    "varexpl = cumsum(principalvars(pc_all))/tvar(pc_all)\n",
    "bd=findfirst.([varexpl .> x for x in [0.9,0.95,0.99]])\n",
    "plot(1:length(varexpl), varexpl)\n",
    "gca().axhline(1, linestyle=\":\")\n",
    "for b in bd\n",
    "    plot([b,b], [varexpl[1], varexpl[b]], color=ColorMap(\"tab10\")(7), linestyle=\":\")\n",
    "    plot([.5, b], [varexpl[b], varexpl[b]], color=ColorMap(\"tab10\")(7), linestyle=\":\")\n",
    "    text(b+0.3,varexpl[1]+0.03, b)\n",
    "end\n",
    "gca().set_xlim(0.5,37.5); gca().set_ylim(varexpl[1],1.025);\n",
    "gcf().set_size_inches(3,2)"
   ]
  },
  {
   "cell_type": "markdown",
   "metadata": {},
   "source": [
    "## LDS Initialisation\n",
    "\n",
    "\\begin{align}\n",
    "\\mathbf{x}_t &= A \\mathbf{x}_{t-1} + B \\mathbf{u}_t + \\mathbf{b}\\\\\n",
    "\\mathbf{y}_t &= C \\mathbf{x}_{t} + D \\mathbf{u}_t + \\mathbf{d}\n",
    "\\end{align}\n",
    "\n",
    "#### Initialisation\n",
    "\n",
    "Note in the below I use the SVD construction for PCA for convenience, but in general $Y$ is not centered ($\\because$ centering is done over \\emph{all} styles simultaneously; each individual will not be centered). Therefore, the below assumes this centering is done temporarily before the SVD.\n",
    "\n",
    "* $C = U_{SVD}$, where $U_{SVD}$ are the prinicipal components of $Y$.\n",
    "* $X = S_{SVD}V_{SVD}^{\\mathsf{T}}$, where $S_{SVD}$, $V_{SVD}$ are the other matrices from the SVD.\n",
    "* $X \\approx \\tilde{U}\\tilde{B} \\Rightarrow \\tilde{B} = (\\tilde{U}^{\\mathsf{T}} \\tilde{U})^{-1} \\tilde{U}^{\\mathsf{T}} X$ (Regression of $X$ on $U$). The permutation of $U$ and $B$ in the first equation follows because the obs are column-wise here, not row-wise.\n",
    "    * Here, $\\tilde{U} = \\begin{bmatrix} U & \\mathbf{1} \\end{bmatrix}$, and hence $\\tilde{B} = \\begin{bmatrix} B & \\mathbf{b} \\end{bmatrix}$"
   ]
  },
  {
   "cell_type": "markdown",
   "metadata": {},
   "source": [
    "## Single task LDS"
   ]
  },
  {
   "cell_type": "code",
   "execution_count": 12,
   "metadata": {},
   "outputs": [
    {
     "data": {
      "text/plain": [
       "rmse (generic function with 1 method)"
      ]
     },
     "execution_count": 12,
     "metadata": {},
     "output_type": "execute_result"
    }
   ],
   "source": [
    "rmse(Δ) = sqrt(mean(x->x^2, Δ))"
   ]
  },
  {
   "cell_type": "code",
   "execution_count": 9,
   "metadata": {},
   "outputs": [
    {
     "data": {
      "text/plain": [
       "14842"
      ]
     },
     "execution_count": 9,
     "metadata": {},
     "output_type": "execute_result"
    }
   ],
   "source": [
    "style_ix = 1\n",
    "cYs = Matrix(transpose(reduce(vcat, Ys[styles_lkp[style_ix]])))\n",
    "cUs = reduce(vcat, Us[styles_lkp[style_ix]])\n",
    "cUT = Matrix(cUs');\n",
    "cN = size(cYs, 2)"
   ]
  },
  {
   "cell_type": "code",
   "execution_count": 13,
   "metadata": {},
   "outputs": [
    {
     "data": {
      "text/plain": [
       "0.8295719684026693"
      ]
     },
     "execution_count": 13,
     "metadata": {},
     "output_type": "execute_result"
    }
   ],
   "source": [
    "# Simple baselines\n",
    "baselines = Dict()\n",
    "baselines[\"copy\"] = rmse(cYs[:,2:end] - cYs[:,1:end-1])\n",
    "\n",
    "cUs_m1 = cUs[1:end-1,:];\n",
    "CDd = cYs[:,2:end] / [cUs_m1'; ones(1, cN-1)]\n",
    "baselines[\"LR\"] = rmse(cYs[:,2:end] - CDd * [cUs_m1'; ones(1, cN-1)])"
   ]
  },
  {
   "cell_type": "code",
   "execution_count": null,
   "metadata": {},
   "outputs": [],
   "source": [
    "perf_init = [rmse(model.init_LDS_spectral(cYs, cUT, k)(cUT) - cYs) for k in 5:5:60];"
   ]
  },
  {
   "cell_type": "code",
   "execution_count": 25,
   "metadata": {},
   "outputs": [
    {
     "data": {
      "image/png": "[encoded data removed]",
      "text/plain": [
       "Figure(PyObject <Figure size 300x200 with 1 Axes>)"
      ]
     },
     "metadata": {},
     "output_type": "display_data"
    },
    {
     "data": {
      "text/plain": [
       "PyObject <matplotlib.lines.Line2D object at 0x11def5f28>"
      ]
     },
     "execution_count": 25,
     "metadata": {},
     "output_type": "execute_result"
    }
   ],
   "source": [
    "plot(5:5:60, perf_init); gcf().set_size_inches(3,2)\n",
    "gca().axhline(baselines[\"copy\"], linestyle=\":\")\n",
    "gca().axhline(baselines[\"LR\"], linestyle=\":\", color=\"red\")"
   ]
  },
  {
   "cell_type": "code",
   "execution_count": 75,
   "metadata": {},
   "outputs": [
    {
     "data": {
      "text/plain": [
       "Main.model.MyLDS_ng{Float32}(Float32[3.8002, 3.8002, 3.8002, 3.8002, 3.8002, 3.8002, 3.8002, 2.37986, 2.11651, 2.0491  …  0.104271, 0.0704178, 0.0320328, 0.156048, 0.0894002, -0.174694, -0.329566, 0.00445996, 0.379244, -0.106804], Float32[0.0151668 -0.0198416 … -0.0317066 -0.0235342; -0.00684186 -0.00316579 … -0.0152961 -0.00646976; … ; -0.0167809 0.0134736 … -0.0634775 0.00781437; -0.00336084 -0.00410147 … 0.0139182 0.0375974], Float32[-0.0241718, -0.04354, -0.0441245, -0.00793053, -0.0300528, 0.018516, 0.016895, 0.0261832, -0.00643724, 0.0172263  …  -0.0119347, -0.0186534, 0.01823, -0.0233794, -0.0120538, -0.00812173, -0.0288259, 0.00972402, 0.0638176, -0.000716509], Float32[-0.165107 -0.650408 … 1.64883 -1.0652; -0.587719 0.210789 … 1.301 10.7311; … ; -1.01587 -0.344479 … -8.27282 -12.3694; 3.6421 1.53388 … -4.99006 -13.8878], Float32[-0.163114 -0.0157561 … -0.527302 -0.993221; 0.679182 -0.822722 … 0.146508 -0.95882; … ; 0.0793904 -0.156303 … 1.11569 -0.65805; -0.53829 0.919095 … -3.10889 1.93445], Float32[-0.0876263, -0.722002, -0.740137, -0.0422301, -0.779487, -0.136005, -0.334586, -0.44141, 0.973799, 0.626682  …  2.66933, 0.506588, 1.01057, 1.26724, 1.3314, 1.68051, 1.55868, 1.3527, 1.72808, 1.56072], Float32[0.0, 0.0, 0.0, 0.0, 0.0, 0.0, 0.0, 0.0, 0.0, 0.0  …  0.0, 0.0, 0.0, 0.0, 0.0, 0.0, 0.0, 0.0, 0.0, 0.0])"
      ]
     },
     "execution_count": 75,
     "metadata": {},
     "output_type": "execute_result"
    }
   ],
   "source": [
    "k = 30\n",
    "    \n",
    "clds_g = model.make_grad(model.init_LDS_spectral(cYs, cUT, k))\n",
    "clds   = model.make_nograd(clds_g)   # MUST DO THIS SECOND, (Flux.param takes copy)\n",
    "\n",
    "opt = ADAM(1e-4)\n",
    "opt_hidden = ADAM(0.7e-5)"
   ]
  },
  {
   "cell_type": "code",
   "execution_count": 82,
   "metadata": {},
   "outputs": [
    {
     "data": {
      "text/plain": [
       "Params([Float32[-0.135919 -0.610699 … 1.66227 -1.05274; -0.599847 0.16015 … 1.29364 10.7383; … ; -1.04055 -0.315711 … -8.26881 -12.3634; 3.62109 1.52037 … -4.9792 -13.9068] (tracked), Float32[-0.163947 -0.017884 … -0.529154 -0.995359; 0.674112 -0.827094 … 0.14257 -0.962423; … ; 0.0783263 -0.156231 … 1.1545 -0.636356; -0.54395 0.914799 … -3.08539 1.992] (tracked), Float32[-0.0831944, -0.720345, -0.733244, -0.0406445, -0.781332, -0.134044, -0.329367, -0.441442, 0.977308, 0.637773  …  2.67036, 0.492377, 1.00537, 1.26737, 1.33334, 1.67983, 1.5586, 1.35633, 1.72848, 1.55972] (tracked)])"
      ]
     },
     "execution_count": 82,
     "metadata": {},
     "output_type": "execute_result"
    }
   ],
   "source": [
    "opt_hidden = ADAM(0.7e-5)\n",
    "ps_hidden = Flux.params(clds_g.a, clds_g.B, clds_g.b)\n",
    "ps_observ = Flux.params(clds_g.C, clds_g.D, clds_g.d)"
   ]
  },
  {
   "cell_type": "code",
   "execution_count": 94,
   "metadata": {},
   "outputs": [
    {
     "data": {
      "text/plain": [
       "Params([Float32[0.0173876 -0.426397 … 1.60615 -1.00238; -0.745188 -0.0789192 … 1.2432 10.7455; … ; -1.24981 -0.0738385 … -8.31984 -12.2861; 3.54911 1.58244 … -4.83577 -13.9731] (tracked), Float32[-0.153001 -0.0196468 … -0.53018 -1.00718; 0.681395 -0.819177 … 0.158471 -0.969905; … ; 0.0602341 -0.162572 … 1.27179 -0.59135; -0.568772 0.897846 … -2.95963 2.14843] (tracked), Float32[-0.0829116, -0.71863, -0.700652, -0.0455963, -0.753758, -0.131633, -0.331425, -0.434762, 1.03776, 0.701297  …  2.67194, 0.410911, 0.962648, 1.33507, 1.33175, 1.6563, 1.59727, 1.37041, 1.70837, 1.58977] (tracked)])"
      ]
     },
     "execution_count": 94,
     "metadata": {},
     "output_type": "execute_result"
    }
   ],
   "source": [
    "ps_hidden = Flux.params(clds_g.a, clds_g.B, clds_g.b)\n",
    "ps_observ = Flux.params(clds_g.C, clds_g.D, clds_g.d)"
   ]
  },
  {
   "cell_type": "code",
   "execution_count": null,
   "metadata": {},
   "outputs": [],
   "source": [
    "@time h = begin\n",
    "    n_epochs = 150\n",
    "    history = zeros(n_epochs*58)\n",
    "    N = size(cYs, 2)\n",
    "    \n",
    "    ps = pars(clds_g)\n",
    "\n",
    "#     opt = ADAM(1e-4)\n",
    "    opt.eta = 5e-4 / 5   #/2\n",
    "    opt_hidden.eta = 0.5e-5\n",
    "#     opt.eta *= 2\n",
    "    for ee in 1:n_epochs\n",
    "        if ee % 100 == 0\n",
    "            opt.eta /= 1.5\n",
    "            printfmtln(\"Changed learning rate!\")\n",
    "        end\n",
    "        batch_order = randperm(58)\n",
    "        for tt in batch_order\n",
    "            ixs = (256*(tt-1)+1):min(256*tt, N)\n",
    "            _cY, _cU = cYs[:,ixs[2:end]], cUT[:, ixs[1:end-1]]\n",
    "            Yhat = clds_g(_cU)\n",
    "            obj = mean(x->x^2, _cY - Yhat)\n",
    "            history[(ee-1)*58 + tt] = obj.data\n",
    "            Tracker.back!(obj)\n",
    "            for p in ps_hidden\n",
    "                Tracker.update!(opt_hidden, p, -Tracker.grad(p))\n",
    "            end\n",
    "            for p in ps_observ\n",
    "                Tracker.update!(opt, p, -Tracker.grad(p))\n",
    "            end\n",
    "        end\n",
    "        println(sqrt(mean(history[(1:58) .+ 58*(ee-1)])))\n",
    "    end\n",
    "    history\n",
    "end;"
   ]
  },
  {
   "cell_type": "code",
   "execution_count": null,
   "metadata": {},
   "outputs": [],
   "source": [
    "plot(sqrt.(conv(h, Windows.rect(58))[1000:end-57]/58))"
   ]
  },
  {
   "cell_type": "markdown",
   "metadata": {},
   "source": [
    "## Initialising the Transition Matrix\n",
    "\n",
    "The transition matrix will be parameterised as:\n",
    "\n",
    "$$ A = D(\\psi_2) Q(\\psi_1) $$\n",
    "\n",
    "where $D$ is a diagonal matrix with elements in $[0,1]$ and $Q$ is a special orthogonal matrix with determinant $+1$. Our goal will be to use the initialisation calculated above, coerced into this form.\n",
    "\n",
    "Unfortunately, we are just as likely to have an initial $A_0$ with determinant $-1$ as $+1$. My previous arguments about measure zero $\\lambda = 1 - 0i$ are not true. It appears that reflections are commonly learned. Therefore, we must deal with this issue later. But first:\n",
    "\n",
    "Decompose:\n",
    "$$ A_0 = U_0 S_0 V_0^T $$\n",
    "\n",
    "Then $D(\\psi_2) = S_0$ and $Q(\\psi_1) = U_0 V_0^T$.\n",
    "\n",
    "\n",
    "### Diagonal Matrix\n",
    "If parameterising the diagonal of $D$ with a sigmoid nonlinearity, we must apply the inverse sigmoid to $\\text{diag}(S)$, i.e. $\\sigma^{-1}(y) = \\ln\\left(\\frac{y}{1-y}\\right)$. Care must be taken to avoid the endpoints $y \\in \\{0, 1\\}$ for numerical reasons, but also because it is not sensible to initialise to a position with no gradient. I have used a minimum distance from the boundaries of $10^{-3}$ (which translates to $x \\approx \\pm 6.9$). \n",
    "\n",
    "\n",
    "### Orthogonal Matrix\n",
    "In order to obtain the Cayley parameterisation of $Q = U_0 V_0^T$ we take the inverse Cayley transformation $S = (I - Q)(I + Q)^{-1}$ to obtain the skew-symmetric matrix $S$ which corresponds 1-to-1 to $Q$. We can then simply extract the lower triangular elements of $S$ as the unique $d(d-1)/2$ elements parameterising $Q$. If these parameters are $\\psi_1$, I will write this as $\\psi_1 = \\text{cayley}^{-1}(Q)$. However, as we have said above, this is insufficient for obtaining a Cayley parameterisation of the estimate $A_0$ in general, since we exclude any $A_0$ s.t. $\\det(A_0) = -1$. Ferrar (1950) tells us that a general orthogonal matrix can be parameterised as $J(I-S)(I+S)^{-1}$, where $J$ is a diagonal matrix with elements in $\\{+1, -1\\}$. Crucially we need as many negative elements ($-1$) as their are negative roots of $Q_0$ and we may choose them for convenience to precede all of the positive elements in $J$.\n",
    "\n",
    "#### Corollary\n",
    "\n",
    "1. $ A = D(\\psi_2) Q(\\psi_1) $ as before, but now with $D$ containing elements in $[-1,1]$ is sufficient to parameterise *any* orthogonal matrix. Note that we may instead use $\\tanh$ instead of $\\sigma$ to achieve this.\n",
    "2. For the problem at hand, we need a *special* orthogonal matrix in order to apply the inverse Cayley transform. Now we know that $Q$ can be represented as \n",
    "    $$Q = J\\tilde{Q}$$\n",
    "    for $\\tilde{Q} \\in SO(d)$. Then clearly $\\tilde{Q} = JQ$ and hence we have that \n",
    "    $$Q = J\\,\\text{cayley}\\left(\\text{cayley}^{-1}(JQ)\\right).$$\n",
    "\n",
    "Therefore we can parameterise $A_0 = J\\,D(\\psi_2) Q(\\psi_1)$ where $\\psi_1 =  \\text{cayley}^{-1}(JQ)$ where $J$ is a $\\{+1,-1\\}$ diagonal calculated directly from the eigenvalues of $Q=U_0 V_0^T$.\n"
   ]
  },
  {
   "cell_type": "markdown",
   "metadata": {},
   "source": [
    "## Visualise results"
   ]
  },
  {
   "cell_type": "code",
   "execution_count": 128,
   "metadata": {},
   "outputs": [
    {
     "data": {
      "text/plain": [
       "0.5219779f0"
      ]
     },
     "execution_count": 128,
     "metadata": {},
     "output_type": "execute_result"
    }
   ],
   "source": [
    "Yhat = clds(cUT)"
   ]
  },
  {
   "cell_type": "code",
   "execution_count": null,
   "metadata": {},
   "outputs": [],
   "source": [
    "printfmtln(\"RMSE = {:.3f}\", rmse(cYs - Yhat)); flush(stdout)\n",
    "\n",
    "fig, axs = subplots(5,4,figsize=(10,10))\n",
    "offset = 40\n",
    "offset_tt = 1000\n",
    "for i = 1:20\n",
    "    axs[:][i].plot(Ys[1][(1:100) .+ offset_tt, i+offset])\n",
    "    axs[:][i].plot(Yhat'[(1:100) .+ offset_tt, i+offset])\n",
    "end"
   ]
  },
  {
   "cell_type": "markdown",
   "metadata": {},
   "source": [
    "### Animate!"
   ]
  },
  {
   "cell_type": "code",
   "execution_count": 144,
   "metadata": {},
   "outputs": [],
   "source": [
    "function invert_from_frame(file_ix, start_frame, y)\n",
    "    _dtform = fit(OutputDifferencer, Ysraw[file_ix][start_frame:start_frame+1,:])\n",
    "    invert(standardize_Y, y) |> yhat -> invert(_dtform, yhat)\n",
    "end\n",
    "Yhat_r = begin; ifr=1500; Yr=Matrix(clds(cUT[:,ifr:ifr+1000])'); invert_from_frame(1, ifr, Yr); end;"
   ]
  },
  {
   "cell_type": "code",
   "execution_count": 119,
   "metadata": {},
   "outputs": [
    {
     "data": {
      "text/plain": [
       "MeshCat Visualizer with path /meshcat"
      ]
     },
     "execution_count": 119,
     "metadata": {},
     "output_type": "execute_result"
    }
   ],
   "source": [
    "if !(@isdefined vis) \n",
    "    # Create a new visualizer instance (MeshCat.jl)\n",
    "    vis = Visualizer()\n",
    "    open(vis)\n",
    "end\n",
    "vis = mocapviz.create_animation([mocapio.reconstruct_modelled(Yhat_r)[1:500,:,:]], \n",
    "    \"test\"; vis=vis, linemesh=mocapviz.yellowmesh, camera=:back)"
   ]
  },
  {
   "cell_type": "markdown",
   "metadata": {},
   "source": [
    "# Are RNNs easier to train?\n",
    "\n",
    "(** Answer: No... not by a long shot!**)"
   ]
  },
  {
   "cell_type": "code",
   "execution_count": 545,
   "metadata": {},
   "outputs": [],
   "source": [
    "d_out = size(cYs, 1)\n",
    "d_in = size(cUT, 1)\n",
    "d_state = 30\n",
    "d_ff = 50\n",
    "diffdmodel = 0  #63\n",
    "\n",
    "rnn = RNN(d_in, d_state, elu)\n",
    "ffnn = Chain(Dense(d_state, d_ff), Dense(d_ff, d_out, identity))\n",
    "\n",
    "a = param(zeros(Float32, Int(d_state*(d_state-1)/2)))\n",
    "cUs_m1 = cUs[1:end-1,:];\n",
    "CDd = cYs[:,2:end] / [cUs_m1'; ones(1, cN-1)]\n",
    "D, C = Flux.param(deepcopy(CDd[:,1:end-1])), param(Flux.glorot_uniform(d_out, d_state))\n",
    "ffnn.layers[2].b.data .= CDd[:,end];"
   ]
  },
  {
   "cell_type": "code",
   "execution_count": 536,
   "metadata": {},
   "outputs": [],
   "source": [
    "# opt = ADAM(1e-3)\n",
    "pars = Flux.params(rnn, ffnn.layers[1], ffnn.layers[2], C, D, a);"
   ]
  },
  {
   "cell_type": "code",
   "execution_count": 610,
   "metadata": {},
   "outputs": [],
   "source": [
    "zero_grad!(pars)\n",
    "Flux.reset!(rnn)\n",
    "Flux.truncate!(rnn)"
   ]
  },
  {
   "cell_type": "code",
   "execution_count": 606,
   "metadata": {},
   "outputs": [],
   "source": [
    "# opt = ADAM(1e-7)\n",
    "pars = Flux.params(rnn.cell.Wi, rnn.cell.b, ffnn, C, D, a);"
   ]
  },
  {
   "cell_type": "code",
   "execution_count": 615,
   "metadata": {},
   "outputs": [
    {
     "data": {
      "text/latex": [
       "\\begin{verbatim}\n",
       "construct_inputs(raw [; direction=:relative, joint_pos=true])\n",
       "\\end{verbatim}\n",
       "Construct the input matrix for the mocap models. The input \\texttt{raw} is the raw output from the \\texttt{process\\_file} function. The function outputs the following matrix, which contains only the range of frames: \\href{i.e.}{start+69, end-60} excluding approx. the first and last second. This is in order to construct trajectories that extend ± 60 frames of the current position. (The additional is due to needing a bit extra to calculate velocity, plus some historical baggage.) Note also that the trajectory is centered at every frame at the current position and hence \\texttt{(trajectory\\_x(7), trajectory\\_z(7)) == (0.0, 0.0)}.\n",
       "\n",
       "The following columns are contained in the matrix:\n",
       "\n",
       "\\begin{itemize}\n",
       "\\item (12): ± 60 frame trajectory x-cood at step 10 intervals\n",
       "\n",
       "\n",
       "\\item (12): ± 60 frame trajectory z-cood at step 10 intervals\n",
       "\n",
       "\n",
       "\\item (12): ± 60 frame trajectory angle sin(θ) to forward\n",
       "\n",
       "\n",
       "\\item (12): ± 60 frame trajectory angle cos(θ) to forward\n",
       "\n",
       "\n",
       "\\item (12): ± 60 frame trajectory magnitude of velocity\n",
       "\n",
       "\n",
       "\\item (61): joint positions in Lagrangian frame (optional)\n",
       "\n",
       "\\end{itemize}\n",
       "The angle θ is expressed in both sine and cosine components to avoid a discontinuity when it wraps around 2π (which it sometimes does). This angle is Lagrangian in nature too: that is, θ = 0 when the skeleton is facing in exactly the same direction as it is walking (i.e. the direction of the velocity). One might prefer a Eulerian (absolute) representation instead, in which case, pass in the named argument \\texttt{direction=:absolute}.\n",
       "\n",
       "Note that there are only 61 dimensions of the joint positions as the root x,z are excluded, as they are always zero. They're excluded from the output too, which is more important: we don't want to waste strength on predicting zero. In most of my experiments, I have found that including the joint positions in the input tends to make it too easy for the model to obtain trivial predictions. To avoid returning any joint\\_positions in the input matrix, select:\n",
       "\n",
       "\\begin{verbatim}\n",
       "joint_pos=false\n",
       "\\end{verbatim}\n"
      ],
      "text/markdown": [
       "```\n",
       "construct_inputs(raw [; direction=:relative, joint_pos=true])\n",
       "```\n",
       "\n",
       "Construct the input matrix for the mocap models. The input `raw` is the raw output from the `process_file` function. The function outputs the following matrix, which contains only the range of frames: [start+69, end-60](i.e.) excluding approx. the first and last second. This is in order to construct trajectories that extend ± 60 frames of the current position. (The additional is due to needing a bit extra to calculate velocity, plus some historical baggage.) Note also that the trajectory is centered at every frame at the current position and hence `(trajectory_x(7), trajectory_z(7)) == (0.0, 0.0)`.\n",
       "\n",
       "The following columns are contained in the matrix:\n",
       "\n",
       "  * (12): ± 60 frame trajectory x-cood at step 10 intervals\n",
       "  * (12): ± 60 frame trajectory z-cood at step 10 intervals\n",
       "  * (12): ± 60 frame trajectory angle sin(θ) to forward\n",
       "  * (12): ± 60 frame trajectory angle cos(θ) to forward\n",
       "  * (12): ± 60 frame trajectory magnitude of velocity\n",
       "  * (61): joint positions in Lagrangian frame (optional)\n",
       "\n",
       "The angle θ is expressed in both sine and cosine components to avoid a discontinuity when it wraps around 2π (which it sometimes does). This angle is Lagrangian in nature too: that is, θ = 0 when the skeleton is facing in exactly the same direction as it is walking (i.e. the direction of the velocity). One might prefer a Eulerian (absolute) representation instead, in which case, pass in the named argument `direction=:absolute`.\n",
       "\n",
       "Note that there are only 61 dimensions of the joint positions as the root x,z are excluded, as they are always zero. They're excluded from the output too, which is more important: we don't want to waste strength on predicting zero. In most of my experiments, I have found that including the joint positions in the input tends to make it too easy for the model to obtain trivial predictions. To avoid returning any joint_positions in the input matrix, select:\n",
       "\n",
       "```\n",
       "joint_pos=false\n",
       "```\n"
      ],
      "text/plain": [
       "\u001b[36m  construct_inputs(raw [; direction=:relative, joint_pos=true])\u001b[39m\n",
       "\n",
       "  Construct the input matrix for the mocap models. The input \u001b[36mraw\u001b[39m is the raw\n",
       "  output from the \u001b[36mprocess_file\u001b[39m function. The function outputs the following\n",
       "  matrix, which contains only the range of frames: start+69, end-60 (i.e.)\n",
       "  excluding approx. the first and last second. This is in order to construct\n",
       "  trajectories that extend ± 60 frames of the current position. (The\n",
       "  additional is due to needing a bit extra to calculate velocity, plus some\n",
       "  historical baggage.) Note also that the trajectory is centered at every\n",
       "  frame at the current position and hence \u001b[36m(trajectory_x(7), trajectory_z(7))\n",
       "  == (0.0, 0.0)\u001b[39m.\n",
       "\n",
       "  The following columns are contained in the matrix:\n",
       "\n",
       "    •    (12): ± 60 frame trajectory x-cood at step 10 intervals\n",
       "\n",
       "    •    (12): ± 60 frame trajectory z-cood at step 10 intervals\n",
       "\n",
       "    •    (12): ± 60 frame trajectory angle sin(θ) to forward\n",
       "\n",
       "    •    (12): ± 60 frame trajectory angle cos(θ) to forward\n",
       "\n",
       "    •    (12): ± 60 frame trajectory magnitude of velocity\n",
       "\n",
       "    •    (61): joint positions in Lagrangian frame (optional)\n",
       "\n",
       "  The angle θ is expressed in both sine and cosine components to avoid a\n",
       "  discontinuity when it wraps around 2π (which it sometimes does). This angle\n",
       "  is Lagrangian in nature too: that is, θ = 0 when the skeleton is facing in\n",
       "  exactly the same direction as it is walking (i.e. the direction of the\n",
       "  velocity). One might prefer a Eulerian (absolute) representation instead, in\n",
       "  which case, pass in the named argument \u001b[36mdirection=:absolute\u001b[39m.\n",
       "\n",
       "  Note that there are only 61 dimensions of the joint positions as the root\n",
       "  x,z are excluded, as they are always zero. They're excluded from the output\n",
       "  too, which is more important: we don't want to waste strength on predicting\n",
       "  zero. In most of my experiments, I have found that including the joint\n",
       "  positions in the input tends to make it too easy for the model to obtain\n",
       "  trivial predictions. To avoid returning any joint_positions in the input\n",
       "  matrix, select:\n",
       "\n",
       "\u001b[36m  joint_pos=false\u001b[39m"
      ]
     },
     "execution_count": 615,
     "metadata": {},
     "output_type": "execute_result"
    }
   ],
   "source": [
    "?mocapio.construct_inputs"
   ]
  },
  {
   "cell_type": "code",
   "execution_count": 618,
   "metadata": {},
   "outputs": [
    {
     "data": {
      "text/plain": [
       "20×121 Array{Float64,2}:\n",
       "  0.0091018     0.00526892  -0.000738991  …   0.0877053   -0.0639669 \n",
       "  0.001589     -0.00710288   0.00384976       0.03866      0.010755  \n",
       "  0.0197388    -0.0225183    0.00117426       0.0750128   -0.0934738 \n",
       "  0.00344443   -0.00962738  -0.000293335      0.100147     0.0784679 \n",
       "  0.00407532   -0.00228747  -0.00741517       0.11127     -0.112988  \n",
       " -0.013493      0.013874     0.00135557   …  -0.016224     0.004141  \n",
       "  0.00712415   -0.00196624  -0.00640712       0.0519251    0.220479  \n",
       " -0.00933333    0.0170587   -0.00874523       0.00268369   0.0662976 \n",
       "  0.00049088   -0.00236132   0.0023328       -0.0403279   -0.0401453 \n",
       "  0.00775955   -7.62471e-5  -0.00939423       0.0522273    0.0393217 \n",
       " -0.0108215     0.00931957   0.00204548   …  -0.039765     0.120739  \n",
       " -0.00208563    0.00571996  -0.00412302      -0.0272252    0.0111089 \n",
       "  0.00454573   -0.0040273    0.000536602      0.00410504   0.0720615 \n",
       "  0.000898379  -0.00144497  -0.000505731     -0.019586    -0.0550225 \n",
       " -0.00541335    0.00804997  -0.000571108      0.0566887   -0.013603  \n",
       "  0.0170591    -0.0170156    0.00302479   …   0.116218    -0.104016  \n",
       " -0.0123063     0.022526    -0.00220873       0.060456    -0.00878678\n",
       " -0.00634978    0.0274059   -0.014637        -0.102184     0.0317654 \n",
       " -0.00644425    0.0220881   -0.00948521      -0.0420292    0.00177841\n",
       "  0.00965741   -0.0153868    0.00141817       0.0580294   -0.0610739 "
      ]
     },
     "execution_count": 618,
     "metadata": {},
     "output_type": "execute_result"
    }
   ],
   "source": [
    "lds_cell.B.data"
   ]
  },
  {
   "cell_type": "code",
   "execution_count": null,
   "metadata": {},
   "outputs": [],
   "source": [
    "n_epochs = 100\n",
    "history = zeros(Float32, n_epochs)\n",
    "N = size(cYs, 2)\n",
    "cUList = [cUT[:,i] for i in 1:N]\n",
    "\n",
    "opt.eta = 2e-3 / 40\n",
    "for ee in 1:n_epochs\n",
    "    batch_order = randperm(58)\n",
    "    for tt in batch_order\n",
    "        ixs = (256*(tt-1)+1):min(256*tt, N)\n",
    "        _cY, _cU, _cUL = cYs[:,ixs[2:end]], cUT[:, ixs[1:end-1]], cUList[ixs[1:end-1]]\n",
    "        rnn.cell.Wh = AxUtil.Math.cayley_orthog(a/10, d_state)\n",
    "        x̂ = rnn.(_cUL)\n",
    "        x̂ = Tracker.collect(reduce(hcat, x̂))\n",
    "        ŷ = ffnn(x̂) + C*x̂ + D*_cU\n",
    "        obj = mean(x->x^2, _cY - ŷ)\n",
    "        Tracker.back!(obj)\n",
    "        history[ee] += obj.data / length(batch_order)\n",
    "        for p in pars\n",
    "            Tracker.update!(opt, p, -Tracker.grad(p))\n",
    "        end\n",
    "        Flux.reset!(rnn)\n",
    "        Flux.truncate!(rnn)\n",
    "    end\n",
    "    println(sqrt(history[ee]))\n",
    "end"
   ]
  },
  {
   "cell_type": "code",
   "execution_count": null,
   "metadata": {},
   "outputs": [],
   "source": [
    "plot(history)"
   ]
  },
  {
   "cell_type": "code",
   "execution_count": 519,
   "metadata": {},
   "outputs": [
    {
     "name": "stdout",
     "output_type": "stream",
     "text": [
      "0.8287880229776167\n"
     ]
    }
   ],
   "source": [
    "for ee in 1:1\n",
    "    h = 0\n",
    "    batch_order = randperm(58)\n",
    "    for tt in batch_order\n",
    "        ixs = (256*(tt-1)+1):min(256*tt, N)\n",
    "        _cY, _cU, _cUL = cYs[:,ixs[2:end]], cUT[:, ixs[1:end-1]], cUList[ixs[1:end-1]]\n",
    "        ŷ = D*_cU .+ ffnn.layers[2].b\n",
    "        obj = mean(x->x^2, _cY - ŷ)\n",
    "        h += obj.data\n",
    "    end\n",
    "    println(sqrt(h/length(batch_order)))\n",
    "end"
   ]
  }
 ],
 "metadata": {
  "@webio": {
   "lastCommId": null,
   "lastKernelId": null
  },
  "kernelspec": {
   "display_name": "Julia 1.1.0",
   "language": "julia",
   "name": "julia-1.1"
  },
  "language_info": {
   "file_extension": ".jl",
   "mimetype": "application/julia",
   "name": "julia",
   "version": "1.1.0"
  }
 },
 "nbformat": 4,
 "nbformat_minor": 2
}
