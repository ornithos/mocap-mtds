{
 "cells": [
  {
   "cell_type": "markdown",
   "metadata": {},
   "source": [
    "# Initial Mocap Data Exploration\n",
    "\n",
    "Specifically a **subset** of the data used in D Holden's DLFCMS project, specifically **CMU Locomotion** categorized data.\n",
    "\n",
    "This is after the pre-processing in python."
   ]
  },
  {
   "cell_type": "code",
   "execution_count": 1,
   "metadata": {},
   "outputs": [],
   "source": [
    "using LinearAlgebra, Statistics, Random\n",
    "using NPZ\n",
    "using PyPlot\n",
    "using ArgCheck\n",
    "using AxUtil, Flux\n",
    "using ProgressMeter, Formatting"
   ]
  },
  {
   "cell_type": "code",
   "execution_count": 2,
   "metadata": {},
   "outputs": [],
   "source": [
    "data_path = \"../../../mocap-mtds/model_data/\"\n",
    "#= Load from Numpy Compressed files dumped from python pre-processing =#\n",
    "Ys = npzread(joinpath(data_path, \"Y_output_data.npz\"))\n",
    "Xs = npzread(joinpath(data_path, \"X_input_data.npz\"))\n",
    "Ls = npzread(joinpath(data_path, \"lengthsXY.npz\"))\n",
    "\n",
    "#= Extract from Dict --> Array of Matrices =#\n",
    "N = maximum([parse(Int, x[1]) for x in match.(r\"arr_([0-9]+)\", keys(Ys))])\n",
    "Ys = [Ys[\"arr_\"*string(i)] for i in 0:N]\n",
    "Xs = [Xs[\"arr_\"*string(i)] for i in 0:N];"
   ]
  },
  {
   "cell_type": "code",
   "execution_count": 3,
   "metadata": {},
   "outputs": [],
   "source": [
    "# X: trajectory(24), all joint pos(63), all joint rot(63)\n",
    "# Y: root rvel, root xvel, root zvel, foots(4), all joint pos(63), all joint rot(63)"
   ]
  },
  {
   "cell_type": "code",
   "execution_count": 32,
   "metadata": {},
   "outputs": [
    {
     "data": {
      "text/plain": [
       "extract_trajectory (generic function with 1 method)"
      ]
     },
     "execution_count": 32,
     "metadata": {},
     "output_type": "execute_result"
    }
   ],
   "source": [
    "extract_joint_pos(y) = begin; @argcheck size(y,2) == 133; y[:,8:70]; end\n",
    "extract_joint_rot(y) = begin; @argcheck size(y,2) == 133; y[:,71:133]; end\n",
    "extract_trajectory(x) = begin; @argcheck size(x,2) == 150; x[:,1:48]; end"
   ]
  },
  {
   "cell_type": "code",
   "execution_count": 50,
   "metadata": {},
   "outputs": [
    {
     "data": {
      "text/plain": [
       "kwidentity (generic function with 1 method)"
      ]
     },
     "execution_count": 50,
     "metadata": {},
     "output_type": "execute_result"
    }
   ],
   "source": [
    "kwidentity(x; kwargs...) = identity(x)"
   ]
  },
  {
   "cell_type": "code",
   "execution_count": null,
   "metadata": {},
   "outputs": [],
   "source": [
    "fig, axs = subplots(1,2,figsize=(9,4))\n",
    "for i in 1:2\n",
    "    f = (i == 1) ? kwidentity : diff\n",
    "    axs[i].plot(f(extract_joint_pos(Ys[12])[:,9:9], dims=1), c=ColorMap(\"tab10\")(i-1));\n",
    "    (i == 2) && axs[i].axhline(0, linestyle=\":\");\n",
    "    axs[i].set_title((i==1) ? \"Original\" : \"Diff\")\n",
    "end"
   ]
  },
  {
   "cell_type": "markdown",
   "metadata": {},
   "source": [
    "## Modelling asymmetric periodic behaviour\n",
    "\n",
    "* Gradient of ascent $\\ne$ gradient of descent.\n",
    "* Time at peak $\\ne$ time at trough"
   ]
  },
  {
   "cell_type": "code",
   "execution_count": 7,
   "metadata": {},
   "outputs": [
    {
     "data": {
      "text/plain": [
       "ORNN"
      ]
     },
     "execution_count": 7,
     "metadata": {},
     "output_type": "execute_result"
    }
   ],
   "source": [
    "# Orthogonal RNN\n",
    "mutable struct ORNNCell{F,A,V}\n",
    "  σ::F\n",
    "  Wi::A\n",
    "  Whpar::A\n",
    "  b::V\n",
    "  h::V\n",
    "  d::Int\n",
    "end\n",
    "\n",
    "ORNNCell(in::Integer, out::Integer, σ = tanh;\n",
    "        init = Flux.glorot_uniform) =\n",
    "  ORNNCell(σ, param(init(out, in)), param(zeros(Float32, Int(out*(out-1)/2), 1)),\n",
    "          param(init(out)), param(ones(Float32, out)), out)\n",
    "\n",
    "function (m::ORNNCell)(h, x)\n",
    "  σ, Wi, b, d = m.σ, m.Wi, m.b, m.d\n",
    "  Wh = AxUtil.Math.cayley_orthog(vec(m.Whpar)/10, d)\n",
    "  h = σ.(Wi*x .+ Wh*h .+ b)\n",
    "  return h, h\n",
    "end\n",
    "\n",
    "Flux.hidden(m::ORNNCell) = m.h\n",
    "\n",
    "@Flux.treelike ORNNCell\n",
    "\n",
    "function Base.show(io::IO, l::ORNNCell)\n",
    "  print(io, \"ORNNCell(\", size(l.Wi, 2), \", \", size(l.Wi, 1))\n",
    "  l.σ == identity || print(io, \", \", l.σ)\n",
    "  print(io, \")\")\n",
    "end\n",
    "\n",
    "\"\"\"\n",
    "    ORNN(in::Integer, out::Integer, σ = tanh)\n",
    "Orthogonal Recurrent Layer; like an RNN, but constraining the h->h W to be orthogonal\n",
    "\"\"\"\n",
    "ORNN(a...; ka...) = Flux.Recur(ORNNCell(a...; ka...))"
   ]
  },
  {
   "cell_type": "code",
   "execution_count": 30,
   "metadata": {},
   "outputs": [
    {
     "data": {
      "text/plain": [
       "EORNN"
      ]
     },
     "execution_count": 30,
     "metadata": {},
     "output_type": "execute_result"
    }
   ],
   "source": [
    "# Encoder-Orthogonal RNN\n",
    "mutable struct EORNNCell{F,A,V}\n",
    "  σ::F\n",
    "  Whpar::A\n",
    "  b::V\n",
    "  h::V\n",
    "  Wi::A\n",
    "  encW1::A\n",
    "  encW2::A\n",
    "  encb1::V\n",
    "  d::Int\n",
    "end\n",
    "\n",
    "EORNNCell(in::Integer, out::Integer, enc_h::Integer, σ = tanh;\n",
    "        init = Flux.glorot_uniform) =\n",
    "  EORNNCell(σ, param(zeros(Float32, Int(out*(out-1)/2), 1)),\n",
    "          param(init(out)), param(ones(Float32, out)),     # Wh, b\n",
    "          param(init(out, in)),                            # Wi\n",
    "          param(init(enc_h, in)), param(init(out, enc_h)), # W1enc, W2enc\n",
    "          param(init(enc_h)), out)                         # b1, d\n",
    "\n",
    "function (m::EORNNCell)(h, x)\n",
    "  σ, b, d, Wi, W1, W2, b1 = m.σ, m.b, m.d, m.Wi, m.encW1, m.encW2, m.encb1\n",
    "  Wh = AxUtil.Math.cayley_orthog(vec(m.Whpar)/10, d)\n",
    "  u = 0*W2*elu.(W1*x + b1)\n",
    "  h = σ.(u + Wi*x + Wh*h .+ b)\n",
    "  return h, h\n",
    "end\n",
    "\n",
    "Flux.hidden(m::EORNNCell) = m.h\n",
    "\n",
    "@Flux.treelike EORNNCell\n",
    "\n",
    "function Base.show(io::IO, l::EORNNCell)\n",
    "  print(io, \"EORNNCell(\", size(l.encW1, 2), \", \", l.d, \", \", size(l.encW1, 1))\n",
    "  print(io, \", \", l.σ)\n",
    "  print(io, \")\")\n",
    "end\n",
    "\n",
    "\"\"\"\n",
    "    EORNN(in::Integer, out::Integer, σ = tanh)\n",
    "Encoder-Orthogonal Recurrent Layer; like an Encoder-RNN, but constraining the h->h W to be orthogonal\n",
    "\"\"\"\n",
    "EORNN(a...; ka...) = Flux.Recur(EORNNCell(a...; ka...))"
   ]
  },
  {
   "cell_type": "code",
   "execution_count": 212,
   "metadata": {},
   "outputs": [
    {
     "data": {
      "text/plain": [
       "0"
      ]
     },
     "execution_count": 212,
     "metadata": {},
     "output_type": "execute_result"
    }
   ],
   "source": [
    "n_ix = 50\n",
    "d_out = 70\n",
    "d_in = 48\n",
    "\n",
    "d_state = 30\n",
    "d_ff = 50\n",
    "d_inpnn = 100\n",
    "Y = Ys[n_ix][:,1:70];\n",
    "T = size(Y,1)\n",
    "X = [extract_trajectory(Xs[n_ix])[i,:] for i in 1:T];\n",
    "\n",
    "diffdmodel = 0  #63"
   ]
  },
  {
   "cell_type": "code",
   "execution_count": 266,
   "metadata": {},
   "outputs": [
    {
     "data": {
      "text/plain": [
       "Params([Float32[-0.203467 -0.249476 … -0.160145 -0.195034; 0.00412299 -0.257373 … -0.0821489 0.0984335; … ; 0.0928166 0.0518591 … -0.0719532 -0.196095; 0.131831 -0.0885061 … 0.170789 0.176482] (tracked), Float32[0.0; 0.0; … ; 0.0; 0.0] (tracked), Float32[-0.143349, 0.330343, -0.119529, -0.0363682, 0.150469, 0.0838409, -0.341127, -0.435089, -0.435098, 0.0495103  …  0.0296094, -0.269639, 0.431959, 0.175207, -0.145179, -0.0504593, 0.44665, -0.113409, 0.0770207, -0.222874] (tracked), Float32[1.0, 1.0, 1.0, 1.0, 1.0, 1.0, 1.0, 1.0, 1.0, 1.0  …  1.0, 1.0, 1.0, 1.0, 1.0, 1.0, 1.0, 1.0, 1.0, 1.0] (tracked), Float32[0.205727 0.0580389 … -0.131728 0.131469; -0.195477 -0.169232 … 0.217095 0.157328; … ; 0.201396 0.19142 … -0.0284474 0.199977; -0.159107 0.0232053 … -0.0678401 0.0378097] (tracked), Float32[0.211283 0.220935 … 0.106367 -0.0364616; -0.0416726 0.0245891 … 0.0139192 0.104493; … ; 0.132027 0.211125 … 0.219848 -0.185159; -0.161462 -0.0706165 … -0.0359056 -0.0665933] (tracked)])"
      ]
     },
     "execution_count": 266,
     "metadata": {},
     "output_type": "execute_result"
    }
   ],
   "source": [
    "nn = ORNN(d_in, d_state)\n",
    "ffnn = Chain(Dense(d_state, d_ff, elu), Dense(d_ff, d_out, identity))\n",
    "B, C = param(Flux.glorot_uniform(d_out, d_in+diffdmodel)), param(Flux.glorot_uniform(d_out, d_state))\n",
    "opt = ADAM(1e-2)\n",
    "pars = Flux.params(Flux.params(nn)..., Flux.params(ffnn), B, C)"
   ]
  },
  {
   "cell_type": "code",
   "execution_count": 241,
   "metadata": {},
   "outputs": [],
   "source": [
    "# nn = EORNN(d_in, d_state, d_inpnn)\n",
    "# ffnn = Chain(Dense(d_state, d_ff, elu), Dense(d_ff, d_out, identity))\n",
    "# B, C = param(Flux.glorot_uniform(d_out, d_in+diffdmodel)), param(Flux.glorot_uniform(d_out, d_state))\n",
    "# opt = ADAM(1e-2)\n",
    "# pars = Flux.params(Flux.params(nn)..., Flux.params(ffnn), B, C)"
   ]
  },
  {
   "cell_type": "markdown",
   "metadata": {},
   "source": [
    "## Multiple time series: joint optimisation"
   ]
  },
  {
   "cell_type": "code",
   "execution_count": 267,
   "metadata": {},
   "outputs": [
    {
     "data": {
      "text/plain": [
       "0"
      ]
     },
     "execution_count": 267,
     "metadata": {},
     "output_type": "execute_result"
    }
   ],
   "source": [
    "n_ixs = [12,50,100, 200, 300, 400, 500, 600, 700]\n",
    "d_out = 70\n",
    "d_in = 48\n",
    "\n",
    "d_state = 30\n",
    "d_ff = 50\n",
    "d_inpnn = 100\n",
    "Y = [Ys[n_ix][:,1:70] for n_ix in n_ixs];\n",
    "T = [size(y,1) for y in Y]\n",
    "X = [[extract_trajectory(Xs[n_ix])[i,:] for i in 1:T[i]] for (i,n_ix) in enumerate(n_ixs)];\n",
    "\n",
    "hs = let init=Flux.glorot_uniform(d_state); [param(init) for n_ix in n_ixs]; end\n",
    "pars = Flux.params(Flux.params(nn)..., Flux.params(ffnn)..., B, C, hs...)\n",
    "\n",
    "diffdmodel = 0  #63"
   ]
  },
  {
   "cell_type": "code",
   "execution_count": 282,
   "metadata": {},
   "outputs": [
    {
     "name": "stderr",
     "output_type": "stream",
     "text": [
      "\u001b[32mProgress:  20%|████████                                 |  ETA: 0:06:41\u001b[39m"
     ]
    },
    {
     "name": "stdout",
     "output_type": "stream",
     "text": [
      "Epoch 100, cost 7.36\n"
     ]
    },
    {
     "name": "stderr",
     "output_type": "stream",
     "text": [
      "\u001b[32mProgress:  40%|████████████████▎                        |  ETA: 0:04:55\u001b[39m"
     ]
    },
    {
     "name": "stdout",
     "output_type": "stream",
     "text": [
      "Epoch 200, cost 7.25\n"
     ]
    },
    {
     "name": "stderr",
     "output_type": "stream",
     "text": [
      "\u001b[32mProgress:  60%|████████████████████████▍                |  ETA: 0:03:22\u001b[39m"
     ]
    },
    {
     "name": "stdout",
     "output_type": "stream",
     "text": [
      "Epoch 300, cost 7.12\n"
     ]
    },
    {
     "name": "stderr",
     "output_type": "stream",
     "text": [
      "\u001b[32mProgress:  80%|████████████████████████████████▋        |  ETA: 0:01:42\u001b[39m"
     ]
    },
    {
     "name": "stdout",
     "output_type": "stream",
     "text": [
      "Epoch 400, cost 7.11\n"
     ]
    },
    {
     "name": "stderr",
     "output_type": "stream",
     "text": [
      "\u001b[32mProgress: 100%|████████████████████████████████████████▉|  ETA: 0:00:02\u001b[39m"
     ]
    },
    {
     "name": "stdout",
     "output_type": "stream",
     "text": [
      "Epoch 500, cost 6.86\n"
     ]
    },
    {
     "name": "stderr",
     "output_type": "stream",
     "text": [
      "\u001b[32mProgress: 100%|█████████████████████████████████████████| Time: 0:08:35\u001b[39m\n"
     ]
    }
   ],
   "source": [
    "nepochs = 500\n",
    "history = zeros(Float32, nepochs)\n",
    "@showprogress for ee in 1:nepochs\n",
    "    (ee % 100 == 0) && printfmtln(\"Epoch {:d}, cost {:.2f}\", ee, history[ee-1]/length(n_ixs))\n",
    "    for (i,n_ix) in enumerate(n_ixs)\n",
    "        cX, cY = X[i], Y[i]\n",
    "        nn.state = hs[i]\n",
    "        x̂ = nn.(cX)\n",
    "        x̂ = Tracker.collect(reduce(hcat, x̂))\n",
    "        ŷ = (ffnn(x̂) + C*x̂ + B*Xs[n_ix][:,1:48+diffdmodel]')'\n",
    "        obj = sum(x->x^2, cY - ŷ)/size(cY,2)\n",
    "\n",
    "        history[ee] += obj.data\n",
    "        Tracker.back!(obj)\n",
    "        for p in pars\n",
    "            Tracker.update!(opt, p, -Tracker.grad(p))\n",
    "        end\n",
    "\n",
    "        Flux.reset!(nn)\n",
    "    end\n",
    "end"
   ]
  },
  {
   "cell_type": "code",
   "execution_count": null,
   "metadata": {},
   "outputs": [],
   "source": [
    "plot(history/length(n_ixs))\n",
    "let m=minimum(history/length(n_ixs)); cl=gca().get_ylim(); gca().set_ylim(max(cl[1], 0.9*m), min(cl[2], 4*m)); end"
   ]
  },
  {
   "cell_type": "code",
   "execution_count": 281,
   "metadata": {},
   "outputs": [
    {
     "data": {
      "text/plain": [
       "0.00015625"
      ]
     },
     "execution_count": 281,
     "metadata": {},
     "output_type": "execute_result"
    }
   ],
   "source": [
    "opt.eta /= 2"
   ]
  },
  {
   "cell_type": "code",
   "execution_count": 305,
   "metadata": {},
   "outputs": [],
   "source": [
    "ix = 7\n",
    "x̂ = nn.(X[ix])\n",
    "x̂ = Tracker.collect(reduce(hcat, x̂))\n",
    "ŷ = (ffnn(x̂) + C*x̂ + B*Xs[n_ixs[ix]][:,1:48+diffdmodel]')'\n",
    "Flux.reset!(nn)"
   ]
  },
  {
   "cell_type": "code",
   "execution_count": 622,
   "metadata": {},
   "outputs": [
    {
     "ename": "UndefVarError",
     "evalue": "UndefVarError: Y not defined",
     "output_type": "error",
     "traceback": [
      "UndefVarError: Y not defined",
      "",
      "Stacktrace:",
      " [1] top-level scope at ./In[622]:4"
     ]
    }
   ],
   "source": [
    "fig, axs = subplots(6,4,figsize=(10,10))\n",
    "offset = 0\n",
    "for i in 1:6, j in 1:4\n",
    "    axs[i,j].plot(Y[ix][:,offset+(i-1)*4 + j])\n",
    "    axs[i,j].plot(ŷ.data[:,offset+(i-1)*4 + j])\n",
    "end"
   ]
  },
  {
   "cell_type": "markdown",
   "metadata": {},
   "source": [
    "## [ABOVE] It appears that the net can make inferences about style from the input vector.\n",
    "\n",
    "Perhaps it is not surprising: the input vector quite clearly encodes something of the movement of the central joint. We therefore either need to smooth out the input vector (except smoothing will smooth out signal too -- think corners, perhaps we can use splines and robust regression?), or abandon the dataset in favour of a different one.\n",
    "\n",
    "Enter Ian Mason's Style Database:"
   ]
  },
  {
   "cell_type": "code",
   "execution_count": 38,
   "metadata": {},
   "outputs": [],
   "source": [
    "data = npzread(\"../mason/style_database.npz\");"
   ]
  },
  {
   "cell_type": "code",
   "execution_count": 688,
   "metadata": {},
   "outputs": [],
   "source": [
    "Xs, Ys, Ps = data[\"Xin\"], data[\"Yin\"], data[\"Pin\"];"
   ]
  },
  {
   "cell_type": "markdown",
   "metadata": {},
   "source": [
    "--------------------\n",
    "### Create figures for proposal\n",
    "\n",
    "Arguing that nonlinear models are required, and joint *rotations* do not look easier to model than joint *positions*.\n",
    "\n",
    "1. Position vs Rotation (incl. diffs and spectrogram) (dim 11, joint 4.y)\n",
    "2. Example assymetric periodic behaviour (joint 15, joint 5.z)\n",
    "\n",
    "Note that (1.) also exemplifies assymetric periodic behaviour, but I thought it was easier to have a smaller chart in the main body"
   ]
  },
  {
   "cell_type": "code",
   "execution_count": 616,
   "metadata": {},
   "outputs": [],
   "source": [
    "\n",
    "using FFTW, FFTViews, DSP\n",
    "tmppos = Ys[1:500,used_joint_ixs .+ (28)];\n",
    "tmprot = Ys[1:500,used_joint_ixs .+ (28 + 93*3)];\n",
    "\n",
    "pgramplot(ax, x, c=t10b) = begin; pp=periodogram(x, fs=60); ax.plot(pp.freq, pp.power, c=c); \n",
    "    ax.set_title(format(\"{:.2f}\", pp.freq[argmax(pp.power)])); end\n",
    "t10o = ColorMap(\"tab10\")(1);\n",
    "t10b = ColorMap(\"tab10\")(0);\n",
    "\n",
    "# >> Chart 1. Pos vs Rotation (3 x 2 grid)\n",
    "ii = 11\n",
    "fig, axs = subplots(3,2,figsize=(12,14))\n",
    "axs[1,1].plot(tmppos[:,ii]); axs[2,1].plot(diff(tmppos[:,ii]))\n",
    "axs[1,2].plot(tmprot[:,ii], c=t10o); axs[2,2].plot(diff(tmprot[:,ii]), c=t10o)\n",
    "axs[1,1].set_title(\"Position\"); axs[2,1].set_title(\"Position Diff\")\n",
    "axs[1,2].set_title(\"Rotation\"); axs[2,2].set_title(\"Rotation Diff\")\n",
    "pgramplot(axs[3,1], diff(tmppos[:,ii])); axs[3,1].set_title(\"PosDiff Spectrogram\");\n",
    "pgramplot(axs[3,2], diff(tmprot[:,ii]), t10o); axs[3,2].set_title(\"RotDiff Spectrogram\");\n",
    "\n",
    "[axs[i,j].set_xlabel(\"time\") for i in 1:2, j in 1:2]\n",
    "[axs[3,j].set_xlabel(\"freq\") for j in 1:2];\n",
    "tight_layout()\n",
    "# savefig(\"joint4y_posrot.pdf\")\n",
    "\n",
    "# >> Chart 2. Assymetric period (1 x 2 grid)\n",
    "ii = 15\n",
    "fig, axs = subplots(1,2,figsize=(10,3))\n",
    "axs[1].plot(identity(tmppos[1:300,ii]));  axs[1].set_title(L\"Joint 5 $z$ position\")\n",
    "axs[2].plot(diff(tmppos[1:300,ii])); axs[2].set_title(L\"Joint 5 $z$ velocity\")\n",
    "axs[2].axhline(0, linestyle=\":\", color=\"gray\")\n",
    "[axs[i].set_xlabel(\"time\") for i in 1:2]\n",
    "tight_layout()\n",
    "# savefig(\"joint5z.pdf\")"
   ]
  },
  {
   "cell_type": "markdown",
   "metadata": {},
   "source": [
    "-----------------\n",
    "and continue with the main event....."
   ]
  },
  {
   "cell_type": "code",
   "execution_count": 689,
   "metadata": {},
   "outputs": [],
   "source": [
    "# extract joint positions 31 => 21 joints à la Holden original CMU code\n",
    "used_joints = [0,2,3,4,5,7,8,9,10,12,13,15,16,18,19,20,22,25,26,27,29] .+ 1\n",
    "used_joint_ixs = vec(reshape(1:93,3,31)[:,used_joints]);\n",
    "\n",
    "Xs = Xs[:,1:48]  # trajectory only\n",
    "Ys = Ys[:,[1,2,3, (used_joint_ixs .+ 28)...]];"
   ]
  },
  {
   "cell_type": "code",
   "execution_count": 368,
   "metadata": {},
   "outputs": [
    {
     "data": {
      "text/plain": [
       "windowfy"
      ]
     },
     "execution_count": 368,
     "metadata": {},
     "output_type": "execute_result"
    }
   ],
   "source": [
    "\"\"\" Slide over windows \"\"\"\n",
    "function windowfy(X, Y; window=240, window_step=120)\n",
    "    n = size(X, 1)\n",
    "    @argcheck size(X, 1) == size(Y, 1)\n",
    "    \n",
    "    windowsY = []\n",
    "    windowsX = []\n",
    "    if n >= 50\n",
    "        for j in range(1, stop=max(n-window_step-10,1), step=window_step)\n",
    "            append!(windowsY, Y[j:j+window,:])\n",
    "            append!(windowsX, X[j:j+window,:])\n",
    "        end\n",
    "    end\n",
    "    return windowsX, windowsY\n",
    "end"
   ]
  },
  {
   "cell_type": "code",
   "execution_count": 668,
   "metadata": {},
   "outputs": [],
   "source": [
    "# difference the (input) trajectories so they each have equivalent units / ranges\n",
    "@argcheck size(Xs, 2) == 48\n",
    "Xs = hcat(diff(Xs[:,1:12], dims=2), diff(Xs[:,13:24], dims=2), diff(Xs[:,25:36], dims=2),\n",
    "      diff(Xs[:,37:48], dims=2));"
   ]
  },
  {
   "cell_type": "code",
   "execution_count": 669,
   "metadata": {},
   "outputs": [
    {
     "data": {
      "text/plain": [
       "(Float32[0.000851498 0.0226859 … 1.4899 0.255066], Float32[0.00882783 0.0120419 … 0.273567 0.28317])"
      ]
     },
     "execution_count": 669,
     "metadata": {},
     "output_type": "execute_result"
    }
   ],
   "source": [
    "if true || !all(isapprox.(mean(Xs, dims=1), 0.0, atol=1e-4))\n",
    "    Xmean, Xstd = mean(Xs, dims=1), std(Xs, dims=1)\n",
    "    Ymean, Ystd = mean(Ys, dims=1), std(Ys, dims=1)\n",
    "end"
   ]
  },
  {
   "cell_type": "code",
   "execution_count": 670,
   "metadata": {},
   "outputs": [],
   "source": [
    "Xs = Xs ./ mean(Xstd)\n",
    "Ys = (Ys .- Ymean) ./ Ystd;"
   ]
  },
  {
   "cell_type": "code",
   "execution_count": 671,
   "metadata": {},
   "outputs": [],
   "source": [
    "# add in phase to inputs\n",
    "Ps_trig = hcat(sin.(Ps .* 2π), cos.(Ps .* 2π));\n",
    "Xs = hcat(Xs, Ps_trig);"
   ]
  },
  {
   "cell_type": "markdown",
   "metadata": {},
   "source": [
    " ## Optimisation"
   ]
  },
  {
   "cell_type": "code",
   "execution_count": 10,
   "metadata": {},
   "outputs": [
    {
     "data": {
      "text/plain": [
       "ADAM(0.001, (0.9, 0.999), IdDict{Any,Any}())"
      ]
     },
     "execution_count": 10,
     "metadata": {},
     "output_type": "execute_result"
    }
   ],
   "source": [
    "d_out = 66\n",
    "d_in = 48 + 2\n",
    "d_state = 30\n",
    "d_ff = 50\n",
    "diffdmodel = 0  #63\n",
    "\n",
    "nn = RNN(d_in, d_state, elu)\n",
    "ffnn = Chain(Dense(d_state, d_ff), Dense(d_ff, d_out, identity))\n",
    "\n",
    "Whpar = param(zeros(Float32, Int(d_state*(d_state-1)/2)))\n",
    "B, C = param(Flux.glorot_uniform(d_out, d_in+diffdmodel)), param(Flux.glorot_uniform(d_out, d_state))\n",
    "h0 = param(rand(Float32, d_state))\n",
    "\n",
    "opt = ADAM(1e-3)"
   ]
  },
  {
   "cell_type": "code",
   "execution_count": 11,
   "metadata": {},
   "outputs": [],
   "source": [
    "n_ix = 120000 #[500, 22500, 120000]\n",
    "\n",
    "Y = Ys[n_ix:n_ix+199,:];\n",
    "T = size(Y,1)\n",
    "X = Xs[n_ix:n_ix+199,:]\n",
    "Xlist = [X[i,:] for i in 1:T];\n",
    "\n",
    "pars = Flux.params(Flux.params(nn)..., Flux.params(ffnn), B, C, Whpar);"
   ]
  },
  {
   "cell_type": "code",
   "execution_count": 12,
   "metadata": {},
   "outputs": [],
   "source": [
    "n_ixs = Int.(collect(range(10000, stop=120000, length=101)))\n",
    "n_ixs = Int.(collect(range(1, stop=20000, step=200)))\n",
    "Y = [Ys[n_ix:n_ix+199,:] for n_ix in n_ixs];\n",
    "T = [size(y,1) for y in Y]\n",
    "X = [Xs[n_ix:n_ix+199,:] for n_ix in n_ixs];\n",
    "Xlists = [[x[i,:] for i in 1:T[i]] for (i,x) in enumerate(X)];\n",
    "\n",
    "hs =  param(zeros(Float32, length(n_ixs)))\n",
    "pars = Flux.params(Flux.params(nn)..., Flux.params(ffnn)..., B, C, Whpar);"
   ]
  },
  {
   "cell_type": "code",
   "execution_count": 13,
   "metadata": {},
   "outputs": [],
   "source": [
    "function zero_grad!(P) \n",
    "    for x in P\n",
    "        x.grad .= 0\n",
    "    end\n",
    "end\n",
    "zero_grad!(pars)\n",
    "Flux.reset!(nn)\n",
    "Flux.truncate!(nn)"
   ]
  },
  {
   "cell_type": "code",
   "execution_count": 14,
   "metadata": {},
   "outputs": [
    {
     "ename": "UndefVarError",
     "evalue": "UndefVarError: randperm not defined",
     "output_type": "error",
     "traceback": [
      "UndefVarError: randperm not defined",
      "",
      "Stacktrace:",
      " [1] top-level scope at In[14]:3"
     ]
    }
   ],
   "source": [
    "nepochs = 100\n",
    "history = zeros(Float32, nepochs)\n",
    "batches = let N=length(X); P=randperm(N); [reshape(P, Int(N/5), 5)[i,:] for i in 1:Int(N/5)]; end\n",
    "\n",
    "@showprogress for ee in 1:nepochs\n",
    "    (ee % 5 == 0) && printfmtln(\"Epoch {:d}, cost {:.2f}\", ee, history[ee-1]/length(n_ixs))\n",
    "    for b in batches\n",
    "        for i in b\n",
    "            cX, cXlist, cY = X[i], Xlists[i], Y[i]\n",
    "            nn.cell.Wh = AxUtil.Math.cayley_orthog(Whpar/10, d_state)\n",
    "            x̂ = nn.(cXlist)\n",
    "            x̂ = Tracker.collect(reduce(hcat, x̂))\n",
    "            ŷ = (ffnn(x̂) + C*x̂ + B*cX')'\n",
    "            obj = sum(x->x^2, cY - ŷ)/size(cY,2)\n",
    "            Tracker.back!(obj)\n",
    "            \n",
    "            history[ee] += obj.data\n",
    "            Flux.reset!(nn)\n",
    "        end\n",
    "        for p in pars\n",
    "            Tracker.update!(opt, p, -Tracker.grad(p)/length(b))\n",
    "        end\n",
    "    end\n",
    "end"
   ]
  },
  {
   "cell_type": "code",
   "execution_count": null,
   "metadata": {},
   "outputs": [],
   "source": [
    "plot(history/length(n_ixs))\n",
    "let m=minimum(history[history.>0]/length(n_ixs)); \n",
    "    cl=gca().get_ylim(); gca().set_ylim(max(cl[1], 0.9*m), min(cl[2], 4*m)); end"
   ]
  },
  {
   "cell_type": "code",
   "execution_count": 1011,
   "metadata": {},
   "outputs": [
    {
     "data": {
      "text/plain": [
       "0.0015"
      ]
     },
     "execution_count": 1011,
     "metadata": {},
     "output_type": "execute_result"
    }
   ],
   "source": [
    "opt.eta *= 1.5"
   ]
  },
  {
   "cell_type": "code",
   "execution_count": 998,
   "metadata": {},
   "outputs": [
    {
     "data": {
      "text/plain": [
       "42.38097274795309 (tracked)"
      ]
     },
     "execution_count": 998,
     "metadata": {},
     "output_type": "execute_result"
    }
   ],
   "source": [
    "ix = 2\n",
    "nn.state = ((nn.state .+ tanh.(hs[ix]) .+ 1) .% 2) .- 1  \n",
    "x̂ = nn.(Xlists[ix])\n",
    "x̂ = Tracker.collect(reduce(hcat, x̂))\n",
    "ŷ = (ffnn(x̂) + C*x̂ + B*X[ix]')'\n",
    "Flux.reset!(nn)\n",
    "sum(x->x^2, Y[ix] - ŷ)/size(Y[ix],2)"
   ]
  },
  {
   "cell_type": "code",
   "execution_count": null,
   "metadata": {},
   "outputs": [],
   "source": [
    "fig, axs = subplots(6,4,figsize=(10,10))\n",
    "offset = 24\n",
    "for i in 1:6, j in 1:4\n",
    "    axs[i,j].plot(Y[ix][:,offset+(i-1)*4 + j])\n",
    "    axs[i,j].plot(ŷ.data[:,offset+(i-1)*4 + j])\n",
    "end"
   ]
  },
  {
   "cell_type": "code",
   "execution_count": 1014,
   "metadata": {},
   "outputs": [
    {
     "data": {
      "text/plain": [
       "1"
      ]
     },
     "execution_count": 1014,
     "metadata": {},
     "output_type": "execute_result"
    }
   ],
   "source": [
    "ii = 1"
   ]
  },
  {
   "cell_type": "code",
   "execution_count": null,
   "metadata": {},
   "outputs": [],
   "source": [
    "fig, axs = subplots(1,2,figsize=(10,5))\n",
    "traj_rec = hcat(vcat(-sum(Xs[ii,1:6]), cumsum(Xs[ii,1:11]) .- sum(Xs[ii,1:6])), \n",
    "                vcat(-sum(Xs[ii,12:17]), cumsum(Xs[ii,12:22]) .- sum(Xs[ii,12:17])))\n",
    "axs[1].scatter(traj_rec[:,1], traj_rec[:,2])\n",
    "[axs[1].arrow(traj_rec[i], traj_rec[12+i], Xs[ii,i]*0.93, Xs[ii,i+11]*0.93, \n",
    "           head_width=.02, head_length=0.04, length_includes_head=true, color=\"black\") for i in 1:11];\n",
    "axs[1].scatter(0,0,color=\"orange\")\n",
    "axs[1].set_title(ii)\n",
    "\n",
    "[axs[2].arrow(0, 0, Xs[ii,i]*0.93, Xs[ii,i+11]*0.93, \n",
    "           head_width=.02, head_length=0.04, length_includes_head=true, color=ColorMap(\"cool\")(i/11)) for i in 1:11];\n",
    "[axs[2].text(Xs[ii,i]*0.93, Xs[ii,i+11]*0.93, i) for i in 1:11];\n",
    "axs[2].set_ylim(-0.7,0.7)\n",
    "axs[2].set_xlim(-0.5,0.5)\n",
    "ii += 3"
   ]
  },
  {
   "cell_type": "code",
   "execution_count": 561,
   "metadata": {},
   "outputs": [
    {
     "data": {
      "text/plain": [
       "BenchmarkTools.Trial: \n",
       "  memory estimate:  26.31 MiB\n",
       "  allocs estimate:  160937\n",
       "  --------------\n",
       "  minimum time:     79.986 ms (15.10% GC)\n",
       "  median time:      100.524 ms (17.51% GC)\n",
       "  mean time:        109.110 ms (16.93% GC)\n",
       "  maximum time:     151.210 ms (22.95% GC)\n",
       "  --------------\n",
       "  samples:          46\n",
       "  evals/sample:     1"
      ]
     },
     "execution_count": 561,
     "metadata": {},
     "output_type": "execute_result"
    }
   ],
   "source": [
    "@benchmark begin;\n",
    "    nn.state = hs[ix]\n",
    "    x̂ = nn.(Xlists[ix])\n",
    "    x̂ = Tracker.collect(reduce(hcat, x̂))\n",
    "    ŷ = (ffnn(x̂) + C*x̂ + B*X[ix]')'\n",
    "    Tracker.back!(sum(x->x^2, ŷ - Y[ix]))\n",
    "    Flux.reset!(nn)\n",
    "end"
   ]
  },
  {
   "cell_type": "code",
   "execution_count": 562,
   "metadata": {},
   "outputs": [
    {
     "data": {
      "text/plain": [
       "Recur(RNNCell(48, 30, tanh))"
      ]
     },
     "execution_count": 562,
     "metadata": {},
     "output_type": "execute_result"
    }
   ],
   "source": [
    "nn2 = RNN(d_in, d_state)"
   ]
  },
  {
   "cell_type": "code",
   "execution_count": 565,
   "metadata": {},
   "outputs": [
    {
     "data": {
      "text/plain": [
       "BenchmarkTools.Trial: \n",
       "  memory estimate:  6.76 MiB\n",
       "  allocs estimate:  81734\n",
       "  --------------\n",
       "  minimum time:     13.490 ms (0.00% GC)\n",
       "  median time:      14.764 ms (0.00% GC)\n",
       "  mean time:        19.289 ms (24.44% GC)\n",
       "  maximum time:     42.484 ms (55.10% GC)\n",
       "  --------------\n",
       "  samples:          260\n",
       "  evals/sample:     1"
      ]
     },
     "execution_count": 565,
     "metadata": {},
     "output_type": "execute_result"
    }
   ],
   "source": [
    "@benchmark begin;\n",
    "    Q = AxUtil.Math.cayley_orthog(vec(nn.cell.Whpar)/10, d_state)\n",
    "    nn2.cell.Wh = Q\n",
    "    nn2.state = hs[ix]\n",
    "    x̂ = nn2.(Xlists[ix])\n",
    "    x̂ = Tracker.collect(reduce(hcat, x̂))\n",
    "    ŷ = (ffnn(x̂) + C*x̂ + B*X[ix]')'\n",
    "    Tracker.back!(sum(x->x^2, ŷ - Y[ix]))\n",
    "    Flux.reset!(nn2)\n",
    "end"
   ]
  },
  {
   "cell_type": "markdown",
   "metadata": {},
   "source": [
    "# Visualisation"
   ]
  },
  {
   "cell_type": "code",
   "execution_count": 672,
   "metadata": {},
   "outputs": [],
   "source": [
    "using Quaternions  # <= still need\n",
    "using MeshCat # <= still need\n",
    "# using CoordinateTransformations\n",
    "# using GeometryTypes\n",
    "# using Colors: RGBA, RGB"
   ]
  },
  {
   "cell_type": "markdown",
   "metadata": {},
   "source": [
    "### Visualise CMU Data"
   ]
  },
  {
   "cell_type": "code",
   "execution_count": 2,
   "metadata": {},
   "outputs": [],
   "source": [
    "data_path = \"../../../mocap-mtds/model_data/\"\n",
    "loadYmu = npzread(joinpath(data_path, \"Ymean.npz\"))[\"Ymean\"];\n",
    "loadYstd = npzread(joinpath(data_path, \"Ystd.npz\"))[\"Ystd\"];"
   ]
  },
  {
   "cell_type": "code",
   "execution_count": 3,
   "metadata": {},
   "outputs": [],
   "source": [
    "YsCMU = npzread(joinpath(data_path, \"Y_output_data.npz\"))\n",
    "YsCMU = [YsCMU[\"arr_\"*string(i-1)] for i in 1:length(YsCMU)];"
   ]
  },
  {
   "cell_type": "code",
   "execution_count": 713,
   "metadata": {},
   "outputs": [
    {
     "data": {
      "text/plain": [
       "Dict{String,Any} with 1 entry:\n",
       "  \"Ys\" => Float32[-0.0229391 -0.0223341 … 0.0362696 0.0365848]…"
      ]
     },
     "execution_count": 713,
     "metadata": {},
     "output_type": "execute_result"
    }
   ],
   "source": [
    "YsAngry = npzread(joinpath(data_path, \"Y_angry_01.npz\"))"
   ]
  },
  {
   "cell_type": "code",
   "execution_count": 236,
   "metadata": {},
   "outputs": [
    {
     "data": {
      "text/plain": [
       "_joints_fk (generic function with 1 method)"
      ]
     },
     "execution_count": 236,
     "metadata": {},
     "output_type": "execute_result"
    }
   ],
   "source": [
    "qimag = Quaternions.imag\n",
    "quat_list(x) = [quat(x[i,:]) for i in 1:size(x,1)]\n",
    "quat_list_to_mat(x) = reduce(vcat, [qimag(xx)' for xx in x])\n",
    "quaterion_angle_axis_w_y(θ) = quat(cos(θ/2), 0, sin(θ/2), 0)\n",
    "apply_rotation(x, qrot) = qrot * x * conj(qrot)\n",
    "\n",
    "function reconstruct_positions_old(Y::Matrix; denormalize=true)\n",
    "    Y = convert(Matrix{Float64}, Y)   # reduce error propagation from iterative scheme\n",
    "    if denormalize\n",
    "        Y = Y .* loadYstd' .+ loadYmu'\n",
    "    end\n",
    "    \n",
    "    n = size(Y, 1)\n",
    "    root_r, root_x, root_z, joints = Y[:,1], Y[:,2], Y[:,3], Y[:,8:(63+7)]\n",
    "    joints = reshape(joints, n, 3, 21)\n",
    "    joints = permutedims(joints, [1,3,2])\n",
    "    rotation = Quaternion(1.0)\n",
    "    offsets = []\n",
    "    translation = zeros(3)\n",
    "\n",
    "    for i = 1:n\n",
    "        joints[i,:,:] = apply_rotation(quat_list(joints[i,:,:]), rotation) |> quat_list_to_mat\n",
    "        joints[i,:,1] = joints[i,:,1] .+ translation[1]\n",
    "        joints[i,:,3] = joints[i,:,3] .+ translation[3]\n",
    "        \n",
    "        rotation = quaterion_angle_axis_w_y(-root_r[i]) * rotation\n",
    "        append!(offsets, apply_rotation(quat(0.,0,0,1), rotation))\n",
    "        translation = translation + qimag(apply_rotation(quat(0., root_x[i], 0, root_z[i]), rotation))\n",
    "    end\n",
    "    \n",
    "    return joints\n",
    "end\n",
    "\n",
    "function reconstruct_positions(Y::Matrix; denormalize=true)\n",
    "    Y = convert(Matrix{Float64}, Y)   # reduce error propagation from iterative scheme\n",
    "    if denormalize\n",
    "        Y = Y .* loadYstd' .+ loadYmu'\n",
    "    end\n",
    "    \n",
    "    root_r, root_x, root_z, joints = Y[:,1], Y[:,2], Y[:,3], Y[:,8:(63+7)]\n",
    "    return _joints_fk(joints, root_x, root_z, root_r)\n",
    "end\n",
    "\n",
    "function _joints_fk(joints::Matrix{T}, root_x::Vector{T}, root_z::Vector{T}, \n",
    "        root_r::Vector{T}) where T <: Number\n",
    "\n",
    "    n = size(joints, 1)\n",
    "    joints = reshape(joints, n, 3, 21)\n",
    "    joints = permutedims(joints, [1,3,2])\n",
    "    rotation = Quaternion(1.0)\n",
    "    offsets = []\n",
    "    translation = zeros(3)\n",
    "\n",
    "    for i = 1:n\n",
    "        joints[i,:,:] = apply_rotation(quat_list(joints[i,:,:]), rotation) |> quat_list_to_mat\n",
    "        joints[i,:,1] = joints[i,:,1] .+ translation[1]\n",
    "        joints[i,:,3] = joints[i,:,3] .+ translation[3]\n",
    "        \n",
    "        rotation = quaterion_angle_axis_w_y(-root_r[i]) * rotation\n",
    "        append!(offsets, apply_rotation(quat(0.,0,0,1), rotation))\n",
    "        translation = translation + qimag(apply_rotation(quat(0., root_x[i], 0, root_z[i]), rotation))\n",
    "    end\n",
    "    \n",
    "    return joints\n",
    "end"
   ]
  },
  {
   "cell_type": "code",
   "execution_count": 719,
   "metadata": {},
   "outputs": [],
   "source": [
    "angry_ok = reconstruct_positions(YsAngry[\"Ys\"][1,:,:], denormalize=false);"
   ]
  },
  {
   "cell_type": "code",
   "execution_count": 722,
   "metadata": {},
   "outputs": [
    {
     "data": {
      "text/plain": [
       "MeshCat Visualizer with path /meshcat"
      ]
     },
     "execution_count": 722,
     "metadata": {},
     "output_type": "execute_result"
    }
   ],
   "source": [
    "vis = mocapviz.create_animation([angry_ok[1:300,:,:]], \"angry_ok\"; vis=vis, linemesh=[mocapviz.redmesh])"
   ]
  },
  {
   "cell_type": "code",
   "execution_count": 644,
   "metadata": {},
   "outputs": [],
   "source": [
    "recon, recon2 = reconstruct_positions(YsCMU[13]), reconstruct_positions(YsCMU[18]);"
   ]
  },
  {
   "cell_type": "code",
   "execution_count": null,
   "metadata": {},
   "outputs": [],
   "source": [
    "scatter(recon[1,:,1], recon[1,:,2])\n",
    "[plt.text(recon[1,i,1], recon[1,i,2], i) for i in 1:length(recon[1,:,1])];"
   ]
  },
  {
   "cell_type": "code",
   "execution_count": 11,
   "metadata": {},
   "outputs": [
    {
     "name": "stderr",
     "output_type": "stream",
     "text": [
      "┌ Info: Serving MeshCat visualizer at http://127.0.0.1:8700\n",
      "└ @ MeshCat /Users/alexbird/.julia/dev/MeshCat/src/servers.jl:24\n"
     ]
    },
    {
     "data": {
      "text/plain": [
       "Process(`\u001b[4mopen\u001b[24m \u001b[4mhttp://127.0.0.1:8700\u001b[24m`, ProcessExited(0))"
      ]
     },
     "execution_count": 11,
     "metadata": {},
     "output_type": "execute_result"
    },
    {
     "name": "stderr",
     "output_type": "stream",
     "text": [
      "┌ Error: error handling request\n",
      "│   exception = (Base.IOError(\"stream is closed or unusable\", 0), Base.StackTraces.StackFrame[check_open at stream.jl:323 [inlined], uv_write_async(::TCPSocket, ::Ptr{UInt8}, ::UInt64) at stream.jl:871, uv_write(::TCPSocket, ::Ptr{UInt8}, ::UInt64) at stream.jl:845, unsafe_write(::TCPSocket, ::Ptr{UInt8}, ::UInt64) at stream.jl:901, macro expansion at ConnectionPool.jl:132 [inlined], write at io.jl:165 [inlined], closebody at Streams.jl:111 [inlined], closewrite(::Stream{Request,Transaction{TCPSocket}}) at Streams.jl:126, (::##13#14{#_servercoroutine#11{ServerWS},Transaction{TCPSocket},Stream{Request,Transaction{TCPSocket}}})() at task.jl:259])\n",
      "└ @ HTTP.Servers /Users/alexbird/.julia/packages/HTTP/GN0Te/src/Servers.jl:356\n"
     ]
    }
   ],
   "source": [
    "# Create a new visualizer instance\n",
    "vis = Visualizer()\n",
    "open(vis)"
   ]
  },
  {
   "cell_type": "code",
   "execution_count": 192,
   "metadata": {},
   "outputs": [
    {
     "name": "stderr",
     "output_type": "stream",
     "text": [
      "WARNING: replacing module mocapviz.\n"
     ]
    },
    {
     "data": {
      "text/plain": [
       "Main.mocapviz"
      ]
     },
     "execution_count": 192,
     "metadata": {},
     "output_type": "execute_result"
    }
   ],
   "source": [
    "include(\"../../../mocap-mtds/mocap_viz.jl\")"
   ]
  },
  {
   "cell_type": "code",
   "execution_count": 193,
   "metadata": {
    "scrolled": true
   },
   "outputs": [
    {
     "data": {
      "text/plain": [
       "MeshCat Visualizer with path /meshcat"
      ]
     },
     "execution_count": 193,
     "metadata": {},
     "output_type": "execute_result"
    }
   ],
   "source": [
    "vis = mocapviz.create_animation([recon, recon2], \"test\"; vis=vis, linemesh=[mocapviz.yellowmesh, mocapviz.redmesh])"
   ]
  },
  {
   "cell_type": "code",
   "execution_count": null,
   "metadata": {},
   "outputs": [],
   "source": [
    "delete!(vis)"
   ]
  },
  {
   "cell_type": "markdown",
   "metadata": {},
   "source": [
    "### Visualise Xia et al. Data"
   ]
  },
  {
   "cell_type": "code",
   "execution_count": 687,
   "metadata": {},
   "outputs": [
    {
     "data": {
      "text/plain": [
       "123426-element Array{Float32,1}:\n",
       "  0.097789206\n",
       "  0.019930221\n",
       " -0.104543135\n",
       " -0.1940918  \n",
       " -0.2679099  \n",
       " -0.31946385 \n",
       " -0.3424955  \n",
       " -0.33781835 \n",
       " -0.30423185 \n",
       " -0.24853864 \n",
       " -0.18442912 \n",
       " -0.12457695 \n",
       " -0.07718195 \n",
       "  ⋮          \n",
       "  0.96893865 \n",
       "  0.9441292  \n",
       "  0.9050325  \n",
       "  0.850461   \n",
       "  0.7819367  \n",
       "  0.70069945 \n",
       "  0.6146078  \n",
       "  0.5278602  \n",
       "  0.44243118 \n",
       "  0.36326677 \n",
       "  0.29459813 \n",
       "  0.23552004 "
      ]
     },
     "execution_count": 687,
     "metadata": {},
     "output_type": "execute_result"
    }
   ],
   "source": [
    "Ys[:,3]"
   ]
  },
  {
   "cell_type": "code",
   "execution_count": 701,
   "metadata": {},
   "outputs": [
    {
     "data": {
      "text/plain": [
       "reconstruct_positions_xia (generic function with 1 method)"
      ]
     },
     "execution_count": 701,
     "metadata": {},
     "output_type": "execute_result"
    }
   ],
   "source": [
    "# function reconstruct_positions_xia(Y::Matrix; denormalize=true)\n",
    "#     Y = convert(Matrix{Float64}, Y)   # reduce error propagation from iterative scheme\n",
    "#     if denormalize\n",
    "#         Y = Y .* Ystd .+ Ymean\n",
    "#     end\n",
    "#     _joints_fk(Y[:, 4:66], Y[:,1], Y[:,2], vcat(0, Y[:,3])*20*π/180)\n",
    "# end\n",
    "\n",
    "function reconstruct_positions_xia(Y::Matrix; denormalize=true)\n",
    "    Y = convert(Matrix{Float64}, Y)   # reduce error propagation from iterative scheme\n",
    "    if denormalize\n",
    "        Y = Y .* Ystd .+ Ymean\n",
    "    end\n",
    "    \n",
    "    n = size(Y, 1)\n",
    "    root_x, root_z, root_r, joints = Y[:,1], Y[:,2], Y[:,3]*40*π/180, Y[:,4:(63+3)]\n",
    "    joints = reshape(joints, n, 3, 21)\n",
    "    joints = permutedims(joints, [1,3,2])\n",
    "    rotation = Quaternion(1.0)\n",
    "    offsets = []\n",
    "    translation = zeros(3)\n",
    "\n",
    "    for i = 1:n\n",
    "        joints[i,:,:] = apply_rotation(quat_list(joints[i,:,:]), rotation) |> quat_list_to_mat\n",
    "        joints[i,:,1] = joints[i,:,1] .+ translation[1]\n",
    "        joints[i,:,3] = joints[i,:,3] .+ translation[3]\n",
    "        \n",
    "        rotation = quaterion_angle_axis_w_y(-root_r[i])\n",
    "        append!(offsets, apply_rotation(quat(0.,0,0,1), rotation))\n",
    "        translation = translation + qimag(apply_rotation(quat(0., root_x[i], 0, root_z[i]), rotation))\n",
    "    end\n",
    "    \n",
    "    return joints\n",
    "end"
   ]
  },
  {
   "cell_type": "code",
   "execution_count": 723,
   "metadata": {},
   "outputs": [],
   "source": [
    "# No normalization applied\n",
    "Xs, Ys, Ps = data[\"Xin\"], data[\"Yin\"], data[\"Pin\"];\n",
    "Xs = Xs[:,1:48]  # trajectory only\n",
    "Ys = Ys[:,[1,2,3, (used_joint_ixs .+ 28)...]];"
   ]
  },
  {
   "cell_type": "code",
   "execution_count": null,
   "metadata": {},
   "outputs": [],
   "source": [
    "xrecon1 = reconstruct_positions_xia(Ys[1:300, :], denormalize=false);\n",
    "# vis = mocapviz.create_animation([xrecon1], \"mason\"; vis=vis, linemesh=mocapviz.yellowmesh, scale=1.0)"
   ]
  },
  {
   "cell_type": "code",
   "execution_count": null,
   "metadata": {},
   "outputs": [],
   "source": [
    "vis = mocapviz.create_animation([xrecon1[1:120,:,:]*10, angry_ok[1:120,:,:]], \"angry_ok\"; vis=vis, \n",
    "    linemesh=[mocapviz.yellowmesh, mocapviz.redmesh])"
   ]
  },
  {
   "cell_type": "code",
   "execution_count": null,
   "metadata": {},
   "outputs": [],
   "source": [
    "plot(angry_ok[range(ii,step=10,length=12), 1,1], angry_ok[range(ii,step=10,length=12), 1,3])\n",
    "ii+=10"
   ]
  },
  {
   "cell_type": "code",
   "execution_count": 732,
   "metadata": {},
   "outputs": [
    {
     "data": {
      "text/plain": [
       "MeshCat Visualizer with path /meshcat"
      ]
     },
     "execution_count": 732,
     "metadata": {},
     "output_type": "execute_result"
    }
   ],
   "source": [
    "vis = mocapviz.create_animation([xrecon1[1:270,:,:]*10, angry_ok[31:300,:,:]], \"angry_ok\"; vis=vis, \n",
    "    linemesh=[mocapviz.yellowmesh, mocapviz.redmesh])"
   ]
  },
  {
   "cell_type": "code",
   "execution_count": 726,
   "metadata": {},
   "outputs": [
    {
     "data": {
      "text/plain": [
       "MeshCat Visualizer with path /meshcat"
      ]
     },
     "execution_count": 726,
     "metadata": {},
     "output_type": "execute_result"
    }
   ],
   "source": [
    "delete!(vis)"
   ]
  },
  {
   "cell_type": "code",
   "execution_count": 347,
   "metadata": {},
   "outputs": [],
   "source": [
    "npzwrite(\"juliaYinp.npz\", Ys[1:300, :])"
   ]
  },
  {
   "cell_type": "code",
   "execution_count": 365,
   "metadata": {},
   "outputs": [],
   "source": [
    "npzwrite(\"juliaxia1.npz\", xrecon1)"
   ]
  },
  {
   "cell_type": "code",
   "execution_count": 118,
   "metadata": {},
   "outputs": [],
   "source": [
    "testY = data[\"Yin\"][1:2000,[1,2,3, (used_joint_ixs .+ 28)...]];\n",
    "testY = Ys[1:2000,4:end];"
   ]
  },
  {
   "cell_type": "code",
   "execution_count": 119,
   "metadata": {},
   "outputs": [],
   "source": [
    "testYrs = permutedims(reshape(testY, 2000, 3, 21), [1,3,2]);"
   ]
  },
  {
   "cell_type": "code",
   "execution_count": 170,
   "metadata": {},
   "outputs": [
    {
     "data": {
      "text/plain": [
       "MeshCat Visualizer with path /meshcat"
      ]
     },
     "execution_count": 170,
     "metadata": {},
     "output_type": "execute_result"
    }
   ],
   "source": [
    "vis = mocapviz.create_animation([xrecon1], \"mason\"; vis=vis, linemesh=mocapviz.yellowmesh, scale=1.0)"
   ]
  },
  {
   "cell_type": "code",
   "execution_count": null,
   "metadata": {},
   "outputs": [],
   "source": [
    "reconstruct_positions(YsCMU[18]);"
   ]
  },
  {
   "cell_type": "code",
   "execution_count": 27,
   "metadata": {},
   "outputs": [
    {
     "data": {
      "text/plain": [
       "MeshCat Visualizer with path /meshcat/line1/line_1"
      ]
     },
     "execution_count": 27,
     "metadata": {},
     "output_type": "execute_result"
    }
   ],
   "source": [
    "setobject!(vis[:line1][:line_1, ], HyperRectangle(Vec3(0.), Vec3([1.,0.03,0.03])), blackmesh)"
   ]
  },
  {
   "cell_type": "code",
   "execution_count": null,
   "metadata": {},
   "outputs": [],
   "source": [
    "lines = LineCollection([HyperRectangle(zero(Point{3, Float64}), Point{3}([1.,0,0]), 0.02) \n",
    "                        for i in 1:nl], [linestr(i) for i in 1:nl], [yellowmesh for i in 1:nl])"
   ]
  },
  {
   "cell_type": "code",
   "execution_count": 20,
   "metadata": {},
   "outputs": [
    {
     "data": {
      "text/plain": [
       "MeshCat.GenericMaterial\n",
       "  _type: String \"MeshPhongMaterial\"\n",
       "  color: RGBA{Float32}\n",
       "  map: Nothing nothing\n",
       "  depthFunc: Int64 3\n",
       "  depthTest: Bool true\n",
       "  depthWrite: Bool true\n",
       "  vertexColors: Int64 0\n",
       "  side: Int64 2\n"
      ]
     },
     "execution_count": 20,
     "metadata": {},
     "output_type": "execute_result"
    }
   ],
   "source": [
    "using ColorTypes: RGBA\n",
    "using GeometryTypes\n",
    "blackmesh = MeshPhongMaterial(color=RGBA(0.1, 0.1, 0.1, 0.7))"
   ]
  },
  {
   "cell_type": "markdown",
   "metadata": {},
   "source": [
    "## Moved this out into mocap_viz.jl\n",
    "\n",
    "So this is here momentarily in case I messed something up."
   ]
  },
  {
   "cell_type": "code",
   "execution_count": null,
   "metadata": {},
   "outputs": [],
   "source": [
    "dotstr(i) = \"dot_\" * format(\"{:02d}\", i);\n",
    "linestr(i) = \"line_\" * format(\"{:02d}\", i);\n",
    "\n",
    "greymesh = MeshPhongMaterial(color=RGBA(0.3, 0.3, 0.3, 0.7))\n",
    "yellowmesh = MeshPhongMaterial(color=RGBA(204/255, 204/255, 0., 0.7));\n",
    "redmesh = MeshPhongMaterial(color=RGBA(224/255, 131/255, 94/255, 0.7));\n",
    "\n",
    "# initialise lines and dots\n",
    "mutable struct LineCollection{T, R}\n",
    "    data::Array{T}\n",
    "    vnames::Array{String}\n",
    "    attributes::Array{R}\n",
    "end\n",
    "mutable struct JointCollection{T, R}\n",
    "    data::Array{T}\n",
    "    vnames::Array{String}\n",
    "    attributes::Array{R}\n",
    "end\n",
    "\n",
    "Base.length(x::LineCollection) = length(x.data)\n",
    "Base.length(x::JointCollection) = length(x.data)\n",
    "\n",
    "function update_pos!(lines::LineCollection, origin::Matrix, extremity::Matrix)\n",
    "    @argcheck length(lines) == size(origin, 1) == size(extremity, 1)\n",
    "    lines.data = [Cylinder(Point{3}(origin[i,:]), Point{3}(extremity[i,:]), l.r)\n",
    "                  for (i,l) in enumerate(lines.data)]\n",
    "end\n",
    "\n",
    "function update_pos!(lines::LineCollection, data::Matrix)\n",
    "    parents = [1,2,3,4,1,6,7,8,1,10,11,12,12,14,15,16,12,18,19,20][1:length(lines)]\n",
    "    parent = data[parents,:]\n",
    "    data = data[2:end, :]  # remove root (has no line)\n",
    "    update_pos!(lines, parent, data)\n",
    "end\n",
    "\n",
    "function update_pos!(joints::JointCollection, data::Matrix)\n",
    "    @argcheck length(joints) == size(data, 1)\n",
    "    joints.data = [HyperSphere(Point3f0(data[i,:]), l.r) for (i,l) in enumerate(joints.data)]\n",
    "end\n",
    "\n",
    "# 3D plotting utilities: map line from x₁ → x₂ into affine transformation of e₁.\n",
    "function line_into_transform(x1, x2)\n",
    "    scaling, position, rotation = line_into_transforms_indiv(x1, x2)\n",
    "    return AffineMap(rotation, position) ∘ LinearMap(diagm(0=>scaling))\n",
    "end\n",
    "\n",
    "function line_into_transforms_indiv(x1, x2)\n",
    "    scaling = [norm(x2-x1), 1., 1]\n",
    "    position = x1\n",
    "    rotation = CoordinateTransformations.rotation_between([1., 0, 0], x2 - x1)\n",
    "    return scaling, position, rotation\n",
    "end\n",
    "\n",
    "line_into_transform(x::Cylinder) = line_into_transform(x.origin, x.extremity)\n",
    "line_into_transforms_indiv(x::Cylinder) = line_into_transforms_indiv(x.origin, x.extremity)\n",
    "\n",
    "function setobj_mocap!(v::AbstractVisualizer, L::LineCollection, J::JointCollection)\n",
    "    # lines at back, joints at front\n",
    "    for i in 1:length(L)\n",
    "        setobject!(v[L.vnames[i]], L.data[i], L.attributes[i])\n",
    "    end\n",
    "    for i in 1:length(J)\n",
    "        setobject!(v[J.vnames[i]], J.data[i], J.attributes[i])\n",
    "    end\n",
    "end\n",
    "\n",
    "function settransform_mocap!(v::AbstractVisualizer, L::LineCollection, J::JointCollection, anim=false)\n",
    "    # lines at back, joints at front\n",
    "    if anim\n",
    "        for i in 1:length(L)\n",
    "            scaling, position, rotation = line_into_transforms_indiv(L.data[i])\n",
    "            anim_settransform!(v[L.vnames[i]], scaling, position, rotation)\n",
    "        end\n",
    "    else\n",
    "        for i in 1:length(L)\n",
    "            tform = line_into_transform(L.data[i])\n",
    "            settransform!(v[L.vnames[i]], tform)\n",
    "        end\n",
    "    end\n",
    "    for i in 1:length(J)\n",
    "        settransform!(v[J.vnames[i]], Translation(J.data[i].center))\n",
    "    end\n",
    "end\n",
    "\n",
    "nj = 21\n",
    "nl = nj-1\n",
    "lines = LineCollection([Cylinder(zero(Point{3, Float64}), Point{3}([1.,0,0]), 0.02) \n",
    "                        for i in 1:nl], [linestr(i) for i in 1:nl], [yellowmesh for i in 1:nl])\n",
    "joints = JointCollection([HyperSphere(Point3f0(0), 0.05f0) for i in 1:nj],\n",
    "                        [dotstr(i) for i in 1:nj], [greymesh for i in 1:nj]);\n",
    "\n",
    "setobj_mocap!(vis[:skeleton], lines, joints)\n",
    "\n",
    "scale_α = 0.1\n",
    "ii = 1\n",
    "# need to permute z/y axis for Blink/Three.js setup\n",
    "update_pos!(lines, recon[ii,1:nj,[1,3,2]]*scale_α)\n",
    "update_pos!(joints, recon[ii,1:nj,[1,3,2]]*scale_α);\n",
    "settransform_mocap!(vis[:skeleton], lines, joints)\n",
    "\n",
    "function anim_settransform!(vis::MeshCat.AnimationFrameVisualizer, scaling, position, rotation)\n",
    "    clip = MeshCat.getclip!(vis)\n",
    "    MeshCat._setprop!(clip, vis.current_frame, \"scale\", \"vector3\", scaling)\n",
    "    MeshCat._setprop!(clip, vis.current_frame, \"position\", \"vector3\", position)\n",
    "    MeshCat._setprop!(clip, vis.current_frame, \"quaternion\", \"quaternion\", MeshCat.js_quaternion(rotation))\n",
    "end\n",
    "\n",
    "anim = Animation()\n",
    "\n",
    "scale_α = 0.1\n",
    "# need to permute z/y axis for three.js setup\n",
    "\n",
    "\n",
    "for ii in 1:240\n",
    "    atframe(anim, vis, ii-1) do frame\n",
    "        update_pos!(lines, recon[ii,1:nj,[1,3,2]]*scale_α)\n",
    "        update_pos!(joints, recon[ii,1:nj,[1,3,2]]*scale_α);\n",
    "        settransform_mocap!(frame[:skeleton], lines, joints, true)\n",
    "    end\n",
    "end\n",
    "\n",
    "\n",
    "# `setanimation!()` actually sends the animation to the\n",
    "# viewer. By default, the viewer will play the animation\n",
    "# right away. To avoid that, you can also pass `play=false`. \n",
    "setanimation!(vis, anim)"
   ]
  }
 ],
 "metadata": {
  "@webio": {
   "lastCommId": null,
   "lastKernelId": null
  },
  "kernelspec": {
   "display_name": "Julia 1.1.0",
   "language": "julia",
   "name": "julia-1.1"
  },
  "language_info": {
   "file_extension": ".jl",
   "mimetype": "application/julia",
   "name": "julia",
   "version": "1.1.0"
  }
 },
 "nbformat": 4,
 "nbformat_minor": 2
}
