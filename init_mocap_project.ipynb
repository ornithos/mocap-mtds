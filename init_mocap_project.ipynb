{
 "cells": [
  {
   "cell_type": "markdown",
   "metadata": {},
   "source": [
    "# Initial Mocap Exploration\n",
    "\n",
    "The purposes of this notebook are twofold:\n",
    "\n",
    "* Exploring 1+ CMU Mocap data files:\n",
    "    * IO\n",
    "    * Data Structure\n",
    "    * Feature Extraction\n",
    "* Visualising the skeleton using RidgidBodyDynamics / MeshCat + additional work"
   ]
  },
  {
   "cell_type": "markdown",
   "metadata": {},
   "source": [
    "## AMC files seem easiest\n",
    "However, they don't contain skeleton info => We need the .asf file too. It seems that many authors work with BVH files instead and in order to be more flexible in reusing other work and pre-processing, perhaps BVH will be the way forward, rendering the below AMC parser not especially useful."
   ]
  },
  {
   "cell_type": "code",
   "execution_count": 29,
   "metadata": {},
   "outputs": [
    {
     "data": {
      "text/plain": [
       "read_amc (generic function with 2 methods)"
      ]
     },
     "execution_count": 29,
     "metadata": {},
     "output_type": "execute_result"
    }
   ],
   "source": [
    "function read_amc_(fname, T::Type)\n",
    "    \n",
    "    # lookups for skeleton position\n",
    "    lens =[6 3 3 3 3 3 3 2 3 1 1 2 1 2 2 3 1 1 2 1 2 3 1 2 1 3 1 2 1];\n",
    "    locations = [1 7 10 13 16 19 22 25 27 30 31 32 34 35 37 39 42 43 44 46 47 49 52 53 55 56 59 60 62];\n",
    "    \n",
    "    # lookup for text strings in AMC file format\n",
    "    skel_lkp = Dict(\n",
    "        \"root\"=>1,\n",
    "        \"lowerback\"=>2,\n",
    "        \"upperback\"=>3,\n",
    "        \"thorax\"=>4, \n",
    "        \"lowerneck\"=>5, \n",
    "        \"upperneck\"=>6, \n",
    "        \"head\"=>7,\n",
    "        \"rclavicle\"=>8, \n",
    "        \"rhumerus\"=>9,\n",
    "        \"rradius\"=>10,\n",
    "        \"rwrist\"=>11,\n",
    "        \"rhand\"=>12,\n",
    "        \"rfingers\"=>13,\n",
    "        \"rthumb\"=>14,\n",
    "        \"lclavicle\"=>15, \n",
    "        \"lhumerus\"=>16,\n",
    "        \"lradius\"=>17,\n",
    "        \"lwrist\"=>18,\n",
    "        \"lhand\"=>19,\n",
    "        \"lfingers\"=>20,\n",
    "        \"lthumb\"=>21,\n",
    "        \"rfemur\"=>22,\n",
    "        \"rtibia\"=>23,\n",
    "        \"rfoot\"=>24,\n",
    "        \"rtoes\"=>25,\n",
    "        \"lfemur\"=>26,\n",
    "        \"ltibia\"=>27,\n",
    "        \"lfoot\"=>28,\n",
    "        \"ltoes\"=>29\n",
    "    )\n",
    "    \n",
    "    \n",
    "    frame_nums, frames = open(fname) do f\n",
    "        # ignore header\n",
    "        while !eof(f) && (readline(f) != \":DEGREES\") end\n",
    "        frame_nums = Int32[]\n",
    "        frames = Vector[]\n",
    "        \n",
    "        # main loop\n",
    "        while !eof(f)\n",
    "            \n",
    "            # Each frame begins with a line of one integer of frame num\n",
    "            xf = readline(f)\n",
    "            push!(frame_nums, parse(Int, xf))\n",
    "            \n",
    "            # Next 29 lines will be the angle labels (arbitrary order allowed)\n",
    "            frame = Vector{T}(undef, 62);\n",
    "            for i in 1:29\n",
    "                elems = split(readline(f))\n",
    "                angle_ix = skel_lkp[elems[1]]\n",
    "                loc = locations[angle_ix];\n",
    "                len = lens[angle_ix];\n",
    "                frame[loc:(loc+len-1)] = parse.(T, elems[2:end]);\n",
    "            end\n",
    "            push!(frames, frame)\n",
    "        end\n",
    "        \n",
    "        (frame_nums, frames)\n",
    "    end\n",
    "    \n",
    "    frame_nums, reduce(hcat, frames)\n",
    "end\n",
    "\n",
    "read_amc(fname, T::Type) = begin; fnums, fs = read_amc_(fname, T); @assert all(diff(fnums) .== 1); fs; end\n",
    "read_amc(fname) = read_amc(fname, Float64)"
   ]
  },
  {
   "cell_type": "code",
   "execution_count": 71,
   "metadata": {},
   "outputs": [
    {
     "data": {
      "text/plain": [
       "62×343 Array{Float64,2}:\n",
       "  10.4194     10.4117      10.4037    …   11.0359     11.0323      11.0237  \n",
       "  16.7048     16.684       16.6749        17.5068     17.4953      17.502   \n",
       " -30.1003    -29.9168     -29.7319        29.051      29.2606      29.4538  \n",
       "  -2.48972    -2.69729     -2.73684       -4.01745    -4.41668     -4.48244 \n",
       "  -9.82194   -10.0082     -10.1104         6.83579     7.13935      6.81263 \n",
       "  -3.00914    -2.83243     -2.67905   …    0.112677   -0.642809    -1.59521 \n",
       "   7.86573     7.44596      7.31519        5.78481     6.08656      5.7506  \n",
       "   1.57272     1.65374      1.74924       -1.59455    -1.74843     -1.88034 \n",
       "   6.3571      6.09331      5.93159       -0.699558    0.1647       0.989992\n",
       "   3.47255     3.91254      3.96845        1.79665     1.59999      1.78225 \n",
       "   2.55226     2.58553      2.68906   …   -2.12702    -2.27025     -2.40255 \n",
       "   1.65684     1.67171      1.61541        1.9459      2.15737      2.42913 \n",
       "  -0.599593    0.0784557    0.211031      -1.29197    -1.68055     -1.32314 \n",
       "   ⋮                                  ⋱    ⋮                                \n",
       "  29.9133     29.6756      29.3786    …   22.6918     23.6914      25.0009  \n",
       "  11.5302     11.2385      11.6107        26.5286     27.4619      27.7761  \n",
       " -15.9687    -15.6726     -15.695         -6.09207    -5.11738     -4.35066 \n",
       "   0.925564    0.950482     1.22609      -15.7664    -15.758      -15.1615  \n",
       "   4.33359     2.11338      0.922151     -12.2351     -5.59183    -10.693   \n",
       " -28.0191    -27.7269     -27.6281    …   16.9647     17.3467      16.9276  \n",
       "  -1.02078    -0.953135    -0.810148      -2.79207    -3.11875     -2.85303 \n",
       " -20.1783    -20.5822     -21.0041       -24.8322    -23.8576     -22.5749  \n",
       "  22.3977     22.4395      22.6869        24.6066     25.8334      27.7778  \n",
       " -12.1104    -12.3785     -12.2625       -14.9779    -14.2605     -13.6748  \n",
       "  13.478      13.6867      13.6748    …    0.774576    0.0108513   -0.618019\n",
       " -10.2227     -8.45391     -9.11447      -24.8881    -24.2027     -24.1466  "
      ]
     },
     "execution_count": 71,
     "metadata": {},
     "output_type": "execute_result"
    }
   ],
   "source": [
    "X = read_amc(\"../data/mocap/cmu/walk/02_01.amc\")"
   ]
  },
  {
   "cell_type": "code",
   "execution_count": 59,
   "metadata": {},
   "outputs": [],
   "source": [
    "using Formatting, DelimitedFiles"
   ]
  },
  {
   "cell_type": "markdown",
   "metadata": {},
   "source": [
    "### Get list of just locomotion types"
   ]
  },
  {
   "cell_type": "code",
   "execution_count": 67,
   "metadata": {},
   "outputs": [
    {
     "ename": "ErrorException",
     "evalue": "Already run, and source file no longer exists",
     "output_type": "error",
     "traceback": [
      "Already run, and source file no longer exists",
      "",
      "Stacktrace:",
      " [1] error(::String) at ./error.jl:33",
      " [2] top-level scope at In[67]:1"
     ]
    }
   ],
   "source": [
    "# cmu_locomotion_lkp is simply a dump of the text (rendered html) of the CMU locomotion style sections\n",
    "# (there are four of these: running, jumping, walking, varied).\n",
    "error(\"Already run, and source file no longer exists\")\n",
    "cmu_loco_f, cmu_loco_type = open(\"../data/mocap/cmu_locomotion_lkp\") do f\n",
    "    \n",
    "    ids = String[]\n",
    "    descr = String[]\n",
    "    \n",
    "    # main loop\n",
    "    while !eof(f)\n",
    "\n",
    "        # Each frame begins with a line of one integer of frame num\n",
    "        xhead = split(readline(f))\n",
    "        @assert xhead[1] == \"Trial\"\n",
    "        subject = parse(Int, xhead[4])\n",
    "        \n",
    "        while true\n",
    "            x = readline(f)\n",
    "            isempty(strip(x)) && break\n",
    "            elems = split(x)\n",
    "            push!(ids, format(\"{:02d}_{:02d}\", subject, elems[1]))\n",
    "            push!(descr, elems[2])\n",
    "        end\n",
    "    end\n",
    "\n",
    "    ids, descr\n",
    "end\n",
    "\n",
    "open(\"../data/mocap/cmu_locomotion_lkp.txt\", \"w\") do io\n",
    "    reorder = sortperm(cmu_loco_f)\n",
    "    writedlm(io, [cmu_loco_f[reorder] cmu_loco_type[reorder]])\n",
    "end"
   ]
  },
  {
   "cell_type": "code",
   "execution_count": null,
   "metadata": {},
   "outputs": [],
   "source": []
  }
 ],
 "metadata": {
  "kernelspec": {
   "display_name": "Julia 1.1.0",
   "language": "julia",
   "name": "julia-1.1"
  },
  "language_info": {
   "file_extension": ".jl",
   "mimetype": "application/julia",
   "name": "julia",
   "version": "1.1.0"
  }
 },
 "nbformat": 4,
 "nbformat_minor": 2
}
