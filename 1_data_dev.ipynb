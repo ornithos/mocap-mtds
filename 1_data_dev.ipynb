{
 "cells": [
  {
   "cell_type": "markdown",
   "metadata": {},
   "source": [
    "# Mocap Data Development\n",
    "\n",
    "The goal of this stage was to understand the data, create a data processing pipeline in *Julia*, and\n",
    "\n",
    "* be able to create training / test data from raw files.\n",
    "* be able to reconstruct such data (and modelled data) into animations.\n",
    "\n",
    "**THIS IS NOW COMPLETE AND THE WORK MOVED INTO ./io.jl**"
   ]
  },
  {
   "cell_type": "code",
   "execution_count": 4,
   "metadata": {},
   "outputs": [],
   "source": [
    "using LinearAlgebra, Statistics, Random\n",
    "using Quaternions    # For manipulating 3D Geometry\n",
    "using MeshCat        # For web visualisation / animation\n",
    "using PyPlot         # Plotting\n",
    "using AxUtil, Flux   # Optimisation\n",
    "\n",
    "# small utils libraries\n",
    "using ProgressMeter, Formatting, ArgCheck\n",
    "using NPZ\n",
    "\n",
    "# global utils\n",
    "squeeze(x) = dropdims(x, dims=tuple(findall(size(x) .== 1)...))  # may be an official fn, but not sure where\n",
    "unsqueeze(xs, dim) = reshape(xs, (size(xs)[1:dim-1]..., 1, size(xs)[dim:end]...))  # <= from Flux.jl\n",
    "rowmaj_reshape_3d(x, ix, iy, iz) = (x=reshape(x, ix, iz, iy); permutedims(x, [1,3,2]);)\n",
    "\n",
    "DIR_MOCAP_MTDS = \".\";   # different cos I'm in dev folder\n",
    "\n",
    "# MeshCat skeleton visualisation tools\n",
    "include(joinpath(DIR_MOCAP_MTDS, \"mocap_viz.jl\"))"
   ]
  },
  {
   "cell_type": "code",
   "execution_count": 5,
   "metadata": {},
   "outputs": [],
   "source": [
    "include(joinpath(DIR_MOCAP_MTDS, \"io.jl\"))"
   ]
  },
  {
   "cell_type": "code",
   "execution_count": 6,
   "metadata": {},
   "outputs": [],
   "source": [
    "# Python interface to reuse Dan Holden's code\n",
    "using PyCall\n",
    "\n",
    "# add to PATH\n",
    "map([\"\", joinpath(DIR_MOCAP_MTDS, \"pyfiles\")]) do p\n",
    "    pushfirst!(PyVector(pyimport(\"sys\").\"path\"), p); end\n",
    "\n",
    "# imports\n",
    "BVHpy = pyimport(\"BVH\");\n",
    "Animpy = pyimport(\"Animation\");\n",
    "Quatpy = pyimport(\"Quaternions\");\n",
    "Pivotspy = pyimport(\"Pivots\")\n",
    "filterspy = pyimport(\"scipy.ndimage.filters\")   # note scipy not dl by default by Julia"
   ]
  },
  {
   "cell_type": "code",
   "execution_count": 7,
   "metadata": {},
   "outputs": [],
   "source": [
    "# PyCall Utility Functions\n",
    "toArray(x) = convert(Array, x)   # Quatpy class operations return Python objects (numpy). Forces convert.\n",
    "collapseDim3Jl(x) = reshape(x, size(x, 1), :)\n",
    "collapseDim3Npy(x) = (x=permutedims(x, [1,3,2]); reshape(x, size(x, 1), :);)\n",
    "\n",
    "# class method __getitem__ def in Quaternions.py doesn't play nicely. Let's write our own:\n",
    "QuatpyGetItem(pyo, ixs...) = Quatpy.Quaternions(pyo.qs[(ixs..., :, :, :)[1:ndims(pyo.qs)]...])"
   ]
  },
  {
   "cell_type": "markdown",
   "metadata": {},
   "source": [
    "-------------------\n",
    "## Extract relevant details from BVH file\n",
    "\n",
    "* Rotational velocity about root [1],\n",
    "* Global velocity of root in $x, z$ directions [2,3],\n",
    "* Foot contact points (L,R,heel,toe) [4,5,6,7],\n",
    "* Local joint positions (rel. to root) x21 x3 [8-70],\n",
    "* Local joint velocities (rel. to root) x21 x3 [71-133],\n",
    "* Local joint rotations (rel. to root?) x21 x3 [134-196],\n",
    "* Forward direction (note $\\perp$ to $y$, ie. $y=0$) [197-199]"
   ]
  },
  {
   "cell_type": "code",
   "execution_count": 955,
   "metadata": {},
   "outputs": [],
   "source": [
    "proc2 = mocapio.process_file(files[40])"
   ]
  },
  {
   "cell_type": "code",
   "execution_count": 8,
   "metadata": {},
   "outputs": [],
   "source": [
    "function process_file(filename)\n",
    "    \n",
    "    anim, names, frametime = BVHpy.load(filename)\n",
    "    \n",
    "    # Subsample to 60 fps\n",
    "    anim = get(anim,  range(0, length(anim)-1, step=2))\n",
    "    \n",
    "    # Do FK\n",
    "    global_xforms = Animpy.transforms_global(anim)  # intermediate\n",
    "    global_positions = global_xforms[:,:,1:3,4] ./ global_xforms[:,:,4:end,4]\n",
    "    global_rotations = Quatpy.Quaternions.from_transforms(global_xforms)\n",
    "    \n",
    "\n",
    "    # Remove Uneeded Joints\n",
    "    used_joints = [0, 2,  3,  4,  5, 7,  8,  9, 10, 12, 13, 15, 16, 18, 19, 20, 22, 25, 26, 27, 29] .+ 1\n",
    "         \n",
    "    positions = global_positions[:, used_joints,:]\n",
    "    global_rotations = QuatpyGetItem(global_rotations,:,used_joints,:) \n",
    "    N = size(positions, 1)\n",
    "    # ________________________________________________________\n",
    "\n",
    "    # Put on Floor\n",
    "    positions[:,:,2] .-= minimum(positions[:,:,2])\n",
    "    \n",
    "    # Get Foot Contacts\n",
    "    # ------------------------------------------\n",
    "    # >>>> SMOOTH FIRST? <<<<<<<<<<<<<<<\n",
    "    # ------------------------------------------\n",
    "    velfactor, heightfactor = [0.05,0.05], [3.0, 2.0]\n",
    "    fid_l, fid_r = [3,4] .+1, [7,8] .+1\n",
    "    \n",
    "    feet_l_vmag_sq = sum(x->x^2, diff(positions[:, fid_l, 1:3], dims=1), dims=3) |> squeeze\n",
    "    feet_l_h = positions[1:end-1, fid_l, 2]\n",
    "    feet_l = (feet_l_vmag_sq .< velfactor') .& (feet_l_h .< heightfactor')\n",
    "    \n",
    "    feet_r_vmag_sq = sum(x->x^2, diff(positions[:, fid_r, 1:3], dims=1), dims=3) |> squeeze\n",
    "    feet_r_h = positions[1:end-1, fid_r, 2]\n",
    "    feet_r = (feet_r_vmag_sq .< velfactor') .& (feet_r_h .< heightfactor')\n",
    "    \n",
    "    # Get Root Velocity\n",
    "    velocity = diff(positions[:,1:1,:], dims=1)\n",
    "    \n",
    "    # Remove translation\n",
    "    positions[:,:,1] .-= positions[:,1:1,1]\n",
    "    positions[:,:,3] .-= positions[:,1:1,3]\n",
    "    \n",
    "    # Get Forward Direction\n",
    "    sdr_l, sdr_r, hip_l, hip_r = 14, 18, 2, 6  #13, 17, 1, 5\n",
    "    across1 = positions[:,hip_l,:] - positions[:,hip_r,:]\n",
    "    across0 = positions[:,sdr_l,:] - positions[:,sdr_r,:]\n",
    "    across = across0 + across1\n",
    "    across = across ./ sqrt.(sum(x->x^2, across, dims=2))\n",
    "    \n",
    "    direction_filterwidth = 20\n",
    "#     forward = [cross(view(across, i,:), [0., 1, 0])' for i in 1:N] |>  x->reduce(vcat, x)  # crossprod\n",
    "    forward = hcat(-across[:,3], zeros(size(across, 1), 1), across[:,1])  # crossprod (easy as spec. case)\n",
    "    forward = filterspy.gaussian_filter1d(forward, direction_filterwidth, axis=0, mode=\"nearest\")\n",
    "    forward = forward ./ sqrt.(sum(x->x^2, forward, dims=2))\n",
    "    \n",
    "    # Get Root Rotation\n",
    "    target = repeat([0,0,1]', N, 1)\n",
    "    root_rotation = Quatpy.Quaternions.between(forward, target)\n",
    "    root_rotation.qs = unsqueeze(root_rotation.qs, 2);\n",
    "    root_rot_omitlast = QuatpyGetItem(root_rotation, 1:(N-1)) \n",
    "    rvelocity = (QuatpyGetItem(root_rotation, 2:N) * -root_rot_omitlast).to_pivots()\n",
    "    \n",
    "    # Local Space  # NEW: define position of joints relative to root\n",
    "    local_positions = positions  # copy(positions)\n",
    "    local_positions[:,:,1] .-= local_positions[:,1:1,1]  # x rel to root x\n",
    "    local_positions[:,:,3] .-= local_positions[:,1:1,3]  # z rel to root z\n",
    "    \n",
    "    local_positions = root_rot_omitlast * local_positions[1:end-1,:,:]  |> toArray # remove Y rotation from pos\n",
    "    local_velocities = diff(local_positions, dims=1)\n",
    "    local_rotations = abs((root_rot_omitlast * QuatpyGetItem(global_rotations, 1:(N-1)))).log()\n",
    "    \n",
    "    root_rvelocity = Pivotspy.Pivots.from_quaternions(QuatpyGetItem(root_rotation, 2:N) * -root_rot_omitlast).ps\n",
    "    global_velocities = root_rot_omitlast * velocity    |> toArray                # remove Y rotation from vel\n",
    "    \n",
    "    \n",
    "    @assert (size(global_velocities, 2) == 1) \"output assumes global_velocities dim2 = 1.\"\n",
    "    omit_end = 1:(N-2)\n",
    "    out = hcat(root_rvelocity[omit_end,:]\n",
    "                ,global_velocities[omit_end,1,1]\n",
    "                ,global_velocities[omit_end,1,3]\n",
    "                ,feet_l[omit_end,:], feet_r[omit_end,:]\n",
    "                ,collapseDim3Npy(local_positions[omit_end,:,:])\n",
    "                ,collapseDim3Npy(local_velocities)\n",
    "                ,collapseDim3Npy(local_rotations[omit_end,:,:])\n",
    "#                 ,forward[omit_end,:]\n",
    "        )\n",
    "    return out\n",
    "end"
   ]
  },
  {
   "cell_type": "code",
   "execution_count": null,
   "metadata": {},
   "outputs": [],
   "source": [
    "# proc = (N-2)   *  [ rvel (1), xvel (1), zvel (1), feet (4),  pos (63),  vel (63),  rot (63) ]"
   ]
  },
  {
   "cell_type": "markdown",
   "metadata": {},
   "source": [
    "#### Test that the function is bug-free\n",
    "\n",
    "Test vs. Dan Holden's code (which I've lightly modified) on all CMU locomotion instances."
   ]
  },
  {
   "cell_type": "code",
   "execution_count": 312,
   "metadata": {},
   "outputs": [],
   "source": [
    "tmp = readdlm(\"../cmu/cmu_locomotion_lkp.txt\", '\\t')[:,2];"
   ]
  },
  {
   "cell_type": "code",
   "execution_count": 329,
   "metadata": {},
   "outputs": [],
   "source": [
    "d = Dict((k[end] == ',' ? k[1:end-1] : k) =>0 for k in keys(countmap(tmp)))\n",
    "for (t, l) in zip(tmp, ls_cmu)\n",
    "    d[t[end] == ',' ? t[1:end-1] : t] += l\n",
    "end"
   ]
  },
  {
   "cell_type": "code",
   "execution_count": 27,
   "metadata": {},
   "outputs": [],
   "source": [
    "testpy = pyimport(\"tmptst\");\n",
    "using DelimitedFiles\n",
    "\n",
    "cmu_loco = readdlm(\"../data/mocap/cmu/cmu_locomotion_lkp.txt\", '\\t')[:,1];\n",
    "database = \"../data/mocap/holden/cmu\"\n",
    "files = [joinpath(database, f * \".bvh\") for f in cmu_loco]\n",
    "files = collect(filter(x-> isfile(x) && x !== \"rest.bvh\", files));\n",
    "\n",
    "do_test = false\n",
    "if do_test\n",
    "    for (i, f) in enumerate(files)\n",
    "        tmppy = testpy.process_file(f)\n",
    "        tmp = process_file(f)\n",
    "        printfmtln(\"{:02d}, lines={:04d}, maximum diff = {:.5e}\", i, size(tmp,1), maximum(abs.(tmp - tmppy)))\n",
    "    end\n",
    "end\n",
    "\n",
    "database = \"../data/mocap/edin-style-transfer/\"\n",
    "files_edin = [joinpath(database, f) for f in readdir(database)];"
   ]
  },
  {
   "cell_type": "markdown",
   "metadata": {},
   "source": [
    "--------------"
   ]
  },
  {
   "cell_type": "code",
   "execution_count": 11,
   "metadata": {},
   "outputs": [],
   "source": [
    "function file_countlines_approx(files)\n",
    "    # Approximate, based on LR to countlines->processed\n",
    "    # but it's very high accuracy\n",
    "    map(files) do f\n",
    "        open(f) do file\n",
    "            Int(floor(countlines(file)*0.5 - 95))\n",
    "        end\n",
    "    end\n",
    "end"
   ]
  },
  {
   "cell_type": "code",
   "execution_count": 12,
   "metadata": {},
   "outputs": [],
   "source": [
    "ls_cmu = file_countlines_approx(files);\n",
    "ls_edin = file_countlines_approx(files_edin);"
   ]
  },
  {
   "cell_type": "code",
   "execution_count": 372,
   "metadata": {},
   "outputs": [],
   "source": [
    "findall(ls_cmu .> 1000)[1:20]"
   ]
  },
  {
   "cell_type": "code",
   "execution_count": 469,
   "metadata": {},
   "outputs": [],
   "source": [
    "# Extract exemplars for each Edinburgh style\n",
    "\n",
    "style_name_edin = [x[1] for x in match.(r\"\\.\\./[a-z\\-]+/([a-z]+)_.*\", files_edin)];\n",
    "styles = unique(style_name_edin)\n",
    "Random.seed!(12929)\n",
    "_is = [x[rand(Categorical(x/sum(x)))] for x in [findall(style_name_edin .== k) for k in styles]]\n",
    "styles_edin = Dict(style_name_edin[i] => reconstruct_positions(process_file(files_edin[i])) for i in _is);\n",
    "display([k=>size(x,1) for (k,x) in styles_edin])"
   ]
  },
  {
   "cell_type": "code",
   "execution_count": null,
   "metadata": {},
   "outputs": [],
   "source": []
  },
  {
   "cell_type": "code",
   "execution_count": 956,
   "metadata": {},
   "outputs": [],
   "source": [
    "proc = process_file(files[40]);   # 54 = PACING/STOP, 40 = BACKWARD, 115=TRIUMPHANT, 190=TWISTY, not 198 (JUMP)!"
   ]
  },
  {
   "cell_type": "code",
   "execution_count": 382,
   "metadata": {},
   "outputs": [],
   "source": [
    "ls_cmu[184]"
   ]
  },
  {
   "cell_type": "code",
   "execution_count": 409,
   "metadata": {},
   "outputs": [],
   "source": [
    "proc = process_file(files_edin[29]);"
   ]
  },
  {
   "cell_type": "code",
   "execution_count": 946,
   "metadata": {},
   "outputs": [],
   "source": [
    "length(5:(61+4))"
   ]
  },
  {
   "cell_type": "markdown",
   "metadata": {},
   "source": [
    "--------------\n",
    "# Reconstruct global movement"
   ]
  },
  {
   "cell_type": "code",
   "execution_count": 62,
   "metadata": {},
   "outputs": [],
   "source": [
    "# \n",
    "qimag = Quaternions.imag\n",
    "quat_list(x) = [quat(x[i,:]) for i in 1:size(x,1)]\n",
    "quat_list_to_mat(x) = reduce(vcat, [qimag(xx)' for xx in x])\n",
    "quaterion_angle_axis_w_y(θ) = quat(cos(θ/2), 0, sin(θ/2), 0)\n",
    "apply_rotation(x, qrot) = qrot * x * conj(qrot)\n",
    "\n",
    "\n",
    "function reconstruct_positions(Y::Matrix, Ymu::Matrix, Ystd::Matrix)\n",
    "    Y = convert(Matrix{Float64}, Y)   # reduce error propagation from iterative scheme\n",
    "    Y = Y .* Ystd' .+ Ymu'\n",
    "    return reconstruct_positions(Y)\n",
    "end\n",
    "\n",
    "function reconstruct_positions(Y::Matrix)\n",
    "    Y = convert(Matrix{Float64}, Y)   # reduce error propagation from iterative scheme\n",
    "    \n",
    "    root_r, root_x, root_z, joints = Y[:,1], Y[:,2], Y[:,3], Y[:,8:(63+7)]\n",
    "    return _joints_fk(joints, root_x, root_z, root_r)\n",
    "end\n",
    "\n",
    "function _joints_fk(joints::Matrix{T}, root_x::Vector{T}, root_z::Vector{T}, \n",
    "        root_r::Vector{T}) where T <: Number\n",
    "\n",
    "    n = size(joints, 1)\n",
    "    joints = rowmaj_reshape_3d(joints, n, 21, 3)\n",
    "#     joints = reshape(joints, n, 3, 21)\n",
    "#     joints = permutedims(joints, [1,3,2])\n",
    "    rotation = Quaternion(1.0)\n",
    "    offsets = []\n",
    "    translation = zeros(3)\n",
    "\n",
    "    for i = 1:n\n",
    "        joints[i,:,:] = apply_rotation(quat_list(joints[i,:,:]), rotation) |> quat_list_to_mat\n",
    "        joints[i,:,1] = joints[i,:,1] .+ translation[1]\n",
    "        joints[i,:,3] = joints[i,:,3] .+ translation[3]\n",
    "        \n",
    "        rotation = quaterion_angle_axis_w_y(-root_r[i]) * rotation\n",
    "        append!(offsets, apply_rotation(quat(0.,0,0,1), rotation))\n",
    "        translation = translation + qimag(apply_rotation(quat(0., root_x[i], 0, root_z[i]), rotation))\n",
    "    end\n",
    "    \n",
    "    return joints\n",
    "end\n",
    "\n",
    "reshape_velocities(Y::Matrix) = rowmaj_reshape_3d(Y[:,(8:(63+7)) .+ 63], size(Y,1), 21, 3)\n",
    "reshape_rotations(Y::Matrix) = rowmaj_reshape_3d(Y[:,(8:(63+7)) .+ 63], size(Y,1), 21, 3)"
   ]
  },
  {
   "cell_type": "code",
   "execution_count": null,
   "metadata": {},
   "outputs": [],
   "source": [
    "using MultivariateStats"
   ]
  },
  {
   "cell_type": "code",
   "execution_count": 248,
   "metadata": {},
   "outputs": [],
   "source": [
    "allM = map(files_xia) do f\n",
    "    proc = process_file(f);\n",
    "    recon = reconstruct_positions(proc)\n",
    "    reshape(recon, size(recon, 1), :);\n",
    "end\n",
    "allM = reduce(vcat, allM);"
   ]
  },
  {
   "cell_type": "code",
   "execution_count": 240,
   "metadata": {},
   "outputs": [],
   "source": [
    "allr = map(files) do f\n",
    "    proc = process_file(f);\n",
    "    recon = reconstruct_positions(proc)\n",
    "    reshape(recon, size(recon, 1), :);\n",
    "end\n",
    "allr = reduce(vcat, allr);"
   ]
  },
  {
   "cell_type": "markdown",
   "metadata": {},
   "source": [
    "## LEARN A ? 1 DIM LDS TO SEE IF WE CAN RECOVER PHASE\n",
    "### May be helpful to enforce a (?damped) rotation matrix like Barber in his DHO work"
   ]
  },
  {
   "cell_type": "code",
   "execution_count": 273,
   "metadata": {},
   "outputs": [],
   "source": [
    "file = matopen(\"allframes.mat\", \"w\")\n",
    "write(file, \"Y\", zsc(reshape(recon, size(recon, 1), :)', 2))\n",
    "close(file)"
   ]
  },
  {
   "cell_type": "markdown",
   "metadata": {},
   "source": [
    "-----------------------\n",
    "# Visualise"
   ]
  },
  {
   "cell_type": "code",
   "execution_count": 13,
   "metadata": {},
   "outputs": [],
   "source": [
    "include(joinpath(DIR_MOCAP_MTDS, \"io.jl\"))"
   ]
  },
  {
   "cell_type": "code",
   "execution_count": 29,
   "metadata": {},
   "outputs": [],
   "source": [
    "proc = mocapio.process_file(files[40]);   \n",
    "# 54 = PACING/STOP, 40 = BACKWARD, 115=TRIUMPHANT, 190=TWISTY, not 198 (JUMP)!"
   ]
  },
  {
   "cell_type": "code",
   "execution_count": 898,
   "metadata": {},
   "outputs": [],
   "source": [
    "proc = mocapio.process_file(files[40])"
   ]
  },
  {
   "cell_type": "markdown",
   "metadata": {},
   "source": [
    "## 1000 rows timing\n",
    "\n",
    "| function     | time (ms) |\n",
    "| ------------ | ----  |\n",
    "| process_file | 380   |\n",
    "| reconstruct  | 15    |\n",
    "| inputs       | 6     |"
   ]
  },
  {
   "cell_type": "code",
   "execution_count": 32,
   "metadata": {},
   "outputs": [],
   "source": [
    "recon = mocapio.reconstruct_raw(proc);"
   ]
  },
  {
   "cell_type": "code",
   "execution_count": 970,
   "metadata": {},
   "outputs": [],
   "source": [
    "size(recon2)"
   ]
  },
  {
   "cell_type": "code",
   "execution_count": 972,
   "metadata": {},
   "outputs": [],
   "source": [
    "recon2 = mocapio.reconstruct_raw(proc2)"
   ]
  },
  {
   "cell_type": "code",
   "execution_count": 982,
   "metadata": {},
   "outputs": [],
   "source": [
    "X2 = mocapio.construct_inputs(proc2)"
   ]
  },
  {
   "cell_type": "code",
   "execution_count": 983,
   "metadata": {},
   "outputs": [],
   "source": [
    "X = construct_inputs_fast(recon, proc);"
   ]
  },
  {
   "cell_type": "code",
   "execution_count": 988,
   "metadata": {},
   "outputs": [],
   "source": [
    "Y = mocapio.construct_outputs(proc);"
   ]
  },
  {
   "cell_type": "code",
   "execution_count": 1001,
   "metadata": {},
   "outputs": [],
   "source": [
    "?mocapio.construct_inputs"
   ]
  },
  {
   "cell_type": "code",
   "execution_count": 991,
   "metadata": {},
   "outputs": [],
   "source": [
    "recon_hat = mocapio.reconstruct_modelled(Y);"
   ]
  },
  {
   "cell_type": "code",
   "execution_count": 997,
   "metadata": {},
   "outputs": [],
   "source": [
    "vis = mocapviz.create_animation([recon_hat, recon828], \"test\"; vis=vis, linemesh=mocapviz.yellowmesh, camera=:back)"
   ]
  },
  {
   "cell_type": "code",
   "execution_count": 985,
   "metadata": {},
   "outputs": [],
   "source": [
    "all(isapprox.(X2 - X, 0.))"
   ]
  },
  {
   "cell_type": "code",
   "execution_count": null,
   "metadata": {},
   "outputs": [],
   "source": []
  },
  {
   "cell_type": "code",
   "execution_count": 553,
   "metadata": {},
   "outputs": [],
   "source": [
    "if !(@isdefined vis) \n",
    "    # Create a new visualizer instance (MeshCat.jl)\n",
    "    vis = Visualizer()\n",
    "    open(vis)\n",
    "end\n",
    "vis = mocapviz.create_animation([recon[1:1000,:,:]], \"test\"; vis=vis, linemesh=[mocapviz.yellowmesh], camera=:back)"
   ]
  },
  {
   "cell_type": "code",
   "execution_count": 478,
   "metadata": {},
   "outputs": [],
   "source": [
    "collect(keys(styles_edin))"
   ]
  },
  {
   "cell_type": "code",
   "execution_count": 554,
   "metadata": {},
   "outputs": [],
   "source": [
    "if !(@isdefined vis) \n",
    "    # Create a new visualizer instance (MeshCat.jl)\n",
    "    vis = Visualizer()\n",
    "    open(vis)\n",
    "end\n",
    "vis = mocapviz.create_animation([styles_edin[\"childlike\"][1:2000,:,:]], \n",
    "    \"test\"; vis=vis, linemesh=mocapviz.yellowmesh, camera=:back)"
   ]
  },
  {
   "cell_type": "markdown",
   "metadata": {},
   "source": [
    "--------------\n",
    "# Construct model inputs/outputs"
   ]
  },
  {
   "cell_type": "code",
   "execution_count": 63,
   "metadata": {},
   "outputs": [],
   "source": [
    "function trigvecs(A::Matrix{T}, B::Matrix{T}) where T <: Number\n",
    "    inner_prod(X, Y) = sum(X .* Y, dims=2)\n",
    "#     cross_rows(X, Y) = [cross(view(A, i,:), view(B, i,:))' for i in 1:size(A,1)] |>  x->reduce(vcat, x)\n",
    "    norm_rows(X) = sqrt.(sum(x->x^2, X, dims=2))\n",
    "    norm_A, norm_B = norm_rows(A), norm_rows(B)\n",
    "    !all(isapprox.(norm_A, one(T), atol=1e-4)) && (A = A ./ norm_A)\n",
    "    !all(isapprox.(norm_B, one(T), atol=1e-4)) && (B = B ./ norm_B)\n",
    "    cosθ = inner_prod(A, B)\n",
    "    \n",
    "    # **SIGNED** angle θ https://stackoverflow.com/a/33920320\n",
    "#     θ = atan2(inner_prod(cross_rows(B, A), Vn), cosθ)\n",
    "    # and hence sinθ = inner_prod(cross_rows(B, A), Vn)\n",
    "    # since y is our normal vector, and this component of A, B is\n",
    "    # always zero, we can simplify \n",
    "    sinθ = A[:,1] .* B[:,2] - A[:,2] .* B[:,1]\n",
    "    return cosθ, sinθ\n",
    "end"
   ]
  },
  {
   "cell_type": "code",
   "execution_count": 64,
   "metadata": {},
   "outputs": [],
   "source": [
    "function construct_inputs(X; direction=:relative)\n",
    "    @argcheck direction in [:relative, :absolute]\n",
    "    use_ixs = range(70, stop=size(X, 1) - 60)\n",
    "    \n",
    "    # traj_pos (12x2), abs./rel. direction (12x2), abs. velocity (12), joint positions (63)\n",
    "    Xs = Matrix{Float32}(undef, length(use_ixs), 48 + 12 + 63)\n",
    "    for (r, ix) in enumerate(use_ixs)\n",
    "        tix = range(-60, stop=50, step=10)\n",
    "        traj_pos = X[ix .+ tix, 1, :]\n",
    "        traj_pos_full = X[ix-69:ix+59, :, :]\n",
    "\n",
    "        # Calculate forward direction (same as process_file, but different reference frame)\n",
    "        sdr_l, sdr_r, hip_l, hip_r = 14, 18, 2, 6  #13, 17, 1, 5\n",
    "        across1 = traj_pos_full[:,hip_l,:] - traj_pos_full[:,hip_r,:]\n",
    "        across0 = traj_pos_full[:,sdr_l,:] - traj_pos_full[:,sdr_r,:]\n",
    "        across = across0 + across1\n",
    "        across = across ./ sqrt.(sum(x->x^2, across, dims=2))\n",
    "        forward = hcat(-across[:,3], zeros(size(across, 1), 1), across[:,1])  # crossprod (easy as spec. case)\n",
    "        forward = filterspy.gaussian_filter1d(forward, 5, axis=0, mode=\"nearest\")\n",
    "        forward = forward ./ sqrt.(sum(x->x^2, forward, dims=2))\n",
    "\n",
    "        # Calculate diff/velocity (i.e. instantaneous dir of traj) / compare with body forward dir\n",
    "        traj_pos_full = filterspy.gaussian_filter1d(traj_pos_full, 5, axis=0, mode=\"nearest\")\n",
    "        traj_vel_xz = traj_pos_full[15:10:125,1,[1,3]] - traj_pos_full[5:10:115,1,[1,3]]\n",
    "    #     traj_vel_xz = diff(traj_pos_full[:,1,[1,3]], dims=1)\n",
    "    #     traj_vel_xz = traj_vel_xz[9:10:119,:]   # selected v (t->t+1) not (t-1->t), prob not important\n",
    "        \n",
    "        if direction == :relative\n",
    "            cosθ, sinθ = trigvecs(traj_vel_xz, hcat(forward[9:10:119, 1], forward[9:10:119, 3]))\n",
    "            directions = vcat(sinθ[:], cosθ[:])\n",
    "        else\n",
    "            directions = vcat(forward[9:10:119, 1], forward[9:10:119, 3])\n",
    "        end\n",
    "\n",
    "        Xs[r, 1:24] = vcat(traj_pos[:,1] .- traj_pos[7,1], traj_pos[:,3] .- traj_pos[7,3])\n",
    "        Xs[r, 25:48] = directions\n",
    "        Xs[r, 49:60] = sqrt.(sum(x->x^2, traj_vel_xz, dims=2)[:])\n",
    "    end\n",
    "    return Xs\n",
    "end"
   ]
  },
  {
   "cell_type": "code",
   "execution_count": 55,
   "metadata": {},
   "outputs": [],
   "source": [
    "function construct_inputs_fast(raw; direction=:relative)\n",
    "    X = reconstruct_positions(raw)\n",
    "    construct_inputs_fast(X, raw; direction=direction)\n",
    "end\n",
    "\n",
    "function construct_inputs_fast(X, raw; direction=:relative)\n",
    "    @argcheck direction in [:relative, :absolute]\n",
    "    @argcheck size(X)[2:3] == (21, 3)\n",
    "    @argcheck size(raw, 2) == 196\n",
    "    @argcheck size(X, 1) == size(raw, 1)\n",
    "    \n",
    "    # proc = (N-2)   *  [ rvel (1), xvel (1), zvel (1), feet (4),  pos (63),  vel (63),  rot (63) ]\n",
    "    use_ixs = range(70, stop=size(X, 1) - 60)\n",
    "    N = length(use_ixs)\n",
    "    \n",
    "    # traj_pos (12x2), abs./rel. direction (12x2), abs. velocity (12), joint positions (63)\n",
    "    Xs = Matrix{eltype(X)}(undef, N, 48 + 12 + 61)\n",
    "    \n",
    "    # add rel. pos from raw\n",
    "    Xs[:, 61] = raw[use_ixs,9]          # x,z value of root are always zero\n",
    "    Xs[:, 62:end] = raw[use_ixs,11:70]\n",
    "    \n",
    "    # Extract -60:10:59 trajectory on a rolling basis\n",
    "    # ---------------------------------------\n",
    "    for i in 1:12\n",
    "        Xs[:,i]    = X[(10:N+9) .+ (i-1)*10, 1, 1]\n",
    "        Xs[:,i+12] = X[(10:N+9) .+ (i-1)*10, 1, 3]\n",
    "    end\n",
    "    Xs[:,1:12] .-= Xs[:,7]\n",
    "    Xs[:,13:24] .-= Xs[:,19]\n",
    "    \n",
    "    # Calculate body direction and velocity\n",
    "    # ---------------------------------------\n",
    "    # Calculate forward direction (same as process_file, but different reference frame)\n",
    "    sdr_l, sdr_r, hip_l, hip_r = 14, 18, 2, 6  #13, 17, 1, 5\n",
    "    normalize_rows(x) = x ./ sqrt.(sum(z->z^2, x, dims=2))\n",
    "    across = (X[:,sdr_l,:] - X[:,sdr_r,:]) + (X[:,hip_l,:] - X[:,hip_r,:]) |> normalize_rows\n",
    "    forward = hcat(-across[:,3], zeros(size(across, 1), 1), across[:,1])  # crossprod (easy as spec. case)\n",
    "    forward = filterspy.gaussian_filter1d(forward, 5, axis=0, mode=\"nearest\")[:,[1,3]] |> normalize_rows\n",
    "    \n",
    "    # Calculate diff/velocity (i.e. instantaneous dir of traj) / compare with body forward dir\n",
    "    traj_pos_smooth = filterspy.gaussian_filter1d(X[:,1,[1,3]], 5, axis=0, mode=\"nearest\")\n",
    "    traj_vel_xz = traj_pos_smooth[15:end, :] - traj_pos_smooth[5:end-10, :]\n",
    "    rel_angle = hcat(reverse(trigvecs(traj_vel_xz[1:end-5,:], forward[9:end-11, :]))...)  # sinθ, cosθ\n",
    "    \n",
    "    for (r, ix) in enumerate(use_ixs)\n",
    "        cvel = view(traj_vel_xz, ix-69:10:ix+41, :)  # note v is +10--> due to +5/-5 differencing\n",
    "        \n",
    "        if direction == :relative\n",
    "            cangle = view(rel_angle, ix-69:10:ix+41,:)\n",
    "            Xs[r, 25:48] = vec(cangle)\n",
    "        else\n",
    "            cforward = view(forward, ix-60:10:ix+50, :)\n",
    "            Xs[r, 25:48] = vec(cforward)\n",
    "        end\n",
    "        \n",
    "        Xs[r, 49:60] = sqrt.(sum(x->x^2, cvel, dims=2)[:])\n",
    "    end\n",
    "    return Xs\n",
    "end"
   ]
  },
  {
   "cell_type": "code",
   "execution_count": 930,
   "metadata": {},
   "outputs": [],
   "source": [
    "function construct_outputs(raw; include_ftcontact=true)\n",
    "    @argcheck size(raw, 2) == 196\n",
    "    if !include_ftcontact\n",
    "        return reduce(hcat, (raw[:,1:3], raw[:,8:(63+7)]))\n",
    "    else\n",
    "        return reduce(hcat, (raw[:,1:3], raw[:,11:(63+7)], raw[:,4:7]))\n",
    "    end\n",
    "end "
   ]
  },
  {
   "cell_type": "code",
   "execution_count": 796,
   "metadata": {},
   "outputs": [],
   "source": [
    "tmpinp1 = construct_inputs(recon);\n",
    "tmpinp2 = construct_inputs_fast(recon);"
   ]
  },
  {
   "cell_type": "code",
   "execution_count": 663,
   "metadata": {},
   "outputs": [],
   "source": [
    "maximum(abs.(tmpinp2[:,1:12] - tmpinp1[:,1:12]))"
   ]
  },
  {
   "cell_type": "code",
   "execution_count": 664,
   "metadata": {},
   "outputs": [],
   "source": [
    "maximum(abs.(tmpinp2[:,13:24] - tmpinp1[:,13:24]))"
   ]
  },
  {
   "cell_type": "code",
   "execution_count": 625,
   "metadata": {},
   "outputs": [],
   "source": [
    "tmpinp1[1:4,1:4]"
   ]
  },
  {
   "cell_type": "code",
   "execution_count": 673,
   "metadata": {},
   "outputs": [],
   "source": [
    "using BenchmarkTools"
   ]
  },
  {
   "cell_type": "code",
   "execution_count": 675,
   "metadata": {},
   "outputs": [],
   "source": [
    "@benchmark construct_inputs_fast(recon)"
   ]
  },
  {
   "cell_type": "code",
   "execution_count": 671,
   "metadata": {},
   "outputs": [],
   "source": [
    "all(isapprox.(construct_inputs(recon)[:,1:60], construct_inputs_fast(recon)[:,1:60]))"
   ]
  },
  {
   "cell_type": "code",
   "execution_count": 584,
   "metadata": {},
   "outputs": [],
   "source": [
    "tmpinp = construct_inputs(recon);"
   ]
  },
  {
   "cell_type": "markdown",
   "metadata": {},
   "source": [
    "* **Body rotation is now reasonable, but it goes a bit wild when turning (sharp) corners**. \n",
    "    * A reason for this is probably that the velocities are probably quite small (and hence variable) which adds noise in.\n",
    "    * Or it may just be misalignment: the body turning is measured at a slightly different place to the velocity, and hence is constantly in front or behind.\n",
    "    * **NOTE OF COURSE THAT THE FORWARD DIRECTION _IS_ _SMOOTHED_** !\n",
    "    * A more challenging reason might be that there is some genuine body turn (diff to velocity). This is problematic for manual specification at test time.\n",
    "    \n",
    "* I'm currently looking at trying to fix the velocity: increase the size for calculating the angle. This may be done via smoothing too?\n",
    "* I'm just surprised at the absolute velocity below, and may need to do some fixing.\n"
   ]
  },
  {
   "cell_type": "markdown",
   "metadata": {},
   "source": [
    "1. Check if this calc is different from the forward previously calculated.\n",
    "2. Make secondary extraction/standardisation step where:\n",
    "    1. trajectory position is diff'd.\n",
    "    2. trajectory direction is local direction"
   ]
  },
  {
   "cell_type": "code",
   "execution_count": 585,
   "metadata": {},
   "outputs": [],
   "source": [
    "size(Xs)"
   ]
  },
  {
   "cell_type": "code",
   "execution_count": 860,
   "metadata": {},
   "outputs": [],
   "source": [
    "ii = -6"
   ]
  },
  {
   "cell_type": "code",
   "execution_count": 51,
   "metadata": {},
   "outputs": [],
   "source": [
    "include(joinpath(DIR_MOCAP_MTDS, \"io.jl\"))"
   ]
  },
  {
   "cell_type": "code",
   "execution_count": 65,
   "metadata": {},
   "outputs": [],
   "source": [
    "Xs = construct_inputs(recon)"
   ]
  },
  {
   "cell_type": "code",
   "execution_count": 70,
   "metadata": {},
   "outputs": [],
   "source": [
    "Xs = construct_inputs_fast(recon, proc, direction=:relative)"
   ]
  },
  {
   "cell_type": "code",
   "execution_count": 52,
   "metadata": {},
   "outputs": [],
   "source": [
    "Xs = mocapio.construct_inputs(proc);"
   ]
  },
  {
   "cell_type": "code",
   "execution_count": 69,
   "metadata": {},
   "outputs": [],
   "source": [
    "_ix1 = range(70+0, stop=70+700-1)\n",
    "plot(recon[_ix1,1,1], recon[_ix1,1,3])\n",
    "scatter(recon[_ix1[10:10:end],1,1], recon[_ix1[10:10:end],1,3])\n",
    "[scatter(recon[tt,1,1], recon[tt,1,3]) for tt in _ix1[50:50:300]];\n",
    "\n",
    "[arrow(recon[tt,1,1], recon[tt,1,3], Xs[t2-0,24+7]*2, Xs[t2-0,36+7]*2, head_width=0.4) for (tt, t2) in \n",
    "        zip(_ix1[10:10:end], _ix1[10:10:end] .- 70)];\n",
    "gca().set_aspect(\"equal\")"
   ]
  },
  {
   "cell_type": "code",
   "execution_count": 73,
   "metadata": {},
   "outputs": [],
   "source": [
    "plot(atan.(Xs[1:700,24+7], Xs[1:700,36+7]))"
   ]
  },
  {
   "cell_type": "markdown",
   "metadata": {},
   "source": [
    "* Derive phase"
   ]
  },
  {
   "cell_type": "markdown",
   "metadata": {},
   "source": [
    "* standardise, mean/std etc.?"
   ]
  },
  {
   "cell_type": "markdown",
   "metadata": {},
   "source": [
    "## Phase\n",
    "\n",
    "* Smooth first _before_ calculating footsteps.\n",
    "* (At which point do we count phase = $\\pi$, $2\\pi$? (Heel? Toe?))\n",
    "* Disambiguate confused areas of footsteps.\n",
    "    * Think about minimum time on floor.\n",
    "    * How does this change between styles / activities?\n",
    "    * What to do when long period off floor?\n",
    "    * Perform clean-up to obtain 'foot contact', 'foot lift' for each foot.\n",
    "    * Hidden Semi-Markov Model probably makes sense if set up correctly.\n",
    "    * Then perform some interpolation insofar as it makes sense.\n",
    "* Deal with standing / long time on the floor: doesn't make sense to interpolate directly.\n",
    "    * probably need to handle time of contact, time leave the floor together.\n",
    "* \n"
   ]
  },
  {
   "cell_type": "code",
   "execution_count": null,
   "metadata": {},
   "outputs": [],
   "source": [
    "function process_file(filename)\n",
    "    \n",
    "    anim, names, frametime = BVHpy.load(filename)\n",
    "    \n",
    "    # Subsample to 60 fps\n",
    "    anim = get(anim,  range(0, length(anim)-1, step=2))\n",
    "    \n",
    "    # Do FK\n",
    "    global_xforms = Animpy.transforms_global(anim)  # intermediate\n",
    "    global_positions = global_xforms[:,:,1:3,4] ./ global_xforms[:,:,4:end,4]\n",
    "    global_rotations = Quatpy.Quaternions.from_transforms(global_xforms)\n",
    "    \n",
    "\n",
    "    # Remove Uneeded Joints\n",
    "    used_joints = [0, 2,  3,  4,  5, 7,  8,  9, 10, 12, 13, 15, 16, 18, 19, 20, 22, 25, 26, 27, 29] .+ 1\n",
    "         \n",
    "    positions = global_positions[:, used_joints,:]\n",
    "    global_rotations = QuatpyGetItem(global_rotations,:,used_joints,:) \n",
    "    N = size(positions, 1)\n",
    "    # ________________________________________________________\n",
    "\n",
    "    # Put on Floor\n",
    "    positions[:,:,2] .-= minimum(positions[:,:,2])\n",
    "    \n",
    "    # Get Foot Contacts\n",
    "    # ------------------------------------------\n",
    "    # >>>> SMOOTH FIRST? <<<<<<<<<<<<<<<\n",
    "    # ------------------------------------------\n",
    "    velfactor, heightfactor = [0.05,0.05], [3.0, 2.0]\n",
    "    fid_l, fid_r = [3,4] .+1, [7,8] .+1\n",
    "    \n",
    "    feet_l_vmag_sq = sum(x->x^2, diff(positions[:, fid_l, 1:3], dims=1), dims=3) |> squeeze\n",
    "    feet_l_h = positions[1:end-1, fid_l, 2]\n",
    "    feet_l = (feet_l_vmag_sq .< velfactor') .& (feet_l_h .< heightfactor')\n",
    "    \n",
    "    feet_r_vmag_sq = sum(x->x^2, diff(positions[:, fid_r, 1:3], dims=1), dims=3) |> squeeze\n",
    "    feet_r_h = positions[1:end-1, fid_r, 2]\n",
    "    feet_r = (feet_r_vmag_sq .< velfactor') .& (feet_r_h .< heightfactor')\n",
    "    \n",
    "    # Get Root Velocity\n",
    "    velocity = diff(positions[:,1:1,:], dims=1)\n",
    "    \n",
    "    # Remove translation\n",
    "    positions[:,:,1] .-= positions[:,1:1,1]\n",
    "    positions[:,:,3] .-= positions[:,1:1,3]\n",
    "    \n",
    "    # Get Forward Direction\n",
    "    sdr_l, sdr_r, hip_l, hip_r = 14, 18, 2, 6  #13, 17, 1, 5\n",
    "    across1 = positions[:,hip_l,:] - positions[:,hip_r,:]\n",
    "    across0 = positions[:,sdr_l,:] - positions[:,sdr_r,:]\n",
    "    across = across0 + across1\n",
    "    across = across ./ sqrt.(sum(x->x^2, across, dims=2))\n",
    "    \n",
    "    direction_filterwidth = 20\n",
    "#     forward = [cross(view(across, i,:), [0., 1, 0])' for i in 1:N] |>  x->reduce(vcat, x)  # crossprod\n",
    "    forward = hcat(-across[:,3], zeros(size(across, 1), 1), across[:,1])  # crossprod (easy as spec. case)\n",
    "    forward = filterspy.gaussian_filter1d(forward, direction_filterwidth, axis=0, mode=\"nearest\")\n",
    "    forward = forward ./ sqrt.(sum(x->x^2, forward, dims=2))\n",
    "    \n",
    "    # Get Root Rotation\n",
    "    target = repeat([0,0,1]', N, 1)\n",
    "    root_rotation = Quatpy.Quaternions.between(forward, target)\n",
    "    root_rotation.qs = unsqueeze(root_rotation.qs, 2);\n",
    "    root_rot_omitlast = QuatpyGetItem(root_rotation, 1:(N-1)) \n",
    "    rvelocity = (QuatpyGetItem(root_rotation, 2:N) * -root_rot_omitlast).to_pivots()\n",
    "    \n",
    "    # Local Space  # NEW: define position of joints relative to root\n",
    "    local_positions = positions  # copy(positions)\n",
    "    local_positions[:,:,1] .-= local_positions[:,1:1,1]  # x rel to root x\n",
    "    local_positions[:,:,3] .-= local_positions[:,1:1,3]  # z rel to root z\n",
    "    \n",
    "    local_positions = root_rot_omitlast * local_positions[1:end-1,:,:]  |> toArray # remove Y rotation from pos\n",
    "    local_velocities = diff(local_positions, dims=1)\n",
    "    local_rotations = abs((root_rot_omitlast * QuatpyGetItem(global_rotations, 1:(N-1)))).log()\n",
    "    \n",
    "    root_rvelocity = Pivotspy.Pivots.from_quaternions(QuatpyGetItem(root_rotation, 2:N) * -root_rot_omitlast).ps\n",
    "    global_velocities = root_rot_omitlast * velocity    |> toArray                # remove Y rotation from vel\n",
    "    \n",
    "    \n",
    "    @assert (size(global_velocities, 2) == 1) \"output assumes global_velocities dim2 = 1.\"\n",
    "    omit_end = 1:(N-2)\n",
    "    out = hcat(root_rvelocity[omit_end,:]\n",
    "                ,global_velocities[omit_end,1,1]\n",
    "                ,global_velocities[omit_end,1,3]\n",
    "                ,feet_l[omit_end,:], feet_r[omit_end,:]\n",
    "                ,collapseDim3Npy(local_positions[omit_end,:,:])\n",
    "                ,collapseDim3Npy(local_velocities)\n",
    "                ,collapseDim3Npy(local_rotations[omit_end,:,:])\n",
    "#                 ,forward[omit_end,:]\n",
    "        )\n",
    "    return out\n",
    "end"
   ]
  }
 ],
 "metadata": {
  "@webio": {
   "lastCommId": null,
   "lastKernelId": null
  },
  "kernelspec": {
   "display_name": "Julia 1.1.0",
   "language": "julia",
   "name": "julia-1.1"
  },
  "language_info": {
   "file_extension": ".jl",
   "mimetype": "application/julia",
   "name": "julia",
   "version": "1.1.0"
  }
 },
 "nbformat": 4,
 "nbformat_minor": 2
}
