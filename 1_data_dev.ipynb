{
 "cells": [
  {
   "cell_type": "markdown",
   "metadata": {},
   "source": [
    "# Mocap Data Development\n",
    "\n",
    "Specifically a **subset** of the data used in D Holden's DLFCMS project, specifically **CMU Locomotion** categorized data.\n",
    "\n",
    "This is after the pre-processing in python."
   ]
  },
  {
   "cell_type": "code",
   "execution_count": 1,
   "metadata": {},
   "outputs": [
    {
     "data": {
      "text/html": [
       "<script>\n",
       "// Immediately-invoked-function-expression to avoid global variables.\n",
       "(function() {\n",
       "    var warning_div = document.getElementById(\"webio-warning-8356415965691090002\");\n",
       "    var hide = function () {\n",
       "        var script = document.getElementById(\"webio-setup-10558696560635704151\");\n",
       "        var parent = script && script.parentElement;\n",
       "        var grandparent = parent && parent.parentElement;\n",
       "        if (grandparent) {\n",
       "            grandparent.style.display = \"none\";\n",
       "        }\n",
       "        warning_div.style.display = \"none\";\n",
       "    };\n",
       "    if (typeof Jupyter !== \"undefined\") {\n",
       "        console.log(\"WebIO detected Jupyter notebook environment.\");\n",
       "        // Jupyter notebook.\n",
       "        var extensions = (\n",
       "            Jupyter\n",
       "            && Jupyter.notebook.config.data\n",
       "            && Jupyter.notebook.config.data.load_extensions\n",
       "        );\n",
       "        if (extensions && extensions[\"webio/main\"]) {\n",
       "            // Extension already loaded.\n",
       "            console.log(\"Jupyter WebIO nbextension detected; not loading ad-hoc.\");\n",
       "            hide();\n",
       "            return;\n",
       "        }\n",
       "        console.warn(\"Loading WebIO Jupyter extension on an ad-hoc basis. Consider enabling the WebIO nbextension for a stabler experience (this should happen automatically when building WebIO).\");\n",
       "        require([\"/assetserver/5794a0bf2e6325e42dc09c7369026176a04edd3e-dist/main.js\"], function (webIOModule) {\n",
       "            webIOModule.load_ipython_extension();\n",
       "        });\n",
       "        warning_div.innerHTML = \"<strong>Loading WebIO Jupyter extension on an ad-hoc basis. Consider enabling the WebIO nbextension for a stabler experience (this should happen automatically when building WebIO).</strong>\";\n",
       "    } else if (window.location.pathname.includes(\"/lab\")) {\n",
       "        // Guessing JupyterLa\n",
       "        console.log(\"Jupyter Lab detected; make sure the @webio/jupyter-lab-provider labextension is installed.\");\n",
       "        hide();\n",
       "        return;\n",
       "    }\n",
       "})();\n",
       "\n",
       "</script>\n",
       "<div\n",
       "    id=\"webio-warning-8356415965691090002\"\n",
       "    class=\"output_text output_stderr\"\n",
       "    style=\"padding: 1em; font-weight: bold;\"\n",
       ">\n",
       "    Unable to load WebIO. Please make sure WebIO works for your Jupyter client.\n",
       "    <!-- TODO: link to installation docs. -->\n",
       "</div>\n"
      ],
      "text/plain": [
       "HTML{String}(\"<script>\\n// Immediately-invoked-function-expression to avoid global variables.\\n(function() {\\n    var warning_div = document.getElementById(\\\"webio-warning-8356415965691090002\\\");\\n    var hide = function () {\\n        var script = document.getElementById(\\\"webio-setup-10558696560635704151\\\");\\n        var parent = script && script.parentElement;\\n        var grandparent = parent && parent.parentElement;\\n        if (grandparent) {\\n            grandparent.style.display = \\\"none\\\";\\n        }\\n        warning_div.style.display = \\\"none\\\";\\n    };\\n    if (typeof Jupyter !== \\\"undefined\\\") {\\n        console.log(\\\"WebIO detected Jupyter notebook environment.\\\");\\n        // Jupyter notebook.\\n        var extensions = (\\n            Jupyter\\n            && Jupyter.notebook.config.data\\n            && Jupyter.notebook.config.data.load_extensions\\n        );\\n        if (extensions && extensions[\\\"webio/main\\\"]) {\\n            // Extension already loaded.\\n            console.log(\\\"Jupyter WebIO nbextension detected; not loading ad-hoc.\\\");\\n            hide();\\n            return;\\n        }\\n        console.warn(\\\"Loading WebIO Jupyter extension on an ad-hoc basis. Consider enabling the WebIO nbextension for a stabler experience (this should happen automatically when building WebIO).\\\");\\n        require([\\\"/assetserver/5794a0bf2e6325e42dc09c7369026176a04edd3e-dist/main.js\\\"], function (webIOModule) {\\n            webIOModule.load_ipython_extension();\\n        });\\n        warning_div.innerHTML = \\\"<strong>Loading WebIO Jupyter extension on an ad-hoc basis. Consider enabling the WebIO nbextension for a stabler experience (this should happen automatically when building WebIO).</strong>\\\";\\n    } else if (window.location.pathname.includes(\\\"/lab\\\")) {\\n        // Guessing JupyterLa\\n        console.log(\\\"Jupyter Lab detected; make sure the @webio/jupyter-lab-provider labextension is installed.\\\");\\n        hide();\\n        return;\\n    }\\n})();\\n\\n</script>\\n<div\\n    id=\\\"webio-warning-8356415965691090002\\\"\\n    class=\\\"output_text output_stderr\\\"\\n    style=\\\"padding: 1em; font-weight: bold;\\\"\\n>\\n    Unable to load WebIO. Please make sure WebIO works for your Jupyter client.\\n    <!-- TODO: link to installation docs. -->\\n</div>\\n\")"
      ]
     },
     "metadata": {},
     "output_type": "display_data"
    },
    {
     "data": {
      "text/plain": [
       "Main.mocapviz"
      ]
     },
     "execution_count": 1,
     "metadata": {},
     "output_type": "execute_result"
    }
   ],
   "source": [
    "using LinearAlgebra, Statistics, Random\n",
    "using Quaternions    # For manipulating 3D Geometry\n",
    "using MeshCat        # For web visualisation / animation\n",
    "using PyPlot         # Plotting\n",
    "using AxUtil, Flux   # Optimisation\n",
    "\n",
    "# small utils libraries\n",
    "using ProgressMeter, Formatting, ArgCheck\n",
    "using NPZ\n",
    "\n",
    "# global utils\n",
    "squeeze(x) = dropdims(x, dims=tuple(findall(size(x) .== 1)...))  # may be an official fn, but not sure where\n",
    "unsqueeze(xs, dim) = reshape(xs, (size(xs)[1:dim-1]..., 1, size(xs)[dim:end]...))  # <= from Flux.jl\n",
    "rowmaj_reshape_3d(x, ix, iy, iz) = (x=reshape(x, ix, iz, iy); permutedims(x, [1,3,2]);)\n",
    "\n",
    "DIR_MOCAP_MTDS = \"../../../mocap-mtds/\";   # different cos I'm in dev folder\n",
    "\n",
    "# MeshCat skeleton visualisation tools\n",
    "include(joinpath(DIR_MOCAP_MTDS, \"mocap_viz.jl\"))"
   ]
  },
  {
   "cell_type": "code",
   "execution_count": 5,
   "metadata": {},
   "outputs": [
    {
     "data": {
      "text/plain": [
       "PyObject <module 'scipy.ndimage.filters' from '/Users/alexbird/.julia/conda/3/lib/python3.7/site-packages/scipy/ndimage/filters.py'>"
      ]
     },
     "execution_count": 5,
     "metadata": {},
     "output_type": "execute_result"
    }
   ],
   "source": [
    "# Python interface to reuse Dan Holden's code\n",
    "using PyCall\n",
    "\n",
    "# add to PATH\n",
    "map([\"\", joinpath(DIR_MOCAP_MTDS, \"pyfiles\")]) do p\n",
    "    pushfirst!(PyVector(pyimport(\"sys\").\"path\"), p); end\n",
    "\n",
    "# imports\n",
    "BVHpy = pyimport(\"BVH\");\n",
    "Animpy = pyimport(\"Animation\");\n",
    "Quatpy = pyimport(\"Quaternions\");\n",
    "Pivotspy = pyimport(\"Pivots\")\n",
    "filterspy = pyimport(\"scipy.ndimage.filters\")   # note scipy not dl by default by Julia"
   ]
  },
  {
   "cell_type": "code",
   "execution_count": 6,
   "metadata": {},
   "outputs": [
    {
     "data": {
      "text/plain": [
       "QuatpyGetItem (generic function with 1 method)"
      ]
     },
     "execution_count": 6,
     "metadata": {},
     "output_type": "execute_result"
    }
   ],
   "source": [
    "# PyCall Utility Functions\n",
    "toArray(x) = convert(Array, x)   # Quatpy class operations return Python objects (numpy). Forces convert.\n",
    "collapseDim3Jl(x) = reshape(x, size(x, 1), :)\n",
    "collapseDim3Npy(x) = (x=permutedims(x, [1,3,2]); reshape(x, size(x, 1), :);)\n",
    "\n",
    "# class method __getitem__ def in Quaternions.py doesn't play nicely. Let's write our own:\n",
    "QuatpyGetItem(pyo, ixs...) = Quatpy.Quaternions(pyo.qs[(ixs..., :, :, :)[1:ndims(pyo.qs)]...])"
   ]
  },
  {
   "cell_type": "markdown",
   "metadata": {},
   "source": [
    "-------------------\n",
    "## Extract relevant details from BVH file\n",
    "\n",
    "* Rotational velocity about root [1],\n",
    "* Global velocity of root in $x, z$ directions [2,3],\n",
    "* Foot contact points (L,R,heel,toe) [4,5,6,7],\n",
    "* Local joint positions (rel. to root) x21 x3 [8-70],\n",
    "* Local joint velocities (rel. to root) x21 x3 [71-133],\n",
    "* Local joint rotations (rel. to root?) x21 x3 [134-196],\n",
    "* Forward direction (note $\\perp$ to $y$, ie. $y=0$) [197-199]"
   ]
  },
  {
   "cell_type": "code",
   "execution_count": 165,
   "metadata": {},
   "outputs": [
    {
     "data": {
      "text/plain": [
       "process_file (generic function with 1 method)"
      ]
     },
     "execution_count": 165,
     "metadata": {},
     "output_type": "execute_result"
    }
   ],
   "source": [
    "function process_file(filename)\n",
    "    \n",
    "    anim, names, frametime = BVHpy.load(filename)\n",
    "    \n",
    "    # Subsample to 60 fps\n",
    "    anim = get(anim,  range(0, length(anim)-1, step=2))\n",
    "    \n",
    "    # Do FK\n",
    "    global_xforms = Animpy.transforms_global(anim)  # intermediate\n",
    "    global_positions = global_xforms[:,:,1:3,4] ./ global_xforms[:,:,4:end,4]\n",
    "    global_rotations = Quatpy.Quaternions.from_transforms(global_xforms)\n",
    "    \n",
    "\n",
    "    # Remove Uneeded Joints\n",
    "    used_joints = [0, 2,  3,  4,  5, 7,  8,  9, 10, 12, 13, 15, 16, 18, 19, 20, 22, 25, 26, 27, 29] .+ 1\n",
    "         \n",
    "    positions = global_positions[:, used_joints,:]\n",
    "    global_rotations = QuatpyGetItem(global_rotations,:,used_joints,:) \n",
    "    N = size(positions, 1)\n",
    "    # ________________________________________________________\n",
    "\n",
    "    # Put on Floor\n",
    "    positions[:,:,2] .-= minimum(positions[:,:,2])\n",
    "    \n",
    "    # Get Foot Contacts\n",
    "    velfactor, heightfactor = [0.05,0.05], [3.0, 2.0]\n",
    "    fid_l, fid_r = [3,4] .+1, [7,8] .+1\n",
    "    \n",
    "    feet_l_vmag_sq = sum(x->x^2, diff(positions[:, fid_l, 1:3], dims=1), dims=3) |> squeeze\n",
    "    feet_l_h = positions[1:end-1, fid_l, 2]\n",
    "    feet_l = (feet_l_vmag_sq .< velfactor') .& (feet_l_h .< heightfactor')\n",
    "    \n",
    "    feet_r_vmag_sq = sum(x->x^2, diff(positions[:, fid_r, 1:3], dims=1), dims=3) |> squeeze\n",
    "    feet_r_h = positions[1:end-1, fid_r, 2]\n",
    "    feet_r = (feet_r_vmag_sq .< velfactor') .& (feet_r_h .< heightfactor')\n",
    "    \n",
    "    # Get Root Velocity\n",
    "    velocity = diff(positions[:,1:1,:], dims=1)\n",
    "    \n",
    "    # Remove translation\n",
    "    positions[:,:,1] .-= positions[:,1:1,1]\n",
    "    positions[:,:,3] .-= positions[:,1:1,3]\n",
    "    \n",
    "    # Get Forward Direction\n",
    "    sdr_l, sdr_r, hip_l, hip_r = 14, 18, 2, 6  #13, 17, 1, 5\n",
    "    across1 = positions[:,hip_l,:] - positions[:,hip_r,:]\n",
    "    across0 = positions[:,sdr_l,:] - positions[:,sdr_r,:]\n",
    "    across = across0 + across1\n",
    "    across = across ./ sqrt.(sum(x->x^2, across, dims=2))\n",
    "    \n",
    "    direction_filterwidth = 20\n",
    "#     forward = [cross(view(across, i,:), [0., 1, 0])' for i in 1:N] |>  x->reduce(vcat, x)  # crossprod\n",
    "    forward = hcat(-across[:,3], zeros(size(across, 1), 1), across[:,1])  # crossprod (easy as spec. case)\n",
    "    forward = filterspy.gaussian_filter1d(forward, direction_filterwidth, axis=0, mode=\"nearest\")\n",
    "    forward = forward ./ sqrt.(sum(x->x^2, forward, dims=2))\n",
    "    \n",
    "    # Get Root Rotation\n",
    "    target = repeat([0,0,1]', N, 1)\n",
    "    root_rotation = Quatpy.Quaternions.between(forward, target)\n",
    "    root_rotation.qs = unsqueeze(root_rotation.qs, 2);\n",
    "    root_rot_omitlast = QuatpyGetItem(root_rotation, 1:(N-1)) \n",
    "    rvelocity = (QuatpyGetItem(root_rotation, 2:N) * -root_rot_omitlast).to_pivots()\n",
    "    \n",
    "    # Local Space  # NEW: define position of joints relative to root\n",
    "    local_positions = positions  # copy(positions)\n",
    "    local_positions[:,:,1] .-= local_positions[:,1:1,1]  # x rel to root x\n",
    "    local_positions[:,:,3] .-= local_positions[:,1:1,3]  # z rel to root z\n",
    "    \n",
    "    local_positions = root_rot_omitlast * local_positions[1:end-1,:,:]  |> toArray # remove Y rotation from pos\n",
    "    local_velocities = diff(local_positions, dims=1)\n",
    "    local_rotations = abs((root_rot_omitlast * QuatpyGetItem(global_rotations, 1:(N-1)))).log()\n",
    "    \n",
    "    root_rvelocity = Pivotspy.Pivots.from_quaternions(QuatpyGetItem(root_rotation, 2:N) * -root_rot_omitlast).ps\n",
    "    global_velocities = root_rot_omitlast * velocity    |> toArray                # remove Y rotation from vel\n",
    "    \n",
    "    \n",
    "    @assert (size(global_velocities, 2) == 1) \"output assumes global_velocities dim2 = 1.\"\n",
    "    omit_end = 1:(N-2)\n",
    "    out = hcat(root_rvelocity[omit_end,:],\n",
    "                global_velocities[omit_end,1,1],\n",
    "                global_velocities[omit_end,1,3],\n",
    "                feet_l[omit_end,:], feet_r[omit_end,:],\n",
    "                collapseDim3Npy(local_positions[omit_end,:,:]),\n",
    "                collapseDim3Npy(local_velocities),\n",
    "                collapseDim3Npy(local_rotations[omit_end,:,:]),\n",
    "                forward[omit_end,:]\n",
    "        )\n",
    "    return out\n",
    "end"
   ]
  },
  {
   "cell_type": "markdown",
   "metadata": {},
   "source": [
    "#### Test that the function is bug-free\n",
    "\n",
    "Test vs. Dan Holden's code (which I've lightly modified) on all CMU locomotion instances."
   ]
  },
  {
   "cell_type": "code",
   "execution_count": null,
   "metadata": {},
   "outputs": [],
   "source": [
    "\n",
    "testpy = pyimport(\"tmptst\");\n",
    "using DelimitedFiles\n",
    "\n",
    "cmu_loco = readdlm(\"../cmu/cmu_locomotion_lkp.txt\", '\\t')[:,1];\n",
    "database = \"cmu\"\n",
    "files = [joinpath(\"cmu\", f * \".bvh\") for f in cmu_loco]\n",
    "files = collect(filter(x-> isfile(x) && x !== \"rest.bvh\", files));\n",
    "\n",
    "for (i, f) in enumerate(files)\n",
    "    tmppy = testpy.process_file(f)\n",
    "    tmp = process_file(f)\n",
    "    printfmtln(\"{:02d}, lines={:04d}, maximum diff = {:.5e}\", i, size(tmp,1), maximum(abs.(tmp - tmppy)))\n",
    "end"
   ]
  },
  {
   "cell_type": "markdown",
   "metadata": {},
   "source": [
    "--------------"
   ]
  },
  {
   "cell_type": "code",
   "execution_count": 166,
   "metadata": {},
   "outputs": [],
   "source": [
    "proc = process_file(\"./cmu/09_12.bvh\");"
   ]
  },
  {
   "cell_type": "markdown",
   "metadata": {},
   "source": [
    "--------------\n",
    "# Reconstruct global movement"
   ]
  },
  {
   "cell_type": "code",
   "execution_count": 393,
   "metadata": {},
   "outputs": [
    {
     "data": {
      "text/plain": [
       "reshape_rotations (generic function with 1 method)"
      ]
     },
     "execution_count": 393,
     "metadata": {},
     "output_type": "execute_result"
    }
   ],
   "source": [
    "# \n",
    "qimag = Quaternions.imag\n",
    "quat_list(x) = [quat(x[i,:]) for i in 1:size(x,1)]\n",
    "quat_list_to_mat(x) = reduce(vcat, [qimag(xx)' for xx in x])\n",
    "quaterion_angle_axis_w_y(θ) = quat(cos(θ/2), 0, sin(θ/2), 0)\n",
    "apply_rotation(x, qrot) = qrot * x * conj(qrot)\n",
    "\n",
    "\n",
    "function reconstruct_positions(Y::Matrix, Ymu::Matrix, Ystd::Matrix)\n",
    "    Y = convert(Matrix{Float64}, Y)   # reduce error propagation from iterative scheme\n",
    "    Y = Y .* Ystd' .+ Ymu'\n",
    "    return reconstruct_positions(Y)\n",
    "end\n",
    "\n",
    "function reconstruct_positions(Y::Matrix)\n",
    "    Y = convert(Matrix{Float64}, Y)   # reduce error propagation from iterative scheme\n",
    "    \n",
    "    root_r, root_x, root_z, joints = Y[:,1], Y[:,2], Y[:,3], Y[:,8:(63+7)]\n",
    "    return _joints_fk(joints, root_x, root_z, root_r)\n",
    "end\n",
    "\n",
    "function _joints_fk(joints::Matrix{T}, root_x::Vector{T}, root_z::Vector{T}, \n",
    "        root_r::Vector{T}) where T <: Number\n",
    "\n",
    "    n = size(joints, 1)\n",
    "    joints = rowmaj_reshape_3d(joints, n, 21, 3)\n",
    "#     joints = reshape(joints, n, 3, 21)\n",
    "#     joints = permutedims(joints, [1,3,2])\n",
    "    rotation = Quaternion(1.0)\n",
    "    offsets = []\n",
    "    translation = zeros(3)\n",
    "\n",
    "    for i = 1:n\n",
    "        joints[i,:,:] = apply_rotation(quat_list(joints[i,:,:]), rotation) |> quat_list_to_mat\n",
    "        joints[i,:,1] = joints[i,:,1] .+ translation[1]\n",
    "        joints[i,:,3] = joints[i,:,3] .+ translation[3]\n",
    "        \n",
    "        rotation = quaterion_angle_axis_w_y(-root_r[i]) * rotation\n",
    "        append!(offsets, apply_rotation(quat(0.,0,0,1), rotation))\n",
    "        translation = translation + qimag(apply_rotation(quat(0., root_x[i], 0, root_z[i]), rotation))\n",
    "    end\n",
    "    \n",
    "    return joints\n",
    "end\n",
    "\n",
    "reshape_velocities(Y::Matrix) = rowmaj_reshape_3d(Y[:,(8:(63+7)) .+ 63], size(Y,1), 21, 3)\n",
    "reshape_rotations(Y::Matrix) = rowmaj_reshape_3d(Y[:,(8:(63+7)) .+ 63], size(Y,1), 21, 3)"
   ]
  },
  {
   "cell_type": "code",
   "execution_count": 389,
   "metadata": {},
   "outputs": [],
   "source": [
    "recon = reconstruct_positions(proc);"
   ]
  },
  {
   "cell_type": "code",
   "execution_count": null,
   "metadata": {},
   "outputs": [],
   "source": []
  },
  {
   "cell_type": "code",
   "execution_count": null,
   "metadata": {},
   "outputs": [],
   "source": [
    "if !(@isdefined vis) \n",
    "    # Create a new visualizer instance (MeshCat.jl)\n",
    "    vis = Visualizer()\n",
    "    open(vis)\n",
    "end\n",
    "vis = mocapviz.create_animation([recon[270:end,:,:]], \"test\"; vis=vis, linemesh=[mocapviz.yellowmesh])"
   ]
  },
  {
   "cell_type": "markdown",
   "metadata": {},
   "source": [
    "--------------\n",
    "# Construct model inputs/outputs"
   ]
  },
  {
   "cell_type": "code",
   "execution_count": 67,
   "metadata": {},
   "outputs": [
    {
     "data": {
      "text/plain": [
       "(957, 21, 3)"
      ]
     },
     "execution_count": 67,
     "metadata": {},
     "output_type": "execute_result"
    }
   ],
   "source": [
    "size(recon)"
   ]
  },
  {
   "cell_type": "code",
   "execution_count": 92,
   "metadata": {},
   "outputs": [
    {
     "data": {
      "text/plain": [
       "1"
      ]
     },
     "execution_count": 92,
     "metadata": {},
     "output_type": "execute_result"
    }
   ],
   "source": [
    "ii = 1"
   ]
  },
  {
   "cell_type": "code",
   "execution_count": 176,
   "metadata": {},
   "outputs": [
    {
     "data": {
      "text/plain": [
       "-60:10:50"
      ]
     },
     "execution_count": 176,
     "metadata": {},
     "output_type": "execute_result"
    }
   ],
   "source": [
    "(1-69:1+59)[9:10:119]"
   ]
  },
  {
   "cell_type": "code",
   "execution_count": 409,
   "metadata": {},
   "outputs": [],
   "source": [
    "use_ixs = range(70, stop=size(recon, 1) - 60)\n",
    "Xs = Matrix{Float32}(undef, length(use_ixs), 48 + 2 + 63)\n",
    "for (r, ix) in enumerate(use_ixs)\n",
    "    tix = range(-60, stop=50, step=10)\n",
    "    traj_pos = recon[ix .+ tix, 1, :]\n",
    "    traj_pos_full = recon[ix-69:ix+59, :, :]\n",
    "    \n",
    "#     forward = proc[ix .+ tix, 1, 197:199]  # note proc not recon\n",
    "    sdr_l, sdr_r, hip_l, hip_r = 14, 18, 2, 6  #13, 17, 1, 5\n",
    "    across1 = traj_pos_full[:,hip_l,:] - traj_pos_full[:,hip_r,:]\n",
    "    across0 = traj_pos_full[:,sdr_l,:] - traj_pos_full[:,sdr_r,:]\n",
    "    across = across0 + across1\n",
    "    across = across ./ sqrt.(sum(x->x^2, across, dims=2))\n",
    "    \n",
    "    direction_filterwidth = 20\n",
    "#     forward = [cross(view(across, i,:), [0., 1, 0])' for i in 1:N] |>  x->reduce(vcat, x)  # crossprod\n",
    "    forward = hcat(-across[:,3], zeros(size(across, 1), 1), across[:,1])  # crossprod (easy as spec. case)\n",
    "    forward = filterspy.gaussian_filter1d(forward, direction_filterwidth, axis=0, mode=\"nearest\")\n",
    "    forward = forward ./ sqrt.(sum(x->x^2, forward, dims=2))\n",
    "    \n",
    "    Xs[r, 1:24] = vcat(traj_pos[:,1] .- traj_pos[7,1], traj_pos[:,3] .- traj_pos[7,3])\n",
    "    Xs[r, 25:48] = vcat(forward[9:10:119, 1], forward[9:10:119, 3])\n",
    "    Xs[r, 49:72] = vcat(proc[ix .+ tix, 197] , proc[ix .+ tix, 199] )\n",
    "    Xs[r, 73:84] = begin; V=hcat(forward[9:10:119, 1], forward[9:10:119, 3]);  \n",
    "                    U=hcat(Xs[r, 1:12], Xs[r,13:24]); U ./= sqrt.(sum(x->x^2, U, dims=2)); sum(U .* V, dims=2)[:]; end\n",
    "end"
   ]
  },
  {
   "cell_type": "markdown",
   "metadata": {},
   "source": [
    "1. Check if this calc is different from the forward previously calculated.\n",
    "2. Make secondary extraction/standardisation step where:\n",
    "    1. trajectory position is diff'd.\n",
    "    2. trajectory direction is local direction"
   ]
  },
  {
   "cell_type": "code",
   "execution_count": 396,
   "metadata": {},
   "outputs": [],
   "source": [
    "rots = reshape_rotations(proc);"
   ]
  },
  {
   "cell_type": "code",
   "execution_count": null,
   "metadata": {},
   "outputs": [],
   "source": [
    "function between(u::Vector, v::Vector)\n",
    "    a = cross(u, v)\n",
    "    w = norm(u) * norm(v) + u' * v\n",
    "    return Quaternions(vcat([a ], axis=-1)).normalized()"
   ]
  },
  {
   "cell_type": "code",
   "execution_count": null,
   "metadata": {},
   "outputs": [],
   "source": [
    "_V=hcat(Xs[:,25+6], Xs[:,37+6])"
   ]
  },
  {
   "cell_type": "code",
   "execution_count": null,
   "metadata": {},
   "outputs": [],
   "source": [
    "_U=hcat(diff(Xs[:, 1:12], dims=2)[:,6], diff(Xs[:,13:24], dims=2)[:,6])"
   ]
  },
  {
   "cell_type": "code",
   "execution_count": 422,
   "metadata": {},
   "outputs": [],
   "source": [
    "_U ./= sqrt.(sum(x->x^2, _U, dims=2));"
   ]
  },
  {
   "cell_type": "code",
   "execution_count": null,
   "metadata": {},
   "outputs": [],
   "source": [
    "plot(sum(_U .* _V, dims=2)[:])"
   ]
  },
  {
   "cell_type": "code",
   "execution_count": 430,
   "metadata": {},
   "outputs": [
    {
     "data": {
      "text/plain": [
       "828×2 Array{Float32,2}:\n",
       "  0.0203199    0.999794\n",
       "  0.0153396    0.999882\n",
       "  0.0142091    0.999899\n",
       "  0.00850111   0.999964\n",
       " -0.00406658   0.999992\n",
       " -0.00954591   0.999954\n",
       " -0.00930803   0.999957\n",
       " -0.0233088    0.999728\n",
       " -0.0263698    0.999652\n",
       " -0.0194437    0.999811\n",
       " -0.0163308    0.999867\n",
       " -0.0157541    0.999876\n",
       " -0.0155494    0.999879\n",
       "  ⋮                    \n",
       " -0.465494    -0.885051\n",
       " -0.468268    -0.883586\n",
       " -0.467259    -0.88412 \n",
       " -0.474417    -0.8803  \n",
       " -0.483204    -0.875508\n",
       " -0.49045     -0.871469\n",
       " -0.501444    -0.86519 \n",
       " -0.510004    -0.860172\n",
       " -0.521783    -0.853078\n",
       " -0.53191     -0.846801\n",
       " -0.54479     -0.838572\n",
       " -0.55421     -0.832377"
      ]
     },
     "execution_count": 430,
     "metadata": {},
     "output_type": "execute_result"
    }
   ],
   "source": [
    "_U"
   ]
  },
  {
   "cell_type": "code",
   "execution_count": null,
   "metadata": {},
   "outputs": [],
   "source": [
    "fig, axs = subplots(1,2,figsize=(10,4))\n",
    "n=size(Xs,1)\n",
    "tts = ((1:n)./n) .^0.5\n",
    "axs[1].scatter(Xs[:,25+6] .* tts, Xs[:,37+6] .* tts, c=ColorMap(\"BuGn\")(tts))\n",
    "_θ = 0.55\n",
    "_orig = (hcat(Xs[:,49+6], Xs[:,61+6]) * [cos(_θ) -sin(_θ); sin(_θ) cos(_θ)] ) .* tts\n",
    "axs[2].scatter(_orig[:,1], _orig[:,2], c=ColorMap(\"BuGn\")(tts))\n",
    "axs[1].set_aspect(\"equal\"); axs[2].set_aspect(\"equal\")"
   ]
  },
  {
   "cell_type": "code",
   "execution_count": null,
   "metadata": {},
   "outputs": [],
   "source": [
    "fig, axs = subplots(1,2,figsize=(10,4))\n",
    "n=size(Xs,1)\n",
    "tts = ((1:n)./n) .^0.5\n",
    "axs[1].scatter(Xs[:,25+6] .* tts, Xs[:,37+6] .* tts, c=ColorMap(\"BuGn\")(tts))\n",
    "axs[2].scatter(Xs[:,49+6] .* tts, Xs[:,61+6] .* tts, c=ColorMap(\"BuGn\")(tts))\n",
    "axs[1].set_aspect(\"equal\"); axs[2].set_aspect(\"equal\")"
   ]
  },
  {
   "cell_type": "code",
   "execution_count": 426,
   "metadata": {},
   "outputs": [
    {
     "data": {
      "text/plain": [
       "351"
      ]
     },
     "execution_count": 426,
     "metadata": {},
     "output_type": "execute_result"
    }
   ],
   "source": [
    "ii"
   ]
  },
  {
   "cell_type": "code",
   "execution_count": null,
   "metadata": {},
   "outputs": [],
   "source": [
    "plot(Xs[ii,1:12], Xs[ii,13:24]); gca().set_aspect(\"equal\")\n",
    "[arrow(Xs[ii,0+j], Xs[ii,12+j], Xs[ii,24+j]*3, Xs[ii,36+j]*3) for j in 1:12]\n",
    "ii+=10"
   ]
  },
  {
   "cell_type": "code",
   "execution_count": null,
   "metadata": {},
   "outputs": [],
   "source": [
    "fig, axs = subplots(1,2,figsize=(10,4))\n",
    "n=size(Xs,1)\n",
    "tts = ((1:n)./n) .^0.5\n",
    "axs[1].scatter(_V[:,1] .* tts, _V[:,2] .* tts, c=ColorMap(\"BuGn\")(tts))\n",
    "_θ = 0.\n",
    "_orig = (hcat(_U[:,1], _U[:,2]) * [cos(_θ) -sin(_θ); sin(_θ) cos(_θ)] ) .* tts\n",
    "axs[2].scatter(_orig[:,1], _orig[:,2], c=ColorMap(\"BuGn\")(tts))\n",
    "axs[1].set_aspect(\"equal\"); axs[2].set_aspect(\"equal\")"
   ]
  },
  {
   "cell_type": "code",
   "execution_count": null,
   "metadata": {},
   "outputs": [],
   "source": [
    "[arrow(0, 0, _U[i,1]*0.93, _U[i,2]*0.93, head_width=.02, head_length=0.04, length_includes_head=true, \n",
    "           color=ColorMap(\"cool\")(i/(size(_U,1)/10))) for i in 1:10:size(_U,1)];\n",
    "[text(_U[i,1]*0.93, _U[i,2]*0.93, Int((i-1)/10 + 1)) for i in 1:10:size(_U,1)];\n",
    "gca().set_ylim(-1,1)\n",
    "gca().set_xlim(-1,1)"
   ]
  },
  {
   "cell_type": "markdown",
   "metadata": {},
   "source": [
    "* Derive phase"
   ]
  },
  {
   "cell_type": "markdown",
   "metadata": {},
   "source": [
    "* standardise, mean/std etc.?"
   ]
  }
 ],
 "metadata": {
  "@webio": {
   "lastCommId": null,
   "lastKernelId": null
  },
  "kernelspec": {
   "display_name": "Julia 1.1.0",
   "language": "julia",
   "name": "julia-1.1"
  },
  "language_info": {
   "file_extension": ".jl",
   "mimetype": "application/julia",
   "name": "julia",
   "version": "1.1.0"
  }
 },
 "nbformat": 4,
 "nbformat_minor": 2
}
