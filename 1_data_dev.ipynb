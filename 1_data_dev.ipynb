{
 "cells": [
  {
   "cell_type": "markdown",
   "metadata": {},
   "source": [
    "# Mocap Data Development\n",
    "\n",
    "The goal of this stage was to understand the data, create a data processing pipeline in *Julia*, and\n",
    "\n",
    "* be able to create training / test data from raw files.\n",
    "* be able to reconstruct such data (and modelled data) into animations.\n",
    "\n",
    "**THIS IS NOW COMPLETE AND THE WORK MOVED INTO ./io.jl**"
   ]
  },
  {
   "cell_type": "code",
   "execution_count": 2,
   "metadata": {},
   "outputs": [
    {
     "data": {
      "text/html": [
       "<script>\n",
       "// Immediately-invoked-function-expression to avoid global variables.\n",
       "(function() {\n",
       "    var warning_div = document.getElementById(\"webio-warning-13883453685414230871\");\n",
       "    var hide = function () {\n",
       "        var script = document.getElementById(\"webio-setup-15380243074905115122\");\n",
       "        var parent = script && script.parentElement;\n",
       "        var grandparent = parent && parent.parentElement;\n",
       "        if (grandparent) {\n",
       "            grandparent.style.display = \"none\";\n",
       "        }\n",
       "        warning_div.style.display = \"none\";\n",
       "    };\n",
       "    if (typeof Jupyter !== \"undefined\") {\n",
       "        console.log(\"WebIO detected Jupyter notebook environment.\");\n",
       "        // Jupyter notebook.\n",
       "        var extensions = (\n",
       "            Jupyter\n",
       "            && Jupyter.notebook.config.data\n",
       "            && Jupyter.notebook.config.data.load_extensions\n",
       "        );\n",
       "        if (extensions && extensions[\"webio/main\"]) {\n",
       "            // Extension already loaded.\n",
       "            console.log(\"Jupyter WebIO nbextension detected; not loading ad-hoc.\");\n",
       "            hide();\n",
       "            return;\n",
       "        }\n",
       "        console.warn(\"Loading WebIO Jupyter extension on an ad-hoc basis. Consider enabling the WebIO nbextension for a stabler experience (this should happen automatically when building WebIO).\");\n",
       "        require([\"/assetserver/5794a0bf2e6325e42dc09c7369026176a04edd3e-dist/main.js\"], function (webIOModule) {\n",
       "            webIOModule.load_ipython_extension();\n",
       "        });\n",
       "        warning_div.innerHTML = \"<strong>Loading WebIO Jupyter extension on an ad-hoc basis. Consider enabling the WebIO nbextension for a stabler experience (this should happen automatically when building WebIO).</strong>\";\n",
       "    } else if (window.location.pathname.includes(\"/lab\")) {\n",
       "        // Guessing JupyterLa\n",
       "        console.log(\"Jupyter Lab detected; make sure the @webio/jupyter-lab-provider labextension is installed.\");\n",
       "        hide();\n",
       "        return;\n",
       "    }\n",
       "})();\n",
       "\n",
       "</script>\n",
       "<div\n",
       "    id=\"webio-warning-13883453685414230871\"\n",
       "    class=\"output_text output_stderr\"\n",
       "    style=\"padding: 1em; font-weight: bold;\"\n",
       ">\n",
       "    Unable to load WebIO. Please make sure WebIO works for your Jupyter client.\n",
       "    <!-- TODO: link to installation docs. -->\n",
       "</div>\n"
      ],
      "text/plain": [
       "HTML{String}(\"<script>\\n// Immediately-invoked-function-expression to avoid global variables.\\n(function() {\\n    var warning_div = document.getElementById(\\\"webio-warning-13883453685414230871\\\");\\n    var hide = function () {\\n        var script = document.getElementById(\\\"webio-setup-15380243074905115122\\\");\\n        var parent = script && script.parentElement;\\n        var grandparent = parent && parent.parentElement;\\n        if (grandparent) {\\n            grandparent.style.display = \\\"none\\\";\\n        }\\n        warning_div.style.display = \\\"none\\\";\\n    };\\n    if (typeof Jupyter !== \\\"undefined\\\") {\\n        console.log(\\\"WebIO detected Jupyter notebook environment.\\\");\\n        // Jupyter notebook.\\n        var extensions = (\\n            Jupyter\\n            && Jupyter.notebook.config.data\\n            && Jupyter.notebook.config.data.load_extensions\\n        );\\n        if (extensions && extensions[\\\"webio/main\\\"]) {\\n            // Extension already loaded.\\n            console.log(\\\"Jupyter WebIO nbextension detected; not loading ad-hoc.\\\");\\n            hide();\\n            return;\\n        }\\n        console.warn(\\\"Loading WebIO Jupyter extension on an ad-hoc basis. Consider enabling the WebIO nbextension for a stabler experience (this should happen automatically when building WebIO).\\\");\\n        require([\\\"/assetserver/5794a0bf2e6325e42dc09c7369026176a04edd3e-dist/main.js\\\"], function (webIOModule) {\\n            webIOModule.load_ipython_extension();\\n        });\\n        warning_div.innerHTML = \\\"<strong>Loading WebIO Jupyter extension on an ad-hoc basis. Consider enabling the WebIO nbextension for a stabler experience (this should happen automatically when building WebIO).</strong>\\\";\\n    } else if (window.location.pathname.includes(\\\"/lab\\\")) {\\n        // Guessing JupyterLa\\n        console.log(\\\"Jupyter Lab detected; make sure the @webio/jupyter-lab-provider labextension is installed.\\\");\\n        hide();\\n        return;\\n    }\\n})();\\n\\n</script>\\n<div\\n    id=\\\"webio-warning-13883453685414230871\\\"\\n    class=\\\"output_text output_stderr\\\"\\n    style=\\\"padding: 1em; font-weight: bold;\\\"\\n>\\n    Unable to load WebIO. Please make sure WebIO works for your Jupyter client.\\n    <!-- TODO: link to installation docs. -->\\n</div>\\n\")"
      ]
     },
     "metadata": {},
     "output_type": "display_data"
    },
    {
     "data": {
      "text/plain": [
       "Main.mocapviz"
      ]
     },
     "execution_count": 2,
     "metadata": {},
     "output_type": "execute_result"
    }
   ],
   "source": [
    "using LinearAlgebra, Statistics, Random\n",
    "using Quaternions    # For manipulating 3D Geometry\n",
    "using MeshCat        # For web visualisation / animation\n",
    "using PyPlot         # Plotting\n",
    "using AxUtil, Flux   # Optimisation\n",
    "\n",
    "# small utils libraries\n",
    "using ProgressMeter, Formatting, ArgCheck\n",
    "using NPZ\n",
    "\n",
    "# global utils\n",
    "squeeze(x) = dropdims(x, dims=tuple(findall(size(x) .== 1)...))  # may be an official fn, but not sure where\n",
    "unsqueeze(xs, dim) = reshape(xs, (size(xs)[1:dim-1]..., 1, size(xs)[dim:end]...))  # <= from Flux.jl\n",
    "rowmaj_reshape_3d(x, ix, iy, iz) = (x=reshape(x, ix, iz, iy); permutedims(x, [1,3,2]);)\n",
    "\n",
    "DIR_MOCAP_MTDS = \"../../../mocap-mtds/\";   # different cos I'm in dev folder\n",
    "\n",
    "# MeshCat skeleton visualisation tools\n",
    "include(joinpath(DIR_MOCAP_MTDS, \"mocap_viz.jl\"))"
   ]
  },
  {
   "cell_type": "code",
   "execution_count": 987,
   "metadata": {},
   "outputs": [
    {
     "name": "stderr",
     "output_type": "stream",
     "text": [
      "WARNING: replacing module mocapio.\n"
     ]
    },
    {
     "data": {
      "text/plain": [
       "Main.mocapio"
      ]
     },
     "execution_count": 987,
     "metadata": {},
     "output_type": "execute_result"
    }
   ],
   "source": [
    "include(joinpath(DIR_MOCAP_MTDS, \"io.jl\"))"
   ]
  },
  {
   "cell_type": "code",
   "execution_count": 3,
   "metadata": {},
   "outputs": [
    {
     "data": {
      "text/plain": [
       "PyObject <module 'scipy.ndimage.filters' from '/Users/alexbird/.julia/conda/3/lib/python3.7/site-packages/scipy/ndimage/filters.py'>"
      ]
     },
     "execution_count": 3,
     "metadata": {},
     "output_type": "execute_result"
    }
   ],
   "source": [
    "# Python interface to reuse Dan Holden's code\n",
    "using PyCall\n",
    "\n",
    "# add to PATH\n",
    "map([\"\", joinpath(DIR_MOCAP_MTDS, \"pyfiles\")]) do p\n",
    "    pushfirst!(PyVector(pyimport(\"sys\").\"path\"), p); end\n",
    "\n",
    "# imports\n",
    "BVHpy = pyimport(\"BVH\");\n",
    "Animpy = pyimport(\"Animation\");\n",
    "Quatpy = pyimport(\"Quaternions\");\n",
    "Pivotspy = pyimport(\"Pivots\")\n",
    "filterspy = pyimport(\"scipy.ndimage.filters\")   # note scipy not dl by default by Julia"
   ]
  },
  {
   "cell_type": "code",
   "execution_count": 4,
   "metadata": {},
   "outputs": [
    {
     "data": {
      "text/plain": [
       "QuatpyGetItem (generic function with 1 method)"
      ]
     },
     "execution_count": 4,
     "metadata": {},
     "output_type": "execute_result"
    }
   ],
   "source": [
    "# PyCall Utility Functions\n",
    "toArray(x) = convert(Array, x)   # Quatpy class operations return Python objects (numpy). Forces convert.\n",
    "collapseDim3Jl(x) = reshape(x, size(x, 1), :)\n",
    "collapseDim3Npy(x) = (x=permutedims(x, [1,3,2]); reshape(x, size(x, 1), :);)\n",
    "\n",
    "# class method __getitem__ def in Quaternions.py doesn't play nicely. Let's write our own:\n",
    "QuatpyGetItem(pyo, ixs...) = Quatpy.Quaternions(pyo.qs[(ixs..., :, :, :)[1:ndims(pyo.qs)]...])"
   ]
  },
  {
   "cell_type": "markdown",
   "metadata": {},
   "source": [
    "-------------------\n",
    "## Extract relevant details from BVH file\n",
    "\n",
    "* Rotational velocity about root [1],\n",
    "* Global velocity of root in $x, z$ directions [2,3],\n",
    "* Foot contact points (L,R,heel,toe) [4,5,6,7],\n",
    "* Local joint positions (rel. to root) x21 x3 [8-70],\n",
    "* Local joint velocities (rel. to root) x21 x3 [71-133],\n",
    "* Local joint rotations (rel. to root?) x21 x3 [134-196],\n",
    "* Forward direction (note $\\perp$ to $y$, ie. $y=0$) [197-199]"
   ]
  },
  {
   "cell_type": "code",
   "execution_count": 955,
   "metadata": {},
   "outputs": [
    {
     "data": {
      "text/plain": [
       "957×196 Array{Float64,2}:\n",
       " -7.44135e-5    0.0185008    0.332072   …   0.0762912   0.360389  0.599597\n",
       " -0.00011454   -0.00940999   0.301361       0.0796756   0.360885  0.617338\n",
       " -0.000156184   0.0209589    0.355107       0.0813809   0.35567   0.624407\n",
       " -0.000199097   0.00478976   0.346394       0.0838546   0.353683  0.635314\n",
       " -0.00024298    0.0140304    0.380392       0.0880801   0.346709  0.638559\n",
       " -0.000287574   0.0222932    0.355337   …   0.0951806   0.337181  0.641368\n",
       " -0.000332587  -0.0282651    0.365414       0.105271    0.330077  0.64363 \n",
       " -0.000377726  -0.0294267    0.363344       0.105619    0.329512  0.649729\n",
       " -0.000422563  -0.0271975    0.380092       0.10142     0.333237  0.657959\n",
       " -0.000466854  -0.0240651    0.382749       0.103784    0.330944  0.663108\n",
       " -0.000510194   4.70049e-5   0.381733   …   0.109509    0.323418  0.665098\n",
       " -0.000552311  -0.0113437    0.402259       0.112208    0.316032  0.665384\n",
       " -0.000592827  -0.0315291    0.384127       0.114711    0.300241  0.660686\n",
       "  ⋮                                     ⋱                         ⋮       \n",
       "  0.00625364   -0.168565    -0.203155   …   0.00632568  0.359574  0.570624\n",
       "  0.0063257    -0.153308    -0.184771       0.00349128  0.363957  0.58236 \n",
       "  0.00638063   -0.139364    -0.181634       0.00599254  0.364475  0.591524\n",
       "  0.00641813   -0.117339    -0.163904       0.00752773  0.358065  0.595766\n",
       "  0.00643806   -0.130568    -0.146374      -0.0033094   0.347087  0.617966\n",
       "  0.00644044   -0.106831    -0.137957   …  -0.00195375  0.316114  0.605261\n",
       "  0.00642491   -0.104813    -0.12287       -0.0105615   0.327869  0.63353 \n",
       "  0.00639237   -0.143507    -0.121048      -0.00352916  0.319189  0.63926 \n",
       "  0.00634308   -0.102868    -0.103934       0.00700096  0.31475   0.642783\n",
       "  0.00627739   -0.0882198   -0.0827533      0.013001    0.310597  0.64645 \n",
       "  0.00619597   -0.0907996   -0.0851164  …   0.0176431   0.304592  0.649443\n",
       "  0.00609964   -0.117224    -0.0813135      0.0286766   0.294389  0.643382"
      ]
     },
     "execution_count": 955,
     "metadata": {},
     "output_type": "execute_result"
    }
   ],
   "source": [
    "proc2 = mocapio.process_file(files[40])"
   ]
  },
  {
   "cell_type": "code",
   "execution_count": 906,
   "metadata": {},
   "outputs": [
    {
     "data": {
      "text/plain": [
       "process_file (generic function with 1 method)"
      ]
     },
     "execution_count": 906,
     "metadata": {},
     "output_type": "execute_result"
    }
   ],
   "source": [
    "function process_file(filename)\n",
    "    \n",
    "    anim, names, frametime = BVHpy.load(filename)\n",
    "    \n",
    "    # Subsample to 60 fps\n",
    "    anim = get(anim,  range(0, length(anim)-1, step=2))\n",
    "    \n",
    "    # Do FK\n",
    "    global_xforms = Animpy.transforms_global(anim)  # intermediate\n",
    "    global_positions = global_xforms[:,:,1:3,4] ./ global_xforms[:,:,4:end,4]\n",
    "    global_rotations = Quatpy.Quaternions.from_transforms(global_xforms)\n",
    "    \n",
    "\n",
    "    # Remove Uneeded Joints\n",
    "    used_joints = [0, 2,  3,  4,  5, 7,  8,  9, 10, 12, 13, 15, 16, 18, 19, 20, 22, 25, 26, 27, 29] .+ 1\n",
    "         \n",
    "    positions = global_positions[:, used_joints,:]\n",
    "    global_rotations = QuatpyGetItem(global_rotations,:,used_joints,:) \n",
    "    N = size(positions, 1)\n",
    "    # ________________________________________________________\n",
    "\n",
    "    # Put on Floor\n",
    "    positions[:,:,2] .-= minimum(positions[:,:,2])\n",
    "    \n",
    "    # Get Foot Contacts\n",
    "    # ------------------------------------------\n",
    "    # >>>> SMOOTH FIRST? <<<<<<<<<<<<<<<\n",
    "    # ------------------------------------------\n",
    "    velfactor, heightfactor = [0.05,0.05], [3.0, 2.0]\n",
    "    fid_l, fid_r = [3,4] .+1, [7,8] .+1\n",
    "    \n",
    "    feet_l_vmag_sq = sum(x->x^2, diff(positions[:, fid_l, 1:3], dims=1), dims=3) |> squeeze\n",
    "    feet_l_h = positions[1:end-1, fid_l, 2]\n",
    "    feet_l = (feet_l_vmag_sq .< velfactor') .& (feet_l_h .< heightfactor')\n",
    "    \n",
    "    feet_r_vmag_sq = sum(x->x^2, diff(positions[:, fid_r, 1:3], dims=1), dims=3) |> squeeze\n",
    "    feet_r_h = positions[1:end-1, fid_r, 2]\n",
    "    feet_r = (feet_r_vmag_sq .< velfactor') .& (feet_r_h .< heightfactor')\n",
    "    \n",
    "    # Get Root Velocity\n",
    "    velocity = diff(positions[:,1:1,:], dims=1)\n",
    "    \n",
    "    # Remove translation\n",
    "    positions[:,:,1] .-= positions[:,1:1,1]\n",
    "    positions[:,:,3] .-= positions[:,1:1,3]\n",
    "    \n",
    "    # Get Forward Direction\n",
    "    sdr_l, sdr_r, hip_l, hip_r = 14, 18, 2, 6  #13, 17, 1, 5\n",
    "    across1 = positions[:,hip_l,:] - positions[:,hip_r,:]\n",
    "    across0 = positions[:,sdr_l,:] - positions[:,sdr_r,:]\n",
    "    across = across0 + across1\n",
    "    across = across ./ sqrt.(sum(x->x^2, across, dims=2))\n",
    "    \n",
    "    direction_filterwidth = 20\n",
    "#     forward = [cross(view(across, i,:), [0., 1, 0])' for i in 1:N] |>  x->reduce(vcat, x)  # crossprod\n",
    "    forward = hcat(-across[:,3], zeros(size(across, 1), 1), across[:,1])  # crossprod (easy as spec. case)\n",
    "    forward = filterspy.gaussian_filter1d(forward, direction_filterwidth, axis=0, mode=\"nearest\")\n",
    "    forward = forward ./ sqrt.(sum(x->x^2, forward, dims=2))\n",
    "    \n",
    "    # Get Root Rotation\n",
    "    target = repeat([0,0,1]', N, 1)\n",
    "    root_rotation = Quatpy.Quaternions.between(forward, target)\n",
    "    root_rotation.qs = unsqueeze(root_rotation.qs, 2);\n",
    "    root_rot_omitlast = QuatpyGetItem(root_rotation, 1:(N-1)) \n",
    "    rvelocity = (QuatpyGetItem(root_rotation, 2:N) * -root_rot_omitlast).to_pivots()\n",
    "    \n",
    "    # Local Space  # NEW: define position of joints relative to root\n",
    "    local_positions = positions  # copy(positions)\n",
    "    local_positions[:,:,1] .-= local_positions[:,1:1,1]  # x rel to root x\n",
    "    local_positions[:,:,3] .-= local_positions[:,1:1,3]  # z rel to root z\n",
    "    \n",
    "    local_positions = root_rot_omitlast * local_positions[1:end-1,:,:]  |> toArray # remove Y rotation from pos\n",
    "    local_velocities = diff(local_positions, dims=1)\n",
    "    local_rotations = abs((root_rot_omitlast * QuatpyGetItem(global_rotations, 1:(N-1)))).log()\n",
    "    \n",
    "    root_rvelocity = Pivotspy.Pivots.from_quaternions(QuatpyGetItem(root_rotation, 2:N) * -root_rot_omitlast).ps\n",
    "    global_velocities = root_rot_omitlast * velocity    |> toArray                # remove Y rotation from vel\n",
    "    \n",
    "    \n",
    "    @assert (size(global_velocities, 2) == 1) \"output assumes global_velocities dim2 = 1.\"\n",
    "    omit_end = 1:(N-2)\n",
    "    out = hcat(root_rvelocity[omit_end,:]\n",
    "                ,global_velocities[omit_end,1,1]\n",
    "                ,global_velocities[omit_end,1,3]\n",
    "                ,feet_l[omit_end,:], feet_r[omit_end,:]\n",
    "                ,collapseDim3Npy(local_positions[omit_end,:,:])\n",
    "                ,collapseDim3Npy(local_velocities)\n",
    "                ,collapseDim3Npy(local_rotations[omit_end,:,:])\n",
    "#                 ,forward[omit_end,:]\n",
    "        )\n",
    "    return out\n",
    "end"
   ]
  },
  {
   "cell_type": "code",
   "execution_count": null,
   "metadata": {},
   "outputs": [],
   "source": [
    "# proc = (N-2)   *  [ rvel (1), xvel (1), zvel (1), feet (4),  pos (63),  vel (63),  rot (63) ]"
   ]
  },
  {
   "cell_type": "markdown",
   "metadata": {},
   "source": [
    "#### Test that the function is bug-free\n",
    "\n",
    "Test vs. Dan Holden's code (which I've lightly modified) on all CMU locomotion instances."
   ]
  },
  {
   "cell_type": "code",
   "execution_count": 312,
   "metadata": {},
   "outputs": [],
   "source": [
    "tmp = readdlm(\"../cmu/cmu_locomotion_lkp.txt\", '\\t')[:,2];"
   ]
  },
  {
   "cell_type": "code",
   "execution_count": 329,
   "metadata": {},
   "outputs": [
    {
     "data": {
      "text/plain": [
       "Dict{SubString{String},Int64} with 14 entries:\n",
       "  \"high\"        => 0\n",
       "  \"jump\"        => 0\n",
       "  \"slow\"        => 0\n",
       "  \"forward\"     => 0\n",
       "  \"run/jog\"     => 0\n",
       "  \"walk/stride\" => 0\n",
       "  \"brisk\"       => 0\n",
       "  \"whistle\"     => 0\n",
       "  \"navigate\"    => 0\n",
       "  \"walk\"        => 0\n",
       "  \"walk/wander\" => 0\n",
       "  \"walk/hobble\" => 0\n",
       "  \"muscular\"    => 0\n",
       "  \"run\"         => 0"
      ]
     },
     "execution_count": 329,
     "metadata": {},
     "output_type": "execute_result"
    }
   ],
   "source": [
    "d = Dict((k[end] == ',' ? k[1:end-1] : k) =>0 for k in keys(countmap(tmp)))\n",
    "for (t, l) in zip(tmp, ls_cmu)\n",
    "    d[t[end] == ',' ? t[1:end-1] : t] += l\n",
    "end"
   ]
  },
  {
   "cell_type": "code",
   "execution_count": 412,
   "metadata": {},
   "outputs": [],
   "source": [
    "testpy = pyimport(\"tmptst\");\n",
    "using DelimitedFiles\n",
    "\n",
    "cmu_loco = readdlm(\"../cmu/cmu_locomotion_lkp.txt\", '\\t')[:,1];\n",
    "database = \"cmu\"\n",
    "files = [joinpath(database, f * \".bvh\") for f in cmu_loco]\n",
    "files = collect(filter(x-> isfile(x) && x !== \"rest.bvh\", files));\n",
    "\n",
    "do_test = true\n",
    "if do_test\n",
    "    for (i, f) in enumerate(files)\n",
    "        tmppy = testpy.process_file(f)\n",
    "        tmp = process_file(f)\n",
    "        printfmtln(\"{:02d}, lines={:04d}, maximum diff = {:.5e}\", i, size(tmp,1), maximum(abs.(tmp - tmppy)))\n",
    "    end\n",
    "end\n",
    "\n",
    "database = \"../edin-style-transfer/\"\n",
    "files_edin = [joinpath(database, f) for f in readdir(database)];"
   ]
  },
  {
   "cell_type": "markdown",
   "metadata": {},
   "source": [
    "--------------"
   ]
  },
  {
   "cell_type": "code",
   "execution_count": 11,
   "metadata": {},
   "outputs": [
    {
     "data": {
      "text/plain": [
       "file_countlines_approx (generic function with 1 method)"
      ]
     },
     "execution_count": 11,
     "metadata": {},
     "output_type": "execute_result"
    }
   ],
   "source": [
    "function file_countlines_approx(files)\n",
    "    # Approximate, based on LR to countlines->processed\n",
    "    # but it's very high accuracy\n",
    "    map(files) do f\n",
    "        open(f) do file\n",
    "            Int(floor(countlines(file)*0.5 - 95))\n",
    "        end\n",
    "    end\n",
    "end"
   ]
  },
  {
   "cell_type": "code",
   "execution_count": 413,
   "metadata": {},
   "outputs": [],
   "source": [
    "ls_cmu = file_countlines_approx(files);\n",
    "ls_edin = file_countlines_approx(files_edin);"
   ]
  },
  {
   "cell_type": "code",
   "execution_count": 372,
   "metadata": {},
   "outputs": [
    {
     "data": {
      "text/plain": [
       "20-element Array{Int64,1}:\n",
       "  53\n",
       "  54\n",
       "  55\n",
       "  56\n",
       " 115\n",
       " 116\n",
       " 117\n",
       " 118\n",
       " 119\n",
       " 120\n",
       " 121\n",
       " 122\n",
       " 123\n",
       " 162\n",
       " 163\n",
       " 164\n",
       " 169\n",
       " 184\n",
       " 185\n",
       " 186"
      ]
     },
     "execution_count": 372,
     "metadata": {},
     "output_type": "execute_result"
    }
   ],
   "source": [
    "findall(ls_cmu .> 1000)[1:20]"
   ]
  },
  {
   "cell_type": "code",
   "execution_count": 469,
   "metadata": {},
   "outputs": [
    {
     "data": {
      "text/plain": [
       "8-element Array{Pair{SubString{String},Int64},1}:\n",
       "     \"angry\" => 2223\n",
       " \"childlike\" => 4143\n",
       " \"depressed\" => 3820\n",
       "      \"sexy\" => 5713\n",
       "       \"old\" => 3949\n",
       "     \"proud\" => 4436\n",
       "   \"neutral\" => 3377\n",
       " \"strutting\" => 4669"
      ]
     },
     "metadata": {},
     "output_type": "display_data"
    }
   ],
   "source": [
    "# Extract exemplars for each Edinburgh style\n",
    "\n",
    "style_name_edin = [x[1] for x in match.(r\"\\.\\./[a-z\\-]+/([a-z]+)_.*\", files_edin)];\n",
    "styles = unique(style_name_edin)\n",
    "Random.seed!(12929)\n",
    "_is = [x[rand(Categorical(x/sum(x)))] for x in [findall(style_name_edin .== k) for k in styles]]\n",
    "styles_edin = Dict(style_name_edin[i] => reconstruct_positions(process_file(files_edin[i])) for i in _is);\n",
    "display([k=>size(x,1) for (k,x) in styles_edin])"
   ]
  },
  {
   "cell_type": "code",
   "execution_count": null,
   "metadata": {},
   "outputs": [],
   "source": []
  },
  {
   "cell_type": "code",
   "execution_count": 956,
   "metadata": {},
   "outputs": [],
   "source": [
    "proc = process_file(files[40]);   # 54 = PACING/STOP, 40 = BACKWARD, 115=TRIUMPHANT, 190=TWISTY, not 198 (JUMP)!"
   ]
  },
  {
   "cell_type": "code",
   "execution_count": 382,
   "metadata": {},
   "outputs": [
    {
     "data": {
      "text/plain": [
       "2495"
      ]
     },
     "execution_count": 382,
     "metadata": {},
     "output_type": "execute_result"
    }
   ],
   "source": [
    "ls_cmu[184]"
   ]
  },
  {
   "cell_type": "code",
   "execution_count": 409,
   "metadata": {},
   "outputs": [],
   "source": [
    "proc = process_file(files_edin[29]);"
   ]
  },
  {
   "cell_type": "code",
   "execution_count": 946,
   "metadata": {},
   "outputs": [
    {
     "data": {
      "text/plain": [
       "61"
      ]
     },
     "execution_count": 946,
     "metadata": {},
     "output_type": "execute_result"
    }
   ],
   "source": [
    "length(5:(61+4))"
   ]
  },
  {
   "cell_type": "markdown",
   "metadata": {},
   "source": [
    "--------------\n",
    "# Reconstruct global movement"
   ]
  },
  {
   "cell_type": "code",
   "execution_count": 14,
   "metadata": {},
   "outputs": [
    {
     "data": {
      "text/plain": [
       "reshape_rotations (generic function with 1 method)"
      ]
     },
     "execution_count": 14,
     "metadata": {},
     "output_type": "execute_result"
    }
   ],
   "source": [
    "# \n",
    "qimag = Quaternions.imag\n",
    "quat_list(x) = [quat(x[i,:]) for i in 1:size(x,1)]\n",
    "quat_list_to_mat(x) = reduce(vcat, [qimag(xx)' for xx in x])\n",
    "quaterion_angle_axis_w_y(θ) = quat(cos(θ/2), 0, sin(θ/2), 0)\n",
    "apply_rotation(x, qrot) = qrot * x * conj(qrot)\n",
    "\n",
    "\n",
    "function reconstruct_positions(Y::Matrix, Ymu::Matrix, Ystd::Matrix)\n",
    "    Y = convert(Matrix{Float64}, Y)   # reduce error propagation from iterative scheme\n",
    "    Y = Y .* Ystd' .+ Ymu'\n",
    "    return reconstruct_positions(Y)\n",
    "end\n",
    "\n",
    "function reconstruct_positions(Y::Matrix)\n",
    "    Y = convert(Matrix{Float64}, Y)   # reduce error propagation from iterative scheme\n",
    "    \n",
    "    root_r, root_x, root_z, joints = Y[:,1], Y[:,2], Y[:,3], Y[:,8:(63+7)]\n",
    "    return _joints_fk(joints, root_x, root_z, root_r)\n",
    "end\n",
    "\n",
    "function _joints_fk(joints::Matrix{T}, root_x::Vector{T}, root_z::Vector{T}, \n",
    "        root_r::Vector{T}) where T <: Number\n",
    "\n",
    "    n = size(joints, 1)\n",
    "    joints = rowmaj_reshape_3d(joints, n, 21, 3)\n",
    "#     joints = reshape(joints, n, 3, 21)\n",
    "#     joints = permutedims(joints, [1,3,2])\n",
    "    rotation = Quaternion(1.0)\n",
    "    offsets = []\n",
    "    translation = zeros(3)\n",
    "\n",
    "    for i = 1:n\n",
    "        joints[i,:,:] = apply_rotation(quat_list(joints[i,:,:]), rotation) |> quat_list_to_mat\n",
    "        joints[i,:,1] = joints[i,:,1] .+ translation[1]\n",
    "        joints[i,:,3] = joints[i,:,3] .+ translation[3]\n",
    "        \n",
    "        rotation = quaterion_angle_axis_w_y(-root_r[i]) * rotation\n",
    "        append!(offsets, apply_rotation(quat(0.,0,0,1), rotation))\n",
    "        translation = translation + qimag(apply_rotation(quat(0., root_x[i], 0, root_z[i]), rotation))\n",
    "    end\n",
    "    \n",
    "    return joints\n",
    "end\n",
    "\n",
    "reshape_velocities(Y::Matrix) = rowmaj_reshape_3d(Y[:,(8:(63+7)) .+ 63], size(Y,1), 21, 3)\n",
    "reshape_rotations(Y::Matrix) = rowmaj_reshape_3d(Y[:,(8:(63+7)) .+ 63], size(Y,1), 21, 3)"
   ]
  },
  {
   "cell_type": "code",
   "execution_count": null,
   "metadata": {},
   "outputs": [],
   "source": [
    "using MultivariateStats"
   ]
  },
  {
   "cell_type": "code",
   "execution_count": 248,
   "metadata": {},
   "outputs": [],
   "source": [
    "allM = map(files_xia) do f\n",
    "    proc = process_file(f);\n",
    "    recon = reconstruct_positions(proc)\n",
    "    reshape(recon, size(recon, 1), :);\n",
    "end\n",
    "allM = reduce(vcat, allM);"
   ]
  },
  {
   "cell_type": "code",
   "execution_count": 240,
   "metadata": {},
   "outputs": [],
   "source": [
    "allr = map(files) do f\n",
    "    proc = process_file(f);\n",
    "    recon = reconstruct_positions(proc)\n",
    "    reshape(recon, size(recon, 1), :);\n",
    "end\n",
    "allr = reduce(vcat, allr);"
   ]
  },
  {
   "cell_type": "markdown",
   "metadata": {},
   "source": [
    "## LEARN A ? 1 DIM LDS TO SEE IF WE CAN RECOVER PHASE\n",
    "### May be helpful to enforce a (?damped) rotation matrix like Barber in his DHO work"
   ]
  },
  {
   "cell_type": "code",
   "execution_count": 273,
   "metadata": {},
   "outputs": [],
   "source": [
    "file = matopen(\"allframes.mat\", \"w\")\n",
    "write(file, \"Y\", zsc(reshape(recon, size(recon, 1), :)', 2))\n",
    "close(file)"
   ]
  },
  {
   "cell_type": "markdown",
   "metadata": {},
   "source": [
    "-----------------------\n",
    "# Visualise"
   ]
  },
  {
   "cell_type": "code",
   "execution_count": 122,
   "metadata": {},
   "outputs": [
    {
     "name": "stderr",
     "output_type": "stream",
     "text": [
      "WARNING: replacing module mocapviz.\n"
     ]
    },
    {
     "data": {
      "text/plain": [
       "Main.mocapviz"
      ]
     },
     "execution_count": 122,
     "metadata": {},
     "output_type": "execute_result"
    }
   ],
   "source": [
    "include(joinpath(DIR_MOCAP_MTDS, \"mocap_viz.jl\"))"
   ]
  },
  {
   "cell_type": "code",
   "execution_count": 919,
   "metadata": {},
   "outputs": [],
   "source": [
    "proc = process_file(files[40]);   # 54 = PACING/STOP, 40 = BACKWARD, 115=TRIUMPHANT, 190=TWISTY, not 198 (JUMP)!"
   ]
  },
  {
   "cell_type": "code",
   "execution_count": 898,
   "metadata": {},
   "outputs": [
    {
     "data": {
      "text/plain": [
       "BenchmarkTools.Trial: \n",
       "  memory estimate:  21.53 MiB\n",
       "  allocs estimate:  235126\n",
       "  --------------\n",
       "  minimum time:     326.648 ms (3.54% GC)\n",
       "  median time:      350.449 ms (3.45% GC)\n",
       "  mean time:        366.615 ms (3.32% GC)\n",
       "  maximum time:     471.736 ms (4.29% GC)\n",
       "  --------------\n",
       "  samples:          14\n",
       "  evals/sample:     1"
      ]
     },
     "execution_count": 898,
     "metadata": {},
     "output_type": "execute_result"
    }
   ],
   "source": [
    "proc = mocapio.process_file(files[40])"
   ]
  },
  {
   "cell_type": "markdown",
   "metadata": {},
   "source": [
    "## 1000 rows timing\n",
    "\n",
    "| function     | time (ms) |\n",
    "| ------------ | ----  |\n",
    "| process_file | 380   |\n",
    "| reconstruct  | 15    |\n",
    "| inputs       | 6     |"
   ]
  },
  {
   "cell_type": "code",
   "execution_count": 962,
   "metadata": {},
   "outputs": [],
   "source": [
    "recon = reconstruct_positions(proc);"
   ]
  },
  {
   "cell_type": "code",
   "execution_count": 970,
   "metadata": {},
   "outputs": [
    {
     "data": {
      "text/plain": [
       "(957, 21, 3)"
      ]
     },
     "execution_count": 970,
     "metadata": {},
     "output_type": "execute_result"
    }
   ],
   "source": [
    "size(recon2)"
   ]
  },
  {
   "cell_type": "code",
   "execution_count": 972,
   "metadata": {},
   "outputs": [
    {
     "data": {
      "text/plain": [
       "BenchmarkTools.Trial: \n",
       "  memory estimate:  12.52 MiB\n",
       "  allocs estimate:  129601\n",
       "  --------------\n",
       "  minimum time:     6.520 ms (0.00% GC)\n",
       "  median time:      17.499 ms (49.89% GC)\n",
       "  mean time:        15.485 ms (36.52% GC)\n",
       "  maximum time:     30.421 ms (65.17% GC)\n",
       "  --------------\n",
       "  samples:          323\n",
       "  evals/sample:     1"
      ]
     },
     "execution_count": 972,
     "metadata": {},
     "output_type": "execute_result"
    }
   ],
   "source": [
    "recon2 = mocapio.reconstruct_raw(proc2)"
   ]
  },
  {
   "cell_type": "code",
   "execution_count": 982,
   "metadata": {},
   "outputs": [
    {
     "data": {
      "text/plain": [
       "828×121 Array{Float64,2}:\n",
       " -0.831845  -1.02076   -0.898818  -0.62517   …  -4.03269  13.5899  -0.863206\n",
       " -0.854755  -1.02805   -0.883115  -0.580727     -3.98243  13.536   -0.997196\n",
       " -0.863351  -1.05631   -0.867696  -0.556015     -3.95196  13.4613  -1.17076 \n",
       " -0.871874  -1.05222   -0.839001  -0.516458     -3.90894  13.4192  -1.2844  \n",
       " -0.873732  -1.01517   -0.783992  -0.451432     -3.8716   13.3576  -1.38445 \n",
       " -0.900827  -0.991899  -0.745458  -0.412117  …  -3.81398  13.2957  -1.45285 \n",
       " -0.900336  -0.947085  -0.693303  -0.371854     -3.79934  13.2154  -1.57789 \n",
       " -0.89053   -0.884725  -0.629335  -0.291385     -3.73642  13.1598  -1.63083 \n",
       " -0.889884  -0.844939  -0.586951  -0.220993     -3.72769  13.1539  -1.65992 \n",
       " -0.91437   -0.840938  -0.572419  -0.190073     -3.7493   13.143   -1.6963  \n",
       " -0.957326  -0.835379  -0.561731  -0.17796   …  -3.7577   13.1089  -1.71735 \n",
       " -0.967111  -0.822179  -0.519792  -0.144191     -3.74067  13.0782  -1.64178 \n",
       " -0.996203  -0.80759   -0.495909  -0.131984     -3.73923  13.1104  -1.59111 \n",
       "  ⋮                                          ⋱                      ⋮       \n",
       "  9.74699    7.92718    5.92878    4.42423      -4.29215  14.0306  -1.20366 \n",
       "  9.74126    7.84036    5.90335    4.43123      -4.28089  14.0895  -0.984308\n",
       "  9.70907    7.75751    5.8762     4.43987      -4.3083   14.111   -0.846332\n",
       "  9.67654    7.68363    5.86626    4.44482      -4.30197  14.1813  -0.611137\n",
       "  9.64842    7.60717    5.86091    4.44337   …  -4.30414  14.2419  -0.431286\n",
       "  9.61934    7.54757    5.83306    4.4589       -4.36473  14.211   -0.445839\n",
       "  9.61234    7.51616    5.84639    4.48613      -4.47406  13.9592  -0.932638\n",
       "  9.56104    7.46255    5.85817    4.48933      -4.50556  13.9628  -0.833585\n",
       "  9.53183    7.44671    5.87597    4.51459      -4.48625  13.9736  -0.774312\n",
       "  9.49732    7.4483     5.91518    4.53715   …  -4.47304  13.9646  -0.665817\n",
       "  9.47558    7.47718    5.97263    4.55552      -4.46612  13.9106  -0.62982 \n",
       "  9.44786    7.51086    6.03873    4.59524      -4.45508  13.8793  -0.511579"
      ]
     },
     "execution_count": 982,
     "metadata": {},
     "output_type": "execute_result"
    }
   ],
   "source": [
    "X2 = mocapio.construct_inputs(proc2)"
   ]
  },
  {
   "cell_type": "code",
   "execution_count": 983,
   "metadata": {},
   "outputs": [],
   "source": [
    "X = construct_inputs_fast(recon, proc);"
   ]
  },
  {
   "cell_type": "code",
   "execution_count": 988,
   "metadata": {},
   "outputs": [],
   "source": [
    "Y = mocapio.construct_outputs(proc);"
   ]
  },
  {
   "cell_type": "code",
   "execution_count": 1001,
   "metadata": {},
   "outputs": [
    {
     "data": {
      "text/latex": [
       "\\begin{verbatim}\n",
       "construct_inputs(raw [; direction])\n",
       "\\end{verbatim}\n",
       "Construct the input matrix for the mocap models. The input \\texttt{raw} is the raw output from the \\texttt{process\\_file} function. The function outputs the following matrix, which contains only the range of frames: \\href{i.e.}{start+69, end-60} excluding approx. the first and last second. This is in order to construct trajectories that extend ± 60 frames of the current position. The additional is due to needing a bit extra to calculate velocity, plus some historical baggage. The following columns are contained in the matrix:\n",
       "\n",
       "\\begin{itemize}\n",
       "\\item (12): ± 60 frame trajectory x-cood at step 10 intervals\n",
       "\n",
       "\n",
       "\\item (12): ± 60 frame trajectory z-cood at step 10 intervals\n",
       "\n",
       "\n",
       "\\item (12): ± 60 frame trajectory angle sin(θ) to forward\n",
       "\n",
       "\n",
       "\\item (12): ± 60 frame trajectory angle cos(θ) to forward\n",
       "\n",
       "\n",
       "\\item (12): ± 60 frame trajectory magnitude of velocity\n",
       "\n",
       "\n",
       "\\item (61): joint positions in Lagrangian frame\n",
       "\n",
       "\\end{itemize}\n",
       "The angle θ is expressed in both sine and cosine components to avoid a discontinuity when it wraps around 2π (which it sometimes does). This angle is Lagrangian in nature too: that is, θ = 0 when the skeleton is facing in exactly the same direction as it is walking (i.e. the direction of the velocity). One might prefer a Eulerian (absolute) representation instead, in which case, pass in the named argument \\texttt{direction=:absolute}.\n",
       "\n",
       "Note that there are only 61 dimensions of the joint positions as the root x,z are excluded, as they are always zero. They're excluded from the output too, which is more important: we don't want to waste strength on predicting zero.\n",
       "\n"
      ],
      "text/markdown": [
       "```\n",
       "construct_inputs(raw [; direction])\n",
       "```\n",
       "\n",
       "Construct the input matrix for the mocap models. The input `raw` is the raw output from the `process_file` function. The function outputs the following matrix, which contains only the range of frames: [start+69, end-60](i.e.) excluding approx. the first and last second. This is in order to construct trajectories that extend ± 60 frames of the current position. The additional is due to needing a bit extra to calculate velocity, plus some historical baggage. The following columns are contained in the matrix:\n",
       "\n",
       "  * (12): ± 60 frame trajectory x-cood at step 10 intervals\n",
       "  * (12): ± 60 frame trajectory z-cood at step 10 intervals\n",
       "  * (12): ± 60 frame trajectory angle sin(θ) to forward\n",
       "  * (12): ± 60 frame trajectory angle cos(θ) to forward\n",
       "  * (12): ± 60 frame trajectory magnitude of velocity\n",
       "  * (61): joint positions in Lagrangian frame\n",
       "\n",
       "The angle θ is expressed in both sine and cosine components to avoid a discontinuity when it wraps around 2π (which it sometimes does). This angle is Lagrangian in nature too: that is, θ = 0 when the skeleton is facing in exactly the same direction as it is walking (i.e. the direction of the velocity). One might prefer a Eulerian (absolute) representation instead, in which case, pass in the named argument `direction=:absolute`.\n",
       "\n",
       "Note that there are only 61 dimensions of the joint positions as the root x,z are excluded, as they are always zero. They're excluded from the output too, which is more important: we don't want to waste strength on predicting zero.\n"
      ],
      "text/plain": [
       "\u001b[36m  construct_inputs(raw [; direction])\u001b[39m\n",
       "\n",
       "  Construct the input matrix for the mocap models. The input \u001b[36mraw\u001b[39m is the raw\n",
       "  output from the \u001b[36mprocess_file\u001b[39m function. The function outputs the following\n",
       "  matrix, which contains only the range of frames: start+69, end-60 (i.e.)\n",
       "  excluding approx. the first and last second. This is in order to construct\n",
       "  trajectories that extend ± 60 frames of the current position. The additional\n",
       "  is due to needing a bit extra to calculate velocity, plus some historical\n",
       "  baggage. The following columns are contained in the matrix:\n",
       "\n",
       "    •    (12): ± 60 frame trajectory x-cood at step 10 intervals\n",
       "\n",
       "    •    (12): ± 60 frame trajectory z-cood at step 10 intervals\n",
       "\n",
       "    •    (12): ± 60 frame trajectory angle sin(θ) to forward\n",
       "\n",
       "    •    (12): ± 60 frame trajectory angle cos(θ) to forward\n",
       "\n",
       "    •    (12): ± 60 frame trajectory magnitude of velocity\n",
       "\n",
       "    •    (61): joint positions in Lagrangian frame\n",
       "\n",
       "  The angle θ is expressed in both sine and cosine components to avoid a\n",
       "  discontinuity when it wraps around 2π (which it sometimes does). This angle\n",
       "  is Lagrangian in nature too: that is, θ = 0 when the skeleton is facing in\n",
       "  exactly the same direction as it is walking (i.e. the direction of the\n",
       "  velocity). One might prefer a Eulerian (absolute) representation instead, in\n",
       "  which case, pass in the named argument \u001b[36mdirection=:absolute\u001b[39m.\n",
       "\n",
       "  Note that there are only 61 dimensions of the joint positions as the root\n",
       "  x,z are excluded, as they are always zero. They're excluded from the output\n",
       "  too, which is more important: we don't want to waste strength on predicting\n",
       "  zero."
      ]
     },
     "execution_count": 1001,
     "metadata": {},
     "output_type": "execute_result"
    }
   ],
   "source": [
    "?mocapio.construct_inputs"
   ]
  },
  {
   "cell_type": "code",
   "execution_count": 991,
   "metadata": {},
   "outputs": [],
   "source": [
    "recon_hat = mocapio.reconstruct_modelled(Y);"
   ]
  },
  {
   "cell_type": "code",
   "execution_count": 997,
   "metadata": {},
   "outputs": [
    {
     "data": {
      "text/plain": [
       "MeshCat Visualizer with path /meshcat"
      ]
     },
     "execution_count": 997,
     "metadata": {},
     "output_type": "execute_result"
    }
   ],
   "source": [
    "vis = mocapviz.create_animation([recon_hat, recon828], \"test\"; vis=vis, linemesh=mocapviz.yellowmesh, camera=:back)"
   ]
  },
  {
   "cell_type": "code",
   "execution_count": 985,
   "metadata": {},
   "outputs": [
    {
     "data": {
      "text/plain": [
       "true"
      ]
     },
     "execution_count": 985,
     "metadata": {},
     "output_type": "execute_result"
    }
   ],
   "source": [
    "all(isapprox.(X2 - X, 0.))"
   ]
  },
  {
   "cell_type": "code",
   "execution_count": null,
   "metadata": {},
   "outputs": [],
   "source": []
  },
  {
   "cell_type": "code",
   "execution_count": 553,
   "metadata": {},
   "outputs": [
    {
     "data": {
      "text/plain": [
       "MeshCat Visualizer with path /meshcat"
      ]
     },
     "execution_count": 553,
     "metadata": {},
     "output_type": "execute_result"
    }
   ],
   "source": [
    "if !(@isdefined vis) \n",
    "    # Create a new visualizer instance (MeshCat.jl)\n",
    "    vis = Visualizer()\n",
    "    open(vis)\n",
    "end\n",
    "vis = mocapviz.create_animation([recon[1:1000,:,:]], \"test\"; vis=vis, linemesh=[mocapviz.yellowmesh], camera=:back)"
   ]
  },
  {
   "cell_type": "code",
   "execution_count": 478,
   "metadata": {},
   "outputs": [
    {
     "data": {
      "text/plain": [
       "8-element Array{SubString{String},1}:\n",
       " \"angry\"    \n",
       " \"childlike\"\n",
       " \"depressed\"\n",
       " \"sexy\"     \n",
       " \"old\"      \n",
       " \"proud\"    \n",
       " \"neutral\"  \n",
       " \"strutting\""
      ]
     },
     "execution_count": 478,
     "metadata": {},
     "output_type": "execute_result"
    }
   ],
   "source": [
    "collect(keys(styles_edin))"
   ]
  },
  {
   "cell_type": "code",
   "execution_count": 554,
   "metadata": {},
   "outputs": [
    {
     "data": {
      "text/plain": [
       "MeshCat Visualizer with path /meshcat"
      ]
     },
     "execution_count": 554,
     "metadata": {},
     "output_type": "execute_result"
    }
   ],
   "source": [
    "if !(@isdefined vis) \n",
    "    # Create a new visualizer instance (MeshCat.jl)\n",
    "    vis = Visualizer()\n",
    "    open(vis)\n",
    "end\n",
    "vis = mocapviz.create_animation([styles_edin[\"childlike\"][1:2000,:,:]], \n",
    "    \"test\"; vis=vis, linemesh=mocapviz.yellowmesh, camera=:back)"
   ]
  },
  {
   "cell_type": "markdown",
   "metadata": {},
   "source": [
    "--------------\n",
    "# Construct model inputs/outputs"
   ]
  },
  {
   "cell_type": "code",
   "execution_count": null,
   "metadata": {},
   "outputs": [],
   "source": [
    "function trigvecs(A::Matrix{T}, B::Matrix{T}) where T <: Number\n",
    "    inner_prod(X, Y) = sum(X .* Y, dims=2)\n",
    "#     cross_rows(X, Y) = [cross(view(A, i,:), view(B, i,:))' for i in 1:size(A,1)] |>  x->reduce(vcat, x)\n",
    "    norm_rows(X) = sqrt.(sum(x->x^2, X, dims=2))\n",
    "    norm_A, norm_B = norm_rows(A), norm_rows(B)\n",
    "    !all(isapprox.(norm_A, one(T), atol=1e-4)) && (A = A ./ norm_A)\n",
    "    !all(isapprox.(norm_B, one(T), atol=1e-4)) && (B = B ./ norm_B)\n",
    "    cosθ = inner_prod(A, B)\n",
    "    \n",
    "    # **SIGNED** angle θ https://stackoverflow.com/a/33920320\n",
    "#     θ = atan2(inner_prod(cross_rows(B, A), Vn), cosθ)\n",
    "    # and hence sinθ = inner_prod(cross_rows(B, A), Vn)\n",
    "    # since y is our normal vector, and this component of A, B is\n",
    "    # always zero, we can simplify \n",
    "    sinθ = A[:,1] .* B[:,2] - A[:,2] .* B[:,1]\n",
    "    return cosθ, sinθ\n",
    "end"
   ]
  },
  {
   "cell_type": "code",
   "execution_count": 566,
   "metadata": {},
   "outputs": [
    {
     "data": {
      "text/plain": [
       "construct_inputs (generic function with 1 method)"
      ]
     },
     "execution_count": 566,
     "metadata": {},
     "output_type": "execute_result"
    }
   ],
   "source": [
    "function construct_inputs(X; direction=:relative)\n",
    "    @argcheck direction in [:relative, :absolute]\n",
    "    use_ixs = range(70, stop=size(X, 1) - 60)\n",
    "    \n",
    "    # traj_pos (12x2), abs./rel. direction (12x2), abs. velocity (12), joint positions (63)\n",
    "    Xs = Matrix{Float32}(undef, length(use_ixs), 48 + 12 + 63)\n",
    "    for (r, ix) in enumerate(use_ixs)\n",
    "        tix = range(-60, stop=50, step=10)\n",
    "        traj_pos = X[ix .+ tix, 1, :]\n",
    "        traj_pos_full = X[ix-69:ix+59, :, :]\n",
    "\n",
    "        # Calculate forward direction (same as process_file, but different reference frame)\n",
    "        sdr_l, sdr_r, hip_l, hip_r = 14, 18, 2, 6  #13, 17, 1, 5\n",
    "        across1 = traj_pos_full[:,hip_l,:] - traj_pos_full[:,hip_r,:]\n",
    "        across0 = traj_pos_full[:,sdr_l,:] - traj_pos_full[:,sdr_r,:]\n",
    "        across = across0 + across1\n",
    "        across = across ./ sqrt.(sum(x->x^2, across, dims=2))\n",
    "        forward = hcat(-across[:,3], zeros(size(across, 1), 1), across[:,1])  # crossprod (easy as spec. case)\n",
    "        forward = filterspy.gaussian_filter1d(forward, 5, axis=0, mode=\"nearest\")\n",
    "        forward = forward ./ sqrt.(sum(x->x^2, forward, dims=2))\n",
    "\n",
    "        # Calculate diff/velocity (i.e. instantaneous dir of traj) / compare with body forward dir\n",
    "        traj_pos_full = filterspy.gaussian_filter1d(traj_pos_full, 5, axis=0, mode=\"nearest\")\n",
    "        traj_vel_xz = traj_pos_full[15:10:125,1,[1,3]] - traj_pos_full[5:10:115,1,[1,3]]\n",
    "    #     traj_vel_xz = diff(traj_pos_full[:,1,[1,3]], dims=1)\n",
    "    #     traj_vel_xz = traj_vel_xz[9:10:119,:]   # selected v (t->t+1) not (t-1->t), prob not important\n",
    "        \n",
    "        if direction == :relative\n",
    "            cosθ, sinθ = trigvecs(traj_vel_xz, hcat(forward[9:10:119, 1], forward[9:10:119, 3]))\n",
    "            directions = vcat(sinθ[:], cosθ[:])\n",
    "        else\n",
    "            directions = vcat(forward[9:10:119, 1], forward[9:10:119, 3])\n",
    "        end\n",
    "\n",
    "        Xs[r, 1:24] = vcat(traj_pos[:,1] .- traj_pos[7,1], traj_pos[:,3] .- traj_pos[7,3])\n",
    "        Xs[r, 25:48] = directions\n",
    "        Xs[r, 49:60] = sqrt.(sum(x->x^2, traj_vel_xz, dims=2)[:])\n",
    "    end\n",
    "    return Xs\n",
    "end"
   ]
  },
  {
   "cell_type": "code",
   "execution_count": 980,
   "metadata": {},
   "outputs": [
    {
     "data": {
      "text/plain": [
       "construct_inputs_fast (generic function with 2 methods)"
      ]
     },
     "execution_count": 980,
     "metadata": {},
     "output_type": "execute_result"
    }
   ],
   "source": [
    "function construct_inputs_fast(raw; direction=:relative)\n",
    "    X = reconstruct_positions(raw)\n",
    "    construct_inputs_fast(X, raw; direction=direction)\n",
    "end\n",
    "\n",
    "function construct_inputs_fast(X, raw; direction=:relative)\n",
    "    @argcheck direction in [:relative, :absolute]\n",
    "    @argcheck size(X)[2:3] == (21, 3)\n",
    "    @argcheck size(raw, 2) == 196\n",
    "    @argcheck size(X, 1) == size(raw, 1)\n",
    "    \n",
    "    # proc = (N-2)   *  [ rvel (1), xvel (1), zvel (1), feet (4),  pos (63),  vel (63),  rot (63) ]\n",
    "    use_ixs = range(70, stop=size(X, 1) - 60)\n",
    "    N = length(use_ixs)\n",
    "    \n",
    "    # traj_pos (12x2), abs./rel. direction (12x2), abs. velocity (12), joint positions (63)\n",
    "    Xs = Matrix{eltype(X)}(undef, N, 48 + 12 + 61)\n",
    "    \n",
    "    # add rel. pos from raw\n",
    "    Xs[:, 61] = raw[use_ixs,9]          # x,z value of root are always zero\n",
    "    Xs[:, 62:end] = raw[use_ixs,11:70]\n",
    "    \n",
    "    # Extract -60:10:59 trajectory on a rolling basis\n",
    "    # ---------------------------------------\n",
    "    for i in 1:12\n",
    "        Xs[:,i]    = X[(10:N+9) .+ (i-1)*10, 1, 1]\n",
    "        Xs[:,i+12] = X[(10:N+9) .+ (i-1)*10, 1, 3]\n",
    "    end\n",
    "    Xs[:,1:12] .-= Xs[:,7]\n",
    "    Xs[:,13:24] .-= Xs[:,19]\n",
    "    \n",
    "    # Calculate body direction and velocity\n",
    "    # ---------------------------------------\n",
    "    # Calculate forward direction (same as process_file, but different reference frame)\n",
    "    sdr_l, sdr_r, hip_l, hip_r = 14, 18, 2, 6  #13, 17, 1, 5\n",
    "    normalize_rows(x) = x ./ sqrt.(sum(z->z^2, x, dims=2))\n",
    "    across = (X[:,sdr_l,:] - X[:,sdr_r,:]) + (X[:,hip_l,:] - X[:,hip_r,:]) |> normalize_rows\n",
    "    forward = hcat(-across[:,3], zeros(size(across, 1), 1), across[:,1])  # crossprod (easy as spec. case)\n",
    "    forward = filterspy.gaussian_filter1d(forward, 5, axis=0, mode=\"nearest\")[:,[1,3]] |> normalize_rows\n",
    "    \n",
    "    # Calculate diff/velocity (i.e. instantaneous dir of traj) / compare with body forward dir\n",
    "    traj_pos_smooth = filterspy.gaussian_filter1d(X[:,1,[1,3]], 5, axis=0, mode=\"nearest\")\n",
    "    traj_vel_xz = traj_pos_smooth[15:end, :] - traj_pos_smooth[5:end-10, :]\n",
    "    rel_angle = hcat(reverse(trigvecs(traj_vel_xz[1:end-5,:], forward[9:end-11, :]))...)  # sinθ, cosθ\n",
    "    \n",
    "    for (r, ix) in enumerate(use_ixs)\n",
    "        cvel = view(traj_vel_xz, ix-69:10:ix+41, :)  # note v is +10--> due to +5/-5 differencing\n",
    "        \n",
    "        if direction == :relative\n",
    "            cangle = view(rel_angle, ix-69:10:ix+41,:)\n",
    "            Xs[r, 25:48] = vec(cangle)\n",
    "        else\n",
    "            cforward = view(forward, ix-60:10:ix+50, :)\n",
    "            Xs[r, 25:48] = vec(cforward)\n",
    "        end\n",
    "        \n",
    "        Xs[r, 49:60] = sqrt.(sum(x->x^2, cvel, dims=2)[:])\n",
    "    end\n",
    "    return Xs\n",
    "end"
   ]
  },
  {
   "cell_type": "code",
   "execution_count": 930,
   "metadata": {},
   "outputs": [
    {
     "data": {
      "text/plain": [
       "construct_outputs (generic function with 1 method)"
      ]
     },
     "execution_count": 930,
     "metadata": {},
     "output_type": "execute_result"
    }
   ],
   "source": [
    "function construct_outputs(raw; include_ftcontact=true)\n",
    "    @argcheck size(raw, 2) == 196\n",
    "    if !include_ftcontact\n",
    "        return reduce(hcat, (raw[:,1:3], raw[:,8:(63+7)]))\n",
    "    else\n",
    "        return reduce(hcat, (raw[:,1:3], raw[:,11:(63+7)], raw[:,4:7]))\n",
    "    end\n",
    "end "
   ]
  },
  {
   "cell_type": "code",
   "execution_count": 796,
   "metadata": {},
   "outputs": [],
   "source": [
    "tmpinp1 = construct_inputs(recon);\n",
    "tmpinp2 = construct_inputs_fast(recon);"
   ]
  },
  {
   "cell_type": "code",
   "execution_count": 663,
   "metadata": {},
   "outputs": [
    {
     "data": {
      "text/plain": [
       "9.415973423188007e-7"
      ]
     },
     "execution_count": 663,
     "metadata": {},
     "output_type": "execute_result"
    }
   ],
   "source": [
    "maximum(abs.(tmpinp2[:,1:12] - tmpinp1[:,1:12]))"
   ]
  },
  {
   "cell_type": "code",
   "execution_count": 664,
   "metadata": {},
   "outputs": [
    {
     "data": {
      "text/plain": [
       "9.533134601724669e-7"
      ]
     },
     "execution_count": 664,
     "metadata": {},
     "output_type": "execute_result"
    }
   ],
   "source": [
    "maximum(abs.(tmpinp2[:,13:24] - tmpinp1[:,13:24]))"
   ]
  },
  {
   "cell_type": "code",
   "execution_count": 625,
   "metadata": {},
   "outputs": [
    {
     "data": {
      "text/plain": [
       "4×4 Array{Float32,2}:\n",
       " -0.831845  -1.02076  -0.898818  -0.62517 \n",
       " -0.854755  -1.02805  -0.883115  -0.580727\n",
       " -0.863351  -1.05631  -0.867696  -0.556015\n",
       " -0.871874  -1.05222  -0.839001  -0.516458"
      ]
     },
     "execution_count": 625,
     "metadata": {},
     "output_type": "execute_result"
    }
   ],
   "source": [
    "tmpinp1[1:4,1:4]"
   ]
  },
  {
   "cell_type": "code",
   "execution_count": 673,
   "metadata": {},
   "outputs": [],
   "source": [
    "using BenchmarkTools"
   ]
  },
  {
   "cell_type": "code",
   "execution_count": 675,
   "metadata": {},
   "outputs": [
    {
     "data": {
      "text/plain": [
       "BenchmarkTools.Trial: \n",
       "  memory estimate:  156.81 MiB\n",
       "  allocs estimate:  212746\n",
       "  --------------\n",
       "  minimum time:     535.957 ms (9.13% GC)\n",
       "  median time:      544.475 ms (9.12% GC)\n",
       "  mean time:        551.259 ms (9.13% GC)\n",
       "  maximum time:     580.807 ms (8.54% GC)\n",
       "  --------------\n",
       "  samples:          10\n",
       "  evals/sample:     1"
      ]
     },
     "execution_count": 675,
     "metadata": {},
     "output_type": "execute_result"
    }
   ],
   "source": [
    "@benchmark construct_inputs_fast(recon)"
   ]
  },
  {
   "cell_type": "code",
   "execution_count": 671,
   "metadata": {},
   "outputs": [
    {
     "data": {
      "text/plain": [
       "true"
      ]
     },
     "execution_count": 671,
     "metadata": {},
     "output_type": "execute_result"
    }
   ],
   "source": [
    "all(isapprox.(construct_inputs(recon)[:,1:60], construct_inputs_fast(recon)[:,1:60]))"
   ]
  },
  {
   "cell_type": "code",
   "execution_count": 584,
   "metadata": {},
   "outputs": [],
   "source": [
    "tmpinp = construct_inputs(recon);"
   ]
  },
  {
   "cell_type": "markdown",
   "metadata": {},
   "source": [
    "* **Body rotation is now reasonable, but it goes a bit wild when turning (sharp) corners**. \n",
    "    * A reason for this is probably that the velocities are probably quite small (and hence variable) which adds noise in.\n",
    "    * Or it may just be misalignment: the body turning is measured at a slightly different place to the velocity, and hence is constantly in front or behind.\n",
    "    * **NOTE OF COURSE THAT THE FORWARD DIRECTION _IS_ _SMOOTHED_** !\n",
    "    * A more challenging reason might be that there is some genuine body turn (diff to velocity). This is problematic for manual specification at test time.\n",
    "    \n",
    "* I'm currently looking at trying to fix the velocity: increase the size for calculating the angle. This may be done via smoothing too?\n",
    "* I'm just surprised at the absolute velocity below, and may need to do some fixing.\n"
   ]
  },
  {
   "cell_type": "markdown",
   "metadata": {},
   "source": [
    "1. Check if this calc is different from the forward previously calculated.\n",
    "2. Make secondary extraction/standardisation step where:\n",
    "    1. trajectory position is diff'd.\n",
    "    2. trajectory direction is local direction"
   ]
  },
  {
   "cell_type": "code",
   "execution_count": 585,
   "metadata": {},
   "outputs": [
    {
     "data": {
      "text/plain": [
       "(828, 113)"
      ]
     },
     "execution_count": 585,
     "metadata": {},
     "output_type": "execute_result"
    }
   ],
   "source": [
    "size(Xs)"
   ]
  },
  {
   "cell_type": "code",
   "execution_count": 860,
   "metadata": {},
   "outputs": [
    {
     "data": {
      "text/plain": [
       "-6"
      ]
     },
     "execution_count": 860,
     "metadata": {},
     "output_type": "execute_result"
    }
   ],
   "source": [
    "ii = -6"
   ]
  },
  {
   "cell_type": "code",
   "execution_count": 590,
   "metadata": {},
   "outputs": [
    {
     "data": {
      "image/png": "[encoded data removed]",
      "text/plain": [
       "Figure(PyObject <Figure size 640x480 with 1 Axes>)"
      ]
     },
     "metadata": {},
     "output_type": "display_data"
    }
   ],
   "source": [
    "_ix1 = range(70+0, stop=70+700-1)\n",
    "plot(recon[_ix1,1,1], recon[_ix1,1,3])\n",
    "scatter(recon[_ix1[10:10:end],1,1], recon[_ix1[10:10:end],1,3])\n",
    "[scatter(recon[tt,1,1], recon[tt,1,3]) for tt in _ix1[50:50:300]];\n",
    "\n",
    "[arrow(recon[tt,1,1], recon[tt,1,3], Xs[t2-0,24+7]*2, Xs[t2-0,36+7]*2, head_width=0.4) for (tt, t2) in \n",
    "        zip(_ix1[10:10:end], _ix1[10:10:end] .- 70)];\n",
    "gca().set_aspect(\"equal\")"
   ]
  },
  {
   "cell_type": "code",
   "execution_count": 521,
   "metadata": {},
   "outputs": [
    {
     "data": {
      "image/png": "[encoded data removed]",
      "text/plain": [
       "Figure(PyObject <Figure size 640x480 with 1 Axes>)"
      ]
     },
     "metadata": {},
     "output_type": "display_data"
    },
    {
     "data": {
      "text/plain": [
       "1-element Array{PyObject,1}:\n",
       " PyObject <matplotlib.lines.Line2D object at 0xb6065dcf8>"
      ]
     },
     "execution_count": 521,
     "metadata": {},
     "output_type": "execute_result"
    }
   ],
   "source": [
    "plot(atan.(Xs[1:1400,55], Xs[1:1400,55+12]))"
   ]
  },
  {
   "cell_type": "markdown",
   "metadata": {},
   "source": [
    "* Derive phase"
   ]
  },
  {
   "cell_type": "markdown",
   "metadata": {},
   "source": [
    "* standardise, mean/std etc.?"
   ]
  },
  {
   "cell_type": "markdown",
   "metadata": {},
   "source": [
    "## Phase\n",
    "\n",
    "* Smooth first _before_ calculating footsteps.\n",
    "* (At which point do we count phase = $\\pi$, $2\\pi$? (Heel? Toe?))\n",
    "* Disambiguate confused areas of footsteps.\n",
    "    * Think about minimum time on floor.\n",
    "    * How does this change between styles / activities?\n",
    "    * What to do when long period off floor?\n",
    "    * Perform clean-up to obtain 'foot contact', 'foot lift' for each foot.\n",
    "    * Hidden Semi-Markov Model probably makes sense if set up correctly.\n",
    "    * Then perform some interpolation insofar as it makes sense.\n",
    "* Deal with standing / long time on the floor: doesn't make sense to interpolate directly.\n",
    "    * probably need to handle time of contact, time leave the floor together.\n",
    "* \n"
   ]
  },
  {
   "cell_type": "code",
   "execution_count": null,
   "metadata": {},
   "outputs": [],
   "source": [
    "function process_file(filename)\n",
    "    \n",
    "    anim, names, frametime = BVHpy.load(filename)\n",
    "    \n",
    "    # Subsample to 60 fps\n",
    "    anim = get(anim,  range(0, length(anim)-1, step=2))\n",
    "    \n",
    "    # Do FK\n",
    "    global_xforms = Animpy.transforms_global(anim)  # intermediate\n",
    "    global_positions = global_xforms[:,:,1:3,4] ./ global_xforms[:,:,4:end,4]\n",
    "    global_rotations = Quatpy.Quaternions.from_transforms(global_xforms)\n",
    "    \n",
    "\n",
    "    # Remove Uneeded Joints\n",
    "    used_joints = [0, 2,  3,  4,  5, 7,  8,  9, 10, 12, 13, 15, 16, 18, 19, 20, 22, 25, 26, 27, 29] .+ 1\n",
    "         \n",
    "    positions = global_positions[:, used_joints,:]\n",
    "    global_rotations = QuatpyGetItem(global_rotations,:,used_joints,:) \n",
    "    N = size(positions, 1)\n",
    "    # ________________________________________________________\n",
    "\n",
    "    # Put on Floor\n",
    "    positions[:,:,2] .-= minimum(positions[:,:,2])\n",
    "    \n",
    "    # Get Foot Contacts\n",
    "    # ------------------------------------------\n",
    "    # >>>> SMOOTH FIRST? <<<<<<<<<<<<<<<\n",
    "    # ------------------------------------------\n",
    "    velfactor, heightfactor = [0.05,0.05], [3.0, 2.0]\n",
    "    fid_l, fid_r = [3,4] .+1, [7,8] .+1\n",
    "    \n",
    "    feet_l_vmag_sq = sum(x->x^2, diff(positions[:, fid_l, 1:3], dims=1), dims=3) |> squeeze\n",
    "    feet_l_h = positions[1:end-1, fid_l, 2]\n",
    "    feet_l = (feet_l_vmag_sq .< velfactor') .& (feet_l_h .< heightfactor')\n",
    "    \n",
    "    feet_r_vmag_sq = sum(x->x^2, diff(positions[:, fid_r, 1:3], dims=1), dims=3) |> squeeze\n",
    "    feet_r_h = positions[1:end-1, fid_r, 2]\n",
    "    feet_r = (feet_r_vmag_sq .< velfactor') .& (feet_r_h .< heightfactor')\n",
    "    \n",
    "    # Get Root Velocity\n",
    "    velocity = diff(positions[:,1:1,:], dims=1)\n",
    "    \n",
    "    # Remove translation\n",
    "    positions[:,:,1] .-= positions[:,1:1,1]\n",
    "    positions[:,:,3] .-= positions[:,1:1,3]\n",
    "    \n",
    "    # Get Forward Direction\n",
    "    sdr_l, sdr_r, hip_l, hip_r = 14, 18, 2, 6  #13, 17, 1, 5\n",
    "    across1 = positions[:,hip_l,:] - positions[:,hip_r,:]\n",
    "    across0 = positions[:,sdr_l,:] - positions[:,sdr_r,:]\n",
    "    across = across0 + across1\n",
    "    across = across ./ sqrt.(sum(x->x^2, across, dims=2))\n",
    "    \n",
    "    direction_filterwidth = 20\n",
    "#     forward = [cross(view(across, i,:), [0., 1, 0])' for i in 1:N] |>  x->reduce(vcat, x)  # crossprod\n",
    "    forward = hcat(-across[:,3], zeros(size(across, 1), 1), across[:,1])  # crossprod (easy as spec. case)\n",
    "    forward = filterspy.gaussian_filter1d(forward, direction_filterwidth, axis=0, mode=\"nearest\")\n",
    "    forward = forward ./ sqrt.(sum(x->x^2, forward, dims=2))\n",
    "    \n",
    "    # Get Root Rotation\n",
    "    target = repeat([0,0,1]', N, 1)\n",
    "    root_rotation = Quatpy.Quaternions.between(forward, target)\n",
    "    root_rotation.qs = unsqueeze(root_rotation.qs, 2);\n",
    "    root_rot_omitlast = QuatpyGetItem(root_rotation, 1:(N-1)) \n",
    "    rvelocity = (QuatpyGetItem(root_rotation, 2:N) * -root_rot_omitlast).to_pivots()\n",
    "    \n",
    "    # Local Space  # NEW: define position of joints relative to root\n",
    "    local_positions = positions  # copy(positions)\n",
    "    local_positions[:,:,1] .-= local_positions[:,1:1,1]  # x rel to root x\n",
    "    local_positions[:,:,3] .-= local_positions[:,1:1,3]  # z rel to root z\n",
    "    \n",
    "    local_positions = root_rot_omitlast * local_positions[1:end-1,:,:]  |> toArray # remove Y rotation from pos\n",
    "    local_velocities = diff(local_positions, dims=1)\n",
    "    local_rotations = abs((root_rot_omitlast * QuatpyGetItem(global_rotations, 1:(N-1)))).log()\n",
    "    \n",
    "    root_rvelocity = Pivotspy.Pivots.from_quaternions(QuatpyGetItem(root_rotation, 2:N) * -root_rot_omitlast).ps\n",
    "    global_velocities = root_rot_omitlast * velocity    |> toArray                # remove Y rotation from vel\n",
    "    \n",
    "    \n",
    "    @assert (size(global_velocities, 2) == 1) \"output assumes global_velocities dim2 = 1.\"\n",
    "    omit_end = 1:(N-2)\n",
    "    out = hcat(root_rvelocity[omit_end,:]\n",
    "                ,global_velocities[omit_end,1,1]\n",
    "                ,global_velocities[omit_end,1,3]\n",
    "                ,feet_l[omit_end,:], feet_r[omit_end,:]\n",
    "                ,collapseDim3Npy(local_positions[omit_end,:,:])\n",
    "                ,collapseDim3Npy(local_velocities)\n",
    "                ,collapseDim3Npy(local_rotations[omit_end,:,:])\n",
    "#                 ,forward[omit_end,:]\n",
    "        )\n",
    "    return out\n",
    "end"
   ]
  }
 ],
 "metadata": {
  "@webio": {
   "lastCommId": null,
   "lastKernelId": null
  },
  "kernelspec": {
   "display_name": "Julia 1.1.0",
   "language": "julia",
   "name": "julia-1.1"
  },
  "language_info": {
   "file_extension": ".jl",
   "mimetype": "application/julia",
   "name": "julia",
   "version": "1.1.0"
  }
 },
 "nbformat": 4,
 "nbformat_minor": 2
}
