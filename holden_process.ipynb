{
 "cells": [
  {
   "cell_type": "code",
   "execution_count": 1,
   "metadata": {},
   "outputs": [],
   "source": [
    "import os\n",
    "import sys\n",
    "import numpy as np\n",
    "import scipy.io as io\n",
    "import scipy.ndimage.filters as filters"
   ]
  },
  {
   "cell_type": "code",
   "execution_count": 1049,
   "metadata": {},
   "outputs": [],
   "source": [
    "import BVH\n",
    "import Animation\n",
    "from Quaternions import Quaternions\n",
    "from Pivots import Pivots"
   ]
  },
  {
   "cell_type": "code",
   "execution_count": null,
   "metadata": {},
   "outputs": [],
   "source": []
  },
  {
   "cell_type": "code",
   "execution_count": 1254,
   "metadata": {},
   "outputs": [],
   "source": [
    "def process_file(filename, window=240, window_step=120, export_trajectory=False):\n",
    "    \n",
    "    anim, names, frametime = BVH.load(filename)\n",
    "    \n",
    "    \"\"\" Subsample to 60 fps \"\"\"\n",
    "    anim = anim[::2]\n",
    "    \n",
    "    \"\"\" Do FK \"\"\"\n",
    "    global_xforms = Animation.transforms_global(anim)  # intermediate\n",
    "    global_positions = global_xforms[:,:,:3,3] / global_xforms[:,:,3:,3]\n",
    "    global_rotations = Quaternions.from_transforms(global_xforms)\n",
    "    \n",
    "\n",
    "    \"\"\" Remove Uneeded Joints \"\"\" #>># done post-hoc in PFNN\n",
    "    used_joints = np.array([\n",
    "         0,\n",
    "         2,  3,  4,  5,\n",
    "         7,  8,  9, 10,\n",
    "        12, 13, 15, 16,\n",
    "        18, 19, 20, 22,\n",
    "        25, 26, 27, 29])\n",
    "         \n",
    "    positions = global_positions[:,used_joints]\n",
    "    global_rotations = global_rotations[:,used_joints]\n",
    "    # ________________________________________________________\n",
    "\n",
    "    \"\"\" Put on Floor \"\"\"\n",
    "    positions[:,:,1] -= positions[:,:,1].min()\n",
    "    \n",
    "    \"\"\" Get Foot Contacts \"\"\"\n",
    "    if True:\n",
    "        velfactor, heightfactor = np.array([0.05,0.05]), np.array([3.0, 2.0])\n",
    "        \n",
    "        fid_l, fid_r = np.array([3,4]), np.array([7,8])\n",
    "        feet_l_x = (positions[1:,fid_l,0] - positions[:-1,fid_l,0])**2\n",
    "        feet_l_y = (positions[1:,fid_l,1] - positions[:-1,fid_l,1])**2\n",
    "        feet_l_z = (positions[1:,fid_l,2] - positions[:-1,fid_l,2])**2\n",
    "        feet_l_h = positions[:-1,fid_l,1]\n",
    "        feet_l = (((feet_l_x + feet_l_y + feet_l_z) < velfactor) & (feet_l_h < heightfactor)).astype(np.float)\n",
    "        \n",
    "        feet_r_x = (positions[1:,fid_r,0] - positions[:-1,fid_r,0])**2\n",
    "        feet_r_y = (positions[1:,fid_r,1] - positions[:-1,fid_r,1])**2\n",
    "        feet_r_z = (positions[1:,fid_r,2] - positions[:-1,fid_r,2])**2\n",
    "        feet_r_h = positions[:-1,fid_r,1]\n",
    "        feet_r = (((feet_r_x + feet_r_y + feet_r_z) < velfactor) & (feet_r_h < heightfactor)).astype(np.float)\n",
    "    \n",
    "    \"\"\" Get Root Velocity \"\"\"\n",
    "    velocity = (positions[1:] - positions[:-1]).copy()\n",
    "    \n",
    "    \"\"\" Remove Translation \"\"\"\n",
    "    positions[:,:,0] = positions[:,:,0] - positions[:,0:1,0]\n",
    "    positions[:,:,2] = positions[:,:,2] - positions[:,0:1,2]\n",
    "    \n",
    "    \"\"\" Get Forward Direction \"\"\"\n",
    "    sdr_l, sdr_r, hip_l, hip_r = 13, 17, 1, 5\n",
    "    across1 = positions[:,hip_l] - positions[:,hip_r]\n",
    "    across0 = positions[:,sdr_l] - positions[:,sdr_r]\n",
    "    across = across0 + across1\n",
    "    across = across / np.sqrt((across**2).sum(axis=-1))[...,np.newaxis]\n",
    "    \n",
    "    direction_filterwidth = 20\n",
    "    forward = np.cross(across, np.array([[0,1,0]]))\n",
    "    forward = filters.gaussian_filter1d(forward, direction_filterwidth, axis=0, mode='nearest')    \n",
    "    forward = forward / np.sqrt((forward**2).sum(axis=-1))[...,np.newaxis]\n",
    "    \n",
    "    \"\"\" Get Root Rotation \"\"\"\n",
    "    target = np.array([[0,0,1]]).repeat(len(forward), axis=0)\n",
    "    root_rotation = Quaternions.between(forward, target)[:,np.newaxis]   # rotation needed fwd->z? \n",
    "    rvelocity = (root_rotation[1:] * -root_rotation[:-1]).to_pivots()\n",
    "    \n",
    "    \"\"\" Local Space \"\"\"  # NEW: define position of joints relative to \n",
    "    local_positions = positions.copy()\n",
    "    local_positions[:,:,0] = local_positions[:,:,0] - local_positions[:,0:1,0]  # x rel to root x\n",
    "    local_positions[:,:,2] = local_positions[:,:,2] - local_positions[:,0:1,2]  # z rel to root z\n",
    "    \n",
    "    local_positions = root_rotation[:-1] * local_positions[:-1]   # remove Y rotation from pos\n",
    "#     local_velocities = root_rotation[:-1] * velocity              # remove Y rotation from vel\n",
    "    local_velocities = local_positions[1:] - local_positions[:-1]\n",
    "    local_rotations = abs((root_rotation[:-1] * global_rotations[:-1])).log()\n",
    "\n",
    "    root_rvelocity = Pivots.from_quaternions(root_rotation[1:] * -root_rotation[:-1]).ps\n",
    "\n",
    "    # ================================================================\n",
    "    #                Construct Model Matrices\n",
    "    # ================================================================\n",
    "    Xc, Yc = [], []\n",
    "    window = 60\n",
    "    ixs = range(window, len(anim)-window-1, 1)\n",
    "    \n",
    "    \"\"\" Construct X Vectors (Inputs) \"\"\"\n",
    "    for i in ixs:\n",
    "        cur_rot = root_rotation[i:i+1,0]\n",
    "        cur_pos = global_positions[i:i+1,0]  # root joint\n",
    "        rootposs = cur_rot * (global_positions[i-window:i+window:10,0] - cur_pos)\n",
    "        rootdirs = cur_rot * forward[i-window:i+window:10]\n",
    "        \n",
    "        Xc.append(np.hstack([\n",
    "                rootposs[:,0].ravel(), rootposs[:,2].ravel(), # Trajectory Pos\n",
    "                rootdirs[:,0].ravel(), rootdirs[:,2].ravel(), # Trajectory Dir\n",
    "                local_positions[i-1].ravel(),  # Cur Joint Pos (note -1 b.c. first el omitted)\n",
    "                local_velocities[i-1].ravel(), # Cur Joint Vel (note -1 b.c. first el omitted)\n",
    "                ]))\n",
    "\n",
    "    \"\"\" Construct Y Vectors (Outputs) \"\"\"\n",
    "    for i in ixs:\n",
    "        next_rot = root_rotation[i+1:i+2,0]\n",
    "        next_pos = global_positions[i+1:i+2,0]  # root joint\n",
    "        rootposs_next = next_rot * (global_positions[i+1:i+window+1:10,0] - next_pos)\n",
    "        rootdirs_next = next_rot * forward[i+1:i+window+1:10]\n",
    "        \n",
    "        Yc.append(np.hstack([\n",
    "                root_rvelocity[i].ravel(),   # rotational vel at root\n",
    "                np.concatenate([feet_l[i], feet_r[i]], axis=-1), # feet contacts\n",
    "                rootposs_next[:,0].ravel(), rootposs_next[:,2].ravel(), # Next Trajectory Pos\n",
    "                rootdirs_next[:,0].ravel(), rootdirs_next[:,2].ravel(), # Next Trajectory Dir\n",
    "                local_positions[i].ravel(),  # Next Joint Pos\n",
    "                local_velocities[i].ravel(), # Next Joint Vel\n",
    "                local_rotations[i].ravel()   # Next Joint Rot\n",
    "                ]))\n",
    "    \n",
    "    return Xc, Yc"
   ]
  },
  {
   "cell_type": "markdown",
   "metadata": {},
   "source": [
    "<div style=\"background-color:#F04040;\">\n",
    "    <br>\n",
    "    <center><b><span style=\"font-size:36px\">Loop over all files, adding an additional dimension at start of each </span></b></center><br><br>\n",
    "</div>"
   ]
  },
  {
   "cell_type": "code",
   "execution_count": null,
   "metadata": {},
   "outputs": [],
   "source": [
    "..."
   ]
  },
  {
   "cell_type": "code",
   "execution_count": 1255,
   "metadata": {},
   "outputs": [],
   "source": [
    "X, Y = process_file(files[3])\n",
    "\n",
    "# Convert to Float32 (reduce memory footprint)\n",
    "X = [X[i].astype('float32') for i in range(len(X))]\n",
    "Y = [Y[i].astype('float32') for i in range(len(Y))]\n",
    "\n",
    "# Extract my favourite bits of Y:\n",
    "Y = [Y[i][[0,1,2,3,4, *list(range(29,29+63)), *list(range(29+63*2,29+63*3))]] for i in range(len(Y))]"
   ]
  },
  {
   "cell_type": "markdown",
   "metadata": {},
   "source": [
    "<div style=\"background-color:#F0F040;\">\n",
    "    <br>\n",
    "    <center><b><span style=\"font-size:36px\">Normalize X, Y (DONE, CAREFUL THAT CALCING FOR ALL INPUT SETS) </span></b></center><br><br>\n",
    "</div>"
   ]
  },
  {
   "cell_type": "code",
   "execution_count": null,
   "metadata": {},
   "outputs": [],
   "source": [
    "\"\"\" Calculate Mean and Std \"\"\"\n",
    "Xmean, Xstd = X.mean(axis=0), X.std(axis=0)\n",
    "Ymean, Ystd = Y.mean(axis=0), Y.std(axis=0)\n",
    "\n",
    "j = 21\n",
    "w = ((60*2)//10)\n",
    "\n",
    "\"\"\" pool standard deviation over relevant dimensions of X\"\"\"\n",
    "Xstd[w*0:w* 1] = Xstd[w*0:w* 1].mean() # Trajectory Past Positions\n",
    "Xstd[w*1:w* 2] = Xstd[w*1:w* 2].mean() # Trajectory Future Positions\n",
    "Xstd[w*2:w* 3] = Xstd[w*2:w* 3].mean() # Trajectory Past Directions\n",
    "Xstd[w*3:w* 4] = Xstd[w*3:w* 4].mean() # Trajectory Future Directions\n",
    "\n",
    "def ix_sec(x): return w*4+j*3*x\n",
    "Xstd[ix_sec(0):ix_sec(1)] = Xstd[ix_sec(0):ix_sec(1)].mean() / (0.1) # Pos\n",
    "Xstd[ix_sec(1):ix_sec(2)] = Xstd[ix_sec(0):ix_sec(1)].mean() / (0.1) # Vel\n",
    "\n",
    "\"\"\" pool standard deviation over relevant dimensions of Y\"\"\"\n",
    "Ystd[0:1] = Ystd[0:1].mean() # Rotational Velocity\n",
    "Ystd[1:5] = Ystd[1:5].mean() # Foot Contacts\n",
    "\n",
    "Ystd[5+w*0:5+w*1] = Ystd[5+w*0:5+w*1].mean() # Trajectory Future Positions\n",
    "Ystd[5+w*1:5+w*2] = Ystd[5+w*1:5+w*2].mean() # Trajectory Future Directions\n",
    "\n",
    "def ix_sec(y): return 5+w*2+j*3*y\n",
    "Ystd[ix_sec(0):ix_sec(1)] = Ystd[ix_sec(0):ix_sec(1)].mean() # Pos\n",
    "Ystd[ix_sec(1):ix_sec(2)] = Ystd[ix_sec(1):ix_sec(2)].mean() # <-- Rot as removed # Vel\n",
    "# Ystd[ix_sec(2):ix_sec(3)] = Ystd[ix_sec(2):ix_sec(3)].mean() # Rot\n",
    "\n",
    "\"\"\" Save Mean / Std / Min / Max \"\"\"\n",
    "\n",
    "np.savez_compressed(\"Xmean.npz\", Xmean=Xmean)\n",
    "np.savez_compressed(\"Ymean.npz\", Ymean=Ymean)\n",
    "np.savez_compressed(\"Xstd.npz\", Xstd=Xstd)\n",
    "np.savez_compressed(\"Ystd.npz\", Ystd=Ystd)\n",
    "\n",
    "\"\"\" Normalize Data \"\"\"\n",
    "\n",
    "X = (X - Xmean) / Xstd\n",
    "Y = (Y - Ymean) / Ystd"
   ]
  },
  {
   "cell_type": "markdown",
   "metadata": {},
   "source": [
    "<div style=\"background-color:#F04040;\">\n",
    "    <br>\n",
    "    <center><b><span style=\"font-size:36px\">Extract Windows </span></b></center><br><br>\n",
    "</div>"
   ]
  },
  {
   "cell_type": "code",
   "execution_count": null,
   "metadata": {},
   "outputs": [],
   "source": [
    "..."
   ]
  },
  {
   "cell_type": "markdown",
   "metadata": {},
   "source": [
    "<div style=\"background-color:#F04040;\">\n",
    "    <br>\n",
    "    <center><b><span style=\"font-size:36px\">Ensure we can reconstruct absolute position from above</span></b></center><br><br>\n",
    "</div>"
   ]
  },
  {
   "cell_type": "code",
   "execution_count": null,
   "metadata": {},
   "outputs": [],
   "source": [
    "..."
   ]
  },
  {
   "cell_type": "markdown",
   "metadata": {},
   "source": [
    "<div style=\"background-color:#F04040;\">\n",
    "    <br>\n",
    "    <center><b><span style=\"font-size:36px\">ENSURE Float32 and save for Julia </span></b></center><br><br>\n",
    "</div>"
   ]
  },
  {
   "cell_type": "code",
   "execution_count": null,
   "metadata": {},
   "outputs": [],
   "source": [
    "..."
   ]
  },
  {
   "cell_type": "code",
   "execution_count": null,
   "metadata": {},
   "outputs": [],
   "source": []
  },
  {
   "cell_type": "code",
   "execution_count": null,
   "metadata": {},
   "outputs": [],
   "source": [
    "[plt.plot([Y_[i][ix] for i in range(len(Y_))]) for ix in range(6,66)]\n",
    "plt.gca().axhline(0, linestyle=\":\")"
   ]
  },
  {
   "cell_type": "code",
   "execution_count": 12,
   "metadata": {},
   "outputs": [],
   "source": [
    "import pandas as pd\n",
    "cmu_loco = pd.read_csv(\"../cmu/cmu_locomotion_lkp.txt\", delimiter=\"\\t\", header=None)[0]"
   ]
  },
  {
   "cell_type": "code",
   "execution_count": 1018,
   "metadata": {},
   "outputs": [],
   "source": [
    "_anim, _names, _frametime = BVH.load(files[3])"
   ]
  },
  {
   "cell_type": "code",
   "execution_count": null,
   "metadata": {},
   "outputs": [],
   "source": [
    "fig, axs = plt.subplots(3,10, figsize=(15,12))\n",
    "for jj in range(10):\n",
    "    yloclpos = Y[ii//2 + jj,:-7].reshape(21,3)\n",
    "    axs[0,jj].scatter(yloclpos[:,0], yloclpos[:,1])\n",
    "    axs[1,jj].scatter(local_positions[ii + jj][:,0], local_positions[ii + jj][:,1])\n",
    "    axs[0,jj].set_xlim(-5,5); axs[1,jj].set_xlim(-5,5)\n",
    "    axs[0,jj].set_aspect(\"equal\"); axs[1,jj].set_aspect(\"equal\")\n",
    "    \n",
    "    axs[2,jj].scatter(yloclpos[:,0], yloclpos[:,1])\n",
    "    axs[2,jj].scatter(local_positions[ii + jj][:,0], local_positions[ii + jj][:,1])\n",
    "    axs[2,jj].set_xlim(-5,5); axs[2,jj].set_aspect(\"equal\")\n",
    "\n",
    "ii +=10"
   ]
  },
  {
   "cell_type": "code",
   "execution_count": null,
   "metadata": {},
   "outputs": [],
   "source": []
  },
  {
   "cell_type": "code",
   "execution_count": 95,
   "metadata": {},
   "outputs": [
    {
     "name": "stdout",
     "output_type": "stream",
     "text": [
      "Database cmu Processing 0 of 203 (cmu/02_01.bvh)\n",
      "(171, 1)\n",
      "(171, 2)\n",
      "(171, 63)\n",
      "DONE\n",
      "Database cmu Processing 1 of 203 (cmu/02_02.bvh)\n",
      "(148, 1)\n",
      "(148, 2)\n",
      "(148, 63)\n",
      "DONE\n",
      "Database cmu Processing 2 of 203 (cmu/02_03.bvh)\n",
      "(86, 1)\n",
      "(86, 2)\n",
      "(86, 63)\n",
      "DONE\n",
      "Database cmu Processing 3 of 203 (cmu/05_01.bvh)\n",
      "(298, 1)\n",
      "(298, 2)\n",
      "(298, 63)\n",
      "DONE\n"
     ]
    }
   ],
   "source": [
    "for i, item in enumerate(files[0:4]):\n",
    "    print('Database %s Processing %i of %i (%s)' % (\"cmu\", i, len(files), item))\n",
    "    tmp=process_file(item);\n",
    "    print(\"DONE\")"
   ]
  },
  {
   "cell_type": "code",
   "execution_count": 35,
   "metadata": {},
   "outputs": [
    {
     "name": "stdout",
     "output_type": "stream",
     "text": [
      "Database cmu Processing 0 of 203 (cmu/02_01.bvh)\n",
      "Database cmu Processing 1 of 203 (cmu/02_02.bvh)\n",
      "Database cmu Processing 2 of 203 (cmu/02_03.bvh)\n",
      "Database cmu Processing 3 of 203 (cmu/05_01.bvh)\n",
      "Database cmu Processing 4 of 203 (cmu/06_01.bvh)\n",
      "Database cmu Processing 5 of 203 (cmu/07_01.bvh)\n",
      "Database cmu Processing 6 of 203 (cmu/07_02.bvh)\n",
      "Database cmu Processing 7 of 203 (cmu/07_03.bvh)\n",
      "Database cmu Processing 8 of 203 (cmu/07_04.bvh)\n",
      "Database cmu Processing 9 of 203 (cmu/07_05.bvh)\n",
      "Database cmu Processing 10 of 203 (cmu/07_06.bvh)\n",
      "Database cmu Processing 11 of 203 (cmu/07_07.bvh)\n",
      "Database cmu Processing 12 of 203 (cmu/07_08.bvh)\n",
      "Database cmu Processing 13 of 203 (cmu/07_09.bvh)\n",
      "Database cmu Processing 14 of 203 (cmu/07_10.bvh)\n",
      "Database cmu Processing 15 of 203 (cmu/07_11.bvh)\n",
      "Database cmu Processing 16 of 203 (cmu/07_12.bvh)\n",
      "Database cmu Processing 17 of 203 (cmu/08_01.bvh)\n",
      "Database cmu Processing 18 of 203 (cmu/08_02.bvh)\n",
      "Database cmu Processing 19 of 203 (cmu/08_03.bvh)\n",
      "Database cmu Processing 20 of 203 (cmu/08_04.bvh)\n",
      "Database cmu Processing 21 of 203 (cmu/08_05.bvh)\n",
      "Database cmu Processing 22 of 203 (cmu/08_06.bvh)\n",
      "Database cmu Processing 23 of 203 (cmu/08_07.bvh)\n",
      "Database cmu Processing 24 of 203 (cmu/08_08.bvh)\n",
      "Database cmu Processing 25 of 203 (cmu/08_09.bvh)\n",
      "Database cmu Processing 26 of 203 (cmu/08_10.bvh)\n",
      "Database cmu Processing 27 of 203 (cmu/08_11.bvh)\n",
      "Database cmu Processing 28 of 203 (cmu/09_01.bvh)\n",
      "Database cmu Processing 29 of 203 (cmu/09_02.bvh)\n",
      "Database cmu Processing 30 of 203 (cmu/09_03.bvh)\n",
      "Database cmu Processing 31 of 203 (cmu/09_04.bvh)\n",
      "Database cmu Processing 32 of 203 (cmu/09_05.bvh)\n",
      "Database cmu Processing 33 of 203 (cmu/09_06.bvh)\n",
      "Database cmu Processing 34 of 203 (cmu/09_07.bvh)\n",
      "Database cmu Processing 35 of 203 (cmu/09_08.bvh)\n",
      "Database cmu Processing 36 of 203 (cmu/09_09.bvh)\n",
      "Database cmu Processing 37 of 203 (cmu/09_10.bvh)\n",
      "Database cmu Processing 38 of 203 (cmu/09_11.bvh)\n",
      "Database cmu Processing 39 of 203 (cmu/09_12.bvh)\n",
      "Database cmu Processing 40 of 203 (cmu/10_04.bvh)\n",
      "Database cmu Processing 41 of 203 (cmu/12_01.bvh)\n",
      "Database cmu Processing 42 of 203 (cmu/12_02.bvh)\n",
      "Database cmu Processing 43 of 203 (cmu/12_03.bvh)\n",
      "Database cmu Processing 44 of 203 (cmu/13_11.bvh)\n",
      "Database cmu Processing 45 of 203 (cmu/13_13.bvh)\n",
      "Database cmu Processing 46 of 203 (cmu/13_19.bvh)\n",
      "Database cmu Processing 47 of 203 (cmu/13_32.bvh)\n",
      "Database cmu Processing 48 of 203 (cmu/13_39.bvh)\n",
      "Database cmu Processing 49 of 203 (cmu/13_40.bvh)\n",
      "Database cmu Processing 50 of 203 (cmu/13_41.bvh)\n",
      "Database cmu Processing 51 of 203 (cmu/13_42.bvh)\n",
      "Database cmu Processing 52 of 203 (cmu/15_01.bvh)\n",
      "Database cmu Processing 53 of 203 (cmu/15_03.bvh)\n",
      "Database cmu Processing 54 of 203 (cmu/15_09.bvh)\n",
      "Database cmu Processing 55 of 203 (cmu/15_14.bvh)\n",
      "Database cmu Processing 56 of 203 (cmu/16_01.bvh)\n",
      "Database cmu Processing 57 of 203 (cmu/16_02.bvh)\n",
      "Database cmu Processing 58 of 203 (cmu/16_03.bvh)\n",
      "Database cmu Processing 59 of 203 (cmu/16_04.bvh)\n",
      "Database cmu Processing 60 of 203 (cmu/16_05.bvh)\n",
      "Database cmu Processing 61 of 203 (cmu/16_06.bvh)\n",
      "Database cmu Processing 62 of 203 (cmu/16_07.bvh)\n",
      "Database cmu Processing 63 of 203 (cmu/16_08.bvh)\n",
      "Database cmu Processing 64 of 203 (cmu/16_09.bvh)\n",
      "Database cmu Processing 65 of 203 (cmu/16_10.bvh)\n",
      "Database cmu Processing 66 of 203 (cmu/16_11.bvh)\n",
      "Database cmu Processing 67 of 203 (cmu/16_12.bvh)\n",
      "Database cmu Processing 68 of 203 (cmu/16_13.bvh)\n",
      "Database cmu Processing 69 of 203 (cmu/16_14.bvh)\n",
      "Database cmu Processing 70 of 203 (cmu/16_15.bvh)\n",
      "Database cmu Processing 71 of 203 (cmu/16_16.bvh)\n",
      "Database cmu Processing 72 of 203 (cmu/16_17.bvh)\n",
      "Database cmu Processing 73 of 203 (cmu/16_18.bvh)\n",
      "Database cmu Processing 74 of 203 (cmu/16_19.bvh)\n",
      "Database cmu Processing 75 of 203 (cmu/16_20.bvh)\n",
      "Database cmu Processing 76 of 203 (cmu/16_21.bvh)\n",
      "Database cmu Processing 77 of 203 (cmu/16_22.bvh)\n",
      "Database cmu Processing 78 of 203 (cmu/16_23.bvh)\n",
      "Database cmu Processing 79 of 203 (cmu/16_24.bvh)\n",
      "Database cmu Processing 80 of 203 (cmu/16_25.bvh)\n",
      "Database cmu Processing 81 of 203 (cmu/16_26.bvh)\n",
      "Database cmu Processing 82 of 203 (cmu/16_27.bvh)\n",
      "Database cmu Processing 83 of 203 (cmu/16_28.bvh)\n",
      "Database cmu Processing 84 of 203 (cmu/16_29.bvh)\n",
      "Database cmu Processing 85 of 203 (cmu/16_30.bvh)\n",
      "Database cmu Processing 86 of 203 (cmu/16_31.bvh)\n",
      "Database cmu Processing 87 of 203 (cmu/16_32.bvh)\n",
      "Database cmu Processing 88 of 203 (cmu/16_33.bvh)\n",
      "Database cmu Processing 89 of 203 (cmu/16_34.bvh)\n",
      "Database cmu Processing 90 of 203 (cmu/16_35.bvh)\n",
      "Database cmu Processing 91 of 203 (cmu/16_36.bvh)\n",
      "Database cmu Processing 92 of 203 (cmu/16_37.bvh)\n",
      "Database cmu Processing 93 of 203 (cmu/16_38.bvh)\n",
      "Database cmu Processing 94 of 203 (cmu/16_39.bvh)\n",
      "Database cmu Processing 95 of 203 (cmu/16_40.bvh)\n",
      "Database cmu Processing 96 of 203 (cmu/16_41.bvh)\n",
      "Database cmu Processing 97 of 203 (cmu/16_42.bvh)\n",
      "Database cmu Processing 98 of 203 (cmu/16_43.bvh)\n",
      "Database cmu Processing 99 of 203 (cmu/16_44.bvh)\n",
      "Database cmu Processing 100 of 203 (cmu/16_45.bvh)\n",
      "Database cmu Processing 101 of 203 (cmu/16_46.bvh)\n",
      "Database cmu Processing 102 of 203 (cmu/16_47.bvh)\n",
      "Database cmu Processing 103 of 203 (cmu/16_48.bvh)\n",
      "Database cmu Processing 104 of 203 (cmu/16_49.bvh)\n",
      "Database cmu Processing 105 of 203 (cmu/16_50.bvh)\n",
      "Database cmu Processing 106 of 203 (cmu/16_51.bvh)\n",
      "Database cmu Processing 107 of 203 (cmu/16_52.bvh)\n",
      "Database cmu Processing 108 of 203 (cmu/16_53.bvh)\n",
      "Database cmu Processing 109 of 203 (cmu/16_54.bvh)\n",
      "Database cmu Processing 110 of 203 (cmu/16_55.bvh)\n",
      "Database cmu Processing 111 of 203 (cmu/16_56.bvh)\n",
      "Database cmu Processing 112 of 203 (cmu/16_57.bvh)\n",
      "Database cmu Processing 113 of 203 (cmu/16_58.bvh)\n",
      "Database cmu Processing 114 of 203 (cmu/17_01.bvh)\n",
      "Database cmu Processing 115 of 203 (cmu/17_02.bvh)\n",
      "Database cmu Processing 116 of 203 (cmu/17_03.bvh)\n",
      "Database cmu Processing 117 of 203 (cmu/17_04.bvh)\n",
      "Database cmu Processing 118 of 203 (cmu/17_05.bvh)\n",
      "Database cmu Processing 119 of 203 (cmu/17_06.bvh)\n",
      "Database cmu Processing 120 of 203 (cmu/17_07.bvh)\n",
      "Database cmu Processing 121 of 203 (cmu/17_08.bvh)\n",
      "Database cmu Processing 122 of 203 (cmu/17_09.bvh)\n",
      "Database cmu Processing 123 of 203 (cmu/26_01.bvh)\n",
      "Database cmu Processing 124 of 203 (cmu/27_01.bvh)\n",
      "Database cmu Processing 125 of 203 (cmu/29_01.bvh)\n",
      "Database cmu Processing 126 of 203 (cmu/32_01.bvh)\n",
      "Database cmu Processing 127 of 203 (cmu/32_02.bvh)\n",
      "Database cmu Processing 128 of 203 (cmu/35_01.bvh)\n",
      "Database cmu Processing 129 of 203 (cmu/35_02.bvh)\n",
      "Database cmu Processing 130 of 203 (cmu/35_03.bvh)\n",
      "Database cmu Processing 131 of 203 (cmu/35_04.bvh)\n",
      "Database cmu Processing 132 of 203 (cmu/35_05.bvh)\n",
      "Database cmu Processing 133 of 203 (cmu/35_06.bvh)\n",
      "Database cmu Processing 134 of 203 (cmu/35_07.bvh)\n",
      "Database cmu Processing 135 of 203 (cmu/35_08.bvh)\n",
      "Database cmu Processing 136 of 203 (cmu/35_09.bvh)\n",
      "Database cmu Processing 137 of 203 (cmu/35_10.bvh)\n",
      "Database cmu Processing 138 of 203 (cmu/35_11.bvh)\n",
      "Database cmu Processing 139 of 203 (cmu/35_12.bvh)\n",
      "Database cmu Processing 140 of 203 (cmu/35_13.bvh)\n",
      "Database cmu Processing 141 of 203 (cmu/35_14.bvh)\n",
      "Database cmu Processing 142 of 203 (cmu/35_15.bvh)\n",
      "Database cmu Processing 143 of 203 (cmu/35_16.bvh)\n",
      "Database cmu Processing 144 of 203 (cmu/35_17.bvh)\n",
      "Database cmu Processing 145 of 203 (cmu/35_18.bvh)\n",
      "Database cmu Processing 146 of 203 (cmu/35_19.bvh)\n",
      "Database cmu Processing 147 of 203 (cmu/35_20.bvh)\n",
      "Database cmu Processing 148 of 203 (cmu/35_21.bvh)\n",
      "Database cmu Processing 149 of 203 (cmu/35_22.bvh)\n",
      "Database cmu Processing 150 of 203 (cmu/35_23.bvh)\n",
      "Database cmu Processing 151 of 203 (cmu/35_24.bvh)\n",
      "Database cmu Processing 152 of 203 (cmu/35_25.bvh)\n",
      "Database cmu Processing 153 of 203 (cmu/35_26.bvh)\n",
      "Database cmu Processing 154 of 203 (cmu/35_28.bvh)\n",
      "Database cmu Processing 155 of 203 (cmu/35_29.bvh)\n",
      "Database cmu Processing 156 of 203 (cmu/35_30.bvh)\n",
      "Database cmu Processing 157 of 203 (cmu/35_31.bvh)\n",
      "Database cmu Processing 158 of 203 (cmu/35_32.bvh)\n",
      "Database cmu Processing 159 of 203 (cmu/35_33.bvh)\n",
      "Database cmu Processing 160 of 203 (cmu/35_34.bvh)\n",
      "Database cmu Processing 161 of 203 (cmu/36_02.bvh)\n",
      "Database cmu Processing 162 of 203 (cmu/36_03.bvh)\n"
     ]
    },
    {
     "name": "stdout",
     "output_type": "stream",
     "text": [
      "Database cmu Processing 163 of 203 (cmu/36_09.bvh)\n",
      "Database cmu Processing 164 of 203 (cmu/37_01.bvh)\n",
      "Database cmu Processing 165 of 203 (cmu/38_01.bvh)\n",
      "Database cmu Processing 166 of 203 (cmu/38_02.bvh)\n",
      "Database cmu Processing 167 of 203 (cmu/38_03.bvh)\n",
      "Database cmu Processing 168 of 203 (cmu/38_04.bvh)\n",
      "Database cmu Processing 169 of 203 (cmu/39_01.bvh)\n",
      "Database cmu Processing 170 of 203 (cmu/39_02.bvh)\n",
      "Database cmu Processing 171 of 203 (cmu/39_03.bvh)\n",
      "Database cmu Processing 172 of 203 (cmu/39_04.bvh)\n",
      "Database cmu Processing 173 of 203 (cmu/39_05.bvh)\n",
      "Database cmu Processing 174 of 203 (cmu/39_06.bvh)\n",
      "Database cmu Processing 175 of 203 (cmu/39_07.bvh)\n",
      "Database cmu Processing 176 of 203 (cmu/39_08.bvh)\n",
      "Database cmu Processing 177 of 203 (cmu/39_09.bvh)\n",
      "Database cmu Processing 178 of 203 (cmu/39_10.bvh)\n",
      "Database cmu Processing 179 of 203 (cmu/39_11.bvh)\n",
      "Database cmu Processing 180 of 203 (cmu/39_12.bvh)\n",
      "Database cmu Processing 181 of 203 (cmu/39_13.bvh)\n",
      "Database cmu Processing 182 of 203 (cmu/39_14.bvh)\n",
      "Database cmu Processing 183 of 203 (cmu/40_02.bvh)\n",
      "Database cmu Processing 184 of 203 (cmu/40_03.bvh)\n",
      "Database cmu Processing 185 of 203 (cmu/40_04.bvh)\n",
      "Database cmu Processing 186 of 203 (cmu/40_05.bvh)\n",
      "Database cmu Processing 187 of 203 (cmu/41_02.bvh)\n",
      "Database cmu Processing 188 of 203 (cmu/41_03.bvh)\n",
      "Database cmu Processing 189 of 203 (cmu/41_04.bvh)\n",
      "Database cmu Processing 190 of 203 (cmu/41_05.bvh)\n",
      "Database cmu Processing 191 of 203 (cmu/41_06.bvh)\n",
      "Database cmu Processing 192 of 203 (cmu/43_01.bvh)\n",
      "Database cmu Processing 193 of 203 (cmu/45_01.bvh)\n",
      "Database cmu Processing 194 of 203 (cmu/46_01.bvh)\n",
      "Database cmu Processing 195 of 203 (cmu/47_01.bvh)\n",
      "Database cmu Processing 196 of 203 (cmu/49_01.bvh)\n",
      "Database cmu Processing 197 of 203 (cmu/49_02.bvh)\n",
      "Database cmu Processing 198 of 203 (cmu/49_03.bvh)\n",
      "Database cmu Processing 199 of 203 (cmu/49_04.bvh)\n",
      "Database cmu Processing 200 of 203 (cmu/49_05.bvh)\n",
      "Database cmu Processing 201 of 203 (cmu/55_04.bvh)\n",
      "Database cmu Processing 202 of 203 (cmu/56_01.bvh)\n"
     ]
    }
   ],
   "source": [
    "path = ''\n",
    "database = 'cmu'\n",
    "\n",
    "files = [os.path.join(path+database,f + \".bvh\") for f in cmu_loco]\n",
    "files = list(filter(lambda x: os.path.isfile(x) and x != 'rest.bvh', files))\n",
    "\n",
    "clips = []\n",
    "\n",
    "for i, item in enumerate(files):\n",
    "    print('Database %s Processing %i of %i (%s)' % (database, i, len(files), item))\n",
    "    clips += process_file(item)\n",
    "\n",
    "clips = np.array(clips)\n",
    "np.savez_compressed('proc/data_'+database+'_loco', clips=clips)"
   ]
  },
  {
   "cell_type": "code",
   "execution_count": 467,
   "metadata": {},
   "outputs": [
    {
     "data": {
      "text/plain": [
       "1038"
      ]
     },
     "execution_count": 467,
     "metadata": {},
     "output_type": "execute_result"
    }
   ],
   "source": [
    "len(clips_list)"
   ]
  },
  {
   "cell_type": "code",
   "execution_count": 52,
   "metadata": {},
   "outputs": [],
   "source": [
    "clips_list = clips"
   ]
  },
  {
   "cell_type": "code",
   "execution_count": 53,
   "metadata": {},
   "outputs": [],
   "source": [
    "clips = np.array(clips)"
   ]
  },
  {
   "cell_type": "code",
   "execution_count": 297,
   "metadata": {},
   "outputs": [
    {
     "data": {
      "text/plain": [
       "array([2, 6])"
      ]
     },
     "execution_count": 297,
     "metadata": {},
     "output_type": "execute_result"
    }
   ],
   "source": [
    "np.arange(100)[2:10:4]"
   ]
  },
  {
   "cell_type": "code",
   "execution_count": 291,
   "metadata": {},
   "outputs": [
    {
     "data": {
      "text/plain": [
       "(240, 70)"
      ]
     },
     "execution_count": 291,
     "metadata": {},
     "output_type": "execute_result"
    }
   ],
   "source": [
    "clips[0].shape"
   ]
  },
  {
   "cell_type": "markdown",
   "metadata": {},
   "source": [
    "## Visualisation / Animation"
   ]
  },
  {
   "cell_type": "code",
   "execution_count": 50,
   "metadata": {},
   "outputs": [],
   "source": [
    "import numpy as np\n",
    "import matplotlib.pyplot as plt\n",
    "from mpl_toolkits.mplot3d import Axes3D\n",
    "import matplotlib.animation as animation\n",
    "import matplotlib.colors as colors\n",
    "from matplotlib.animation import ArtistAnimation\n",
    "import matplotlib.patheffects as pe"
   ]
  },
  {
   "cell_type": "code",
   "execution_count": 64,
   "metadata": {},
   "outputs": [],
   "source": [
    "def animation_plot(animations, interval=33.33):\n",
    "    \n",
    "    footsteps = []\n",
    "    \n",
    "    for ai in range(len(animations)):\n",
    "        anim = animations[ai][0].copy()\n",
    "        \n",
    "        joints, root_x, root_z, root_r = anim[:,:-7], anim[:,-7], anim[:,-6], anim[:,-5]\n",
    "        \n",
    "        joints = joints.reshape((len(joints), -1, 3))\n",
    "        \n",
    "        rotation = Quaternions.id(1)\n",
    "        offsets = []\n",
    "        translation = np.array([[0,0,0]])\n",
    "        \n",
    "        for i in range(len(joints)):\n",
    "            joints[i,:,:] = rotation * joints[i]\n",
    "            joints[i,:,0] = joints[i,:,0] + translation[0,0]\n",
    "            joints[i,:,2] = joints[i,:,2] + translation[0,2]\n",
    "            rotation = Quaternions.from_angle_axis(-root_r[i], np.array([0,1,0])) * rotation\n",
    "            offsets.append(rotation * np.array([0,0,1]))\n",
    "            translation = translation + rotation * np.array([root_x[i], 0, root_z[i]])\n",
    "        \n",
    "        animations[ai] = joints\n",
    "        footsteps.append(anim[:,-4:])\n",
    "        \n",
    "    footsteps = np.array(footsteps)\n",
    "    \n",
    "    scale = 1.25*((len(animations))/2)\n",
    "    \n",
    "    fig = plt.figure(figsize=(12,8))\n",
    "    ax = fig.add_subplot(111, projection='3d')\n",
    "    ax.set_xlim3d(-scale*30, scale*30)\n",
    "    ax.set_zlim3d( 0, scale*60)\n",
    "    ax.set_ylim3d(-scale*30, scale*30)\n",
    "    ax.set_xticks([], [])\n",
    "    ax.set_yticks([], [])\n",
    "    ax.set_zticks([], [])\n",
    "    ax.set_aspect('equal')\n",
    "    \n",
    "    acolors = list(sorted(colors.cnames.keys()))[::-1]\n",
    "    lines = []\n",
    "    \n",
    "    parents = np.array([-1,0,1,2,3,0,5,6,7,0,9,10,11,11,13,14,15,11,17,18,19])\n",
    "    \n",
    "    for ai, anim in enumerate(animations):\n",
    "        lines.append([plt.plot([0,0], [0,0], [0,0], color=acolors[ai], \n",
    "            lw=2, path_effects=[pe.Stroke(linewidth=3, foreground='black'), pe.Normal()])[0] for _ in range(anim.shape[1])])\n",
    "    \n",
    "    def animate(i):\n",
    "        changed = []        \n",
    "        for ai in range(len(animations)):\n",
    "            offset = 25*(ai-((len(animations))/2))\n",
    "            for j in range(len(parents)):\n",
    "                if parents[j] != -1:\n",
    "                    lines[ai][j].set_data(\n",
    "                        [ animations[ai][i,j,0]+offset, animations[ai][i,parents[j],0]+offset],\n",
    "                        [-animations[ai][i,j,2],       -animations[ai][i,parents[j],2]])\n",
    "                    lines[ai][j].set_3d_properties(\n",
    "                        [ animations[ai][i,j,1],        animations[ai][i,parents[j],1]])\n",
    "            changed += lines\n",
    "            \n",
    "        return changed\n",
    "        \n",
    "    plt.tight_layout()\n",
    "        \n",
    "    ani = animation.FuncAnimation(fig, \n",
    "        animate, np.arange(len(animations[0])), interval=interval)\n",
    "    \n",
    "    \n",
    "    ani.save('animation.mp4', writer=writer)\n",
    "    plt.show()\n",
    "        \n",
    "    "
   ]
  },
  {
   "cell_type": "code",
   "execution_count": 56,
   "metadata": {},
   "outputs": [],
   "source": [
    "database = clips"
   ]
  },
  {
   "cell_type": "code",
   "execution_count": 1021,
   "metadata": {},
   "outputs": [],
   "source": [
    "database = [process_file(files[0]), process_file(files[3])]"
   ]
  },
  {
   "cell_type": "code",
   "execution_count": null,
   "metadata": {},
   "outputs": [],
   "source": [
    "Writer = animation.writers['ffmpeg']\n",
    "writer = Writer(fps=15, metadata=dict(artist='Me'), bitrate=1800)\n",
    "\n",
    "index0, index1 = 0, 1\n",
    "animation_plot([\n",
    "    database[index0:index0+1],\n",
    "    database[index1:index1+1],\n",
    "])"
   ]
  },
  {
   "cell_type": "code",
   "execution_count": 99,
   "metadata": {},
   "outputs": [],
   "source": [
    "ii = 0"
   ]
  }
 ],
 "metadata": {
  "kernelspec": {
   "display_name": "Python (pytorchnew)",
   "language": "python",
   "name": "pytorchnew"
  },
  "language_info": {
   "codemirror_mode": {
    "name": "ipython",
    "version": 3
   },
   "file_extension": ".py",
   "mimetype": "text/x-python",
   "name": "python",
   "nbconvert_exporter": "python",
   "pygments_lexer": "ipython3",
   "version": "3.6.5"
  }
 },
 "nbformat": 4,
 "nbformat_minor": 2
}
